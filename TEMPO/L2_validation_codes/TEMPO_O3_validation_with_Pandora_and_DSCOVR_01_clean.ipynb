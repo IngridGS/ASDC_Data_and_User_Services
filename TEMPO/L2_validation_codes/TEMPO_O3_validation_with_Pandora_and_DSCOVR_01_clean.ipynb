{
  "nbformat": 4,
  "nbformat_minor": 0,
  "metadata": {
    "colab": {
      "provenance": []
    },
    "kernelspec": {
      "name": "python3",
      "display_name": "Python 3"
    },
    "language_info": {
      "name": "python"
    },
    "widgets": {
      "application/vnd.jupyter.widget-state+json": {
        "86c595fccf7f44269f7cb5e985b82abf": {
          "model_module": "@jupyter-widgets/controls",
          "model_name": "HBoxModel",
          "model_module_version": "1.5.0",
          "state": {
            "_dom_classes": [],
            "_model_module": "@jupyter-widgets/controls",
            "_model_module_version": "1.5.0",
            "_model_name": "HBoxModel",
            "_view_count": null,
            "_view_module": "@jupyter-widgets/controls",
            "_view_module_version": "1.5.0",
            "_view_name": "HBoxView",
            "box_style": "",
            "children": [
              "IPY_MODEL_9530c390dd934051912e75bb773f2943",
              "IPY_MODEL_d72b4c7db99645c496d9c509601aaa9d",
              "IPY_MODEL_9cdcfbcf3acf479bbab190f8c9d1b5dd"
            ],
            "layout": "IPY_MODEL_a0489d452c4f4d59b39e25b08e00a785"
          }
        },
        "9530c390dd934051912e75bb773f2943": {
          "model_module": "@jupyter-widgets/controls",
          "model_name": "HTMLModel",
          "model_module_version": "1.5.0",
          "state": {
            "_dom_classes": [],
            "_model_module": "@jupyter-widgets/controls",
            "_model_module_version": "1.5.0",
            "_model_name": "HTMLModel",
            "_view_count": null,
            "_view_module": "@jupyter-widgets/controls",
            "_view_module_version": "1.5.0",
            "_view_name": "HTMLView",
            "description": "",
            "description_tooltip": null,
            "layout": "IPY_MODEL_fc92e6a3ce4c41b7b4e4d9ed68e9fdb9",
            "placeholder": "​",
            "style": "IPY_MODEL_da9916452e8e47f7a1e9f055aa061988",
            "value": "QUEUEING TASKS | : 100%"
          }
        },
        "d72b4c7db99645c496d9c509601aaa9d": {
          "model_module": "@jupyter-widgets/controls",
          "model_name": "FloatProgressModel",
          "model_module_version": "1.5.0",
          "state": {
            "_dom_classes": [],
            "_model_module": "@jupyter-widgets/controls",
            "_model_module_version": "1.5.0",
            "_model_name": "FloatProgressModel",
            "_view_count": null,
            "_view_module": "@jupyter-widgets/controls",
            "_view_module_version": "1.5.0",
            "_view_name": "ProgressView",
            "bar_style": "success",
            "description": "",
            "description_tooltip": null,
            "layout": "IPY_MODEL_c65cf44da71846f882e3eab4526b3638",
            "max": 11,
            "min": 0,
            "orientation": "horizontal",
            "style": "IPY_MODEL_a5ef340105424bddacbdad7cbfb726a5",
            "value": 11
          }
        },
        "9cdcfbcf3acf479bbab190f8c9d1b5dd": {
          "model_module": "@jupyter-widgets/controls",
          "model_name": "HTMLModel",
          "model_module_version": "1.5.0",
          "state": {
            "_dom_classes": [],
            "_model_module": "@jupyter-widgets/controls",
            "_model_module_version": "1.5.0",
            "_model_name": "HTMLModel",
            "_view_count": null,
            "_view_module": "@jupyter-widgets/controls",
            "_view_module_version": "1.5.0",
            "_view_name": "HTMLView",
            "description": "",
            "description_tooltip": null,
            "layout": "IPY_MODEL_0acb07eab0fa41e1af28c038557e7992",
            "placeholder": "​",
            "style": "IPY_MODEL_56da9bab427f4c188ef63fd208d677ae",
            "value": " 11/11 [00:00&lt;00:00, 246.34it/s]"
          }
        },
        "a0489d452c4f4d59b39e25b08e00a785": {
          "model_module": "@jupyter-widgets/base",
          "model_name": "LayoutModel",
          "model_module_version": "1.2.0",
          "state": {
            "_model_module": "@jupyter-widgets/base",
            "_model_module_version": "1.2.0",
            "_model_name": "LayoutModel",
            "_view_count": null,
            "_view_module": "@jupyter-widgets/base",
            "_view_module_version": "1.2.0",
            "_view_name": "LayoutView",
            "align_content": null,
            "align_items": null,
            "align_self": null,
            "border": null,
            "bottom": null,
            "display": null,
            "flex": null,
            "flex_flow": null,
            "grid_area": null,
            "grid_auto_columns": null,
            "grid_auto_flow": null,
            "grid_auto_rows": null,
            "grid_column": null,
            "grid_gap": null,
            "grid_row": null,
            "grid_template_areas": null,
            "grid_template_columns": null,
            "grid_template_rows": null,
            "height": null,
            "justify_content": null,
            "justify_items": null,
            "left": null,
            "margin": null,
            "max_height": null,
            "max_width": null,
            "min_height": null,
            "min_width": null,
            "object_fit": null,
            "object_position": null,
            "order": null,
            "overflow": null,
            "overflow_x": null,
            "overflow_y": null,
            "padding": null,
            "right": null,
            "top": null,
            "visibility": null,
            "width": null
          }
        },
        "fc92e6a3ce4c41b7b4e4d9ed68e9fdb9": {
          "model_module": "@jupyter-widgets/base",
          "model_name": "LayoutModel",
          "model_module_version": "1.2.0",
          "state": {
            "_model_module": "@jupyter-widgets/base",
            "_model_module_version": "1.2.0",
            "_model_name": "LayoutModel",
            "_view_count": null,
            "_view_module": "@jupyter-widgets/base",
            "_view_module_version": "1.2.0",
            "_view_name": "LayoutView",
            "align_content": null,
            "align_items": null,
            "align_self": null,
            "border": null,
            "bottom": null,
            "display": null,
            "flex": null,
            "flex_flow": null,
            "grid_area": null,
            "grid_auto_columns": null,
            "grid_auto_flow": null,
            "grid_auto_rows": null,
            "grid_column": null,
            "grid_gap": null,
            "grid_row": null,
            "grid_template_areas": null,
            "grid_template_columns": null,
            "grid_template_rows": null,
            "height": null,
            "justify_content": null,
            "justify_items": null,
            "left": null,
            "margin": null,
            "max_height": null,
            "max_width": null,
            "min_height": null,
            "min_width": null,
            "object_fit": null,
            "object_position": null,
            "order": null,
            "overflow": null,
            "overflow_x": null,
            "overflow_y": null,
            "padding": null,
            "right": null,
            "top": null,
            "visibility": null,
            "width": null
          }
        },
        "da9916452e8e47f7a1e9f055aa061988": {
          "model_module": "@jupyter-widgets/controls",
          "model_name": "DescriptionStyleModel",
          "model_module_version": "1.5.0",
          "state": {
            "_model_module": "@jupyter-widgets/controls",
            "_model_module_version": "1.5.0",
            "_model_name": "DescriptionStyleModel",
            "_view_count": null,
            "_view_module": "@jupyter-widgets/base",
            "_view_module_version": "1.2.0",
            "_view_name": "StyleView",
            "description_width": ""
          }
        },
        "c65cf44da71846f882e3eab4526b3638": {
          "model_module": "@jupyter-widgets/base",
          "model_name": "LayoutModel",
          "model_module_version": "1.2.0",
          "state": {
            "_model_module": "@jupyter-widgets/base",
            "_model_module_version": "1.2.0",
            "_model_name": "LayoutModel",
            "_view_count": null,
            "_view_module": "@jupyter-widgets/base",
            "_view_module_version": "1.2.0",
            "_view_name": "LayoutView",
            "align_content": null,
            "align_items": null,
            "align_self": null,
            "border": null,
            "bottom": null,
            "display": null,
            "flex": null,
            "flex_flow": null,
            "grid_area": null,
            "grid_auto_columns": null,
            "grid_auto_flow": null,
            "grid_auto_rows": null,
            "grid_column": null,
            "grid_gap": null,
            "grid_row": null,
            "grid_template_areas": null,
            "grid_template_columns": null,
            "grid_template_rows": null,
            "height": null,
            "justify_content": null,
            "justify_items": null,
            "left": null,
            "margin": null,
            "max_height": null,
            "max_width": null,
            "min_height": null,
            "min_width": null,
            "object_fit": null,
            "object_position": null,
            "order": null,
            "overflow": null,
            "overflow_x": null,
            "overflow_y": null,
            "padding": null,
            "right": null,
            "top": null,
            "visibility": null,
            "width": null
          }
        },
        "a5ef340105424bddacbdad7cbfb726a5": {
          "model_module": "@jupyter-widgets/controls",
          "model_name": "ProgressStyleModel",
          "model_module_version": "1.5.0",
          "state": {
            "_model_module": "@jupyter-widgets/controls",
            "_model_module_version": "1.5.0",
            "_model_name": "ProgressStyleModel",
            "_view_count": null,
            "_view_module": "@jupyter-widgets/base",
            "_view_module_version": "1.2.0",
            "_view_name": "StyleView",
            "bar_color": null,
            "description_width": ""
          }
        },
        "0acb07eab0fa41e1af28c038557e7992": {
          "model_module": "@jupyter-widgets/base",
          "model_name": "LayoutModel",
          "model_module_version": "1.2.0",
          "state": {
            "_model_module": "@jupyter-widgets/base",
            "_model_module_version": "1.2.0",
            "_model_name": "LayoutModel",
            "_view_count": null,
            "_view_module": "@jupyter-widgets/base",
            "_view_module_version": "1.2.0",
            "_view_name": "LayoutView",
            "align_content": null,
            "align_items": null,
            "align_self": null,
            "border": null,
            "bottom": null,
            "display": null,
            "flex": null,
            "flex_flow": null,
            "grid_area": null,
            "grid_auto_columns": null,
            "grid_auto_flow": null,
            "grid_auto_rows": null,
            "grid_column": null,
            "grid_gap": null,
            "grid_row": null,
            "grid_template_areas": null,
            "grid_template_columns": null,
            "grid_template_rows": null,
            "height": null,
            "justify_content": null,
            "justify_items": null,
            "left": null,
            "margin": null,
            "max_height": null,
            "max_width": null,
            "min_height": null,
            "min_width": null,
            "object_fit": null,
            "object_position": null,
            "order": null,
            "overflow": null,
            "overflow_x": null,
            "overflow_y": null,
            "padding": null,
            "right": null,
            "top": null,
            "visibility": null,
            "width": null
          }
        },
        "56da9bab427f4c188ef63fd208d677ae": {
          "model_module": "@jupyter-widgets/controls",
          "model_name": "DescriptionStyleModel",
          "model_module_version": "1.5.0",
          "state": {
            "_model_module": "@jupyter-widgets/controls",
            "_model_module_version": "1.5.0",
            "_model_name": "DescriptionStyleModel",
            "_view_count": null,
            "_view_module": "@jupyter-widgets/base",
            "_view_module_version": "1.2.0",
            "_view_name": "StyleView",
            "description_width": ""
          }
        },
        "d9a08a617eda4fd3aff2cb795c6ab49c": {
          "model_module": "@jupyter-widgets/controls",
          "model_name": "HBoxModel",
          "model_module_version": "1.5.0",
          "state": {
            "_dom_classes": [],
            "_model_module": "@jupyter-widgets/controls",
            "_model_module_version": "1.5.0",
            "_model_name": "HBoxModel",
            "_view_count": null,
            "_view_module": "@jupyter-widgets/controls",
            "_view_module_version": "1.5.0",
            "_view_name": "HBoxView",
            "box_style": "",
            "children": [
              "IPY_MODEL_aee2fe4dba944179970113a0f00a4a88",
              "IPY_MODEL_2af27d2decf54d12bc6f8e9eaeaee2da",
              "IPY_MODEL_e58ba8910534430b99804fb42e7b796d"
            ],
            "layout": "IPY_MODEL_a91cfd7a529f49129e206e4ce580b5d7"
          }
        },
        "aee2fe4dba944179970113a0f00a4a88": {
          "model_module": "@jupyter-widgets/controls",
          "model_name": "HTMLModel",
          "model_module_version": "1.5.0",
          "state": {
            "_dom_classes": [],
            "_model_module": "@jupyter-widgets/controls",
            "_model_module_version": "1.5.0",
            "_model_name": "HTMLModel",
            "_view_count": null,
            "_view_module": "@jupyter-widgets/controls",
            "_view_module_version": "1.5.0",
            "_view_name": "HTMLView",
            "description": "",
            "description_tooltip": null,
            "layout": "IPY_MODEL_cb4ef1e6587246fbba02bb30f1409363",
            "placeholder": "​",
            "style": "IPY_MODEL_1efcf2280d58437e88ddd939eeed9571",
            "value": "PROCESSING TASKS | : 100%"
          }
        },
        "2af27d2decf54d12bc6f8e9eaeaee2da": {
          "model_module": "@jupyter-widgets/controls",
          "model_name": "FloatProgressModel",
          "model_module_version": "1.5.0",
          "state": {
            "_dom_classes": [],
            "_model_module": "@jupyter-widgets/controls",
            "_model_module_version": "1.5.0",
            "_model_name": "FloatProgressModel",
            "_view_count": null,
            "_view_module": "@jupyter-widgets/controls",
            "_view_module_version": "1.5.0",
            "_view_name": "ProgressView",
            "bar_style": "success",
            "description": "",
            "description_tooltip": null,
            "layout": "IPY_MODEL_b7c8eb11666d4f95964101f84389da0f",
            "max": 11,
            "min": 0,
            "orientation": "horizontal",
            "style": "IPY_MODEL_cc7d836c663943aabaa25d9aedf58273",
            "value": 11
          }
        },
        "e58ba8910534430b99804fb42e7b796d": {
          "model_module": "@jupyter-widgets/controls",
          "model_name": "HTMLModel",
          "model_module_version": "1.5.0",
          "state": {
            "_dom_classes": [],
            "_model_module": "@jupyter-widgets/controls",
            "_model_module_version": "1.5.0",
            "_model_name": "HTMLModel",
            "_view_count": null,
            "_view_module": "@jupyter-widgets/controls",
            "_view_module_version": "1.5.0",
            "_view_name": "HTMLView",
            "description": "",
            "description_tooltip": null,
            "layout": "IPY_MODEL_6c7c5843fd7e49ef86da2df8dce125f6",
            "placeholder": "​",
            "style": "IPY_MODEL_a6b3297afae54367b311417fe04c366a",
            "value": " 11/11 [00:20&lt;00:00,  1.29s/it]"
          }
        },
        "a91cfd7a529f49129e206e4ce580b5d7": {
          "model_module": "@jupyter-widgets/base",
          "model_name": "LayoutModel",
          "model_module_version": "1.2.0",
          "state": {
            "_model_module": "@jupyter-widgets/base",
            "_model_module_version": "1.2.0",
            "_model_name": "LayoutModel",
            "_view_count": null,
            "_view_module": "@jupyter-widgets/base",
            "_view_module_version": "1.2.0",
            "_view_name": "LayoutView",
            "align_content": null,
            "align_items": null,
            "align_self": null,
            "border": null,
            "bottom": null,
            "display": null,
            "flex": null,
            "flex_flow": null,
            "grid_area": null,
            "grid_auto_columns": null,
            "grid_auto_flow": null,
            "grid_auto_rows": null,
            "grid_column": null,
            "grid_gap": null,
            "grid_row": null,
            "grid_template_areas": null,
            "grid_template_columns": null,
            "grid_template_rows": null,
            "height": null,
            "justify_content": null,
            "justify_items": null,
            "left": null,
            "margin": null,
            "max_height": null,
            "max_width": null,
            "min_height": null,
            "min_width": null,
            "object_fit": null,
            "object_position": null,
            "order": null,
            "overflow": null,
            "overflow_x": null,
            "overflow_y": null,
            "padding": null,
            "right": null,
            "top": null,
            "visibility": null,
            "width": null
          }
        },
        "cb4ef1e6587246fbba02bb30f1409363": {
          "model_module": "@jupyter-widgets/base",
          "model_name": "LayoutModel",
          "model_module_version": "1.2.0",
          "state": {
            "_model_module": "@jupyter-widgets/base",
            "_model_module_version": "1.2.0",
            "_model_name": "LayoutModel",
            "_view_count": null,
            "_view_module": "@jupyter-widgets/base",
            "_view_module_version": "1.2.0",
            "_view_name": "LayoutView",
            "align_content": null,
            "align_items": null,
            "align_self": null,
            "border": null,
            "bottom": null,
            "display": null,
            "flex": null,
            "flex_flow": null,
            "grid_area": null,
            "grid_auto_columns": null,
            "grid_auto_flow": null,
            "grid_auto_rows": null,
            "grid_column": null,
            "grid_gap": null,
            "grid_row": null,
            "grid_template_areas": null,
            "grid_template_columns": null,
            "grid_template_rows": null,
            "height": null,
            "justify_content": null,
            "justify_items": null,
            "left": null,
            "margin": null,
            "max_height": null,
            "max_width": null,
            "min_height": null,
            "min_width": null,
            "object_fit": null,
            "object_position": null,
            "order": null,
            "overflow": null,
            "overflow_x": null,
            "overflow_y": null,
            "padding": null,
            "right": null,
            "top": null,
            "visibility": null,
            "width": null
          }
        },
        "1efcf2280d58437e88ddd939eeed9571": {
          "model_module": "@jupyter-widgets/controls",
          "model_name": "DescriptionStyleModel",
          "model_module_version": "1.5.0",
          "state": {
            "_model_module": "@jupyter-widgets/controls",
            "_model_module_version": "1.5.0",
            "_model_name": "DescriptionStyleModel",
            "_view_count": null,
            "_view_module": "@jupyter-widgets/base",
            "_view_module_version": "1.2.0",
            "_view_name": "StyleView",
            "description_width": ""
          }
        },
        "b7c8eb11666d4f95964101f84389da0f": {
          "model_module": "@jupyter-widgets/base",
          "model_name": "LayoutModel",
          "model_module_version": "1.2.0",
          "state": {
            "_model_module": "@jupyter-widgets/base",
            "_model_module_version": "1.2.0",
            "_model_name": "LayoutModel",
            "_view_count": null,
            "_view_module": "@jupyter-widgets/base",
            "_view_module_version": "1.2.0",
            "_view_name": "LayoutView",
            "align_content": null,
            "align_items": null,
            "align_self": null,
            "border": null,
            "bottom": null,
            "display": null,
            "flex": null,
            "flex_flow": null,
            "grid_area": null,
            "grid_auto_columns": null,
            "grid_auto_flow": null,
            "grid_auto_rows": null,
            "grid_column": null,
            "grid_gap": null,
            "grid_row": null,
            "grid_template_areas": null,
            "grid_template_columns": null,
            "grid_template_rows": null,
            "height": null,
            "justify_content": null,
            "justify_items": null,
            "left": null,
            "margin": null,
            "max_height": null,
            "max_width": null,
            "min_height": null,
            "min_width": null,
            "object_fit": null,
            "object_position": null,
            "order": null,
            "overflow": null,
            "overflow_x": null,
            "overflow_y": null,
            "padding": null,
            "right": null,
            "top": null,
            "visibility": null,
            "width": null
          }
        },
        "cc7d836c663943aabaa25d9aedf58273": {
          "model_module": "@jupyter-widgets/controls",
          "model_name": "ProgressStyleModel",
          "model_module_version": "1.5.0",
          "state": {
            "_model_module": "@jupyter-widgets/controls",
            "_model_module_version": "1.5.0",
            "_model_name": "ProgressStyleModel",
            "_view_count": null,
            "_view_module": "@jupyter-widgets/base",
            "_view_module_version": "1.2.0",
            "_view_name": "StyleView",
            "bar_color": null,
            "description_width": ""
          }
        },
        "6c7c5843fd7e49ef86da2df8dce125f6": {
          "model_module": "@jupyter-widgets/base",
          "model_name": "LayoutModel",
          "model_module_version": "1.2.0",
          "state": {
            "_model_module": "@jupyter-widgets/base",
            "_model_module_version": "1.2.0",
            "_model_name": "LayoutModel",
            "_view_count": null,
            "_view_module": "@jupyter-widgets/base",
            "_view_module_version": "1.2.0",
            "_view_name": "LayoutView",
            "align_content": null,
            "align_items": null,
            "align_self": null,
            "border": null,
            "bottom": null,
            "display": null,
            "flex": null,
            "flex_flow": null,
            "grid_area": null,
            "grid_auto_columns": null,
            "grid_auto_flow": null,
            "grid_auto_rows": null,
            "grid_column": null,
            "grid_gap": null,
            "grid_row": null,
            "grid_template_areas": null,
            "grid_template_columns": null,
            "grid_template_rows": null,
            "height": null,
            "justify_content": null,
            "justify_items": null,
            "left": null,
            "margin": null,
            "max_height": null,
            "max_width": null,
            "min_height": null,
            "min_width": null,
            "object_fit": null,
            "object_position": null,
            "order": null,
            "overflow": null,
            "overflow_x": null,
            "overflow_y": null,
            "padding": null,
            "right": null,
            "top": null,
            "visibility": null,
            "width": null
          }
        },
        "a6b3297afae54367b311417fe04c366a": {
          "model_module": "@jupyter-widgets/controls",
          "model_name": "DescriptionStyleModel",
          "model_module_version": "1.5.0",
          "state": {
            "_model_module": "@jupyter-widgets/controls",
            "_model_module_version": "1.5.0",
            "_model_name": "DescriptionStyleModel",
            "_view_count": null,
            "_view_module": "@jupyter-widgets/base",
            "_view_module_version": "1.2.0",
            "_view_name": "StyleView",
            "description_width": ""
          }
        },
        "1563bcd5a65a4d3690135c23bab44226": {
          "model_module": "@jupyter-widgets/controls",
          "model_name": "HBoxModel",
          "model_module_version": "1.5.0",
          "state": {
            "_dom_classes": [],
            "_model_module": "@jupyter-widgets/controls",
            "_model_module_version": "1.5.0",
            "_model_name": "HBoxModel",
            "_view_count": null,
            "_view_module": "@jupyter-widgets/controls",
            "_view_module_version": "1.5.0",
            "_view_name": "HBoxView",
            "box_style": "",
            "children": [
              "IPY_MODEL_572fc2f3d19249baa10fa3629f96c8df",
              "IPY_MODEL_7b8ca42a725b449ab751ec6846558bed",
              "IPY_MODEL_e98db869566941718531a6c7c090b171"
            ],
            "layout": "IPY_MODEL_9bbde6bb301946e0ae5d2a0b4804fe5c"
          }
        },
        "572fc2f3d19249baa10fa3629f96c8df": {
          "model_module": "@jupyter-widgets/controls",
          "model_name": "HTMLModel",
          "model_module_version": "1.5.0",
          "state": {
            "_dom_classes": [],
            "_model_module": "@jupyter-widgets/controls",
            "_model_module_version": "1.5.0",
            "_model_name": "HTMLModel",
            "_view_count": null,
            "_view_module": "@jupyter-widgets/controls",
            "_view_module_version": "1.5.0",
            "_view_name": "HTMLView",
            "description": "",
            "description_tooltip": null,
            "layout": "IPY_MODEL_b8bc3f5d5497448e8b531b7bc3d53cb2",
            "placeholder": "​",
            "style": "IPY_MODEL_b1bf0477c37541c09a4a7ee16a9e5e28",
            "value": "COLLECTING RESULTS | : 100%"
          }
        },
        "7b8ca42a725b449ab751ec6846558bed": {
          "model_module": "@jupyter-widgets/controls",
          "model_name": "FloatProgressModel",
          "model_module_version": "1.5.0",
          "state": {
            "_dom_classes": [],
            "_model_module": "@jupyter-widgets/controls",
            "_model_module_version": "1.5.0",
            "_model_name": "FloatProgressModel",
            "_view_count": null,
            "_view_module": "@jupyter-widgets/controls",
            "_view_module_version": "1.5.0",
            "_view_name": "ProgressView",
            "bar_style": "success",
            "description": "",
            "description_tooltip": null,
            "layout": "IPY_MODEL_611b56174c8d45bc8a3fc56d3891e602",
            "max": 11,
            "min": 0,
            "orientation": "horizontal",
            "style": "IPY_MODEL_27ecae9ae93d46b6a20f026f70c0f52b",
            "value": 11
          }
        },
        "e98db869566941718531a6c7c090b171": {
          "model_module": "@jupyter-widgets/controls",
          "model_name": "HTMLModel",
          "model_module_version": "1.5.0",
          "state": {
            "_dom_classes": [],
            "_model_module": "@jupyter-widgets/controls",
            "_model_module_version": "1.5.0",
            "_model_name": "HTMLModel",
            "_view_count": null,
            "_view_module": "@jupyter-widgets/controls",
            "_view_module_version": "1.5.0",
            "_view_name": "HTMLView",
            "description": "",
            "description_tooltip": null,
            "layout": "IPY_MODEL_178ece40bdf64e178701901caaff5a80",
            "placeholder": "​",
            "style": "IPY_MODEL_abd0a75940954315b7e738dec0185472",
            "value": " 11/11 [00:00&lt;00:00, 333.05it/s]"
          }
        },
        "9bbde6bb301946e0ae5d2a0b4804fe5c": {
          "model_module": "@jupyter-widgets/base",
          "model_name": "LayoutModel",
          "model_module_version": "1.2.0",
          "state": {
            "_model_module": "@jupyter-widgets/base",
            "_model_module_version": "1.2.0",
            "_model_name": "LayoutModel",
            "_view_count": null,
            "_view_module": "@jupyter-widgets/base",
            "_view_module_version": "1.2.0",
            "_view_name": "LayoutView",
            "align_content": null,
            "align_items": null,
            "align_self": null,
            "border": null,
            "bottom": null,
            "display": null,
            "flex": null,
            "flex_flow": null,
            "grid_area": null,
            "grid_auto_columns": null,
            "grid_auto_flow": null,
            "grid_auto_rows": null,
            "grid_column": null,
            "grid_gap": null,
            "grid_row": null,
            "grid_template_areas": null,
            "grid_template_columns": null,
            "grid_template_rows": null,
            "height": null,
            "justify_content": null,
            "justify_items": null,
            "left": null,
            "margin": null,
            "max_height": null,
            "max_width": null,
            "min_height": null,
            "min_width": null,
            "object_fit": null,
            "object_position": null,
            "order": null,
            "overflow": null,
            "overflow_x": null,
            "overflow_y": null,
            "padding": null,
            "right": null,
            "top": null,
            "visibility": null,
            "width": null
          }
        },
        "b8bc3f5d5497448e8b531b7bc3d53cb2": {
          "model_module": "@jupyter-widgets/base",
          "model_name": "LayoutModel",
          "model_module_version": "1.2.0",
          "state": {
            "_model_module": "@jupyter-widgets/base",
            "_model_module_version": "1.2.0",
            "_model_name": "LayoutModel",
            "_view_count": null,
            "_view_module": "@jupyter-widgets/base",
            "_view_module_version": "1.2.0",
            "_view_name": "LayoutView",
            "align_content": null,
            "align_items": null,
            "align_self": null,
            "border": null,
            "bottom": null,
            "display": null,
            "flex": null,
            "flex_flow": null,
            "grid_area": null,
            "grid_auto_columns": null,
            "grid_auto_flow": null,
            "grid_auto_rows": null,
            "grid_column": null,
            "grid_gap": null,
            "grid_row": null,
            "grid_template_areas": null,
            "grid_template_columns": null,
            "grid_template_rows": null,
            "height": null,
            "justify_content": null,
            "justify_items": null,
            "left": null,
            "margin": null,
            "max_height": null,
            "max_width": null,
            "min_height": null,
            "min_width": null,
            "object_fit": null,
            "object_position": null,
            "order": null,
            "overflow": null,
            "overflow_x": null,
            "overflow_y": null,
            "padding": null,
            "right": null,
            "top": null,
            "visibility": null,
            "width": null
          }
        },
        "b1bf0477c37541c09a4a7ee16a9e5e28": {
          "model_module": "@jupyter-widgets/controls",
          "model_name": "DescriptionStyleModel",
          "model_module_version": "1.5.0",
          "state": {
            "_model_module": "@jupyter-widgets/controls",
            "_model_module_version": "1.5.0",
            "_model_name": "DescriptionStyleModel",
            "_view_count": null,
            "_view_module": "@jupyter-widgets/base",
            "_view_module_version": "1.2.0",
            "_view_name": "StyleView",
            "description_width": ""
          }
        },
        "611b56174c8d45bc8a3fc56d3891e602": {
          "model_module": "@jupyter-widgets/base",
          "model_name": "LayoutModel",
          "model_module_version": "1.2.0",
          "state": {
            "_model_module": "@jupyter-widgets/base",
            "_model_module_version": "1.2.0",
            "_model_name": "LayoutModel",
            "_view_count": null,
            "_view_module": "@jupyter-widgets/base",
            "_view_module_version": "1.2.0",
            "_view_name": "LayoutView",
            "align_content": null,
            "align_items": null,
            "align_self": null,
            "border": null,
            "bottom": null,
            "display": null,
            "flex": null,
            "flex_flow": null,
            "grid_area": null,
            "grid_auto_columns": null,
            "grid_auto_flow": null,
            "grid_auto_rows": null,
            "grid_column": null,
            "grid_gap": null,
            "grid_row": null,
            "grid_template_areas": null,
            "grid_template_columns": null,
            "grid_template_rows": null,
            "height": null,
            "justify_content": null,
            "justify_items": null,
            "left": null,
            "margin": null,
            "max_height": null,
            "max_width": null,
            "min_height": null,
            "min_width": null,
            "object_fit": null,
            "object_position": null,
            "order": null,
            "overflow": null,
            "overflow_x": null,
            "overflow_y": null,
            "padding": null,
            "right": null,
            "top": null,
            "visibility": null,
            "width": null
          }
        },
        "27ecae9ae93d46b6a20f026f70c0f52b": {
          "model_module": "@jupyter-widgets/controls",
          "model_name": "ProgressStyleModel",
          "model_module_version": "1.5.0",
          "state": {
            "_model_module": "@jupyter-widgets/controls",
            "_model_module_version": "1.5.0",
            "_model_name": "ProgressStyleModel",
            "_view_count": null,
            "_view_module": "@jupyter-widgets/base",
            "_view_module_version": "1.2.0",
            "_view_name": "StyleView",
            "bar_color": null,
            "description_width": ""
          }
        },
        "178ece40bdf64e178701901caaff5a80": {
          "model_module": "@jupyter-widgets/base",
          "model_name": "LayoutModel",
          "model_module_version": "1.2.0",
          "state": {
            "_model_module": "@jupyter-widgets/base",
            "_model_module_version": "1.2.0",
            "_model_name": "LayoutModel",
            "_view_count": null,
            "_view_module": "@jupyter-widgets/base",
            "_view_module_version": "1.2.0",
            "_view_name": "LayoutView",
            "align_content": null,
            "align_items": null,
            "align_self": null,
            "border": null,
            "bottom": null,
            "display": null,
            "flex": null,
            "flex_flow": null,
            "grid_area": null,
            "grid_auto_columns": null,
            "grid_auto_flow": null,
            "grid_auto_rows": null,
            "grid_column": null,
            "grid_gap": null,
            "grid_row": null,
            "grid_template_areas": null,
            "grid_template_columns": null,
            "grid_template_rows": null,
            "height": null,
            "justify_content": null,
            "justify_items": null,
            "left": null,
            "margin": null,
            "max_height": null,
            "max_width": null,
            "min_height": null,
            "min_width": null,
            "object_fit": null,
            "object_position": null,
            "order": null,
            "overflow": null,
            "overflow_x": null,
            "overflow_y": null,
            "padding": null,
            "right": null,
            "top": null,
            "visibility": null,
            "width": null
          }
        },
        "abd0a75940954315b7e738dec0185472": {
          "model_module": "@jupyter-widgets/controls",
          "model_name": "DescriptionStyleModel",
          "model_module_version": "1.5.0",
          "state": {
            "_model_module": "@jupyter-widgets/controls",
            "_model_module_version": "1.5.0",
            "_model_name": "DescriptionStyleModel",
            "_view_count": null,
            "_view_module": "@jupyter-widgets/base",
            "_view_module_version": "1.2.0",
            "_view_name": "StyleView",
            "description_width": ""
          }
        }
      }
    }
  },
  "cells": [
    {
      "cell_type": "markdown",
      "source": [
        "### **TEMPO O3 validation**\n",
        "\n",
        "This notebook illustrates comparison of TEMPO ozone total column retrievals with Pandora ground stations and DSCOVR EPIC retrievals.\n",
        "\n",
        "It allows a user to choose Pandora station of interest. Since TEMPO spatial coverage is regional and limited to North America, it is user's responsibilty to select the station within TEMPO's field of regard (FOR). If the selected station is outside FOR, no TEMPO time series will be generated.\n",
        "\n",
        "The user is allowed to choose the time period of interest by providing start and end dates in the form YYYYMMDD. Please be aware, that if the selecte period of interest is outside of available time span of one of the sensors, corresponding time series will not be generated.\n",
        "\n",
        "DSCOVR L2 O3 data are interpolated to the location of the selected Pandora station.\n",
        "\n",
        "Data files for all 3 sensors are downloaded on-the-fly. TEMPO and DSCOVR data are downloaded with earthaccess library that needs to be installed first.\n",
        "\n",
        "TEMPO data files are read by means of netCDF library that needs to be installed first.\n",
        "\n",
        "Pandora data files are ASCII files with header and space separated columns. Custome made function is included to read nitrogen dioxide total column along with its total uncertainty.\n",
        "\n",
        "The resulting time series are plotted with and without uncertainty of both measurement in the end of the notebook."
      ],
      "metadata": {
        "id": "kjVKCytfEnRt"
      }
    },
    {
      "cell_type": "markdown",
      "source": [
        "# 1 Installing and importing necessary libraries"
      ],
      "metadata": {
        "id": "luJG0oPIPGjC"
      }
    },
    {
      "cell_type": "markdown",
      "source": [
        "## 1.1 Installing netCDF"
      ],
      "metadata": {
        "id": "m5ru-FMpPXoE"
      }
    },
    {
      "cell_type": "code",
      "source": [
        "! pip3 install netCDF4"
      ],
      "metadata": {
        "colab": {
          "base_uri": "https://localhost:8080/"
        },
        "id": "5NWX4mCVQJt_",
        "outputId": "481fcb26-d66d-40e3-fde7-6ecb4d5a3d80"
      },
      "execution_count": null,
      "outputs": [
        {
          "output_type": "stream",
          "name": "stdout",
          "text": [
            "Collecting netCDF4\n",
            "  Downloading netCDF4-1.6.5-cp310-cp310-manylinux_2_17_x86_64.manylinux2014_x86_64.whl (5.5 MB)\n",
            "\u001b[2K     \u001b[90m━━━━━━━━━━━━━━━━━━━━━━━━━━━━━━━━━━━━━━━━\u001b[0m \u001b[32m5.5/5.5 MB\u001b[0m \u001b[31m11.2 MB/s\u001b[0m eta \u001b[36m0:00:00\u001b[0m\n",
            "\u001b[?25hCollecting cftime (from netCDF4)\n",
            "  Downloading cftime-1.6.3-cp310-cp310-manylinux_2_17_x86_64.manylinux2014_x86_64.whl (1.3 MB)\n",
            "\u001b[2K     \u001b[90m━━━━━━━━━━━━━━━━━━━━━━━━━━━━━━━━━━━━━━━━\u001b[0m \u001b[32m1.3/1.3 MB\u001b[0m \u001b[31m18.3 MB/s\u001b[0m eta \u001b[36m0:00:00\u001b[0m\n",
            "\u001b[?25hRequirement already satisfied: certifi in /usr/local/lib/python3.10/dist-packages (from netCDF4) (2023.11.17)\n",
            "Requirement already satisfied: numpy in /usr/local/lib/python3.10/dist-packages (from netCDF4) (1.23.5)\n",
            "Installing collected packages: cftime, netCDF4\n",
            "Successfully installed cftime-1.6.3 netCDF4-1.6.5\n"
          ]
        }
      ]
    },
    {
      "cell_type": "markdown",
      "source": [
        "## 1.2 Installing earthaccess"
      ],
      "metadata": {
        "id": "cQJCMByjPp9i"
      }
    },
    {
      "cell_type": "code",
      "source": [
        "! pip3 install earthaccess"
      ],
      "metadata": {
        "colab": {
          "base_uri": "https://localhost:8080/"
        },
        "id": "N7Gm15VaYKW9",
        "outputId": "caa6f9f0-241b-4d27-f986-67b8b8bc5a8a"
      },
      "execution_count": null,
      "outputs": [
        {
          "output_type": "stream",
          "name": "stdout",
          "text": [
            "Collecting earthaccess\n",
            "  Downloading earthaccess-0.8.2-py3-none-any.whl (56 kB)\n",
            "\u001b[?25l     \u001b[90m━━━━━━━━━━━━━━━━━━━━━━━━━━━━━━━━━━━━━━━━\u001b[0m \u001b[32m0.0/57.0 kB\u001b[0m \u001b[31m?\u001b[0m eta \u001b[36m-:--:--\u001b[0m\r\u001b[2K     \u001b[90m━━━━━━━━━━━━━━━━━━━━━━━━━━━━━━━━━━━━━━━━\u001b[0m \u001b[32m57.0/57.0 kB\u001b[0m \u001b[31m1.4 MB/s\u001b[0m eta \u001b[36m0:00:00\u001b[0m\n",
            "\u001b[?25hRequirement already satisfied: fsspec>=2022.11 in /usr/local/lib/python3.10/dist-packages (from earthaccess) (2023.6.0)\n",
            "Collecting multimethod>=1.8 (from earthaccess)\n",
            "  Downloading multimethod-1.10-py3-none-any.whl (9.9 kB)\n",
            "Collecting pqdm>=0.1 (from earthaccess)\n",
            "  Downloading pqdm-0.2.0-py2.py3-none-any.whl (6.8 kB)\n",
            "Collecting python-cmr>=0.9.0 (from earthaccess)\n",
            "  Downloading python_cmr-0.9.0-py3-none-any.whl (11 kB)\n",
            "Requirement already satisfied: python-dateutil>=2.8.2 in /usr/local/lib/python3.10/dist-packages (from earthaccess) (2.8.2)\n",
            "Requirement already satisfied: requests<3.0.0,>=2.26 in /usr/local/lib/python3.10/dist-packages (from earthaccess) (2.31.0)\n",
            "Collecting s3fs<2024,>=2022.11 (from earthaccess)\n",
            "  Downloading s3fs-2023.12.2-py3-none-any.whl (28 kB)\n",
            "Collecting tinynetrc<2.0.0,>=1.3.1 (from earthaccess)\n",
            "  Downloading tinynetrc-1.3.1-py2.py3-none-any.whl (3.9 kB)\n",
            "Collecting bounded-pool-executor (from pqdm>=0.1->earthaccess)\n",
            "  Downloading bounded_pool_executor-0.0.3-py3-none-any.whl (3.4 kB)\n",
            "Requirement already satisfied: tqdm in /usr/local/lib/python3.10/dist-packages (from pqdm>=0.1->earthaccess) (4.66.1)\n",
            "Requirement already satisfied: typing-extensions in /usr/local/lib/python3.10/dist-packages (from pqdm>=0.1->earthaccess) (4.5.0)\n",
            "Requirement already satisfied: six>=1.5 in /usr/local/lib/python3.10/dist-packages (from python-dateutil>=2.8.2->earthaccess) (1.16.0)\n",
            "Requirement already satisfied: charset-normalizer<4,>=2 in /usr/local/lib/python3.10/dist-packages (from requests<3.0.0,>=2.26->earthaccess) (3.3.2)\n",
            "Requirement already satisfied: idna<4,>=2.5 in /usr/local/lib/python3.10/dist-packages (from requests<3.0.0,>=2.26->earthaccess) (3.6)\n",
            "Requirement already satisfied: urllib3<3,>=1.21.1 in /usr/local/lib/python3.10/dist-packages (from requests<3.0.0,>=2.26->earthaccess) (2.0.7)\n",
            "Requirement already satisfied: certifi>=2017.4.17 in /usr/local/lib/python3.10/dist-packages (from requests<3.0.0,>=2.26->earthaccess) (2023.11.17)\n",
            "Collecting aiobotocore<3.0.0,>=2.5.4 (from s3fs<2024,>=2022.11->earthaccess)\n",
            "  Downloading aiobotocore-2.11.0-py3-none-any.whl (76 kB)\n",
            "\u001b[2K     \u001b[90m━━━━━━━━━━━━━━━━━━━━━━━━━━━━━━━━━━━━━━━━\u001b[0m \u001b[32m76.1/76.1 kB\u001b[0m \u001b[31m4.6 MB/s\u001b[0m eta \u001b[36m0:00:00\u001b[0m\n",
            "\u001b[?25hCollecting fsspec>=2022.11 (from earthaccess)\n",
            "  Downloading fsspec-2023.12.2-py3-none-any.whl (168 kB)\n",
            "\u001b[2K     \u001b[90m━━━━━━━━━━━━━━━━━━━━━━━━━━━━━━━━━━━━━━━━\u001b[0m \u001b[32m169.0/169.0 kB\u001b[0m \u001b[31m8.8 MB/s\u001b[0m eta \u001b[36m0:00:00\u001b[0m\n",
            "\u001b[?25hRequirement already satisfied: aiohttp!=4.0.0a0,!=4.0.0a1 in /usr/local/lib/python3.10/dist-packages (from s3fs<2024,>=2022.11->earthaccess) (3.9.1)\n",
            "Collecting botocore<1.34.23,>=1.33.2 (from aiobotocore<3.0.0,>=2.5.4->s3fs<2024,>=2022.11->earthaccess)\n",
            "  Downloading botocore-1.34.22-py3-none-any.whl (11.9 MB)\n",
            "\u001b[2K     \u001b[90m━━━━━━━━━━━━━━━━━━━━━━━━━━━━━━━━━━━━━━━━\u001b[0m \u001b[32m11.9/11.9 MB\u001b[0m \u001b[31m47.6 MB/s\u001b[0m eta \u001b[36m0:00:00\u001b[0m\n",
            "\u001b[?25hRequirement already satisfied: wrapt<2.0.0,>=1.10.10 in /usr/local/lib/python3.10/dist-packages (from aiobotocore<3.0.0,>=2.5.4->s3fs<2024,>=2022.11->earthaccess) (1.14.1)\n",
            "Collecting aioitertools<1.0.0,>=0.5.1 (from aiobotocore<3.0.0,>=2.5.4->s3fs<2024,>=2022.11->earthaccess)\n",
            "  Downloading aioitertools-0.11.0-py3-none-any.whl (23 kB)\n",
            "Requirement already satisfied: attrs>=17.3.0 in /usr/local/lib/python3.10/dist-packages (from aiohttp!=4.0.0a0,!=4.0.0a1->s3fs<2024,>=2022.11->earthaccess) (23.2.0)\n",
            "Requirement already satisfied: multidict<7.0,>=4.5 in /usr/local/lib/python3.10/dist-packages (from aiohttp!=4.0.0a0,!=4.0.0a1->s3fs<2024,>=2022.11->earthaccess) (6.0.4)\n",
            "Requirement already satisfied: yarl<2.0,>=1.0 in /usr/local/lib/python3.10/dist-packages (from aiohttp!=4.0.0a0,!=4.0.0a1->s3fs<2024,>=2022.11->earthaccess) (1.9.4)\n",
            "Requirement already satisfied: frozenlist>=1.1.1 in /usr/local/lib/python3.10/dist-packages (from aiohttp!=4.0.0a0,!=4.0.0a1->s3fs<2024,>=2022.11->earthaccess) (1.4.1)\n",
            "Requirement already satisfied: aiosignal>=1.1.2 in /usr/local/lib/python3.10/dist-packages (from aiohttp!=4.0.0a0,!=4.0.0a1->s3fs<2024,>=2022.11->earthaccess) (1.3.1)\n",
            "Requirement already satisfied: async-timeout<5.0,>=4.0 in /usr/local/lib/python3.10/dist-packages (from aiohttp!=4.0.0a0,!=4.0.0a1->s3fs<2024,>=2022.11->earthaccess) (4.0.3)\n",
            "Collecting jmespath<2.0.0,>=0.7.1 (from botocore<1.34.23,>=1.33.2->aiobotocore<3.0.0,>=2.5.4->s3fs<2024,>=2022.11->earthaccess)\n",
            "  Downloading jmespath-1.0.1-py3-none-any.whl (20 kB)\n",
            "Installing collected packages: tinynetrc, bounded-pool-executor, pqdm, multimethod, jmespath, fsspec, aioitertools, python-cmr, botocore, aiobotocore, s3fs, earthaccess\n",
            "  Attempting uninstall: fsspec\n",
            "    Found existing installation: fsspec 2023.6.0\n",
            "    Uninstalling fsspec-2023.6.0:\n",
            "      Successfully uninstalled fsspec-2023.6.0\n",
            "\u001b[31mERROR: pip's dependency resolver does not currently take into account all the packages that are installed. This behaviour is the source of the following dependency conflicts.\n",
            "gcsfs 2023.6.0 requires fsspec==2023.6.0, but you have fsspec 2023.12.2 which is incompatible.\u001b[0m\u001b[31m\n",
            "\u001b[0mSuccessfully installed aiobotocore-2.11.0 aioitertools-0.11.0 botocore-1.34.22 bounded-pool-executor-0.0.3 earthaccess-0.8.2 fsspec-2023.12.2 jmespath-1.0.1 multimethod-1.10 pqdm-0.2.0 python-cmr-0.9.0 s3fs-2023.12.2 tinynetrc-1.3.1\n"
          ]
        }
      ]
    },
    {
      "cell_type": "markdown",
      "source": [
        "## 1.3 Importing necessary libraries"
      ],
      "metadata": {
        "id": "TxfhRi7ySyFY"
      }
    },
    {
      "cell_type": "code",
      "execution_count": null,
      "metadata": {
        "id": "IAAuhYMcEkvP"
      },
      "outputs": [],
      "source": [
        "import earthaccess # needed to discover and download TEMPO data\n",
        "import netCDF4 as nc # needed to read TEMPO data\n",
        "\n",
        "import os\n",
        "import sys\n",
        "\n",
        "import platform\n",
        "from subprocess import Popen\n",
        "import shutil\n",
        "\n",
        "from shapely.geometry import Point, Polygon # needed to search a point within a polygon\n",
        "from scipy.interpolate import griddata # needed to interpolate TEMPO data to the point of interest\n",
        "\n",
        "import requests # needed to search for and download Pandora data\n",
        "import codecs # needed to read Pandora data\n",
        "import numpy as np\n",
        "import h5py # needed to read DSCOVR_EPIC_L2_TO3 files\n",
        "import matplotlib.pyplot as plt # needed to plot the resulting time series\n",
        "from urllib.request import urlopen, Request # needed to search for and download Pandora data\n",
        "from pathlib import Path # needed to check whether a needed data file is already downloaded\n",
        "from datetime import datetime, timedelta # needed to work with time in plotting time series"
      ]
    },
    {
      "cell_type": "markdown",
      "source": [
        "# 2 Establishing access to EarthData"
      ],
      "metadata": {
        "id": "9FiqnX6XSt-3"
      }
    },
    {
      "cell_type": "markdown",
      "source": [
        "## 2.1 Logging in\n",
        "\n",
        "User needs to create an account at https://www.earthdata.nasa.gov/\n",
        "\n",
        "Function earthaccess.login prompts for EarthData login and password."
      ],
      "metadata": {
        "id": "LXGbiH5VTbPZ"
      }
    },
    {
      "cell_type": "code",
      "source": [
        "auth = earthaccess.login(strategy=\"interactive\", persist=True)"
      ],
      "metadata": {
        "id": "aHZmh8-xYZFe",
        "colab": {
          "base_uri": "https://localhost:8080/"
        },
        "outputId": "983ab330-3e1b-4b5a-f2c4-2d94618837bf"
      },
      "execution_count": null,
      "outputs": [
        {
          "output_type": "stream",
          "name": "stdout",
          "text": [
            "Enter your Earthdata Login username: alexrad71\n",
            "Enter your Earthdata password: ··········\n",
            "Persisting credentials to .netrc\n"
          ]
        }
      ]
    },
    {
      "cell_type": "markdown",
      "source": [
        "## 2.2 Creating local directory"
      ],
      "metadata": {
        "id": "AR7UGlswVGHj"
      }
    },
    {
      "cell_type": "code",
      "source": [
        "homeDir = os.path.expanduser(\"~\") + os.sep\n",
        "\n",
        "with open(homeDir + '.dodsrc', 'w') as file:\n",
        "    file.write('HTTP.COOKIEJAR={}.urs_cookies\\n'.format(homeDir))\n",
        "    file.write('HTTP.NETRC={}.netrc'.format(homeDir))\n",
        "    file.close()\n",
        "\n",
        "print('Saved .dodsrc to:', homeDir)\n",
        "\n",
        "# Set appropriate permissions for Linux/macOS\n",
        "if platform.system() != \"Windows\":\n",
        "    Popen('chmod og-rw ~/.netrc', shell=True)\n",
        "else:\n",
        "    # Copy dodsrc to working directory in Windows\n",
        "    shutil.copy2(homeDir + '.dodsrc', os.getcwd())\n",
        "    print('Copied .dodsrc to:', os.getcwd())"
      ],
      "metadata": {
        "colab": {
          "base_uri": "https://localhost:8080/"
        },
        "id": "tizBt7IvY0lx",
        "outputId": "67b2b9a4-947b-4da8-abd0-387a0e4442d9"
      },
      "execution_count": null,
      "outputs": [
        {
          "output_type": "stream",
          "name": "stdout",
          "text": [
            "Saved .dodsrc to: /root/\n"
          ]
        }
      ]
    },
    {
      "cell_type": "markdown",
      "source": [
        "# 3 Working with Pandora data"
      ],
      "metadata": {
        "id": "5QaStYVXVmdN"
      }
    },
    {
      "cell_type": "markdown",
      "source": [
        "## 3.0 Managing security certificate issue\n",
        "\n",
        "This step is needed only if there is a security certificate problem with Pandora data web site,  http://data.pandonia-global-network.org/. Should be avoided otherwise."
      ],
      "metadata": {
        "id": "Dt3zbZ1VV4Lk"
      }
    },
    {
      "cell_type": "code",
      "source": [
        "'''\n",
        "Pandora data web site,  url = 'http://data.pandonia-global-network.org/',\n",
        "currently has its security certificate expired. In order to make this code\n",
        "working, urlopen(url) was replaced by urlopen(url,context=context).\n",
        "2 lines below are needed to bypass certificate check.\n",
        "Once the site certificate is up-to-date,\n",
        "these lines can be removed and usual call of urlopen can be restored.\n",
        "'''\n",
        "import ssl\n",
        "context = ssl._create_unverified_context()"
      ],
      "metadata": {
        "id": "peFB-BWSieE1"
      },
      "execution_count": null,
      "outputs": []
    },
    {
      "cell_type": "markdown",
      "source": [
        "## 3.1 Defining a function gathering the list of available Pandora sites\n",
        "\n",
        "If there is a security certificate problem with Pandora data web site,  http://data.pandonia-global-network.org/, un-comment line\n",
        "\n",
        "page = urlopen(url,context=context)\n",
        "\n",
        "and comment out\n",
        "\n",
        "page = urlopen(url)"
      ],
      "metadata": {
        "id": "lpMSyF-LXm5i"
      }
    },
    {
      "cell_type": "code",
      "source": [
        "'''\n",
        "function read_pandora_web returns the list of available Pandora sites\n",
        "'''\n",
        "def read_pandora_web():\n",
        "  url = 'https://data.pandonia-global-network.org/'\n",
        "  page = urlopen(url)\n",
        "#  page = urlopen(url,context=context)\n",
        "  html_bytes = page.read()\n",
        "  html = html_bytes.decode(\"utf-8\")\n",
        "  html_len = len(html)\n",
        "\n",
        "  pos1 = 0\n",
        "\n",
        "  big_line = str(html)\n",
        "  lines = big_line.split('\\n')\n",
        "\n",
        "  ref_lines = [i for i in lines if 'href' in i]\n",
        "  refs = []\n",
        "  for line in ref_lines:\n",
        "    pos1 = line.find('\"')\n",
        "    pos2 = line.rfind('\"')\n",
        "    if pos1 > 0 and pos2 > pos1 and line[pos2-1] =='/' and line[pos1+1] == '.':\n",
        "      refs.append(line[pos1+3 : pos2-1])\n",
        "\n",
        "  return refs"
      ],
      "metadata": {
        "id": "eFwvdlZWFNnM"
      },
      "execution_count": null,
      "outputs": []
    },
    {
      "cell_type": "markdown",
      "source": [
        "## 3.2 Defining functions allowing user to choose a Pandora site of interest"
      ],
      "metadata": {
        "id": "vUrk8c6KYe8E"
      }
    },
    {
      "cell_type": "code",
      "source": [
        "'''\n",
        "function check_site checks whether user entered site is in the list of available Pandora sites\n",
        "'''\n",
        "def check_site(site_name, refs):\n",
        "  site_list = []\n",
        "  for line in refs:\n",
        "    if site_name in line:\n",
        "      site_list.append(line)\n",
        "\n",
        "  return site_list\n",
        "\n",
        "'''\n",
        "function take_pandora_sites takes user input and checks whether the site is in the list of available Pandora sites\n",
        "'''\n",
        "def take_pandora_sites(refs):\n",
        "  print('please select a Pandora site name from the list')\n",
        "  for ref in refs:\n",
        "    print(ref)\n",
        "\n",
        "  answer = 'y'\n",
        "  while answer == 'y':\n",
        "    site_name = input('Enter a name of a Pandora site: ')\n",
        "    print(site_name)\n",
        "    site_list = check_site(site_name, refs)\n",
        "    site_num = len(site_list)\n",
        "    if site_num == 0:\n",
        "      print('site ', site_name, 'was not found')\n",
        "      continue\n",
        "\n",
        "    if site_num > 1:\n",
        "      print('there are ', site_num, ' site names, select one from')\n",
        "      for site in site_list: print(site)\n",
        "\n",
        "      site_name = input('Enter an exact name of a Pandora site: ')\n",
        "      if site_list.count(site_name) != 1:\n",
        "        print('Entered name is not the exact match of one of the following sites')\n",
        "        for site in site_list: print(site)\n",
        "        print('program terminated')\n",
        "        sys.exit()\n",
        "\n",
        "      for site in site_list:\n",
        "        if site == site_name:\n",
        "          pandora_site = site_name\n",
        "          print('site ', site_name, 'was found and added to the list of sites ')\n",
        "          break\n",
        "\n",
        "    if site_num == 1:\n",
        "      pandora_site = site_list[0]\n",
        "      print('site ', site_list[0], 'was found and added to the list of sites ')\n",
        "\n",
        "    answer = 'n'\n",
        "\n",
        "  return pandora_site"
      ],
      "metadata": {
        "id": "HddB1cMqFv_u"
      },
      "execution_count": null,
      "outputs": []
    },
    {
      "cell_type": "markdown",
      "source": [
        "## 3.3 Defining a function creating the list links to O3 data files at the selected Pandora sites\n",
        "\n",
        "Pandora site may have several instruments. In this case each instrument has its own directory. However, the most recent version of the NO2 data, rnvs3p1-8, is available only in one of these directories. The function creates all possible links, but some of them may be non-existing. This is chacked and cleared later.\n",
        "\n",
        "If there is a security certificate problem with Pandora data web site,  http://data.pandonia-global-network.org/, un-comment line\n",
        "\n",
        "page = urlopen(url,context=context)\n",
        "\n",
        "and comment out\n",
        "\n",
        "page = urlopen(url)"
      ],
      "metadata": {
        "id": "T95P34fTZN1S"
      }
    },
    {
      "cell_type": "code",
      "source": [
        "'''\n",
        "function instrument_path returns links to available Pandora O3 retrievals files\n",
        "'''\n",
        "def instrument_path(site):\n",
        "  url = 'https://data.pandonia-global-network.org/' + site + '/'\n",
        "  page = urlopen(url)\n",
        "#  page = urlopen(url,context=context)\n",
        "  html_bytes = page.read()\n",
        "  html = html_bytes.decode(\"utf-8\")\n",
        "  html_len = len(html)\n",
        "\n",
        "  pos1 = 0\n",
        "  big_line = str(html)\n",
        "  lines = big_line.split('\\n')\n",
        "\n",
        "  ref_lines = [i for i in lines if 'href' in i]\n",
        "  links = []\n",
        "  for line in ref_lines:\n",
        "\n",
        "    pos1 = line.find('\"')\n",
        "    pos2 = line.rfind('\"')\n",
        "    if pos1 > 0 and pos2 > pos1 and line[pos2-1] =='/' and\\\n",
        "       line[pos1+3 : pos1 + 10] == 'Pandora':\n",
        "      link = url + line[pos1+3 : pos2] + 'L2/' + line[pos1+3 : pos2-1] + '_' + site + '_L2_rout2p1-8.txt'\n",
        "      print(link)\n",
        "      links.append(link)\n",
        "\n",
        "  return links"
      ],
      "metadata": {
        "id": "fMzfud_8HdDf"
      },
      "execution_count": null,
      "outputs": []
    },
    {
      "cell_type": "markdown",
      "source": [
        "## 3.4 Defining functions downloading Pandora data file with given url\n",
        "\n",
        "If there is a security certificate problem with Pandora data web site, http://data.pandonia-global-network.org/, un-comment line\n",
        "\n",
        "response = requests.get(url, verify=False)\n",
        "\n",
        "and comment out\n",
        "\n",
        "page = response = requests.get(url)"
      ],
      "metadata": {
        "id": "KjgZatRzatr6"
      }
    },
    {
      "cell_type": "code",
      "source": [
        "'''\n",
        "function download downloads file with given url\n",
        "'''\n",
        "def download(url):\n",
        "  response = requests.get(url)\n",
        "#  response = requests.get(url, verify=False)\n",
        "  response_code = response.status_code\n",
        "\n",
        "  file_name = url.split('/')[-1]\n",
        "\n",
        "  if response_code == 200:\n",
        "    content = response.content\n",
        "    data_path = Path(file_name)\n",
        "    data_path.write_bytes(content)\n",
        "\n",
        "  return file_name, response_code"
      ],
      "metadata": {
        "id": "y0X0IsLEM-SB"
      },
      "execution_count": null,
      "outputs": []
    },
    {
      "cell_type": "markdown",
      "source": [
        "## 3.5 Defining functions converting Pandora timestamp into a set of  year, month, day, hour, minute, and second"
      ],
      "metadata": {
        "id": "rlz83ZGabWP9"
      }
    },
    {
      "cell_type": "code",
      "source": [
        "'''\n",
        "function read_timestamp converts Pandora timestamp of the format\n",
        "'yyyymmddThhmmssZ' into a set of 6 numbers:\n",
        "integer year, month, day, hour, minute, and real second.\n",
        "'''\n",
        "def read_timestamp(timestamp):\n",
        "\n",
        "  yyyy = int(timestamp[0:4])\n",
        "  mm = int(timestamp[4:6])\n",
        "  dd = int(timestamp[6:8])\n",
        "  hh = int(timestamp[9:11])\n",
        "  mn = int(timestamp[11:13])\n",
        "  ss = float(timestamp[13:17])\n",
        "\n",
        "  return yyyy, mm, dd, hh, mn, ss"
      ],
      "metadata": {
        "id": "jfV_yV_iOOnJ"
      },
      "execution_count": null,
      "outputs": []
    },
    {
      "cell_type": "markdown",
      "source": [
        "## 3.6 Defining function reading Pandora O3 data file rout2p1-8"
      ],
      "metadata": {
        "id": "QIuXfcvScCy3"
      }
    },
    {
      "cell_type": "code",
      "source": [
        "'''\n",
        "function read_Pandora_O3_rout2p1_8 reads Pandora total NO2 column data files\n",
        "ending with rout2p1-8.\n",
        "\n",
        "Arguments:\n",
        "fname - name file to be read, string;\n",
        "start_date - beginning of the time interval of interest,\n",
        "             integer of the form YYYYMMDD;\n",
        "end_date -   end of the time interval of interest,\n",
        "             integer of the form YYYYMMDD.\n",
        "\n",
        "if start_date is greater than end_date, the function returns a numpy array\n",
        "with shape (0, 8), otherwise it returns an 8-column numpy array\n",
        "with with columns being year, month, day, hour, minute, second of observation\n",
        "and retrieved total O3 column along with its total uncertainty.\n",
        "\n",
        "O3 column and its uncertainties are in mol/m^2, so conversion to Dobson Units is\n",
        "performed by multiplication by DU_conversion = 1./4.4615E-04\n",
        "\n",
        "'''\n",
        "def read_Pandora_O3_rout2p1_8(fname, start_date, end_date):\n",
        "\n",
        "  DU_conversion = 1./4.4615E-04\n",
        "\n",
        "\n",
        "  data = np.empty([0, 8])\n",
        "  if start_date > end_date: return -999., -999., data\n",
        "\n",
        "  with codecs.open(fname, 'r', encoding='utf-8', errors='ignore') as f:\n",
        "\n",
        "    while True:\n",
        "# Get next line from file\n",
        "      line = f.readline()\n",
        "\n",
        "      if line.find('Short location name:') >= 0:\n",
        "        loc_name = line.split()[-1] # location name, to be used in the output file name\n",
        "        print('location name ', loc_name)\n",
        "\n",
        "      if line.find('Location latitude [deg]:') >= 0:\n",
        "        lat = float(line.split()[-1]) # location latitude\n",
        "        print('location latitude ', lat)\n",
        "\n",
        "      if line.find('Location longitude [deg]:') >= 0:\n",
        "        lon = float(line.split()[-1]) # location longitude\n",
        "        print('location longitude ', lon)\n",
        "\n",
        "      if line.find('--------') >= 0: break\n",
        "\n",
        "    while True:\n",
        "# Get next line from file\n",
        "      line = f.readline()\n",
        "\n",
        "      if line.find('--------') >= 0: break\n",
        "\n",
        "    while True:\n",
        "# now reading line with data\n",
        "      line = f.readline()\n",
        "\n",
        "      if not line: break\n",
        "\n",
        "      line_split = line.split()\n",
        "\n",
        "      yyyy, mm, dd, hh, mn, ss = read_timestamp(line_split[0])\n",
        "      date_stamp = yyyy*10000 + mm*100 + dd\n",
        "      if date_stamp < start_date or date_stamp > end_date: continue\n",
        "\n",
        "      column = float(line_split[38]) # Ozone total vertical column amount [moles per square meter]\n",
        "      if column < 0.: continue\n",
        "\n",
        "#      column_unc = float(line_split[42]) # Total uncertainty of ozone total vertical column amount [moles per square meter]\n",
        "#      if column_unc < 0.: continue\n",
        "\n",
        "      column_unc = float(line_split[43]) # rms-based uncertainty of ozone total vertical column amount [moles per square meter]\n",
        "      if column_unc < 0.: continue\n",
        "\n",
        "      data_line = np.array([yyyy, mm, dd, hh, mn, ss\\\n",
        "                          , column*DU_conversion, column_unc*DU_conversion])\n",
        "      data = np.append(data, [data_line], axis = 0)\n",
        "\n",
        "  return lat, lon, loc_name, data"
      ],
      "metadata": {
        "id": "7R72M8dVO2s2"
      },
      "execution_count": null,
      "outputs": []
    },
    {
      "cell_type": "markdown",
      "source": [
        "## 3.7 Discovering existing Pandora stations and selecting one of them"
      ],
      "metadata": {
        "id": "NN7_YcCackvI"
      }
    },
    {
      "cell_type": "code",
      "source": [
        "# Discovering available Pandora site.\n",
        "# Please bear in mind that some sites do not have O3 data files\n",
        "print('gathering Pandora sites information')\n",
        "refs = read_pandora_web()\n",
        "\n",
        "pandora_site = take_pandora_sites(refs) # create list of Pandora sites of interest\n",
        "print('the following sites were selected')\n",
        "print(pandora_site)\n",
        "print('from the list of existing Pandora sites')\n",
        "\n",
        "# create a list of !AVAILABLE! Pandora files for the Pandora site\n",
        "pandora_files = []\n",
        "\n",
        "links = instrument_path(pandora_site)\n",
        "\n",
        "npfiles = 0\n",
        "\n",
        "for link in links:\n",
        "  pandora_fname = link.split('/')[-1]\n",
        "\n",
        "# check if file exists in the local directory, if not download from Pandora site\n",
        "  if not os.path.exists(pandora_fname):\n",
        "    print(pandora_fname,' does not exit in local directory, downloading from the web')\n",
        "    print(link)\n",
        "\n",
        "    pandora_fname, response_code = download(link)\n",
        "\n",
        "    if response_code == 200:\n",
        "      print('Pandora L2 file ', pandora_fname, ' has been downloaded')\n",
        "      npfiles = npfiles + 1\n",
        "      pandora_files.append(pandora_fname)\n",
        "    else:\n",
        "      print('Pandora L2 file ', link, ' does not exist')\n",
        "\n",
        "  else:\n",
        "    print(pandora_fname,' exits in local directory')\n",
        "    npfiles = npfiles + 1\n",
        "    pandora_files.append(pandora_fname)\n",
        "\n",
        "if npfiles == 0: # no files were found, STOP here\n",
        "  print('no files were found for Pandora site ', pandora_site, 'program terminated')\n",
        "  sys.exit()\n",
        "if npfiles > 1: # normally there should be only one file per site. if there are more - STOP\n",
        "  print('there are too many files for site ', pandora_site, '- STOP and investigate file names below. Program terminated')\n",
        "  for pandora_fname in pandora_files:\n",
        "    print(pandora_fname)\n",
        "  sys.exit()"
      ],
      "metadata": {
        "colab": {
          "base_uri": "https://localhost:8080/"
        },
        "id": "G-VGNGOtzqBY",
        "outputId": "cea5c2fe-760f-4a8d-ffa6-2bbb42f72c2b"
      },
      "execution_count": null,
      "outputs": [
        {
          "output_type": "stream",
          "name": "stdout",
          "text": [
            "gathering Pandora sites information\n",
            "please select a Pandora site name from the list\n",
            "Agam\n",
            "AldineTX\n",
            "AliceSprings\n",
            "Altzomoni\n",
            "ArlingtonTX\n",
            "Athens-NOA\n",
            "AtlantaGA-SouthDeKalb\n",
            "AtlantaGA\n",
            "Bandung\n",
            "Bangkok\n",
            "Banting\n",
            "BayonneNJ\n",
            "Beijing-RADI\n",
            "BeltsvilleMD\n",
            "Berlin\n",
            "BlueHillMA\n",
            "BostonMA\n",
            "BoulderCO-NCAR\n",
            "BoulderCO\n",
            "Bremen\n",
            "BristolPA\n",
            "BronxNY\n",
            "Brussels-Uccle\n",
            "Bucharest\n",
            "BuenosAires\n",
            "BuffaloNY\n",
            "Busan\n",
            "Cabauw\n",
            "CambridgeMA\n",
            "CapeElizabethME\n",
            "ChapelHillNC\n",
            "CharlesCityVA\n",
            "ChicagoIL\n",
            "ClearLakeShoresTX\n",
            "Cologne\n",
            "ComodoroRivadavia\n",
            "Cordoba\n",
            "Dalanzadgad\n",
            "Davos\n",
            "DearbornMI\n",
            "Dhaka\n",
            "Downsview\n",
            "EastProvidenceRI\n",
            "EdwardsCA\n",
            "Egbert\n",
            "Eureka-PEARL\n",
            "FairbanksAK\n",
            "Fajardo\n",
            "FortMcKay\n",
            "Fukuoka\n",
            "Granada\n",
            "GreenbeltMD\n",
            "HamptonVA-HU\n",
            "HamptonVA\n",
            "Helsinki\n",
            "HoustonTX\n",
            "HuntsvilleAL\n",
            "Incheon-ESC\n",
            "Innsbruck\n",
            "Islamabad-NUST\n",
            "Izana\n",
            "Juelich\n",
            "KenoshaWI\n",
            "Kobe\n",
            "LaPorteTX\n",
            "Lindenberg\n",
            "LondonderryNH\n",
            "LynnMA\n",
            "MadisonCT\n",
            "ManhattanKS\n",
            "ManhattanNY-CCNY\n",
            "MaunaLoaHI\n",
            "MexicoCity-UNAM\n",
            "MexicoCity-Vallejo\n",
            "MountainViewCA\n",
            "Nagoya\n",
            "NewBrunswickNJ\n",
            "NewHavenCT\n",
            "NyAlesund\n",
            "OldFieldNY\n",
            "Palau\n",
            "PhiladelphiaPA\n",
            "PittsburghPA\n",
            "Pontianak\n",
            "Potchefstroom-METSI\n",
            "QueensNY\n",
            "RichmondCA\n",
            "Rome-IIA\n",
            "Rome-ISAC\n",
            "Rome-SAP\n",
            "SaltLakeCityUT-Hawthorne\n",
            "SaltLakeCityUT\n",
            "SanJoseCA\n",
            "Sapporo\n",
            "Seosan\n",
            "Seoul-SNU\n",
            "Seoul\n",
            "Singapore-NUS\n",
            "SouthJordanUT\n",
            "StGeorge\n",
            "StonyPlain\n",
            "SWDetroitMI\n",
            "Tel-Aviv\n",
            "Thessaloniki\n",
            "Tokyo-TMU\n",
            "Toronto-Scarborough\n",
            "Toronto-West\n",
            "Trollhaugen\n",
            "Tsukuba-NIES-West\n",
            "Tsukuba-NIES\n",
            "Tsukuba\n",
            "TurlockCA\n",
            "Ulaanbaatar\n",
            "Ulsan\n",
            "WacoTX\n",
            "Wakkerstroom\n",
            "WallopsIslandVA\n",
            "WashingtonDC\n",
            "WestportCT\n",
            "WhittierCA\n",
            "Windsor-West\n",
            "WrightwoodCA\n",
            "Yokosuka\n",
            "Enter a name of a Pandora site: Bold\n",
            "Bold\n",
            "site  Bold was not found\n",
            "Enter a name of a Pandora site: BoulderCO\n",
            "BoulderCO\n",
            "there are  2  site names, select one from\n",
            "BoulderCO-NCAR\n",
            "BoulderCO\n",
            "Enter an exact name of a Pandora site: BoulderCO\n",
            "site  BoulderCO was found and added to the list of sites \n",
            "the following sites were selected\n",
            "BoulderCO\n",
            "from the list of existing Pandora sites\n",
            "https://data.pandonia-global-network.org/BoulderCO/Pandora34s1/L2/Pandora34s1_BoulderCO_L2_rout2p1-8.txt\n",
            "https://data.pandonia-global-network.org/BoulderCO/Pandora57s1/L2/Pandora57s1_BoulderCO_L2_rout2p1-8.txt\n",
            "Pandora34s1_BoulderCO_L2_rout2p1-8.txt  does not exit in local directory, downloading from the web\n",
            "https://data.pandonia-global-network.org/BoulderCO/Pandora34s1/L2/Pandora34s1_BoulderCO_L2_rout2p1-8.txt\n",
            "Pandora L2 file  https://data.pandonia-global-network.org/BoulderCO/Pandora34s1/L2/Pandora34s1_BoulderCO_L2_rout2p1-8.txt  does not exist\n",
            "Pandora57s1_BoulderCO_L2_rout2p1-8.txt  does not exit in local directory, downloading from the web\n",
            "https://data.pandonia-global-network.org/BoulderCO/Pandora57s1/L2/Pandora57s1_BoulderCO_L2_rout2p1-8.txt\n",
            "Pandora L2 file  Pandora57s1_BoulderCO_L2_rout2p1-8.txt  has been downloaded\n"
          ]
        }
      ]
    },
    {
      "cell_type": "markdown",
      "source": [
        "## 3.8 Selecting timeframe of interest\n",
        "\n",
        "It is going to be common for both instruments"
      ],
      "metadata": {
        "id": "4vYb5skDdNvg"
      }
    },
    {
      "cell_type": "code",
      "source": [
        "print('enter period of interest, start and end dates, in the form YYYYMMDD')\n",
        "datestamp_ini = input('enter start date of interest ')\n",
        "datestamp_fin = input('enter end date of interest ')\n",
        "\n",
        "start_date = int(datestamp_ini)\n",
        "end_date = int(datestamp_fin)\n",
        "\n",
        "yyyy_ini = start_date//10000\n",
        "mm_ini = (start_date//100 - yyyy_ini*100)\n",
        "dd_ini = (start_date - yyyy_ini*10000 - mm_ini*100)\n",
        "\n",
        "yyyy_fin = end_date//10000\n",
        "mm_fin = (end_date//100 - yyyy_fin*100)\n",
        "dd_fin = (end_date - yyyy_fin*10000 - mm_fin*100)\n",
        "print(yyyy_ini, mm_ini, dd_ini, yyyy_fin, mm_fin, dd_fin)\n",
        "\n",
        "date_start = str('%4.4i-%2.2i-%2.2i 00:00:00' %(yyyy_ini, mm_ini, dd_ini))\n",
        "date_end = str('%4.4i-%2.2i-%2.2i 23:59:59' %(yyyy_fin, mm_fin, dd_fin))"
      ],
      "metadata": {
        "colab": {
          "base_uri": "https://localhost:8080/"
        },
        "id": "R7G6LBj6z9Mi",
        "outputId": "58abd2b9-e23e-4b65-a522-2a03fe82f27b"
      },
      "execution_count": null,
      "outputs": [
        {
          "output_type": "stream",
          "name": "stdout",
          "text": [
            "enter period of interest, start and end dates, in the form YYYYMMDD\n",
            "enter start date of interest 20231103\n",
            "enter end date of interest 20231103\n",
            "2023 11 3 2023 11 3\n"
          ]
        }
      ]
    },
    {
      "cell_type": "markdown",
      "source": [
        "## 3.9 Reading Pandora file within selected timeframe and create point of interest"
      ],
      "metadata": {
        "id": "mTFV2Fkadj8e"
      }
    },
    {
      "cell_type": "code",
      "source": [
        "pandora_file = pandora_files[0]\n",
        "lat, lon, POI_name, Pandora_data = read_Pandora_O3_rout2p1_8(pandora_file, start_date, end_date)\n",
        "\n",
        "if lat == -999.:\n",
        "  print('error reading pandora file ', pandora_file, 'program terminated')\n",
        "  sys.exit()\n",
        "\n",
        "POI = np.array([lat, lon])"
      ],
      "metadata": {
        "colab": {
          "base_uri": "https://localhost:8080/"
        },
        "id": "Rzmdn7JqxFBg",
        "outputId": "bafc34a9-de25-4c1f-97bf-aa6c426c929c"
      },
      "execution_count": null,
      "outputs": [
        {
          "output_type": "stream",
          "name": "stdout",
          "text": [
            "location name  BoulderCO\n",
            "location latitude  39.99\n",
            "location longitude  -105.26\n"
          ]
        }
      ]
    },
    {
      "cell_type": "code",
      "source": [
        "print(Pandora_data)"
      ],
      "metadata": {
        "colab": {
          "base_uri": "https://localhost:8080/"
        },
        "id": "xzHznem2b_Nn",
        "outputId": "b8b0b80e-8c1c-4e12-b412-e8fb1edd3995"
      },
      "execution_count": null,
      "outputs": [
        {
          "output_type": "stream",
          "name": "stdout",
          "text": [
            "[[2.02300000e+03 1.10000000e+01 3.00000000e+00 1.40000000e+01\n",
            "  3.80000000e+01 5.75000000e+01 2.63745377e+02 3.70077328e+01]\n",
            " [2.02300000e+03 1.10000000e+01 3.00000000e+00 1.40000000e+01\n",
            "  4.40000000e+01 1.18000000e+01 2.67914379e+02 5.32668385e+01]\n",
            " [2.02300000e+03 1.10000000e+01 3.00000000e+00 1.40000000e+01\n",
            "  4.80000000e+01 3.73000000e+01 2.67824723e+02 2.42183122e+01]\n",
            " [2.02300000e+03 1.10000000e+01 3.00000000e+00 1.40000000e+01\n",
            "  5.30000000e+01 5.90000000e+01 2.68407486e+02 1.89369046e+01]\n",
            " [2.02300000e+03 1.10000000e+01 3.00000000e+00 1.50000000e+01\n",
            "  3.00000000e+00 3.38000000e+01 2.68945422e+02 1.32603385e+01]\n",
            " [2.02300000e+03 1.10000000e+01 3.00000000e+00 1.50000000e+01\n",
            "  1.30000000e+01 3.20000000e+00 2.68429900e+02 9.68979043e+00]\n",
            " [2.02300000e+03 1.10000000e+01 3.00000000e+00 1.50000000e+01\n",
            "  1.90000000e+01 3.18000000e+01 2.69236804e+02 9.41589152e+00]\n",
            " [2.02300000e+03 1.10000000e+01 3.00000000e+00 1.50000000e+01\n",
            "  3.40000000e+01 4.66000000e+01 2.72576488e+02 6.84769696e+00]\n",
            " [2.02300000e+03 1.10000000e+01 3.00000000e+00 1.50000000e+01\n",
            "  3.80000000e+01 5.90000000e+01 2.71567858e+02 7.04606074e+00]\n",
            " [2.02300000e+03 1.10000000e+01 3.00000000e+00 1.50000000e+01\n",
            "  4.40000000e+01 7.80000000e+00 2.71119579e+02 6.37834809e+00]\n",
            " [2.02300000e+03 1.10000000e+01 3.00000000e+00 1.50000000e+01\n",
            "  4.90000000e+01 1.76000000e+01 2.71881654e+02 6.34517539e+00]\n",
            " [2.02300000e+03 1.10000000e+01 3.00000000e+00 1.50000000e+01\n",
            "  5.90000000e+01 6.50000000e+00 2.73742015e+02 4.97500841e+00]\n",
            " [2.02300000e+03 1.10000000e+01 3.00000000e+00 1.60000000e+01\n",
            "  6.00000000e+00 5.01000000e+01 2.74481677e+02 6.16877732e+00]\n",
            " [2.02300000e+03 1.10000000e+01 3.00000000e+00 1.60000000e+01\n",
            "  1.20000000e+01 2.94000000e+01 2.74728230e+02 5.76913594e+00]\n",
            " [2.02300000e+03 1.10000000e+01 3.00000000e+00 1.60000000e+01\n",
            "  2.20000000e+01 5.60000000e+00 2.72419590e+02 5.74448056e+00]\n",
            " [2.02300000e+03 1.10000000e+01 3.00000000e+00 1.60000000e+01\n",
            "  2.20000000e+01 3.31000000e+01 2.72038552e+02 5.71310098e+00]\n",
            " [2.02300000e+03 1.10000000e+01 3.00000000e+00 1.60000000e+01\n",
            "  2.70000000e+01 1.16000000e+01 2.71545444e+02 5.63644514e+00]\n",
            " [2.02300000e+03 1.10000000e+01 3.00000000e+00 1.60000000e+01\n",
            "  2.70000000e+01 3.91000000e+01 2.71455788e+02 5.67432478e+00]\n",
            " [2.02300000e+03 1.10000000e+01 3.00000000e+00 1.60000000e+01\n",
            "  3.20000000e+01 1.29000000e+01 2.73069595e+02 5.82001569e+00]\n",
            " [2.02300000e+03 1.10000000e+01 3.00000000e+00 1.60000000e+01\n",
            "  3.20000000e+01 4.04000000e+01 2.73742015e+02 5.77339460e+00]\n",
            " [2.02300000e+03 1.10000000e+01 3.00000000e+00 1.60000000e+01\n",
            "  3.70000000e+01 1.86000000e+01 2.74078225e+02 5.70144570e+00]\n",
            " [2.02300000e+03 1.10000000e+01 3.00000000e+00 1.60000000e+01\n",
            "  3.70000000e+01 4.61000000e+01 2.73719601e+02 5.68732489e+00]\n",
            " [2.02300000e+03 1.10000000e+01 3.00000000e+00 1.60000000e+01\n",
            "  4.20000000e+01 2.32000000e+01 2.73719601e+02 5.82427435e+00]\n",
            " [2.02300000e+03 1.10000000e+01 3.00000000e+00 1.60000000e+01\n",
            "  4.20000000e+01 5.06000000e+01 2.73360977e+02 5.79379133e+00]\n",
            " [2.02300000e+03 1.10000000e+01 3.00000000e+00 1.60000000e+01\n",
            "  4.70000000e+01 2.92000000e+01 2.73898913e+02 5.68710075e+00]\n",
            " [2.02300000e+03 1.10000000e+01 3.00000000e+00 1.60000000e+01\n",
            "  4.70000000e+01 5.67000000e+01 2.73562703e+02 5.69718704e+00]\n",
            " [2.02300000e+03 1.10000000e+01 3.00000000e+00 1.60000000e+01\n",
            "  5.20000000e+01 3.42000000e+01 2.73697187e+02 5.74246330e+00]\n",
            " [2.02300000e+03 1.10000000e+01 3.00000000e+00 1.60000000e+01\n",
            "  5.30000000e+01 1.70000000e+00 2.73517875e+02 5.74896335e+00]\n",
            " [2.02300000e+03 1.10000000e+01 3.00000000e+00 1.60000000e+01\n",
            "  5.70000000e+01 4.01000000e+01 2.73876499e+02 5.69427323e+00]\n",
            " [2.02300000e+03 1.10000000e+01 3.00000000e+00 1.60000000e+01\n",
            "  5.80000000e+01 7.60000000e+00 2.73943741e+02 5.71198028e+00]\n",
            " [2.02300000e+03 1.10000000e+01 3.00000000e+00 1.70000000e+01\n",
            "  7.00000000e+00 5.03000000e+01 2.74750644e+02 5.77339460e+00]\n",
            " [2.02300000e+03 1.10000000e+01 3.00000000e+00 1.70000000e+01\n",
            "  8.00000000e+00 1.78000000e+01 2.74593746e+02 5.80365348e+00]\n",
            " [2.02300000e+03 1.10000000e+01 3.00000000e+00 1.70000000e+01\n",
            "  1.60000000e+01 5.84000000e+01 2.74414435e+02 5.82180881e+00]\n",
            " [2.02300000e+03 1.10000000e+01 3.00000000e+00 1.70000000e+01\n",
            "  1.70000000e+01 2.59000000e+01 2.74504091e+02 5.83368822e+00]\n",
            " [2.02300000e+03 1.10000000e+01 3.00000000e+00 1.70000000e+01\n",
            "  2.30000000e+01 2.71000000e+01 2.74324779e+02 5.84220554e+00]\n",
            " [2.02300000e+03 1.10000000e+01 3.00000000e+00 1.70000000e+01\n",
            "  2.30000000e+01 5.46000000e+01 2.74347193e+02 5.79222235e+00]\n",
            " [2.02300000e+03 1.10000000e+01 3.00000000e+00 1.70000000e+01\n",
            "  2.80000000e+01 3.32000000e+01 2.73943741e+02 5.84041242e+00]\n",
            " [2.02300000e+03 1.10000000e+01 3.00000000e+00 1.70000000e+01\n",
            "  2.90000000e+01 7.00000000e-01 2.73809257e+02 5.84489521e+00]\n",
            " [2.02300000e+03 1.10000000e+01 3.00000000e+00 1.70000000e+01\n",
            "  3.30000000e+01 3.88000000e+01 2.73742015e+02 5.85363667e+00]\n",
            " [2.02300000e+03 1.10000000e+01 3.00000000e+00 1.70000000e+01\n",
            "  3.40000000e+01 6.20000000e+00 2.73854085e+02 5.85117113e+00]\n",
            " [2.02300000e+03 1.10000000e+01 3.00000000e+00 1.70000000e+01\n",
            "  3.80000000e+01 4.55000000e+01 2.73338563e+02 5.83525720e+00]\n",
            " [2.02300000e+03 1.10000000e+01 3.00000000e+00 1.70000000e+01\n",
            "  3.90000000e+01 1.29000000e+01 2.73652359e+02 5.84803317e+00]\n",
            " [2.02300000e+03 1.10000000e+01 3.00000000e+00 1.70000000e+01\n",
            "  4.30000000e+01 5.08000000e+01 2.74347193e+02 5.83839516e+00]\n",
            " [2.02300000e+03 1.10000000e+01 3.00000000e+00 1.70000000e+01\n",
            "  4.40000000e+01 1.82000000e+01 2.74571333e+02 5.86394710e+00]\n",
            " [2.02300000e+03 1.10000000e+01 3.00000000e+00 1.70000000e+01\n",
            "  4.80000000e+01 5.69000000e+01 2.74235123e+02 5.88479211e+00]\n",
            " [2.02300000e+03 1.10000000e+01 3.00000000e+00 1.70000000e+01\n",
            "  4.90000000e+01 2.43000000e+01 2.74638574e+02 5.90810266e+00]\n",
            " [2.02300000e+03 1.10000000e+01 3.00000000e+00 1.70000000e+01\n",
            "  5.40000000e+01 2.80000000e+00 2.74817886e+02 5.88636109e+00]\n",
            " [2.02300000e+03 1.10000000e+01 3.00000000e+00 1.70000000e+01\n",
            "  5.40000000e+01 3.02000000e+01 2.75064440e+02 5.85901603e+00]\n",
            " [2.02300000e+03 1.10000000e+01 3.00000000e+00 1.80000000e+01\n",
            "  5.70000000e+01 8.80000000e+00 2.74974784e+02 5.95763757e+00]\n",
            " [2.02300000e+03 1.10000000e+01 3.00000000e+00 1.80000000e+01\n",
            "  5.70000000e+01 3.62000000e+01 2.74974784e+02 5.97758601e+00]\n",
            " [2.02300000e+03 1.10000000e+01 3.00000000e+00 1.90000000e+01\n",
            "  2.00000000e+00 1.34000000e+01 2.76297209e+02 5.94284433e+00]\n",
            " [2.02300000e+03 1.10000000e+01 3.00000000e+00 1.90000000e+01\n",
            "  2.00000000e+00 4.09000000e+01 2.76476521e+02 5.95315477e+00]\n",
            " [2.02300000e+03 1.10000000e+01 3.00000000e+00 1.90000000e+01\n",
            "  7.00000000e+00 1.75000000e+01 2.75355822e+02 5.97489634e+00]\n",
            " [2.02300000e+03 1.10000000e+01 3.00000000e+00 1.90000000e+01\n",
            "  7.00000000e+00 4.49000000e+01 2.75602376e+02 5.96682730e+00]\n",
            " [2.02300000e+03 1.10000000e+01 3.00000000e+00 1.90000000e+01\n",
            "  1.20000000e+01 2.32000000e+01 2.75916172e+02 5.91191303e+00]\n",
            " [2.02300000e+03 1.10000000e+01 3.00000000e+00 1.90000000e+01\n",
            "  1.20000000e+01 5.06000000e+01 2.75938586e+02 5.89017147e+00]\n",
            " [2.02300000e+03 1.10000000e+01 3.00000000e+00 1.90000000e+01\n",
            "  1.70000000e+01 3.89000000e+01 2.77350667e+02 5.93768912e+00]\n",
            " [2.02300000e+03 1.10000000e+01 3.00000000e+00 1.90000000e+01\n",
            "  2.20000000e+01 3.33000000e+01 2.77126527e+02 5.96189622e+00]\n",
            " [2.02300000e+03 1.10000000e+01 3.00000000e+00 1.90000000e+01\n",
            "  2.30000000e+01 7.00000000e-01 2.77261011e+02 5.87470582e+00]\n",
            " [2.02300000e+03 1.10000000e+01 3.00000000e+00 1.90000000e+01\n",
            "  2.70000000e+01 3.82000000e+01 2.77709291e+02 5.95337891e+00]\n",
            " [2.02300000e+03 1.10000000e+01 3.00000000e+00 1.90000000e+01\n",
            "  2.80000000e+01 5.60000000e+00 2.78202398e+02 5.96234450e+00]\n",
            " [2.02300000e+03 1.10000000e+01 3.00000000e+00 1.90000000e+01\n",
            "  3.20000000e+01 4.47000000e+01 2.78785162e+02 5.95068923e+00]\n",
            " [2.02300000e+03 1.10000000e+01 3.00000000e+00 1.90000000e+01\n",
            "  3.30000000e+01 1.22000000e+01 2.78247226e+02 5.91034405e+00]\n",
            " [2.02300000e+03 1.10000000e+01 3.00000000e+00 1.90000000e+01\n",
            "  4.20000000e+01 5.85000000e+01 2.78448952e+02 5.89263701e+00]\n",
            " [2.02300000e+03 1.10000000e+01 3.00000000e+00 1.90000000e+01\n",
            "  4.30000000e+01 2.59000000e+01 2.77933430e+02 5.94486159e+00]\n",
            " [2.02300000e+03 1.10000000e+01 3.00000000e+00 1.90000000e+01\n",
            "  5.20000000e+01 2.00000000e+01 2.79211028e+02 5.83211924e+00]\n",
            " [2.02300000e+03 1.10000000e+01 3.00000000e+00 1.90000000e+01\n",
            "  5.80000000e+01 3.68000000e+01 2.78404124e+02 5.81867085e+00]\n",
            " [2.02300000e+03 1.10000000e+01 3.00000000e+00 1.90000000e+01\n",
            "  5.90000000e+01 4.20000000e+00 2.78448952e+02 5.81329149e+00]\n",
            " [2.02300000e+03 1.10000000e+01 3.00000000e+00 2.00000000e+01\n",
            "  3.00000000e+00 4.37000000e+01 2.78897232e+02 5.83346408e+00]\n",
            " [2.02300000e+03 1.10000000e+01 3.00000000e+00 2.00000000e+01\n",
            "  4.00000000e+00 1.11000000e+01 2.79031716e+02 5.81418805e+00]\n",
            " [2.02300000e+03 1.10000000e+01 3.00000000e+00 2.00000000e+01\n",
            "  8.00000000e+00 4.93000000e+01 2.78314468e+02 5.81306735e+00]\n",
            " [2.02300000e+03 1.10000000e+01 3.00000000e+00 2.00000000e+01\n",
            "  9.00000000e+00 1.68000000e+01 2.78157570e+02 5.78168777e+00]\n",
            " [2.02300000e+03 1.10000000e+01 3.00000000e+00 2.00000000e+01\n",
            "  1.30000000e+01 5.72000000e+01 2.79726549e+02 5.78482573e+00]\n",
            " [2.02300000e+03 1.10000000e+01 3.00000000e+00 2.00000000e+01\n",
            "  1.40000000e+01 2.46000000e+01 2.79569651e+02 5.79065337e+00]\n",
            " [2.02300000e+03 1.10000000e+01 3.00000000e+00 2.00000000e+01\n",
            "  1.90000000e+01 3.90000000e+00 2.80085173e+02 5.85565393e+00]\n",
            " [2.02300000e+03 1.10000000e+01 3.00000000e+00 2.00000000e+01\n",
            "  1.90000000e+01 3.14000000e+01 2.80443797e+02 5.89756808e+00]\n",
            " [2.02300000e+03 1.10000000e+01 3.00000000e+00 2.00000000e+01\n",
            "  2.40000000e+01 1.11000000e+01 2.81340356e+02 5.88232657e+00]\n",
            " [2.02300000e+03 1.10000000e+01 3.00000000e+00 2.00000000e+01\n",
            "  2.40000000e+01 3.86000000e+01 2.81542082e+02 5.90003362e+00]\n",
            " [2.02300000e+03 1.10000000e+01 3.00000000e+00 2.00000000e+01\n",
            "  2.90000000e+01 1.81000000e+01 2.80690351e+02 5.78056707e+00]\n",
            " [2.02300000e+03 1.10000000e+01 3.00000000e+00 2.00000000e+01\n",
            "  2.90000000e+01 4.55000000e+01 2.80780007e+02 5.80589488e+00]\n",
            " [2.02300000e+03 1.10000000e+01 3.00000000e+00 2.00000000e+01\n",
            "  3.40000000e+01 2.58000000e+01 2.80802421e+02 5.93320632e+00]\n",
            " [2.02300000e+03 1.10000000e+01 3.00000000e+00 2.00000000e+01\n",
            "  3.40000000e+01 5.33000000e+01 2.81026561e+02 5.97534462e+00]\n",
            " [2.02300000e+03 1.10000000e+01 3.00000000e+00 2.00000000e+01\n",
            "  4.40000000e+01 4.04000000e+01 2.79211028e+02 5.88905077e+00]\n",
            " [2.02300000e+03 1.10000000e+01 3.00000000e+00 2.00000000e+01\n",
            "  4.50000000e+01 7.90000000e+00 2.79636893e+02 5.85139527e+00]\n",
            " [2.02300000e+03 1.10000000e+01 3.00000000e+00 2.00000000e+01\n",
            "  5.30000000e+01 5.45000000e+01 2.78986888e+02 5.73125630e+00]\n",
            " [2.02300000e+03 1.10000000e+01 3.00000000e+00 2.00000000e+01\n",
            "  5.40000000e+01 2.19000000e+01 2.79098958e+02 5.80275692e+00]\n",
            " [2.02300000e+03 1.10000000e+01 3.00000000e+00 2.10000000e+01\n",
            "  0.00000000e+00 1.59000000e+01 2.77081699e+02 6.35705480e+00]\n",
            " [2.02300000e+03 1.10000000e+01 3.00000000e+00 2.10000000e+01\n",
            "  4.00000000e+00 3.59000000e+01 2.78247226e+02 5.78370503e+00]\n",
            " [2.02300000e+03 1.10000000e+01 3.00000000e+00 2.10000000e+01\n",
            "  8.00000000e+00 4.60000000e+01 2.78000672e+02 5.94620643e+00]\n",
            " [2.02300000e+03 1.10000000e+01 3.00000000e+00 2.10000000e+01\n",
            "  2.90000000e+01 1.58000000e+01 2.81183458e+02 1.52547350e+01]\n",
            " [2.02300000e+03 1.10000000e+01 3.00000000e+00 2.10000000e+01\n",
            "  3.90000000e+01 1.98000000e+01 2.77574807e+02 6.34674437e+00]\n",
            " [2.02300000e+03 1.10000000e+01 3.00000000e+00 2.10000000e+01\n",
            "  4.80000000e+01 2.02000000e+01 2.76745489e+02 7.15275132e+00]\n",
            " [2.02300000e+03 1.10000000e+01 3.00000000e+00 2.10000000e+01\n",
            "  5.30000000e+01 2.30000000e+01 2.75714446e+02 7.89599910e+00]\n",
            " [2.02300000e+03 1.10000000e+01 3.00000000e+00 2.10000000e+01\n",
            "  5.80000000e+01 3.74000000e+01 2.76274795e+02 8.29048526e+00]\n",
            " [2.02300000e+03 1.10000000e+01 3.00000000e+00 2.20000000e+01\n",
            "  3.00000000e+00 4.60000000e+01 2.75714446e+02 9.02140536e+00]\n",
            " [2.02300000e+03 1.10000000e+01 3.00000000e+00 2.20000000e+01\n",
            "  2.10000000e+01 1.10000000e+01 2.77821361e+02 1.37408943e+01]\n",
            " [2.02300000e+03 1.10000000e+01 3.00000000e+00 2.20000000e+01\n",
            "  2.60000000e+01 2.54000000e+01 2.78583436e+02 1.63245545e+01]\n",
            " [2.02300000e+03 1.10000000e+01 3.00000000e+00 2.20000000e+01\n",
            "  3.10000000e+01 3.44000000e+01 2.79054130e+02 2.03581755e+01]\n",
            " [2.02300000e+03 1.10000000e+01 3.00000000e+00 2.20000000e+01\n",
            "  3.60000000e+01 5.26000000e+01 2.80757593e+02 2.82080018e+01]\n",
            " [2.02300000e+03 1.10000000e+01 3.00000000e+00 2.20000000e+01\n",
            "  4.70000000e+01 1.19000000e+01 2.80331727e+02 4.33710635e+01]]\n"
          ]
        }
      ]
    },
    {
      "cell_type": "markdown",
      "source": [
        "#4 Working with DSCOVR data"
      ],
      "metadata": {
        "id": "VGfpNlrWei36"
      }
    },
    {
      "cell_type": "markdown",
      "source": [
        "## 4.1 Searching DSCOVR data files within 0.5 degree range around the POI (position of the Pandora station)"
      ],
      "metadata": {
        "id": "enVNDMCMH7hL"
      }
    },
    {
      "cell_type": "code",
      "source": [
        "short_name = 'DSCOVR_EPIC_L2_TO3' # collection name to search for in the EarthData\n",
        "\n",
        "POI_lat = POI[0]\n",
        "POI_lon = POI[1]\n",
        "\n",
        "bbox = (POI_lon - 0.5, POI_lat - 0.5, POI_lon + 0.5, POI_lat + 0.5)\n",
        "POI_results_EPIC = earthaccess.search_data(short_name = short_name,\n",
        "                                    temporal = (date_start, date_end),\n",
        "                                    bounding_box = bbox)\n",
        "\n",
        "print('total number of DSCOVR EPIC L2_TO3 granules found for POI', POI_name, \\\n",
        "      '\\nwithin period of interes between', date_start, 'and', date_end, \\\n",
        "      '\\nis', len(POI_results_EPIC))"
      ],
      "metadata": {
        "colab": {
          "base_uri": "https://localhost:8080/"
        },
        "id": "RI_1YDVQILr7",
        "outputId": "2a84672d-78fe-4da6-e353-8034d0eb212a"
      },
      "execution_count": null,
      "outputs": [
        {
          "output_type": "stream",
          "name": "stdout",
          "text": [
            "Granules found: 0\n",
            "total number of DSCOVR EPIC L2_TO3 granules found for POI BoulderCO \n",
            "within period of interes between 2023-10-30 00:00:00 and 2023-10-30 23:59:59 \n",
            "is 0\n"
          ]
        }
      ]
    },
    {
      "cell_type": "code",
      "source": [
        "granule_links_EPIC = []\n",
        "for result in POI_results_EPIC: granule_links_EPIC.append(result['umm']['RelatedUrls'][0]['URL'])\n",
        "\n",
        "for granule_link in granule_links_EPIC: print(granule_link)"
      ],
      "metadata": {
        "id": "BCOUcfopKT7C"
      },
      "execution_count": null,
      "outputs": []
    },
    {
      "cell_type": "markdown",
      "source": [
        "### 4.1.0 Searching DSCOVR data files without bounding box\n",
        "\n",
        "It appears that as of now, January 19, 2024, earthaccess returns incorrect granules for DSCOVR product covering anti-meridian. For this reason, all available granules should be grabbed using earthaccess function search_data without bounding box. Granules that do not contain the point of interest will be processed, but the code below, in section 4.5 will handle them correctly without generating either errors or fill value outcome."
      ],
      "metadata": {
        "id": "xJDJB6IxA9Df"
      }
    },
    {
      "cell_type": "code",
      "source": [
        "short_name = 'DSCOVR_EPIC_L2_TO3' # collection name to search for in the EarthData\n",
        "\n",
        "POI_results_EPIC = earthaccess.search_data(short_name = short_name,\n",
        "                                    temporal = (date_start, date_end))\n",
        "\n",
        "print('total number of DSCOVR EPIC L2_TO3 granules found for POI', POI_name, \\\n",
        "      '\\nwithin period of interes between', date_start, 'and', date_end, \\\n",
        "      '\\nis', len(POI_results_EPIC))"
      ],
      "metadata": {
        "colab": {
          "base_uri": "https://localhost:8080/"
        },
        "outputId": "9f2be7d6-63b2-490f-9332-059f1e05616a",
        "id": "EmD1Xyvi_5Ed"
      },
      "execution_count": null,
      "outputs": [
        {
          "output_type": "stream",
          "name": "stdout",
          "text": [
            "Granules found: 0\n",
            "total number of DSCOVR EPIC L2_TO3 granules found for POI BoulderCO \n",
            "within period of interes between 2023-11-03 00:00:00 and 2023-11-03 23:59:59 \n",
            "is 0\n"
          ]
        }
      ]
    },
    {
      "cell_type": "markdown",
      "source": [
        "##4.1.1 Print links to the available data files"
      ],
      "metadata": {
        "id": "IalXP1OU1EuI"
      }
    },
    {
      "cell_type": "code",
      "source": [
        "granule_links_EPIC = []\n",
        "for result in POI_results_EPIC: granule_links_EPIC.append(result['umm']['RelatedUrls'][0]['URL'])\n",
        "\n",
        "for granule_link in granule_links_EPIC: print(granule_link)"
      ],
      "metadata": {
        "id": "Jsr5Jj2Fpldc"
      },
      "execution_count": null,
      "outputs": []
    },
    {
      "cell_type": "code",
      "source": [
        "downloaded_files = earthaccess.download(\n",
        "    POI_results_EPIC,\n",
        "    local_path='.',)"
      ],
      "metadata": {
        "colab": {
          "base_uri": "https://localhost:8080/",
          "height": 356
        },
        "id": "4LBi2fo4owJw",
        "outputId": "b3e0903a-be0c-4d64-cb81-d837d4ed49a6"
      },
      "execution_count": null,
      "outputs": [
        {
          "output_type": "error",
          "ename": "ValueError",
          "evalue": "List of URLs or DataGranule isntances expected",
          "traceback": [
            "\u001b[0;31m---------------------------------------------------------------------------\u001b[0m",
            "\u001b[0;31mValueError\u001b[0m                                Traceback (most recent call last)",
            "\u001b[0;32m<ipython-input-361-881be37438af>\u001b[0m in \u001b[0;36m<cell line: 1>\u001b[0;34m()\u001b[0m\n\u001b[0;32m----> 1\u001b[0;31m downloaded_files = earthaccess.download(\n\u001b[0m\u001b[1;32m      2\u001b[0m     \u001b[0mPOI_results_EPIC\u001b[0m\u001b[0;34m,\u001b[0m\u001b[0;34m\u001b[0m\u001b[0;34m\u001b[0m\u001b[0m\n\u001b[1;32m      3\u001b[0m     local_path='.',)\n",
            "\u001b[0;32m/usr/local/lib/python3.10/dist-packages/earthaccess/api.py\u001b[0m in \u001b[0;36mdownload\u001b[0;34m(granules, local_path, provider, threads)\u001b[0m\n\u001b[1;32m    193\u001b[0m         \u001b[0mgranules\u001b[0m \u001b[0;34m=\u001b[0m \u001b[0;34m[\u001b[0m\u001b[0mgranules\u001b[0m\u001b[0;34m]\u001b[0m\u001b[0;34m\u001b[0m\u001b[0;34m\u001b[0m\u001b[0m\n\u001b[1;32m    194\u001b[0m     \u001b[0;32mtry\u001b[0m\u001b[0;34m:\u001b[0m\u001b[0;34m\u001b[0m\u001b[0;34m\u001b[0m\u001b[0m\n\u001b[0;32m--> 195\u001b[0;31m         \u001b[0mresults\u001b[0m \u001b[0;34m=\u001b[0m \u001b[0mearthaccess\u001b[0m\u001b[0;34m.\u001b[0m\u001b[0m__store__\u001b[0m\u001b[0;34m.\u001b[0m\u001b[0mget\u001b[0m\u001b[0;34m(\u001b[0m\u001b[0mgranules\u001b[0m\u001b[0;34m,\u001b[0m \u001b[0mlocal_path\u001b[0m\u001b[0;34m,\u001b[0m \u001b[0mprovider\u001b[0m\u001b[0;34m,\u001b[0m \u001b[0mthreads\u001b[0m\u001b[0;34m)\u001b[0m\u001b[0;34m\u001b[0m\u001b[0;34m\u001b[0m\u001b[0m\n\u001b[0m\u001b[1;32m    196\u001b[0m     \u001b[0;32mexcept\u001b[0m \u001b[0mAttributeError\u001b[0m \u001b[0;32mas\u001b[0m \u001b[0merr\u001b[0m\u001b[0;34m:\u001b[0m\u001b[0;34m\u001b[0m\u001b[0;34m\u001b[0m\u001b[0m\n\u001b[1;32m    197\u001b[0m         \u001b[0mprint\u001b[0m\u001b[0;34m(\u001b[0m\u001b[0merr\u001b[0m\u001b[0;34m)\u001b[0m\u001b[0;34m\u001b[0m\u001b[0;34m\u001b[0m\u001b[0m\n",
            "\u001b[0;32m/usr/local/lib/python3.10/dist-packages/earthaccess/store.py\u001b[0m in \u001b[0;36mget\u001b[0;34m(self, granules, local_path, provider, threads)\u001b[0m\n\u001b[1;32m    468\u001b[0m             \u001b[0;32mreturn\u001b[0m \u001b[0mfiles\u001b[0m\u001b[0;34m\u001b[0m\u001b[0;34m\u001b[0m\u001b[0m\n\u001b[1;32m    469\u001b[0m         \u001b[0;32melse\u001b[0m\u001b[0;34m:\u001b[0m\u001b[0;34m\u001b[0m\u001b[0;34m\u001b[0m\u001b[0m\n\u001b[0;32m--> 470\u001b[0;31m             \u001b[0;32mraise\u001b[0m \u001b[0mValueError\u001b[0m\u001b[0;34m(\u001b[0m\u001b[0;34m\"List of URLs or DataGranule isntances expected\"\u001b[0m\u001b[0;34m)\u001b[0m\u001b[0;34m\u001b[0m\u001b[0;34m\u001b[0m\u001b[0m\n\u001b[0m\u001b[1;32m    471\u001b[0m \u001b[0;34m\u001b[0m\u001b[0m\n\u001b[1;32m    472\u001b[0m     \u001b[0;34m@\u001b[0m\u001b[0msingledispatchmethod\u001b[0m\u001b[0;34m\u001b[0m\u001b[0;34m\u001b[0m\u001b[0m\n",
            "\u001b[0;31mValueError\u001b[0m: List of URLs or DataGranule isntances expected"
          ]
        }
      ]
    },
    {
      "cell_type": "code",
      "source": [
        "cnt = 0\n",
        "for granule_link_EPIC in granule_links_EPIC:\n",
        "  EPIC_fname = granule_link.split('/')[-1]\n",
        "\n",
        "# check if file exists in the local directory, if not download from Pandora site\n",
        "  if not os.path.exists(EPIC_fname):\n",
        "    print(EPIC_fname, 'does not exist in local directory')\n",
        "    cnt += 1\n",
        "\n",
        "print(cnt)"
      ],
      "metadata": {
        "colab": {
          "base_uri": "https://localhost:8080/"
        },
        "id": "fcMlIvtY5Ybb",
        "outputId": "656045ef-2b53-4029-caa4-d44305364a2e"
      },
      "execution_count": null,
      "outputs": [
        {
          "output_type": "stream",
          "name": "stdout",
          "text": [
            "0\n"
          ]
        }
      ]
    },
    {
      "cell_type": "markdown",
      "source": [
        "##4.2 Define function reading DSCOVR_EPIC_L2_TO3"
      ],
      "metadata": {
        "id": "xyjpjo9Y23vH"
      }
    },
    {
      "cell_type": "markdown",
      "source": [
        "###4.2.1 Define function reading DSCOVR_EPIC_L2_TO3\n",
        "\n",
        "This is the older version, it does NOT read time variable. In order to retrieve time,timestamp from the file name needs to be processed."
      ],
      "metadata": {
        "id": "6SR6UroZ1buf"
      }
    },
    {
      "cell_type": "code",
      "source": [
        "def read_epic_l2_to3(fname):\n",
        "# function read_epic_l2_aer reads DSCOVR_EPIC_L2_TO3 product file given by its fname\n",
        "# and returns arrays of wavelengths, 2D latitudes and longitudes, and total O3 column along with their fill values.\n",
        "\n",
        "  try:\n",
        "    f = h5py.File(fname, \"r\" )\n",
        "  except:\n",
        "    print(\"Unable to find or read hdf5 input granule file \", fname)\n",
        "    return 0., 0., 0., 0., 0.\n",
        "\n",
        "  try:\n",
        "    item = f['Latitude']\n",
        "    lat2D = item[:]\n",
        "#    fv_geo = item.fillvalue\n",
        "    fv_geo = lat2D[0, 0]\n",
        "  except:\n",
        "    print(\"Unable to find or read hdf5 input granule file \", fname)\n",
        "    return 0., 0., 0., 0., 0.\n",
        "\n",
        "  try:\n",
        "    item = f['Longitude']\n",
        "    lon2D = item[:]\n",
        "  except:\n",
        "    print(\"Unable to find or read hdf5 input granule file \", fname)\n",
        "    return 0., 0., 0., 0., 0.\n",
        "\n",
        "  try:\n",
        "    item = f['Ozone']\n",
        "    o3_2D = item[:]\n",
        "# commented out line below is the general way to read the fill value\n",
        "# however, attribute '_FillValue' is not set for any array in the current version of the product\n",
        "# at the same time, arrays do have apparent fill values that can be seen in the\n",
        "# corners of the image\n",
        "#    fv_o3 = item.fillvalue\n",
        "    fv_o3 = o3_2D[0, 0]\n",
        "  except:\n",
        "    print(\"Unable to find or read hdf5 input granule file \", fname)\n",
        "    return 0., 0., 0., 0., 0.\n",
        "\n",
        "  f.close()\n",
        "\n",
        "  return lat2D, lon2D, o3_2D, fv_o3, fv_geo"
      ],
      "metadata": {
        "id": "a5e_8dyO4xPN"
      },
      "execution_count": null,
      "outputs": []
    },
    {
      "cell_type": "markdown",
      "source": [
        "###4.2.2 Define function reading DSCOVR_EPIC_L2_TO3\n",
        "\n",
        "This is the new version, it reads time variable."
      ],
      "metadata": {
        "id": "AfaDFhco2Taf"
      }
    },
    {
      "cell_type": "code",
      "source": [
        "def read_epic_l2_to3(fname):\n",
        "# function read_epic_l2_to3 reads DSCOVR_EPIC_L2_TO3 product file given by its fname\n",
        "# and returns arrays of wavelengths, 2D latitudes and longitudes, and total O3 column along with their fill values.\n",
        "\n",
        "  try:\n",
        "    f = h5py.File(fname, \"r\" )\n",
        "  except:\n",
        "    print(\"Unable to find or read hdf5 input granule file \", fname)\n",
        "    return 0., 0., 0., 0., 0., 0.\n",
        "\n",
        "  try:\n",
        "    item = f['Latitude']\n",
        "    lat2D = item[:]\n",
        "#    fv_geo = item.fillvalue\n",
        "    fv_geo = lat2D[0, 0]\n",
        "  except:\n",
        "    print(\"Unable to read 'Latitude' from granule file \", fname)\n",
        "    return 0., 0., 0., 0., 0., 0.\n",
        "\n",
        "  try:\n",
        "    item = f['Longitude']\n",
        "    lon2D = item[:]\n",
        "  except:\n",
        "    print(\"Unable to read 'Longitude' from granule file \", fname)\n",
        "    return 0., 0., 0., 0., 0., 0.\n",
        "\n",
        "  try:\n",
        "    item = f['Ozone']\n",
        "    o3_2D = item[:]\n",
        "# commented out line below is the general way to read the fill value\n",
        "# however, attribute '_FillValue' is not set for any array in the current version of the product\n",
        "# at the same time, arrays do have apparent fill values that can be seen in the\n",
        "# corners of the image\n",
        "#    fv_o3 = item.fillvalue\n",
        "    fv_o3 = o3_2D[0, 0]\n",
        "  except:\n",
        "    print(\"Unable to read 'Ozone' from granule file \", fname)\n",
        "    return 0., 0., 0., 0., 0., 0.\n",
        "\n",
        "  try:\n",
        "    item = f['YearDaySeconds']\n",
        "    YearDaySeconds = item[:] # this is an array of 3 elements: year, day of the year, and seconds of the day\n",
        "  except:\n",
        "    print(\"Unable to read 'YearDaySeconds' from granule file \", fname)\n",
        "    return 0., 0., 0., 0., 0., 0.\n",
        "\n",
        "\n",
        "  f.close()\n",
        "\n",
        "  return lat2D, lon2D, o3_2D, fv_o3, fv_geo, YearDaySeconds"
      ],
      "metadata": {
        "id": "o_vlwg9LI1if"
      },
      "execution_count": null,
      "outputs": []
    },
    {
      "cell_type": "markdown",
      "source": [
        "#4.3 Compile DSCOVR EPIC total ozone timeseries"
      ],
      "metadata": {
        "id": "KdpWkG2_2yyH"
      }
    },
    {
      "cell_type": "code",
      "source": [
        "days = [31, 28, 31, 30, 31, 30, 31, 31, 30, 31, 30, 31]\n",
        "\n",
        "geo_deviation = 0.2 # deviation from the point of interest, degree\n",
        "\n",
        "POI_name_ = POI_name.replace(' ','_')\n",
        "out_Q_EPIC = 'tot_O3_EPIC'\n",
        "out_Q_unit = 'DU'\n",
        "\n",
        "fout = open(out_Q_EPIC+'_'+datestamp_ini+'_'+datestamp_fin+'_'+POI_name_+'_'+str('%08.4fN_%08.4fW' %(POI[0], -POI[1])), 'w')\n",
        "fout.write('timeseries of '+out_Q_EPIC+' at '+POI_name+' '+str('%08.4fN %08.4fW' %(POI[0], -POI[1]))+'\\n')\n",
        "fout.write('yyyy mm dd hh mn ss '+out_Q_unit+'\\n')\n",
        "\n",
        "for result in POI_results_EPIC:\n",
        "  granule_link = result['umm']['RelatedUrls'][0]['URL']\n",
        "  last_slash_ind = granule_link.rfind('/')\n",
        "  fname = granule_link[last_slash_ind+1 : ]\n",
        "  print(fname)\n",
        "#  lat2D, lon2D, o3_2D, fv_o3, fv_geo  = read_epic_l2_to3(fname) # this is for the version not reading YearDaySeconds array\n",
        "  lat2D, lon2D, o3_2D, fv_o3, fv_geo, YearDaySeconds  = read_epic_l2_to3(fname)\n",
        "\n",
        "  if isinstance(lat2D, float): continue\n",
        "\n",
        "  print(fv_geo)\n",
        "\n",
        "  nx = lon2D.shape[0]\n",
        "  ny = lon2D.shape[1]\n",
        "\n",
        "# getting time from the granule filename\n",
        "  '''\n",
        "  fname_split = fname.split('_')\n",
        "  timestamp = fname_split[-2]\n",
        "  yyyy= int(timestamp[0 : 4])\n",
        "  mm = int(timestamp[4 : 6])\n",
        "  dd = int(timestamp[6 : 8])\n",
        "  hh = int(timestamp[8 : 10])\n",
        "  mn = int(timestamp[10 : 12])\n",
        "  ss = int(timestamp[12 : 14])'''\n",
        "\n",
        "# check whether POI is in the granule. If not - move to the next granule\n",
        "  mask = (lat2D < POI_lat+geo_deviation)&(lat2D > POI_lat-geo_deviation)\\\n",
        "        &(lon2D < POI_lon+geo_deviation)&(lon2D > POI_lon-geo_deviation)\\\n",
        "        &(o3_2D != fv_o3)\n",
        "\n",
        "  lat_loc = lat2D[mask]\n",
        "  lon_loc = lon2D[mask]\n",
        "  o3_loc = o3_2D[mask]\n",
        "  n_loc = len(o3_loc)\n",
        "  if n_loc < 1: continue\n",
        "\n",
        "  pp = np.array([POI[1], POI[0]])\n",
        "  points = np.empty([0,2])\n",
        "  ff = np.empty(0)\n",
        "\n",
        "  for i in range(n_loc):\n",
        "    if o3_loc[i] == fv_o3: continue\n",
        "    points = np.append(points, [[lon_loc[i], lat_loc[i]]], axis=0)\n",
        "    ff = np.append(ff, o3_loc[i])\n",
        "\n",
        "  try:\n",
        "    [prod_loc] = griddata(points, ff, pp, method='linear', fill_value=-1., rescale=False)\n",
        "    print(prod_loc)\n",
        "  except:\n",
        "    try:\n",
        "      prod_loc = np.mean(ff)\n",
        "      print(prod_loc, ff)\n",
        "    except: continue\n",
        "\n",
        "# handling time first:\n",
        "  yyyy= int(YearDaySeconds[0])\n",
        "  dd = int(YearDaySeconds[1])\n",
        "  sec = int(YearDaySeconds[2])\n",
        "\n",
        "  md = days.copy()\n",
        "  if (yyyy//4)*4 == yyyy: md[1] = md[1] + 1\n",
        "\n",
        "  for i in range(12):\n",
        "    if dd > md[i]: dd = dd - md[i]\n",
        "    else:\n",
        "      mm = i + 1\n",
        "      break\n",
        "\n",
        "  hh = sec//3600\n",
        "  mn = sec//60 - hh*60\n",
        "  ss = sec - hh*3600 - mn*60\n",
        "\n",
        "  print(yyyy, mm, dd, hh, mn, ss, prod_loc)\n",
        "\n",
        "  fout.write(str('%4.4i %2.2i %2.2i %2.2i %2.2i %2.2i %10.3e '\\\n",
        "%(yyyy, mm, dd, hh, mn, ss, prod_loc)))\n",
        "  for i in range(n_loc):\n",
        "    fout.write(str('%9.4fN %9.4fW %10.3e '\\\n",
        "%(lat_loc[i], -lon_loc[i], o3_loc[i])))\n",
        "  fout.write('\\n')\n",
        "\n",
        "fout.close()"
      ],
      "metadata": {
        "id": "bj9DP2tSh0d0"
      },
      "execution_count": null,
      "outputs": []
    },
    {
      "cell_type": "markdown",
      "source": [
        "#5 Working with TEMPO data"
      ],
      "metadata": {
        "id": "1h0srrK7HbpO"
      }
    },
    {
      "cell_type": "markdown",
      "source": [
        "##5.1 Setting TEMPO name constants"
      ],
      "metadata": {
        "id": "3wvhtsq5kXgZ"
      }
    },
    {
      "cell_type": "code",
      "source": [
        "short_name = 'TEMPO_O3TOT_L2' # collection name to search for in the EarthData\n",
        "out_Q = 'tot_O3_col' # name of the output quantity with unit\n",
        "out_Q_unit = out_Q+',_DU' # name of the output quantity with unit"
      ],
      "metadata": {
        "id": "fZRNP9ifkMg4"
      },
      "execution_count": null,
      "outputs": []
    },
    {
      "cell_type": "markdown",
      "source": [
        "##5.2 Searching TEMPO data files within 0.5 degree range around the POI (position of the Pandora station)"
      ],
      "metadata": {
        "id": "qO9NEF61jlcy"
      }
    },
    {
      "cell_type": "code",
      "source": [
        "POI_lat = POI[0]\n",
        "POI_lon = POI[1]\n",
        "\n",
        "bbox = (POI_lon - 0.5, POI_lat - 0.5, POI_lon + 0.5, POI_lat + 0.5)\n",
        "POI_results = earthaccess.search_data(short_name = short_name,\n",
        "                                    temporal = (date_start, date_end),\n",
        "                                    bounding_box = bbox)\n",
        "\n",
        "print('total number of granules found for POI', POI_name, \\\n",
        "      '\\nwithin period of interes between', date_start, 'and', date_end, \\\n",
        "      '\\nis', len(POI_results))"
      ],
      "metadata": {
        "colab": {
          "base_uri": "https://localhost:8080/"
        },
        "id": "vEUujyNZzRx0",
        "outputId": "0bf9b622-407f-4b9e-e2ed-d03c71aba3c2"
      },
      "execution_count": null,
      "outputs": [
        {
          "output_type": "stream",
          "name": "stdout",
          "text": [
            "Granules found: 11\n",
            "total number of granules found for POI BoulderCO \n",
            "within period of interes between 2023-11-03 00:00:00 and 2023-11-03 23:59:59 \n",
            "is 11\n"
          ]
        }
      ]
    },
    {
      "cell_type": "markdown",
      "source": [
        "###5.2.0 Printing explicit links to the granules\n",
        "\n",
        "This can be dropped off"
      ],
      "metadata": {
        "id": "OvC5eZRhk7Xz"
      }
    },
    {
      "cell_type": "code",
      "source": [
        "granule_links = []\n",
        "for result in POI_results: granule_links.append(result['umm']['RelatedUrls'][0]['URL'])\n",
        "\n",
        "for granule_link in granule_links: print(granule_link)"
      ],
      "metadata": {
        "id": "UQnLZCmB5Oxv",
        "colab": {
          "base_uri": "https://localhost:8080/"
        },
        "outputId": "2380b9e2-d568-4d50-9c96-249c35034077"
      },
      "execution_count": null,
      "outputs": [
        {
          "output_type": "stream",
          "name": "stdout",
          "text": [
            "https://data.asdc.earthdata.nasa.gov/asdc-prod-protected/TEMPO/TEMPO_O3TOT_L2_V01/2023.11.03/TEMPO_O3TOT_L2_V01_20231103T150156Z_S005G07.nc\n",
            "https://data.asdc.earthdata.nasa.gov/asdc-prod-protected/TEMPO/TEMPO_O3TOT_L2_V01/2023.11.03/TEMPO_O3TOT_L2_V01_20231103T160156Z_S006G07.nc\n",
            "https://data.asdc.earthdata.nasa.gov/asdc-prod-protected/TEMPO/TEMPO_O3TOT_L2_V01/2023.11.03/TEMPO_O3TOT_L2_V01_20231103T170156Z_S007G07.nc\n",
            "https://data.asdc.earthdata.nasa.gov/asdc-prod-protected/TEMPO/TEMPO_O3TOT_L2_V01/2023.11.03/TEMPO_O3TOT_L2_V01_20231103T180156Z_S008G07.nc\n",
            "https://data.asdc.earthdata.nasa.gov/asdc-prod-protected/TEMPO/TEMPO_O3TOT_L2_V01/2023.11.03/TEMPO_O3TOT_L2_V01_20231103T190156Z_S009G07.nc\n",
            "https://data.asdc.earthdata.nasa.gov/asdc-prod-protected/TEMPO/TEMPO_O3TOT_L2_V01/2023.11.03/TEMPO_O3TOT_L2_V01_20231103T200156Z_S010G07.nc\n",
            "https://data.asdc.earthdata.nasa.gov/asdc-prod-protected/TEMPO/TEMPO_O3TOT_L2_V01/2023.11.03/TEMPO_O3TOT_L2_V01_20231103T210156Z_S011G07.nc\n",
            "https://data.asdc.earthdata.nasa.gov/asdc-prod-protected/TEMPO/TEMPO_O3TOT_L2_V01/2023.11.03/TEMPO_O3TOT_L2_V01_20231103T214201Z_S012G04.nc\n",
            "https://data.asdc.earthdata.nasa.gov/asdc-prod-protected/TEMPO/TEMPO_O3TOT_L2_V01/2023.11.03/TEMPO_O3TOT_L2_V01_20231103T222206Z_S013G04.nc\n",
            "https://data.asdc.earthdata.nasa.gov/asdc-prod-protected/TEMPO/TEMPO_O3TOT_L2_V01/2023.11.03/TEMPO_O3TOT_L2_V01_20231103T230211Z_S014G04.nc\n",
            "https://data.asdc.earthdata.nasa.gov/asdc-prod-protected/TEMPO/TEMPO_O3TOT_L2_V01/2023.11.03/TEMPO_O3TOT_L2_V01_20231103T234216Z_S015G04.nc\n"
          ]
        }
      ]
    },
    {
      "cell_type": "markdown",
      "source": [
        "##5.3 Downloading TEMPO data files"
      ],
      "metadata": {
        "id": "GTZXmaFalcLa"
      }
    },
    {
      "cell_type": "code",
      "source": [
        "downloaded_files = earthaccess.download(\n",
        "    POI_results,\n",
        "    local_path='.',\n",
        ")"
      ],
      "metadata": {
        "colab": {
          "base_uri": "https://localhost:8080/",
          "height": 130,
          "referenced_widgets": [
            "86c595fccf7f44269f7cb5e985b82abf",
            "9530c390dd934051912e75bb773f2943",
            "d72b4c7db99645c496d9c509601aaa9d",
            "9cdcfbcf3acf479bbab190f8c9d1b5dd",
            "a0489d452c4f4d59b39e25b08e00a785",
            "fc92e6a3ce4c41b7b4e4d9ed68e9fdb9",
            "da9916452e8e47f7a1e9f055aa061988",
            "c65cf44da71846f882e3eab4526b3638",
            "a5ef340105424bddacbdad7cbfb726a5",
            "0acb07eab0fa41e1af28c038557e7992",
            "56da9bab427f4c188ef63fd208d677ae",
            "d9a08a617eda4fd3aff2cb795c6ab49c",
            "aee2fe4dba944179970113a0f00a4a88",
            "2af27d2decf54d12bc6f8e9eaeaee2da",
            "e58ba8910534430b99804fb42e7b796d",
            "a91cfd7a529f49129e206e4ce580b5d7",
            "cb4ef1e6587246fbba02bb30f1409363",
            "1efcf2280d58437e88ddd939eeed9571",
            "b7c8eb11666d4f95964101f84389da0f",
            "cc7d836c663943aabaa25d9aedf58273",
            "6c7c5843fd7e49ef86da2df8dce125f6",
            "a6b3297afae54367b311417fe04c366a",
            "1563bcd5a65a4d3690135c23bab44226",
            "572fc2f3d19249baa10fa3629f96c8df",
            "7b8ca42a725b449ab751ec6846558bed",
            "e98db869566941718531a6c7c090b171",
            "9bbde6bb301946e0ae5d2a0b4804fe5c",
            "b8bc3f5d5497448e8b531b7bc3d53cb2",
            "b1bf0477c37541c09a4a7ee16a9e5e28",
            "611b56174c8d45bc8a3fc56d3891e602",
            "27ecae9ae93d46b6a20f026f70c0f52b",
            "178ece40bdf64e178701901caaff5a80",
            "abd0a75940954315b7e738dec0185472"
          ]
        },
        "id": "DeSFXhk2DYIP",
        "outputId": "8ae5fb78-7b68-4049-a96b-80d53a566c27"
      },
      "execution_count": null,
      "outputs": [
        {
          "output_type": "stream",
          "name": "stdout",
          "text": [
            " Getting 11 granules, approx download size: 0.0 GB\n"
          ]
        },
        {
          "output_type": "display_data",
          "data": {
            "text/plain": [
              "QUEUEING TASKS | :   0%|          | 0/11 [00:00<?, ?it/s]"
            ],
            "application/vnd.jupyter.widget-view+json": {
              "version_major": 2,
              "version_minor": 0,
              "model_id": "86c595fccf7f44269f7cb5e985b82abf"
            }
          },
          "metadata": {}
        },
        {
          "output_type": "display_data",
          "data": {
            "text/plain": [
              "PROCESSING TASKS | :   0%|          | 0/11 [00:00<?, ?it/s]"
            ],
            "application/vnd.jupyter.widget-view+json": {
              "version_major": 2,
              "version_minor": 0,
              "model_id": "d9a08a617eda4fd3aff2cb795c6ab49c"
            }
          },
          "metadata": {}
        },
        {
          "output_type": "display_data",
          "data": {
            "text/plain": [
              "COLLECTING RESULTS | :   0%|          | 0/11 [00:00<?, ?it/s]"
            ],
            "application/vnd.jupyter.widget-view+json": {
              "version_major": 2,
              "version_minor": 0,
              "model_id": "1563bcd5a65a4d3690135c23bab44226"
            }
          },
          "metadata": {}
        }
      ]
    },
    {
      "cell_type": "markdown",
      "source": [
        "###5.3.0 Checking whether all TEMPO data files\n",
        "\n",
        "This can be dropped off, but it can be useful to ensure that all TEMPO files are downloaded. If the outcom is '0' then all is done"
      ],
      "metadata": {
        "id": "_LizSkWolsNc"
      }
    },
    {
      "cell_type": "code",
      "source": [
        "cnt = 0\n",
        "for granule_link in granule_links:\n",
        "  TEMPO_fname = granule_link.split('/')[-1]\n",
        "\n",
        "# check if file exists in the local directory, if not download from Pandora site\n",
        "  if not os.path.exists(TEMPO_fname):\n",
        "    print(TEMPO_fname, 'does not exist in local directory')\n",
        "    cnt += 1\n",
        "\n",
        "print(cnt)"
      ],
      "metadata": {
        "colab": {
          "base_uri": "https://localhost:8080/"
        },
        "id": "M23BH438AM2k",
        "outputId": "fc492756-1961-4fdb-f265-193321bc5ae2"
      },
      "execution_count": null,
      "outputs": [
        {
          "output_type": "stream",
          "name": "stdout",
          "text": [
            "0\n"
          ]
        }
      ]
    },
    {
      "cell_type": "markdown",
      "source": [
        "##5.4 Defining function reading TEMPO O3 data file"
      ],
      "metadata": {
        "id": "qOcLRgZf6dbS"
      }
    },
    {
      "cell_type": "code",
      "source": [
        "def read_TEMPO_O3TOT_L2(fn):\n",
        "  '''\n",
        "  function read_TEMPO_O3TOT_L2 reads the following arrays from the\n",
        "  TEMPO L2 O3 product TEMPO_O3TOT_L2_V01:\n",
        "    column_amount_o3;\n",
        "  and returns respective fields along with coordinates of the pixels\n",
        "  and their corners and fill values of all variables.\n",
        "\n",
        "  If one requested variables cannot be read, all returned variables are zeroed\n",
        "  '''\n",
        "  ds = nc.Dataset(fn)\n",
        "\n",
        "  prod = ds.groups['product'] # this opens group product, /product, as prod\n",
        "\n",
        "  var_name = 'column_amount_o3'\n",
        "  try:\n",
        "    var = prod.variables[var_name] # this reads variable column_amount_o3 from prod (group product, /product)\n",
        "    total_O3_column = np.array(var)\n",
        "    fv_prod = var.getncattr('_FillValue')\n",
        "    prod_unit = var.getncattr('units')\n",
        "\n",
        "  except:\n",
        "    print('variable '+var_name+' cannot be read in file '+fn)\n",
        "    lat = 0.\n",
        "    lon = 0.\n",
        "    time = 0.\n",
        "    fv_geo = 0.\n",
        "    total_O3_column = 0.\n",
        "    fv_prod = 0.\n",
        "    prod_unit = ''\n",
        "    return lat, lon, fv_geo, time, total_O3_column, fv_prod, prod_unit\n",
        "\n",
        "  geo = ds.groups['geolocation'] # this opens group geolocation, /geolocation, as geo\n",
        "\n",
        "  lat = np.array(geo.variables['latitude']) # this reads variable latitude from geo (geolocation group, /geolocation) into a numpy array\n",
        "  lon = np.array(geo.variables['longitude']) # this reads variable longitude from geo (geolocation group, /geolocation) into a numpy array\n",
        "  fv_geo = geo.variables['latitude'].getncattr('_FillValue')\n",
        "  time = np.array(geo.variables['time'] )# this reads variable longitude from geo (geolocation group, /geolocation) into a numpy array\n",
        "\n",
        "  return lat, lon, fv_geo, time, total_O3_column, fv_prod, prod_unit\n"
      ],
      "metadata": {
        "id": "AV7xYKvtVGNc"
      },
      "execution_count": null,
      "outputs": []
    },
    {
      "cell_type": "markdown",
      "source": [
        "##5.5 Defining function creating TEMPO O3 granule polygon"
      ],
      "metadata": {
        "id": "cIx1pyeu6ykg"
      }
    },
    {
      "cell_type": "code",
      "source": [
        "def TEMPO_L2_polygon(lat, lon, fv_geo):\n",
        "  nx = lon.shape[0]\n",
        "  ny = lon.shape[1]\n",
        "  print(nx, ny)\n",
        "\n",
        "  dpos = np.empty([0,2])\n",
        "\n",
        "  x_ind = np.empty([nx, ny], dtype = int) # creating array in x indices\n",
        "  for ix in range(nx): x_ind[ix, :] = ix # populating array in x indices\n",
        "  y_ind = np.empty([nx, ny], dtype = int)\n",
        "  for iy in range(ny): y_ind[:, iy] = iy # populating array in x indices\n",
        "\n",
        "  mask = (lon[ix, iy] != fv_geo)&(lat[ix, iy] != fv_geo)\n",
        "  if len(lon[mask]) == 0:\n",
        "    print('the granule is empty - no meaningful positions')\n",
        "    return dpos\n",
        "\n",
        "# right boundary\n",
        "  r_m = min(x_ind[mask].flatten())\n",
        "  local_mask = (lon[r_m, :] != fv_geo)&(lat[r_m, :] != fv_geo)\n",
        "  r_b = np.stack((lon[r_m, local_mask], lat[r_m, local_mask])).T\n",
        "\n",
        "# left boundary\n",
        "  l_m = max(x_ind[mask].flatten())\n",
        "  local_mask = (lon[l_m, :] != fv_geo)&(lat[l_m, :] != fv_geo)\n",
        "  l_b = np.stack((lon[l_m, local_mask], lat[l_m, local_mask])).T\n",
        "#  sys.exit()\n",
        "\n",
        "#top and bottom boundaries\n",
        "  t_b = np.empty([0,2])\n",
        "  b_b = np.empty([0,2])\n",
        "  for ix in range(r_m + 1, l_m):\n",
        "    local_mask = (lon[ix, :] != fv_geo)&(lat[ix, :] != fv_geo)\n",
        "    local_y_ind = y_ind[ix, local_mask]\n",
        "    y_ind_top = min(local_y_ind)\n",
        "    y_ind_bottom = max(local_y_ind)\n",
        "    t_b = np.append(t_b, [[lon[ix, y_ind_top], lat[ix, y_ind_top]]], axis=0)\n",
        "    b_b = np.append(b_b, [[lon[ix, y_ind_bottom], lat[ix, y_ind_bottom]]], axis=0)\n",
        "\n",
        "# combining right, top, left, and bottom boundaries together, going along the combined boundary counterclockwise\n",
        "  dpos = np.append(dpos, r_b[ : :-1, :], axis=0) # this adds right boundary, counterclockwise\n",
        "  dpos = np.append(dpos, t_b, axis=0) # this adds top boundary, counterclockwise\n",
        "  dpos = np.append(dpos, l_b, axis=0) # this adds left boundary, counterclockwise\n",
        "  dpos = np.append(dpos, b_b[ : :-1, :], axis=0) # this adds bottom boundary, counterclockwise\n",
        "\n",
        "  return dpos"
      ],
      "metadata": {
        "id": "gCEdtHuuTTMP"
      },
      "execution_count": null,
      "outputs": []
    },
    {
      "cell_type": "markdown",
      "source": [
        "##5.6 Compiling TEMPO O3 total column time series"
      ],
      "metadata": {
        "id": "kPyYwF-E7Qiv"
      }
    },
    {
      "cell_type": "code",
      "source": [
        "days = [31, 28, 31, 30, 31, 30, 31, 31, 30, 31, 30, 31]\n",
        "\n",
        "POI_name_ = POI_name.replace(' ','_')\n",
        "\n",
        "fout = open(out_Q+'_'+datestamp_ini+'_'+datestamp_fin+'_'+POI_name_+'_'+str('%08.4fN_%08.4fW' %(POI[0], -POI[1])), 'w')\n",
        "fout.write('timeseries of '+out_Q+' at '+POI_name+' '+str('%08.4fN %08.4fW' %(POI[0], -POI[1]))+'\\n')\n",
        "fout.write('yyyy mm dd hh mn ss '+out_Q_unit+'\\n')\n",
        "\n",
        "for result in POI_results:\n",
        "  granule_link = result['umm']['RelatedUrls'][0]['URL']\n",
        "  last_slash_ind = granule_link.rfind('/')\n",
        "  fname = granule_link[last_slash_ind+1 : ]\n",
        "  print(fname)\n",
        "  lat, lon, fv_geo, time, total_O3_column, fv_prod, prod_unit\\\n",
        "  = read_TEMPO_O3TOT_L2(fname)\n",
        "\n",
        "  if isinstance(lat, float): continue\n",
        "\n",
        "# it appeared that garbage values of latitudes and longitudes in the L2 files are 9.969209968386869E36\n",
        "# while fill value is -1.2676506E30\n",
        "# (after deeper search it was found that actual values in the file is -1.2676506002282294E30).\n",
        "# For this reason, fv_geo is set to 9.96921E36 to make code working.\n",
        "# once the problem is resolved and garbage values of latitudes and longitudes equal to its fill value,\n",
        "# the line below must be removed.\n",
        "  fv_geo = 9.969209968386869E36\n",
        "\n",
        "  polygon = TEMPO_L2_polygon(lat, lon, fv_geo)\n",
        "  print(polygon.shape)\n",
        "\n",
        "  coords_poly = list(polygon)\n",
        "  poly = Polygon(coords_poly)\n",
        "\n",
        "  nx = lon.shape[0]\n",
        "  ny = lon.shape[1]\n",
        "\n",
        "# getting time from the granule filename\n",
        "  Tind = fname.rfind('T')\n",
        "  yyyy= int(fname[Tind-8 : Tind-4])\n",
        "  mm = int(fname[Tind-4 : Tind-2])\n",
        "  dd = int(fname[Tind-2 : Tind])\n",
        "  hh = int(fname[Tind+1 : Tind+3])\n",
        "  mn = int(fname[Tind+3 : Tind+5])\n",
        "  ss = float(fname[Tind+5 : Tind+7])\n",
        "\n",
        "# check whether POI is in the granule. If not - move to the next granule\n",
        "  pp = np.array([POI[1], POI[0]])\n",
        "  p = Point(pp) # POI[0] - latitudes, POI[1] - longitudes\n",
        "  if not p.within(poly): continue\n",
        "  print('point', p, 'is in granule polygon' )\n",
        "\n",
        "  POI_found = False\n",
        "  for ix in range(nx-1):\n",
        "    for iy in range(ny-1):\n",
        "      if lon[ix, iy] == fv_geo: continue\n",
        "      if lat[ix, iy] == fv_geo: continue\n",
        "      if lon[ix, iy+1] == fv_geo: continue\n",
        "      if lat[ix, iy+1] == fv_geo: continue\n",
        "      if lon[ix+1, iy+1] == fv_geo: continue\n",
        "      if lat[ix+1, iy+1] == fv_geo: continue\n",
        "      if lon[ix+1, iy] == fv_geo: continue\n",
        "      if lat[ix+1, iy] == fv_geo: continue\n",
        "\n",
        "      coords_poly_loc = [[lon[ix, iy], lat[ix, iy]], [lon[ix, iy+1], lat[ix, iy+1]] \\\n",
        "                   , [lon[ix+1, iy+1], lat[ix+1, iy+1]], [lon[ix+1, iy], lat[ix+1, iy]]]\n",
        "      poly_loc = Polygon(coords_poly_loc)\n",
        "\n",
        "      if p.within(poly_loc):\n",
        "\n",
        "        print(ix, iy, lat[ix, iy], lon[ix, iy]\\\n",
        "            , total_O3_column[ix, iy])\n",
        "        print(ix, iy+1, lat[ix, iy+1], lon[ix, iy+1]\\\n",
        "            , total_O3_column[ix, iy+1])\n",
        "        print(ix+1, iy+1, lat[ix+1, iy+1], lon[ix+1, iy+1]\\\n",
        "            , total_O3_column[ix+1, iy+1])\n",
        "        print(ix+1, iy, lat[ix+1, iy], lon[ix+1, iy]\\\n",
        "            , total_O3_column[ix+1, iy])\n",
        "\n",
        "        POI_found = True\n",
        "        print('POI', POI_name, 'at', POI[1], POI[0], ' found')\n",
        "\n",
        "        points = np.empty([0,2])\n",
        "        ff = np.empty(0)\n",
        "        points_unc = np.empty([0,2])\n",
        "        ff_unc = np.empty(0)\n",
        "\n",
        "        if total_O3_column[ix, iy] != fv_prod:\n",
        "          points = np.append(points, [[lon[ix, iy], lat[ix, iy]]], axis=0)\n",
        "          ff = np.append(ff, total_O3_column[ix, iy])\n",
        "\n",
        "        if total_O3_column[ix, iy+1] != fv_prod:\n",
        "          points = np.append(points, [[lon[ix, iy+1], lat[ix, iy+1]]], axis=0)\n",
        "          ff = np.append(ff, total_O3_column[ix, iy+1])\n",
        "\n",
        "        if total_O3_column[ix+1, iy+1] != fv_prod:\n",
        "          points = np.append(points, [[lon[ix+1, iy+1], lat[ix+1, iy+1]]], axis=0)\n",
        "          ff = np.append(ff, total_O3_column[ix+1, iy+1])\n",
        "\n",
        "        if total_O3_column[ix+1, iy] != fv_prod:\n",
        "          points = np.append(points, [[lon[ix+1, iy], lat[ix+1, iy]]], axis=0)\n",
        "          ff = np.append(ff, total_O3_column[ix+1, iy])\n",
        "\n",
        "        if ff.shape[0] == 0:\n",
        "          continue\n",
        "        elif ff.shape[0] < 4:\n",
        "          prod_loc = np.mean(ff)\n",
        "        elif ff.shape[0] == 4:\n",
        "          [prod_loc] = griddata(points, ff, pp, method='linear', fill_value=-1., rescale=False)\n",
        "\n",
        "        if prod_loc < 0.: continue\n",
        "\n",
        "# handling time first:\n",
        "        delta_t = (time[ix+1] + time[ix])*0.5 - time[0]\n",
        "        ss = ss + delta_t\n",
        "        if ss >= 60.:\n",
        "          delta_mn = int(ss/60.)\n",
        "          ss = ss - 60.*delta_mn\n",
        "          mn = mn + delta_mn\n",
        "          if mn >= 60:\n",
        "            mn = mn - 60\n",
        "            hh = hh + 1\n",
        "            if hh == 24:\n",
        "              hh = hh - 24\n",
        "              dd = dd + 1\n",
        "              day_month = days[mm]\n",
        "              if (yyyy//4)*4 == yyyy and mm == 2: day_month = day_month + 1\n",
        "              if dd > day_month:\n",
        "                dd = 1\n",
        "                mm = mm + 1\n",
        "                if mm > 12:\n",
        "                  mm = 1\n",
        "                  yyyy = yyyy + 1\n",
        "\n",
        "        fout.write(str('%4.4i %2.2i %2.2i %2.2i %2.2i %2.2i %10.3e '\\\n",
        "%(yyyy, mm, dd, hh, mn, ss, prod_loc)))\n",
        "        fout.write(str('%9.4fN %9.4fW %10.3e '\\\n",
        "%(lat[ix, iy], -lon[ix, iy], total_O3_column[ix, iy])))\n",
        "        fout.write(str('%9.4fN %9.4fW %10.3e '\\\n",
        "%(lat[ix, iy+1], -lon[ix, iy+1], total_O3_column[ix, iy+1])))\n",
        "        fout.write(str('%9.4fN %9.4fW %10.3e '\\\n",
        "%(lat[ix+1, iy+1], -lon[ix+1, iy+1], total_O3_column[ix+1, iy+1])))\n",
        "        fout.write(str('%9.4fN %9.4fW %10.3e\\n'\\\n",
        "%(lat[ix+1, iy], -lon[ix+1, iy], total_O3_column[ix+1, iy])))\n",
        "\n",
        "        break\n",
        "\n",
        "    if POI_found: break\n",
        "\n",
        "fout.close()"
      ],
      "metadata": {
        "colab": {
          "base_uri": "https://localhost:8080/"
        },
        "id": "njLS6oxmQCkn",
        "outputId": "64b014ad-62bb-424f-d2e2-563909274574"
      },
      "execution_count": null,
      "outputs": [
        {
          "output_type": "stream",
          "name": "stdout",
          "text": [
            "TEMPO_O3TOT_L2_V01_20231103T150156Z_S005G07.nc\n",
            "131 2048\n",
            "(4354, 2)\n",
            "point POINT (-105.26 39.99) is in granule polygon\n",
            "20 694 40.002373 -105.23424 265.50677\n",
            "20 695 39.981533 -105.22905 264.29205\n",
            "21 695 39.979023 -105.286476 268.13052\n",
            "21 694 40.001945 -105.29276 266.12485\n",
            "POI BoulderCO at -105.26 39.99  found\n",
            "TEMPO_O3TOT_L2_V01_20231103T160156Z_S006G07.nc\n",
            "131 2048\n",
            "(4354, 2)\n",
            "point POINT (-105.26 39.99) is in granule polygon\n",
            "21 695 40.00962 -105.256546 272.9443\n",
            "21 696 39.98879 -105.25135 270.89578\n",
            "22 696 39.985245 -105.30844 273.00555\n",
            "22 695 40.00915 -105.31525 269.48877\n",
            "POI BoulderCO at -105.26 39.99  found\n",
            "TEMPO_O3TOT_L2_V01_20231103T170156Z_S007G07.nc\n",
            "131 2048\n",
            "(4354, 2)\n",
            "point POINT (-105.26 39.99) is in granule polygon\n",
            "20 694 39.99604 -105.21864 275.2817\n",
            "20 695 39.975155 -105.21344 274.49786\n",
            "21 695 39.974785 -105.272224 275.07233\n",
            "21 694 39.996113 -105.27769 275.15555\n",
            "POI BoulderCO at -105.26 39.99  found\n",
            "TEMPO_O3TOT_L2_V01_20231103T180156Z_S008G07.nc\n",
            "131 2048\n",
            "(4354, 2)\n",
            "point POINT (-105.26 39.99) is in granule polygon\n",
            "21 694 39.99882 -105.24307 277.9549\n",
            "21 695 39.97797 -105.23787 278.22723\n",
            "22 695 39.973923 -105.294464 277.4286\n",
            "22 694 39.997402 -105.30105 278.03995\n",
            "POI BoulderCO at -105.26 39.99  found\n",
            "TEMPO_O3TOT_L2_V01_20231103T190156Z_S009G07.nc\n",
            "131 2048\n",
            "(4354, 2)\n",
            "point POINT (-105.26 39.99) is in granule polygon\n",
            "20 694 39.991512 -105.202286 278.375\n",
            "20 695 39.97048 -105.19701 277.3095\n",
            "21 695 39.97231 -105.25673 276.19525\n",
            "21 694 39.993423 -105.262085 276.58514\n",
            "POI BoulderCO at -105.26 39.99  found\n",
            "TEMPO_O3TOT_L2_V01_20231103T200156Z_S010G07.nc\n",
            "131 2048\n",
            "(4354, 2)\n",
            "point POINT (-105.26 39.99) is in granule polygon\n",
            "21 694 40.000816 -105.2569 279.89938\n",
            "21 695 39.9799 -105.25165 279.7438\n",
            "22 695 39.97637 -105.308266 279.76053\n",
            "22 694 40.000423 -105.31516 281.23743\n",
            "POI BoulderCO at -105.26 39.99  found\n",
            "TEMPO_O3TOT_L2_V01_20231103T210156Z_S011G07.nc\n",
            "131 2048\n",
            "(4354, 2)\n",
            "point POINT (-105.26 39.99) is in granule polygon\n",
            "21 694 40.006733 -105.257935 279.017\n",
            "21 695 39.9859 -105.252716 279.99512\n",
            "22 695 39.981586 -105.30935 278.6585\n",
            "22 694 40.006115 -105.31648 277.91623\n",
            "POI BoulderCO at -105.26 39.99  found\n",
            "TEMPO_O3TOT_L2_V01_20231103T214201Z_S012G04.nc\n",
            "131 2048\n",
            "(4354, 2)\n",
            "point POINT (-105.26 39.99) is in granule polygon\n",
            "22 695 40.001038 -105.24604 276.74942\n",
            "22 696 39.980156 -105.24081 276.48972\n",
            "23 696 39.974648 -105.29649 273.6656\n",
            "23 695 39.998272 -105.30317 274.21997\n",
            "POI BoulderCO at -105.26 39.99  found\n",
            "TEMPO_O3TOT_L2_V01_20231103T222206Z_S013G04.nc\n",
            "131 2048\n",
            "(4354, 2)\n",
            "point POINT (-105.26 39.99) is in granule polygon\n",
            "22 696 39.996 -105.211174 273.46387\n",
            "22 697 39.975048 -105.205925 272.75867\n",
            "23 697 39.975758 -105.264984 273.5583\n",
            "23 696 39.996826 -105.27032 275.33987\n",
            "POI BoulderCO at -105.26 39.99  found\n",
            "TEMPO_O3TOT_L2_V01_20231103T230211Z_S014G04.nc\n",
            "131 2048\n",
            "(4354, 2)\n",
            "point POINT (-105.26 39.99) is in granule polygon\n",
            "22 695 40.007656 -105.261154 310.3712\n",
            "22 696 39.986847 -105.25595 317.39838\n",
            "23 696 39.982967 -105.31233 324.2187\n",
            "23 695 40.008106 -105.31981 324.80087\n",
            "POI BoulderCO at -105.26 39.99  found\n",
            "TEMPO_O3TOT_L2_V01_20231103T234216Z_S015G04.nc\n",
            "131 2048\n",
            "(4354, 2)\n",
            "point POINT (-105.26 39.99) is in granule polygon\n",
            "22 695 40.006256 -105.25637 -1.2676506e+30\n",
            "22 696 39.9854 -105.25115 -1.2676506e+30\n",
            "23 696 39.981262 -105.30837 -1.2676506e+30\n",
            "23 695 40.00558 -105.31541 -1.2676506e+30\n",
            "POI BoulderCO at -105.26 39.99  found\n"
          ]
        }
      ]
    },
    {
      "cell_type": "markdown",
      "source": [
        "#6 Plotting the results"
      ],
      "metadata": {
        "id": "RMhPI74LW91T"
      }
    },
    {
      "cell_type": "markdown",
      "source": [
        "##6.1 Reading created data files for TEMPO and DSCOVR, create timeseries"
      ],
      "metadata": {
        "id": "LBG0YtxbXSpm"
      }
    },
    {
      "cell_type": "code",
      "source": [
        "# reading TEMPO file that was created at the previous step\n",
        "# only read POI information from the header and first 8 columns of data:\n",
        "#   yyyy, mm, dd, hh, mn, ss, NO2 column, and its incertainty\n",
        "fout = open(out_Q+'_'+datestamp_ini+'_'+datestamp_fin+'_'+POI_name_+'_'+str('%08.4fN_%08.4fW' %(POI[0], -POI[1])), 'r')\n",
        "\n",
        "header1 = fout.readline()\n",
        "header2 = fout.readline()\n",
        "data_lines = fout.readlines()\n",
        "\n",
        "fout.close()\n",
        "\n",
        "time_series_TEMPO = np.empty([0, 2])\n",
        "\n",
        "if len(data_lines) > 0:\n",
        "  split = data_lines[0].split()\n",
        "  yyyy = int(split[0])\n",
        "  mm = int(split[1])\n",
        "  dd = int(split[2])\n",
        "  hh = 0\n",
        "  mn = 0\n",
        "  ss = 0\n",
        "  dt0 = datetime(yyyy, mm, dd, hh, mn, ss)\n",
        "\n",
        "  for line in data_lines:\n",
        "    split = line.split()\n",
        "    yyyy = int(split[0])\n",
        "    mm = int(split[1])\n",
        "    dd = int(split[2])\n",
        "    hh = int(split[3])\n",
        "    mn = int(split[4])\n",
        "    ss = int(split[5])\n",
        "# dt below is time since the beginning of the eriod of interest in hours\n",
        "    dt = (datetime(yyyy, mm, dd, hh, mn, ss) - dt0).total_seconds()/86400.\n",
        "    time_series_TEMPO = np.append(time_series_TEMPO,\\\n",
        " [[dt, float(split[6])]], axis = 0)\n",
        "\n",
        "# reading DSCOVR file that was created at the previous step\n",
        "# only read POI information from the header and first 8 columns of data:\n",
        "#   yyyy, mm, dd, hh, mn, ss, and O3 column\n",
        "fout = open(out_Q_EPIC+'_'+datestamp_ini+'_'+datestamp_fin+'_'+POI_name_+'_'+str('%08.4fN_%08.4fW' %(POI[0], -POI[1])), 'r')\n",
        "\n",
        "header1 = fout.readline()\n",
        "header2 = fout.readline()\n",
        "data_lines = fout.readlines()\n",
        "\n",
        "fout.close()\n",
        "\n",
        "time_series_DSCOVR = np.empty([0, 2])\n",
        "\n",
        "if len(data_lines) > 0:\n",
        "  split = data_lines[0].split()\n",
        "  yyyy = int(split[0])\n",
        "  mm = int(split[1])\n",
        "  dd = int(split[2])\n",
        "  hh = 0\n",
        "  mn = 0\n",
        "  ss = 0\n",
        "  dt0 = datetime(yyyy, mm, dd, hh, mn, ss)\n",
        "\n",
        "  for line in data_lines:\n",
        "    split = line.split()\n",
        "    yyyy = int(split[0])\n",
        "    mm = int(split[1])\n",
        "    dd = int(split[2])\n",
        "    hh = int(split[3])\n",
        "    mn = int(split[4])\n",
        "    ss = int(split[5])\n",
        "# dt below is time since the beginning of the eriod of interest in hours\n",
        "    dt = (datetime(yyyy, mm, dd, hh, mn, ss) - dt0).total_seconds()/86400.\n",
        "    time_series_DSCOVR = np.append(time_series_DSCOVR,\\\n",
        " [[dt, float(split[6])]], axis = 0)\n",
        "\n",
        "time_series_Pandora = np.empty([0, 3])\n",
        "\n",
        "for line in Pandora_data:\n",
        "  yyyy = int(line[0])\n",
        "  mm = int(line[1])\n",
        "  dd = int(line[2])\n",
        "  hh = int(line[3])\n",
        "  mn = int(line[4])\n",
        "  ss = int(line[5])\n",
        "#  dt = datetime(yyyy, mm, dd, hh, mn, ss)\n",
        "# dt below is time since the beginning of the eriod of interest in hours\n",
        "  dt = (datetime(yyyy, mm, dd, hh, mn, ss) - dt0).total_seconds()/86400.\n",
        "#  time_series_Pandora = np.append(time_series_Pandora,\\\n",
        "#[[(dt - dt0).total_seconds()/86400., line[6]]], axis = 0)\n",
        "  time_series_Pandora = np.append(time_series_Pandora,\\\n",
        "[[dt, line[6], line[7]]], axis = 0)\n"
      ],
      "metadata": {
        "id": "6tWE__dTPyGu"
      },
      "execution_count": null,
      "outputs": []
    },
    {
      "cell_type": "markdown",
      "source": [
        "##6.2 Plotting timeseries"
      ],
      "metadata": {
        "id": "4qidCOMV4oQb"
      }
    },
    {
      "cell_type": "markdown",
      "source": [
        "###6.2.1 No error bars"
      ],
      "metadata": {
        "id": "T5-3oQUj44B5"
      }
    },
    {
      "cell_type": "code",
      "source": [
        "plot_title = out_Q+'_'+datestamp_ini+'_'+datestamp_fin+'\\n'+POI_name\n",
        "img_name = out_Q+'_'+datestamp_ini+'_'+datestamp_fin+'_'+POI_name+'.jpg'\n",
        "\n",
        "plt.plot(time_series_Pandora[:, 0], time_series_Pandora[:, 1],\\\n",
        "         label = \"Pandora\", c = 'r')\n",
        "plt.plot(time_series_DSCOVR[:, 0], time_series_DSCOVR[:, 1],\n",
        "         label = \"DSCOVR\", c = 'g')\n",
        "plt.plot(time_series_TEMPO[:, 0], time_series_TEMPO[:, 1],\n",
        "         label = \"TEMPO\", c = 'b')\n",
        "\n",
        "# Set the range of x-axis\n",
        "l_lim = int(min(time_series_TEMPO[:, 0]))\n",
        "u_lim = int(max(time_series_TEMPO[:, 0])) + 1\n",
        "plt.xlim(l_lim, u_lim)\n",
        "\n",
        "# some research is required to set the vertical range\n",
        "plt.xlabel(r'GMT, day from beginning of '+datestamp_ini, fontsize=12)\n",
        "plt.ylabel(out_Q_unit.replace('_',' '), fontsize=12)\n",
        "\n",
        "plt.legend(loc='lower left')\n",
        "\n",
        "plt.title(plot_title+str(', %08.4fN %08.4fW' %(POI[0], -POI[1])))\n",
        "plt.savefig(img_name, format='jpg', dpi=300)"
      ],
      "metadata": {
        "colab": {
          "base_uri": "https://localhost:8080/"
        },
        "id": "4Y6fM_SHd5wZ",
        "outputId": "596d3475-8e0b-4a42-b987-0e332776095a"
      },
      "execution_count": null,
      "outputs": [
        {
          "output_type": "display_data",
          "data": {
            "text/plain": [
              "<Figure size 640x480 with 1 Axes>"
            ],
            "image/png": "[encoded data removed]"
          },
          "metadata": {}
        }
      ]
    },
    {
      "cell_type": "markdown",
      "source": [
        "###6.2.2 Smooth Pandora retievals and interplate them into other time series times\n",
        "\n",
        "Pandora timeseries has significantly more data points then TEMPO and DSCOVR. It is also very noisy. To make comparison easier, Pandora timeseries is interpolated to the moments of TEMPO and DSCOVR observations.\n",
        "\n",
        "Interpolation is performed by the function defined below with the help of Gaussian smooting as follow:\n",
        "\n",
        "x_int(t) = SUM(x_p(t_i)*wt(t_i, t)),\n",
        "\n",
        "wt(t_i, t) = exp(-(t - t_i)^2/(2 * sigma^2))/SUM(exp(-(t - t_i)^2/(2 * sigma^2))),\n",
        "\n",
        "where sums are taken over times t_i falling into time interval (t-dt_max, t+dt_max).\n",
        "\n",
        "Parameters dt_max and sigma can be chosen by the user. In the example below they are\n",
        "\n",
        "dt_max = 0.00041666667  - 10 minutes expressed in days\n",
        "\n",
        "sigma = 0.00041666667  - 1 minute expressed in days"
      ],
      "metadata": {
        "id": "B7s-OkU_Xz62"
      }
    },
    {
      "cell_type": "code",
      "source": [
        "def gauss_interpolation(timeseries, new_times):\n",
        "#\n",
        "# function gauss_interpolation takes 2D array timeseries with function\n",
        "# to be interpolated and 1D array new_times containing times to which\n",
        "# the function is to be interpolated\n",
        "# arguments:\n",
        "#     timeseries - array with at least 2 columns,\n",
        "#                  1st column - times, 2nd (3rd, ...) column(s) - function to be interpolated\n",
        "#     new_times  - 1D array of times to which the function(s) to be interpolated\n",
        "#\n",
        "# parameters\n",
        "# dt_max = 0.0041666667 - 10 minutes expressed in days\n",
        "# sigma = 0.00041666667 - 1 minute expressed in days\n",
        "\n",
        "  dt_max = 0.0041666667 # 10 minutes expressed in days\n",
        "  sigma = 0.00041666667 # 1 minute expressed in days\n",
        "\n",
        "  nnt = len(new_times)\n",
        "  (nt, nfun) = timeseries.shape\n",
        "\n",
        "  timeseries_smooth = np.empty([0, nfun])\n",
        "\n",
        "  for new_time in new_times:\n",
        "    llim = new_time - dt_max\n",
        "    ulim = new_time + dt_max\n",
        "\n",
        "    timeseries_subset = timeseries[((timeseries[:, 0] < ulim)\\\n",
        "                                    & (timeseries[:, 0] > llim))]\n",
        "    if len(timeseries_subset) < 1: continue\n",
        "    t_delta = timeseries_subset[:, 0] - new_time\n",
        "    wt = np.exp(-t_delta**2/(2.*sigma**2))\n",
        "    wt = wt/np.sum(wt)\n",
        "\n",
        "    timeseries_smooth_loc = np.array([new_time])\n",
        "    for ifun in range(1, nfun):\n",
        "      timeseries_smooth_loc = np.append(timeseries_smooth_loc,\\\n",
        "                                        np.sum(timeseries_subset[:, ifun]*wt))\n",
        "\n",
        "    timeseries_smooth = np.append(timeseries_smooth,\\\n",
        "                                  np.array([timeseries_smooth_loc]), axis = 0)\n",
        "\n",
        "  return timeseries_smooth"
      ],
      "metadata": {
        "id": "Myd3jh7jFAmL"
      },
      "execution_count": null,
      "outputs": []
    },
    {
      "cell_type": "markdown",
      "source": [
        "###6.1.3 Plotting smoothed Pandora retievals with error bars\n"
      ],
      "metadata": {
        "id": "OxT6_zBj7VH9"
      }
    },
    {
      "cell_type": "code",
      "source": [
        "print(time_series_Pandora.shape)\n",
        "print(time_series_TEMPO.shape)\n",
        "print(time_series_DSCOVR.shape)"
      ],
      "metadata": {
        "colab": {
          "base_uri": "https://localhost:8080/"
        },
        "id": "VaJzWEU440TH",
        "outputId": "c8896249-3b1b-436e-f266-8eba3496cc2b"
      },
      "execution_count": null,
      "outputs": [
        {
          "output_type": "stream",
          "name": "stdout",
          "text": [
            "(100, 3)\n",
            "(10, 2)\n",
            "(0, 2)\n"
          ]
        }
      ]
    },
    {
      "cell_type": "code",
      "source": [
        "timeseries_Pandora_TEMPO = gauss_interpolation(time_series_Pandora[:, 0:3],\\\n",
        "                                                time_series_TEMPO[:, 0])\n",
        "\n",
        "timeseries_Pandora_DSCOVR = gauss_interpolation(time_series_Pandora[:, 0:3],\\\n",
        "                                                time_series_DSCOVR[:, 0])"
      ],
      "metadata": {
        "id": "rlfrJAIfCx88"
      },
      "execution_count": null,
      "outputs": []
    },
    {
      "cell_type": "code",
      "source": [
        "plot_title = out_Q+'_unc_'+datestamp_ini+'_'+datestamp_fin+'\\n'+POI_name\n",
        "img_name = out_Q+'_unc_'+'_'+datestamp_ini+'_'+datestamp_fin+'_'+POI_name+'.jpg'\n",
        "\n",
        "fig = plt.figure()\n",
        "\n",
        "plt.errorbar(time_series_TEMPO[:, 0], time_series_TEMPO[:, 1],\\\n",
        "yerr=None, label = \"TEMPO\", c = 'b', ls = '', marker = \".\")\n",
        "\n",
        "plt.errorbar(timeseries_Pandora_TEMPO[:, 0],\\\n",
        "             timeseries_Pandora_TEMPO[:, 1],\\\n",
        "             yerr=timeseries_Pandora_TEMPO[:, 2],\\\n",
        "             label = \"Pandora smoothed at TEMPO times\",\\\n",
        "             c = 'r', ls = '', marker = \".\")\n",
        "\n",
        "plt.errorbar(time_series_DSCOVR[:, 0], time_series_DSCOVR[:, 1],\\\n",
        "yerr=None, label = \"DSCOVR\", c = 'c', ls = '', marker = \".\")\n",
        "\n",
        "plt.errorbar(timeseries_Pandora_DSCOVR[:, 0],\\\n",
        "             timeseries_Pandora_DSCOVR[:, 1],\\\n",
        "             yerr=timeseries_Pandora_DSCOVR[:, 2],\\\n",
        "             label = \"Pandora smoothed at DSCOVR times\",\\\n",
        "             c = 'm', ls = '', marker = \".\")\n",
        "\n",
        "# Set the range of x-axis\n",
        "l_lim = int(min(time_series_TEMPO[:, 0]))\n",
        "u_lim = int(max(time_series_TEMPO[:, 0])) + 1\n",
        "plt.xlim(l_lim, u_lim)\n",
        "\n",
        "# Set the range of y-axis\n",
        "l_lim = 200\n",
        "u_lim = 350\n",
        "plt.ylim(l_lim, u_lim)\n",
        "\n",
        "# some research is required to set the vertical range\n",
        "plt.xlabel(r'GMT, day from beginning of '+datestamp_ini, fontsize=12)\n",
        "plt.ylabel(out_Q_unit.replace('_',' '), fontsize=12)\n",
        "\n",
        "#plt.legend(loc='lower left')\n",
        "#plt.legend(loc='upper left')\n",
        "plt.legend(loc='lower left')\n",
        "\n",
        "plt.title(plot_title+str(', %08.4fN %08.4fW' %(POI[0], -POI[1])))\n",
        "plt.savefig(img_name, format='jpg', dpi=300)\n"
      ],
      "metadata": {
        "id": "DHKXyXJkRC2G",
        "colab": {
          "base_uri": "https://localhost:8080/"
        },
        "outputId": "539d6625-cd66-4cd2-daa7-e58440b02828"
      },
      "execution_count": null,
      "outputs": [
        {
          "output_type": "display_data",
          "data": {
            "text/plain": [
              "<Figure size 640x480 with 1 Axes>"
            ],
            "image/png": "[encoded data removed]"
          },
          "metadata": {}
        }
      ]
    }
  ]
}