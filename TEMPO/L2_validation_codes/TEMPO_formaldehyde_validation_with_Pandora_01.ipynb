{
  "nbformat": 4,
  "nbformat_minor": 0,
  "metadata": {
    "colab": {
      "provenance": []
    },
    "kernelspec": {
      "name": "python3",
      "display_name": "Python 3"
    },
    "language_info": {
      "name": "python"
    },
    "widgets": {
      "application/vnd.jupyter.widget-state+json": {
        "d360ce0f49434219a039f7fc2a23e6ac": {
          "model_module": "@jupyter-widgets/controls",
          "model_name": "HBoxModel",
          "model_module_version": "1.5.0",
          "state": {
            "_dom_classes": [],
            "_model_module": "@jupyter-widgets/controls",
            "_model_module_version": "1.5.0",
            "_model_name": "HBoxModel",
            "_view_count": null,
            "_view_module": "@jupyter-widgets/controls",
            "_view_module_version": "1.5.0",
            "_view_name": "HBoxView",
            "box_style": "",
            "children": [
              "IPY_MODEL_d4357487b6a2463cb561e0c00c225afa",
              "IPY_MODEL_6b1b852c9d634b668aee73b40de644a5",
              "IPY_MODEL_4493b2dc30b54e398af76ba9a25021b8"
            ],
            "layout": "IPY_MODEL_eac175a82c45417c81cdd2fba3428df1"
          }
        },
        "d4357487b6a2463cb561e0c00c225afa": {
          "model_module": "@jupyter-widgets/controls",
          "model_name": "HTMLModel",
          "model_module_version": "1.5.0",
          "state": {
            "_dom_classes": [],
            "_model_module": "@jupyter-widgets/controls",
            "_model_module_version": "1.5.0",
            "_model_name": "HTMLModel",
            "_view_count": null,
            "_view_module": "@jupyter-widgets/controls",
            "_view_module_version": "1.5.0",
            "_view_name": "HTMLView",
            "description": "",
            "description_tooltip": null,
            "layout": "IPY_MODEL_ae60e787f11449acae21752be0309aeb",
            "placeholder": "​",
            "style": "IPY_MODEL_ef91ed369ae3484d81b5e91e4342390e",
            "value": "QUEUEING TASKS | : 100%"
          }
        },
        "6b1b852c9d634b668aee73b40de644a5": {
          "model_module": "@jupyter-widgets/controls",
          "model_name": "FloatProgressModel",
          "model_module_version": "1.5.0",
          "state": {
            "_dom_classes": [],
            "_model_module": "@jupyter-widgets/controls",
            "_model_module_version": "1.5.0",
            "_model_name": "FloatProgressModel",
            "_view_count": null,
            "_view_module": "@jupyter-widgets/controls",
            "_view_module_version": "1.5.0",
            "_view_name": "ProgressView",
            "bar_style": "success",
            "description": "",
            "description_tooltip": null,
            "layout": "IPY_MODEL_8e05f97fd3fe4653880b801c86ffd6d1",
            "max": 22,
            "min": 0,
            "orientation": "horizontal",
            "style": "IPY_MODEL_559b55bd2d354798b101a942366d0a74",
            "value": 22
          }
        },
        "4493b2dc30b54e398af76ba9a25021b8": {
          "model_module": "@jupyter-widgets/controls",
          "model_name": "HTMLModel",
          "model_module_version": "1.5.0",
          "state": {
            "_dom_classes": [],
            "_model_module": "@jupyter-widgets/controls",
            "_model_module_version": "1.5.0",
            "_model_name": "HTMLModel",
            "_view_count": null,
            "_view_module": "@jupyter-widgets/controls",
            "_view_module_version": "1.5.0",
            "_view_name": "HTMLView",
            "description": "",
            "description_tooltip": null,
            "layout": "IPY_MODEL_2822d107ab5943bab7c89da70e2437e2",
            "placeholder": "​",
            "style": "IPY_MODEL_a848066fa71f4657981754a430dc5756",
            "value": " 22/22 [00:00&lt;00:00, 387.91it/s]"
          }
        },
        "eac175a82c45417c81cdd2fba3428df1": {
          "model_module": "@jupyter-widgets/base",
          "model_name": "LayoutModel",
          "model_module_version": "1.2.0",
          "state": {
            "_model_module": "@jupyter-widgets/base",
            "_model_module_version": "1.2.0",
            "_model_name": "LayoutModel",
            "_view_count": null,
            "_view_module": "@jupyter-widgets/base",
            "_view_module_version": "1.2.0",
            "_view_name": "LayoutView",
            "align_content": null,
            "align_items": null,
            "align_self": null,
            "border": null,
            "bottom": null,
            "display": null,
            "flex": null,
            "flex_flow": null,
            "grid_area": null,
            "grid_auto_columns": null,
            "grid_auto_flow": null,
            "grid_auto_rows": null,
            "grid_column": null,
            "grid_gap": null,
            "grid_row": null,
            "grid_template_areas": null,
            "grid_template_columns": null,
            "grid_template_rows": null,
            "height": null,
            "justify_content": null,
            "justify_items": null,
            "left": null,
            "margin": null,
            "max_height": null,
            "max_width": null,
            "min_height": null,
            "min_width": null,
            "object_fit": null,
            "object_position": null,
            "order": null,
            "overflow": null,
            "overflow_x": null,
            "overflow_y": null,
            "padding": null,
            "right": null,
            "top": null,
            "visibility": null,
            "width": null
          }
        },
        "ae60e787f11449acae21752be0309aeb": {
          "model_module": "@jupyter-widgets/base",
          "model_name": "LayoutModel",
          "model_module_version": "1.2.0",
          "state": {
            "_model_module": "@jupyter-widgets/base",
            "_model_module_version": "1.2.0",
            "_model_name": "LayoutModel",
            "_view_count": null,
            "_view_module": "@jupyter-widgets/base",
            "_view_module_version": "1.2.0",
            "_view_name": "LayoutView",
            "align_content": null,
            "align_items": null,
            "align_self": null,
            "border": null,
            "bottom": null,
            "display": null,
            "flex": null,
            "flex_flow": null,
            "grid_area": null,
            "grid_auto_columns": null,
            "grid_auto_flow": null,
            "grid_auto_rows": null,
            "grid_column": null,
            "grid_gap": null,
            "grid_row": null,
            "grid_template_areas": null,
            "grid_template_columns": null,
            "grid_template_rows": null,
            "height": null,
            "justify_content": null,
            "justify_items": null,
            "left": null,
            "margin": null,
            "max_height": null,
            "max_width": null,
            "min_height": null,
            "min_width": null,
            "object_fit": null,
            "object_position": null,
            "order": null,
            "overflow": null,
            "overflow_x": null,
            "overflow_y": null,
            "padding": null,
            "right": null,
            "top": null,
            "visibility": null,
            "width": null
          }
        },
        "ef91ed369ae3484d81b5e91e4342390e": {
          "model_module": "@jupyter-widgets/controls",
          "model_name": "DescriptionStyleModel",
          "model_module_version": "1.5.0",
          "state": {
            "_model_module": "@jupyter-widgets/controls",
            "_model_module_version": "1.5.0",
            "_model_name": "DescriptionStyleModel",
            "_view_count": null,
            "_view_module": "@jupyter-widgets/base",
            "_view_module_version": "1.2.0",
            "_view_name": "StyleView",
            "description_width": ""
          }
        },
        "8e05f97fd3fe4653880b801c86ffd6d1": {
          "model_module": "@jupyter-widgets/base",
          "model_name": "LayoutModel",
          "model_module_version": "1.2.0",
          "state": {
            "_model_module": "@jupyter-widgets/base",
            "_model_module_version": "1.2.0",
            "_model_name": "LayoutModel",
            "_view_count": null,
            "_view_module": "@jupyter-widgets/base",
            "_view_module_version": "1.2.0",
            "_view_name": "LayoutView",
            "align_content": null,
            "align_items": null,
            "align_self": null,
            "border": null,
            "bottom": null,
            "display": null,
            "flex": null,
            "flex_flow": null,
            "grid_area": null,
            "grid_auto_columns": null,
            "grid_auto_flow": null,
            "grid_auto_rows": null,
            "grid_column": null,
            "grid_gap": null,
            "grid_row": null,
            "grid_template_areas": null,
            "grid_template_columns": null,
            "grid_template_rows": null,
            "height": null,
            "justify_content": null,
            "justify_items": null,
            "left": null,
            "margin": null,
            "max_height": null,
            "max_width": null,
            "min_height": null,
            "min_width": null,
            "object_fit": null,
            "object_position": null,
            "order": null,
            "overflow": null,
            "overflow_x": null,
            "overflow_y": null,
            "padding": null,
            "right": null,
            "top": null,
            "visibility": null,
            "width": null
          }
        },
        "559b55bd2d354798b101a942366d0a74": {
          "model_module": "@jupyter-widgets/controls",
          "model_name": "ProgressStyleModel",
          "model_module_version": "1.5.0",
          "state": {
            "_model_module": "@jupyter-widgets/controls",
            "_model_module_version": "1.5.0",
            "_model_name": "ProgressStyleModel",
            "_view_count": null,
            "_view_module": "@jupyter-widgets/base",
            "_view_module_version": "1.2.0",
            "_view_name": "StyleView",
            "bar_color": null,
            "description_width": ""
          }
        },
        "2822d107ab5943bab7c89da70e2437e2": {
          "model_module": "@jupyter-widgets/base",
          "model_name": "LayoutModel",
          "model_module_version": "1.2.0",
          "state": {
            "_model_module": "@jupyter-widgets/base",
            "_model_module_version": "1.2.0",
            "_model_name": "LayoutModel",
            "_view_count": null,
            "_view_module": "@jupyter-widgets/base",
            "_view_module_version": "1.2.0",
            "_view_name": "LayoutView",
            "align_content": null,
            "align_items": null,
            "align_self": null,
            "border": null,
            "bottom": null,
            "display": null,
            "flex": null,
            "flex_flow": null,
            "grid_area": null,
            "grid_auto_columns": null,
            "grid_auto_flow": null,
            "grid_auto_rows": null,
            "grid_column": null,
            "grid_gap": null,
            "grid_row": null,
            "grid_template_areas": null,
            "grid_template_columns": null,
            "grid_template_rows": null,
            "height": null,
            "justify_content": null,
            "justify_items": null,
            "left": null,
            "margin": null,
            "max_height": null,
            "max_width": null,
            "min_height": null,
            "min_width": null,
            "object_fit": null,
            "object_position": null,
            "order": null,
            "overflow": null,
            "overflow_x": null,
            "overflow_y": null,
            "padding": null,
            "right": null,
            "top": null,
            "visibility": null,
            "width": null
          }
        },
        "a848066fa71f4657981754a430dc5756": {
          "model_module": "@jupyter-widgets/controls",
          "model_name": "DescriptionStyleModel",
          "model_module_version": "1.5.0",
          "state": {
            "_model_module": "@jupyter-widgets/controls",
            "_model_module_version": "1.5.0",
            "_model_name": "DescriptionStyleModel",
            "_view_count": null,
            "_view_module": "@jupyter-widgets/base",
            "_view_module_version": "1.2.0",
            "_view_name": "StyleView",
            "description_width": ""
          }
        },
        "72a9ab2642154eea8eb1b88b42930f01": {
          "model_module": "@jupyter-widgets/controls",
          "model_name": "HBoxModel",
          "model_module_version": "1.5.0",
          "state": {
            "_dom_classes": [],
            "_model_module": "@jupyter-widgets/controls",
            "_model_module_version": "1.5.0",
            "_model_name": "HBoxModel",
            "_view_count": null,
            "_view_module": "@jupyter-widgets/controls",
            "_view_module_version": "1.5.0",
            "_view_name": "HBoxView",
            "box_style": "",
            "children": [
              "IPY_MODEL_939d0c90197a4b3fae36d2f40e66d52b",
              "IPY_MODEL_7072a48bfee4409b88a02ff216f84525",
              "IPY_MODEL_b6e6690c453e4cf29b215901b6fefc82"
            ],
            "layout": "IPY_MODEL_2b188f80cbbb44c68f7bc80fed613813"
          }
        },
        "939d0c90197a4b3fae36d2f40e66d52b": {
          "model_module": "@jupyter-widgets/controls",
          "model_name": "HTMLModel",
          "model_module_version": "1.5.0",
          "state": {
            "_dom_classes": [],
            "_model_module": "@jupyter-widgets/controls",
            "_model_module_version": "1.5.0",
            "_model_name": "HTMLModel",
            "_view_count": null,
            "_view_module": "@jupyter-widgets/controls",
            "_view_module_version": "1.5.0",
            "_view_name": "HTMLView",
            "description": "",
            "description_tooltip": null,
            "layout": "IPY_MODEL_4538cced45cd43aaad96392f5b17b69e",
            "placeholder": "​",
            "style": "IPY_MODEL_4a498d9f6f4b4785831648618c057387",
            "value": "PROCESSING TASKS | : 100%"
          }
        },
        "7072a48bfee4409b88a02ff216f84525": {
          "model_module": "@jupyter-widgets/controls",
          "model_name": "FloatProgressModel",
          "model_module_version": "1.5.0",
          "state": {
            "_dom_classes": [],
            "_model_module": "@jupyter-widgets/controls",
            "_model_module_version": "1.5.0",
            "_model_name": "FloatProgressModel",
            "_view_count": null,
            "_view_module": "@jupyter-widgets/controls",
            "_view_module_version": "1.5.0",
            "_view_name": "ProgressView",
            "bar_style": "success",
            "description": "",
            "description_tooltip": null,
            "layout": "IPY_MODEL_54f1e8102db64c06a8ed12bf52a01360",
            "max": 22,
            "min": 0,
            "orientation": "horizontal",
            "style": "IPY_MODEL_300791c412fd40e19311c22db0404aae",
            "value": 22
          }
        },
        "b6e6690c453e4cf29b215901b6fefc82": {
          "model_module": "@jupyter-widgets/controls",
          "model_name": "HTMLModel",
          "model_module_version": "1.5.0",
          "state": {
            "_dom_classes": [],
            "_model_module": "@jupyter-widgets/controls",
            "_model_module_version": "1.5.0",
            "_model_name": "HTMLModel",
            "_view_count": null,
            "_view_module": "@jupyter-widgets/controls",
            "_view_module_version": "1.5.0",
            "_view_name": "HTMLView",
            "description": "",
            "description_tooltip": null,
            "layout": "IPY_MODEL_2500050cd8424aa796f529e041a32f55",
            "placeholder": "​",
            "style": "IPY_MODEL_d296f414cb144950b7ec7fee330eedab",
            "value": " 22/22 [00:34&lt;00:00,  1.22s/it]"
          }
        },
        "2b188f80cbbb44c68f7bc80fed613813": {
          "model_module": "@jupyter-widgets/base",
          "model_name": "LayoutModel",
          "model_module_version": "1.2.0",
          "state": {
            "_model_module": "@jupyter-widgets/base",
            "_model_module_version": "1.2.0",
            "_model_name": "LayoutModel",
            "_view_count": null,
            "_view_module": "@jupyter-widgets/base",
            "_view_module_version": "1.2.0",
            "_view_name": "LayoutView",
            "align_content": null,
            "align_items": null,
            "align_self": null,
            "border": null,
            "bottom": null,
            "display": null,
            "flex": null,
            "flex_flow": null,
            "grid_area": null,
            "grid_auto_columns": null,
            "grid_auto_flow": null,
            "grid_auto_rows": null,
            "grid_column": null,
            "grid_gap": null,
            "grid_row": null,
            "grid_template_areas": null,
            "grid_template_columns": null,
            "grid_template_rows": null,
            "height": null,
            "justify_content": null,
            "justify_items": null,
            "left": null,
            "margin": null,
            "max_height": null,
            "max_width": null,
            "min_height": null,
            "min_width": null,
            "object_fit": null,
            "object_position": null,
            "order": null,
            "overflow": null,
            "overflow_x": null,
            "overflow_y": null,
            "padding": null,
            "right": null,
            "top": null,
            "visibility": null,
            "width": null
          }
        },
        "4538cced45cd43aaad96392f5b17b69e": {
          "model_module": "@jupyter-widgets/base",
          "model_name": "LayoutModel",
          "model_module_version": "1.2.0",
          "state": {
            "_model_module": "@jupyter-widgets/base",
            "_model_module_version": "1.2.0",
            "_model_name": "LayoutModel",
            "_view_count": null,
            "_view_module": "@jupyter-widgets/base",
            "_view_module_version": "1.2.0",
            "_view_name": "LayoutView",
            "align_content": null,
            "align_items": null,
            "align_self": null,
            "border": null,
            "bottom": null,
            "display": null,
            "flex": null,
            "flex_flow": null,
            "grid_area": null,
            "grid_auto_columns": null,
            "grid_auto_flow": null,
            "grid_auto_rows": null,
            "grid_column": null,
            "grid_gap": null,
            "grid_row": null,
            "grid_template_areas": null,
            "grid_template_columns": null,
            "grid_template_rows": null,
            "height": null,
            "justify_content": null,
            "justify_items": null,
            "left": null,
            "margin": null,
            "max_height": null,
            "max_width": null,
            "min_height": null,
            "min_width": null,
            "object_fit": null,
            "object_position": null,
            "order": null,
            "overflow": null,
            "overflow_x": null,
            "overflow_y": null,
            "padding": null,
            "right": null,
            "top": null,
            "visibility": null,
            "width": null
          }
        },
        "4a498d9f6f4b4785831648618c057387": {
          "model_module": "@jupyter-widgets/controls",
          "model_name": "DescriptionStyleModel",
          "model_module_version": "1.5.0",
          "state": {
            "_model_module": "@jupyter-widgets/controls",
            "_model_module_version": "1.5.0",
            "_model_name": "DescriptionStyleModel",
            "_view_count": null,
            "_view_module": "@jupyter-widgets/base",
            "_view_module_version": "1.2.0",
            "_view_name": "StyleView",
            "description_width": ""
          }
        },
        "54f1e8102db64c06a8ed12bf52a01360": {
          "model_module": "@jupyter-widgets/base",
          "model_name": "LayoutModel",
          "model_module_version": "1.2.0",
          "state": {
            "_model_module": "@jupyter-widgets/base",
            "_model_module_version": "1.2.0",
            "_model_name": "LayoutModel",
            "_view_count": null,
            "_view_module": "@jupyter-widgets/base",
            "_view_module_version": "1.2.0",
            "_view_name": "LayoutView",
            "align_content": null,
            "align_items": null,
            "align_self": null,
            "border": null,
            "bottom": null,
            "display": null,
            "flex": null,
            "flex_flow": null,
            "grid_area": null,
            "grid_auto_columns": null,
            "grid_auto_flow": null,
            "grid_auto_rows": null,
            "grid_column": null,
            "grid_gap": null,
            "grid_row": null,
            "grid_template_areas": null,
            "grid_template_columns": null,
            "grid_template_rows": null,
            "height": null,
            "justify_content": null,
            "justify_items": null,
            "left": null,
            "margin": null,
            "max_height": null,
            "max_width": null,
            "min_height": null,
            "min_width": null,
            "object_fit": null,
            "object_position": null,
            "order": null,
            "overflow": null,
            "overflow_x": null,
            "overflow_y": null,
            "padding": null,
            "right": null,
            "top": null,
            "visibility": null,
            "width": null
          }
        },
        "300791c412fd40e19311c22db0404aae": {
          "model_module": "@jupyter-widgets/controls",
          "model_name": "ProgressStyleModel",
          "model_module_version": "1.5.0",
          "state": {
            "_model_module": "@jupyter-widgets/controls",
            "_model_module_version": "1.5.0",
            "_model_name": "ProgressStyleModel",
            "_view_count": null,
            "_view_module": "@jupyter-widgets/base",
            "_view_module_version": "1.2.0",
            "_view_name": "StyleView",
            "bar_color": null,
            "description_width": ""
          }
        },
        "2500050cd8424aa796f529e041a32f55": {
          "model_module": "@jupyter-widgets/base",
          "model_name": "LayoutModel",
          "model_module_version": "1.2.0",
          "state": {
            "_model_module": "@jupyter-widgets/base",
            "_model_module_version": "1.2.0",
            "_model_name": "LayoutModel",
            "_view_count": null,
            "_view_module": "@jupyter-widgets/base",
            "_view_module_version": "1.2.0",
            "_view_name": "LayoutView",
            "align_content": null,
            "align_items": null,
            "align_self": null,
            "border": null,
            "bottom": null,
            "display": null,
            "flex": null,
            "flex_flow": null,
            "grid_area": null,
            "grid_auto_columns": null,
            "grid_auto_flow": null,
            "grid_auto_rows": null,
            "grid_column": null,
            "grid_gap": null,
            "grid_row": null,
            "grid_template_areas": null,
            "grid_template_columns": null,
            "grid_template_rows": null,
            "height": null,
            "justify_content": null,
            "justify_items": null,
            "left": null,
            "margin": null,
            "max_height": null,
            "max_width": null,
            "min_height": null,
            "min_width": null,
            "object_fit": null,
            "object_position": null,
            "order": null,
            "overflow": null,
            "overflow_x": null,
            "overflow_y": null,
            "padding": null,
            "right": null,
            "top": null,
            "visibility": null,
            "width": null
          }
        },
        "d296f414cb144950b7ec7fee330eedab": {
          "model_module": "@jupyter-widgets/controls",
          "model_name": "DescriptionStyleModel",
          "model_module_version": "1.5.0",
          "state": {
            "_model_module": "@jupyter-widgets/controls",
            "_model_module_version": "1.5.0",
            "_model_name": "DescriptionStyleModel",
            "_view_count": null,
            "_view_module": "@jupyter-widgets/base",
            "_view_module_version": "1.2.0",
            "_view_name": "StyleView",
            "description_width": ""
          }
        },
        "f253d8a1f53a4022b42f04283b71ffe9": {
          "model_module": "@jupyter-widgets/controls",
          "model_name": "HBoxModel",
          "model_module_version": "1.5.0",
          "state": {
            "_dom_classes": [],
            "_model_module": "@jupyter-widgets/controls",
            "_model_module_version": "1.5.0",
            "_model_name": "HBoxModel",
            "_view_count": null,
            "_view_module": "@jupyter-widgets/controls",
            "_view_module_version": "1.5.0",
            "_view_name": "HBoxView",
            "box_style": "",
            "children": [
              "IPY_MODEL_211b2e7dde7b41f2a5e755a043c9518e",
              "IPY_MODEL_941e1e2b952b4ea8a335c23807e8bc4c",
              "IPY_MODEL_1ce61bce12854fdcba7c24b73b806a93"
            ],
            "layout": "IPY_MODEL_3147596830d9451581fb003f68c9b001"
          }
        },
        "211b2e7dde7b41f2a5e755a043c9518e": {
          "model_module": "@jupyter-widgets/controls",
          "model_name": "HTMLModel",
          "model_module_version": "1.5.0",
          "state": {
            "_dom_classes": [],
            "_model_module": "@jupyter-widgets/controls",
            "_model_module_version": "1.5.0",
            "_model_name": "HTMLModel",
            "_view_count": null,
            "_view_module": "@jupyter-widgets/controls",
            "_view_module_version": "1.5.0",
            "_view_name": "HTMLView",
            "description": "",
            "description_tooltip": null,
            "layout": "IPY_MODEL_4f91aed2aa884630b7a72c497d71aca0",
            "placeholder": "​",
            "style": "IPY_MODEL_58527717a65a4e458d22b1f3402fcbb5",
            "value": "COLLECTING RESULTS | : 100%"
          }
        },
        "941e1e2b952b4ea8a335c23807e8bc4c": {
          "model_module": "@jupyter-widgets/controls",
          "model_name": "FloatProgressModel",
          "model_module_version": "1.5.0",
          "state": {
            "_dom_classes": [],
            "_model_module": "@jupyter-widgets/controls",
            "_model_module_version": "1.5.0",
            "_model_name": "FloatProgressModel",
            "_view_count": null,
            "_view_module": "@jupyter-widgets/controls",
            "_view_module_version": "1.5.0",
            "_view_name": "ProgressView",
            "bar_style": "success",
            "description": "",
            "description_tooltip": null,
            "layout": "IPY_MODEL_3f7c50365b324c138fe985eac0aa9c24",
            "max": 22,
            "min": 0,
            "orientation": "horizontal",
            "style": "IPY_MODEL_38300503770e480b8f0a9d29f6251345",
            "value": 22
          }
        },
        "1ce61bce12854fdcba7c24b73b806a93": {
          "model_module": "@jupyter-widgets/controls",
          "model_name": "HTMLModel",
          "model_module_version": "1.5.0",
          "state": {
            "_dom_classes": [],
            "_model_module": "@jupyter-widgets/controls",
            "_model_module_version": "1.5.0",
            "_model_name": "HTMLModel",
            "_view_count": null,
            "_view_module": "@jupyter-widgets/controls",
            "_view_module_version": "1.5.0",
            "_view_name": "HTMLView",
            "description": "",
            "description_tooltip": null,
            "layout": "IPY_MODEL_9214dbdde44a4b3d8d3a78db62633554",
            "placeholder": "​",
            "style": "IPY_MODEL_319e49239a9242e8b6191546ae981173",
            "value": " 22/22 [00:00&lt;00:00, 505.23it/s]"
          }
        },
        "3147596830d9451581fb003f68c9b001": {
          "model_module": "@jupyter-widgets/base",
          "model_name": "LayoutModel",
          "model_module_version": "1.2.0",
          "state": {
            "_model_module": "@jupyter-widgets/base",
            "_model_module_version": "1.2.0",
            "_model_name": "LayoutModel",
            "_view_count": null,
            "_view_module": "@jupyter-widgets/base",
            "_view_module_version": "1.2.0",
            "_view_name": "LayoutView",
            "align_content": null,
            "align_items": null,
            "align_self": null,
            "border": null,
            "bottom": null,
            "display": null,
            "flex": null,
            "flex_flow": null,
            "grid_area": null,
            "grid_auto_columns": null,
            "grid_auto_flow": null,
            "grid_auto_rows": null,
            "grid_column": null,
            "grid_gap": null,
            "grid_row": null,
            "grid_template_areas": null,
            "grid_template_columns": null,
            "grid_template_rows": null,
            "height": null,
            "justify_content": null,
            "justify_items": null,
            "left": null,
            "margin": null,
            "max_height": null,
            "max_width": null,
            "min_height": null,
            "min_width": null,
            "object_fit": null,
            "object_position": null,
            "order": null,
            "overflow": null,
            "overflow_x": null,
            "overflow_y": null,
            "padding": null,
            "right": null,
            "top": null,
            "visibility": null,
            "width": null
          }
        },
        "4f91aed2aa884630b7a72c497d71aca0": {
          "model_module": "@jupyter-widgets/base",
          "model_name": "LayoutModel",
          "model_module_version": "1.2.0",
          "state": {
            "_model_module": "@jupyter-widgets/base",
            "_model_module_version": "1.2.0",
            "_model_name": "LayoutModel",
            "_view_count": null,
            "_view_module": "@jupyter-widgets/base",
            "_view_module_version": "1.2.0",
            "_view_name": "LayoutView",
            "align_content": null,
            "align_items": null,
            "align_self": null,
            "border": null,
            "bottom": null,
            "display": null,
            "flex": null,
            "flex_flow": null,
            "grid_area": null,
            "grid_auto_columns": null,
            "grid_auto_flow": null,
            "grid_auto_rows": null,
            "grid_column": null,
            "grid_gap": null,
            "grid_row": null,
            "grid_template_areas": null,
            "grid_template_columns": null,
            "grid_template_rows": null,
            "height": null,
            "justify_content": null,
            "justify_items": null,
            "left": null,
            "margin": null,
            "max_height": null,
            "max_width": null,
            "min_height": null,
            "min_width": null,
            "object_fit": null,
            "object_position": null,
            "order": null,
            "overflow": null,
            "overflow_x": null,
            "overflow_y": null,
            "padding": null,
            "right": null,
            "top": null,
            "visibility": null,
            "width": null
          }
        },
        "58527717a65a4e458d22b1f3402fcbb5": {
          "model_module": "@jupyter-widgets/controls",
          "model_name": "DescriptionStyleModel",
          "model_module_version": "1.5.0",
          "state": {
            "_model_module": "@jupyter-widgets/controls",
            "_model_module_version": "1.5.0",
            "_model_name": "DescriptionStyleModel",
            "_view_count": null,
            "_view_module": "@jupyter-widgets/base",
            "_view_module_version": "1.2.0",
            "_view_name": "StyleView",
            "description_width": ""
          }
        },
        "3f7c50365b324c138fe985eac0aa9c24": {
          "model_module": "@jupyter-widgets/base",
          "model_name": "LayoutModel",
          "model_module_version": "1.2.0",
          "state": {
            "_model_module": "@jupyter-widgets/base",
            "_model_module_version": "1.2.0",
            "_model_name": "LayoutModel",
            "_view_count": null,
            "_view_module": "@jupyter-widgets/base",
            "_view_module_version": "1.2.0",
            "_view_name": "LayoutView",
            "align_content": null,
            "align_items": null,
            "align_self": null,
            "border": null,
            "bottom": null,
            "display": null,
            "flex": null,
            "flex_flow": null,
            "grid_area": null,
            "grid_auto_columns": null,
            "grid_auto_flow": null,
            "grid_auto_rows": null,
            "grid_column": null,
            "grid_gap": null,
            "grid_row": null,
            "grid_template_areas": null,
            "grid_template_columns": null,
            "grid_template_rows": null,
            "height": null,
            "justify_content": null,
            "justify_items": null,
            "left": null,
            "margin": null,
            "max_height": null,
            "max_width": null,
            "min_height": null,
            "min_width": null,
            "object_fit": null,
            "object_position": null,
            "order": null,
            "overflow": null,
            "overflow_x": null,
            "overflow_y": null,
            "padding": null,
            "right": null,
            "top": null,
            "visibility": null,
            "width": null
          }
        },
        "38300503770e480b8f0a9d29f6251345": {
          "model_module": "@jupyter-widgets/controls",
          "model_name": "ProgressStyleModel",
          "model_module_version": "1.5.0",
          "state": {
            "_model_module": "@jupyter-widgets/controls",
            "_model_module_version": "1.5.0",
            "_model_name": "ProgressStyleModel",
            "_view_count": null,
            "_view_module": "@jupyter-widgets/base",
            "_view_module_version": "1.2.0",
            "_view_name": "StyleView",
            "bar_color": null,
            "description_width": ""
          }
        },
        "9214dbdde44a4b3d8d3a78db62633554": {
          "model_module": "@jupyter-widgets/base",
          "model_name": "LayoutModel",
          "model_module_version": "1.2.0",
          "state": {
            "_model_module": "@jupyter-widgets/base",
            "_model_module_version": "1.2.0",
            "_model_name": "LayoutModel",
            "_view_count": null,
            "_view_module": "@jupyter-widgets/base",
            "_view_module_version": "1.2.0",
            "_view_name": "LayoutView",
            "align_content": null,
            "align_items": null,
            "align_self": null,
            "border": null,
            "bottom": null,
            "display": null,
            "flex": null,
            "flex_flow": null,
            "grid_area": null,
            "grid_auto_columns": null,
            "grid_auto_flow": null,
            "grid_auto_rows": null,
            "grid_column": null,
            "grid_gap": null,
            "grid_row": null,
            "grid_template_areas": null,
            "grid_template_columns": null,
            "grid_template_rows": null,
            "height": null,
            "justify_content": null,
            "justify_items": null,
            "left": null,
            "margin": null,
            "max_height": null,
            "max_width": null,
            "min_height": null,
            "min_width": null,
            "object_fit": null,
            "object_position": null,
            "order": null,
            "overflow": null,
            "overflow_x": null,
            "overflow_y": null,
            "padding": null,
            "right": null,
            "top": null,
            "visibility": null,
            "width": null
          }
        },
        "319e49239a9242e8b6191546ae981173": {
          "model_module": "@jupyter-widgets/controls",
          "model_name": "DescriptionStyleModel",
          "model_module_version": "1.5.0",
          "state": {
            "_model_module": "@jupyter-widgets/controls",
            "_model_module_version": "1.5.0",
            "_model_name": "DescriptionStyleModel",
            "_view_count": null,
            "_view_module": "@jupyter-widgets/base",
            "_view_module_version": "1.2.0",
            "_view_name": "StyleView",
            "description_width": ""
          }
        }
      }
    }
  },
  "cells": [
    {
      "cell_type": "markdown",
      "source": [
        "### **TEMPO formaldehyde validation**\n",
        "\n",
        "This notebook illustrates comparison of TEMPO formaldehyde total column retrievals with Pandora ground stations.\n",
        "\n",
        "It allows a user to choose Pandora station of interest. Since TEMPO spatial coverage is regional and limited to North America, it is user's responsibilty to select the station within TEMPO's field of regard (FOR). If the selected station is outside FOR, no TEMPO time series will be generated.\n",
        "\n",
        "The user is allowed to choose the time period of interest by providing start and end dates in the form YYYYMMDD. Please be aware, that if the selecte period of interest is outside of available time span of one of the sensors, corresponding time series will not be generated.\n",
        "\n",
        "Data files for both sensors are downloaded on-the-fly. TEMPO data are downloaded with earthaccess library that needs to be installed first.\n",
        "\n",
        "TEMPO data files are read by means of netCDF library that needs to be installed first.\n",
        "\n",
        "Pandora data files are ASCII files with header and space separated columns. Custome made function is included to read nitrogen dioxide total column along with its total uncertainty.\n",
        "\n",
        "The resulting time series are plotted with and without uncertainty of both measurement in the end of the notebook."
      ],
      "metadata": {
        "id": "kjVKCytfEnRt"
      }
    },
    {
      "cell_type": "markdown",
      "source": [
        "# 1 Installing and importing necessary libraries"
      ],
      "metadata": {
        "id": "luJG0oPIPGjC"
      }
    },
    {
      "cell_type": "markdown",
      "source": [
        "## 1.1 Installing netCDF"
      ],
      "metadata": {
        "id": "m5ru-FMpPXoE"
      }
    },
    {
      "cell_type": "code",
      "source": [
        "! pip3 install netCDF4"
      ],
      "metadata": {
        "colab": {
          "base_uri": "https://localhost:8080/"
        },
        "id": "5NWX4mCVQJt_",
        "outputId": "e661c6e5-d4ba-475a-efea-7f2cd2b60ca8"
      },
      "execution_count": null,
      "outputs": [
        {
          "output_type": "stream",
          "name": "stdout",
          "text": [
            "Collecting netCDF4\n",
            "  Downloading netCDF4-1.6.5-cp310-cp310-manylinux_2_17_x86_64.manylinux2014_x86_64.whl (5.5 MB)\n",
            "\u001b[2K     \u001b[90m━━━━━━━━━━━━━━━━━━━━━━━━━━━━━━━━━━━━━━━━\u001b[0m \u001b[32m5.5/5.5 MB\u001b[0m \u001b[31m16.7 MB/s\u001b[0m eta \u001b[36m0:00:00\u001b[0m\n",
            "\u001b[?25hCollecting cftime (from netCDF4)\n",
            "  Downloading cftime-1.6.3-cp310-cp310-manylinux_2_17_x86_64.manylinux2014_x86_64.whl (1.3 MB)\n",
            "\u001b[2K     \u001b[90m━━━━━━━━━━━━━━━━━━━━━━━━━━━━━━━━━━━━━━━━\u001b[0m \u001b[32m1.3/1.3 MB\u001b[0m \u001b[31m26.7 MB/s\u001b[0m eta \u001b[36m0:00:00\u001b[0m\n",
            "\u001b[?25hRequirement already satisfied: certifi in /usr/local/lib/python3.10/dist-packages (from netCDF4) (2023.11.17)\n",
            "Requirement already satisfied: numpy in /usr/local/lib/python3.10/dist-packages (from netCDF4) (1.23.5)\n",
            "Installing collected packages: cftime, netCDF4\n",
            "Successfully installed cftime-1.6.3 netCDF4-1.6.5\n"
          ]
        }
      ]
    },
    {
      "cell_type": "markdown",
      "source": [
        "## 1.2 Installing earthaccess"
      ],
      "metadata": {
        "id": "cQJCMByjPp9i"
      }
    },
    {
      "cell_type": "code",
      "source": [
        "! pip3 install earthaccess"
      ],
      "metadata": {
        "colab": {
          "base_uri": "https://localhost:8080/"
        },
        "id": "N7Gm15VaYKW9",
        "outputId": "d2757f8a-b47e-4d66-9bdb-da4b3181fb9f"
      },
      "execution_count": null,
      "outputs": [
        {
          "output_type": "stream",
          "name": "stdout",
          "text": [
            "Collecting earthaccess\n",
            "  Downloading earthaccess-0.8.2-py3-none-any.whl (56 kB)\n",
            "\u001b[?25l     \u001b[90m━━━━━━━━━━━━━━━━━━━━━━━━━━━━━━━━━━━━━━━━\u001b[0m \u001b[32m0.0/57.0 kB\u001b[0m \u001b[31m?\u001b[0m eta \u001b[36m-:--:--\u001b[0m\r\u001b[2K     \u001b[90m━━━━━━━━━━━━━━━━━━━━━━━━━━━━━━━━━━━━━━━━\u001b[0m \u001b[32m57.0/57.0 kB\u001b[0m \u001b[31m1.7 MB/s\u001b[0m eta \u001b[36m0:00:00\u001b[0m\n",
            "\u001b[?25hRequirement already satisfied: fsspec>=2022.11 in /usr/local/lib/python3.10/dist-packages (from earthaccess) (2023.6.0)\n",
            "Collecting multimethod>=1.8 (from earthaccess)\n",
            "  Downloading multimethod-1.11-py3-none-any.whl (10 kB)\n",
            "Collecting pqdm>=0.1 (from earthaccess)\n",
            "  Downloading pqdm-0.2.0-py2.py3-none-any.whl (6.8 kB)\n",
            "Collecting python-cmr>=0.9.0 (from earthaccess)\n",
            "  Downloading python_cmr-0.9.0-py3-none-any.whl (11 kB)\n",
            "Requirement already satisfied: python-dateutil>=2.8.2 in /usr/local/lib/python3.10/dist-packages (from earthaccess) (2.8.2)\n",
            "Requirement already satisfied: requests<3.0.0,>=2.26 in /usr/local/lib/python3.10/dist-packages (from earthaccess) (2.31.0)\n",
            "Collecting s3fs<2024,>=2022.11 (from earthaccess)\n",
            "  Downloading s3fs-2023.12.2-py3-none-any.whl (28 kB)\n",
            "Collecting tinynetrc<2.0.0,>=1.3.1 (from earthaccess)\n",
            "  Downloading tinynetrc-1.3.1-py2.py3-none-any.whl (3.9 kB)\n",
            "Collecting bounded-pool-executor (from pqdm>=0.1->earthaccess)\n",
            "  Downloading bounded_pool_executor-0.0.3-py3-none-any.whl (3.4 kB)\n",
            "Requirement already satisfied: tqdm in /usr/local/lib/python3.10/dist-packages (from pqdm>=0.1->earthaccess) (4.66.1)\n",
            "Requirement already satisfied: typing-extensions in /usr/local/lib/python3.10/dist-packages (from pqdm>=0.1->earthaccess) (4.5.0)\n",
            "Requirement already satisfied: six>=1.5 in /usr/local/lib/python3.10/dist-packages (from python-dateutil>=2.8.2->earthaccess) (1.16.0)\n",
            "Requirement already satisfied: charset-normalizer<4,>=2 in /usr/local/lib/python3.10/dist-packages (from requests<3.0.0,>=2.26->earthaccess) (3.3.2)\n",
            "Requirement already satisfied: idna<4,>=2.5 in /usr/local/lib/python3.10/dist-packages (from requests<3.0.0,>=2.26->earthaccess) (3.6)\n",
            "Requirement already satisfied: urllib3<3,>=1.21.1 in /usr/local/lib/python3.10/dist-packages (from requests<3.0.0,>=2.26->earthaccess) (2.0.7)\n",
            "Requirement already satisfied: certifi>=2017.4.17 in /usr/local/lib/python3.10/dist-packages (from requests<3.0.0,>=2.26->earthaccess) (2023.11.17)\n",
            "Collecting aiobotocore<3.0.0,>=2.5.4 (from s3fs<2024,>=2022.11->earthaccess)\n",
            "  Downloading aiobotocore-2.11.2-py3-none-any.whl (76 kB)\n",
            "\u001b[2K     \u001b[90m━━━━━━━━━━━━━━━━━━━━━━━━━━━━━━━━━━━━━━━━\u001b[0m \u001b[32m76.1/76.1 kB\u001b[0m \u001b[31m5.5 MB/s\u001b[0m eta \u001b[36m0:00:00\u001b[0m\n",
            "\u001b[?25hCollecting fsspec>=2022.11 (from earthaccess)\n",
            "  Downloading fsspec-2023.12.2-py3-none-any.whl (168 kB)\n",
            "\u001b[2K     \u001b[90m━━━━━━━━━━━━━━━━━━━━━━━━━━━━━━━━━━━━━━━━\u001b[0m \u001b[32m169.0/169.0 kB\u001b[0m \u001b[31m11.7 MB/s\u001b[0m eta \u001b[36m0:00:00\u001b[0m\n",
            "\u001b[?25hRequirement already satisfied: aiohttp!=4.0.0a0,!=4.0.0a1 in /usr/local/lib/python3.10/dist-packages (from s3fs<2024,>=2022.11->earthaccess) (3.9.3)\n",
            "Collecting botocore<1.34.35,>=1.33.2 (from aiobotocore<3.0.0,>=2.5.4->s3fs<2024,>=2022.11->earthaccess)\n",
            "  Downloading botocore-1.34.34-py3-none-any.whl (11.9 MB)\n",
            "\u001b[2K     \u001b[90m━━━━━━━━━━━━━━━━━━━━━━━━━━━━━━━━━━━━━━━━\u001b[0m \u001b[32m11.9/11.9 MB\u001b[0m \u001b[31m80.0 MB/s\u001b[0m eta \u001b[36m0:00:00\u001b[0m\n",
            "\u001b[?25hRequirement already satisfied: wrapt<2.0.0,>=1.10.10 in /usr/local/lib/python3.10/dist-packages (from aiobotocore<3.0.0,>=2.5.4->s3fs<2024,>=2022.11->earthaccess) (1.14.1)\n",
            "Collecting aioitertools<1.0.0,>=0.5.1 (from aiobotocore<3.0.0,>=2.5.4->s3fs<2024,>=2022.11->earthaccess)\n",
            "  Downloading aioitertools-0.11.0-py3-none-any.whl (23 kB)\n",
            "Requirement already satisfied: aiosignal>=1.1.2 in /usr/local/lib/python3.10/dist-packages (from aiohttp!=4.0.0a0,!=4.0.0a1->s3fs<2024,>=2022.11->earthaccess) (1.3.1)\n",
            "Requirement already satisfied: attrs>=17.3.0 in /usr/local/lib/python3.10/dist-packages (from aiohttp!=4.0.0a0,!=4.0.0a1->s3fs<2024,>=2022.11->earthaccess) (23.2.0)\n",
            "Requirement already satisfied: frozenlist>=1.1.1 in /usr/local/lib/python3.10/dist-packages (from aiohttp!=4.0.0a0,!=4.0.0a1->s3fs<2024,>=2022.11->earthaccess) (1.4.1)\n",
            "Requirement already satisfied: multidict<7.0,>=4.5 in /usr/local/lib/python3.10/dist-packages (from aiohttp!=4.0.0a0,!=4.0.0a1->s3fs<2024,>=2022.11->earthaccess) (6.0.4)\n",
            "Requirement already satisfied: yarl<2.0,>=1.0 in /usr/local/lib/python3.10/dist-packages (from aiohttp!=4.0.0a0,!=4.0.0a1->s3fs<2024,>=2022.11->earthaccess) (1.9.4)\n",
            "Requirement already satisfied: async-timeout<5.0,>=4.0 in /usr/local/lib/python3.10/dist-packages (from aiohttp!=4.0.0a0,!=4.0.0a1->s3fs<2024,>=2022.11->earthaccess) (4.0.3)\n",
            "Collecting jmespath<2.0.0,>=0.7.1 (from botocore<1.34.35,>=1.33.2->aiobotocore<3.0.0,>=2.5.4->s3fs<2024,>=2022.11->earthaccess)\n",
            "  Downloading jmespath-1.0.1-py3-none-any.whl (20 kB)\n",
            "Installing collected packages: tinynetrc, bounded-pool-executor, pqdm, multimethod, jmespath, fsspec, aioitertools, python-cmr, botocore, aiobotocore, s3fs, earthaccess\n",
            "  Attempting uninstall: fsspec\n",
            "    Found existing installation: fsspec 2023.6.0\n",
            "    Uninstalling fsspec-2023.6.0:\n",
            "      Successfully uninstalled fsspec-2023.6.0\n",
            "\u001b[31mERROR: pip's dependency resolver does not currently take into account all the packages that are installed. This behaviour is the source of the following dependency conflicts.\n",
            "gcsfs 2023.6.0 requires fsspec==2023.6.0, but you have fsspec 2023.12.2 which is incompatible.\u001b[0m\u001b[31m\n",
            "\u001b[0mSuccessfully installed aiobotocore-2.11.2 aioitertools-0.11.0 botocore-1.34.34 bounded-pool-executor-0.0.3 earthaccess-0.8.2 fsspec-2023.12.2 jmespath-1.0.1 multimethod-1.11 pqdm-0.2.0 python-cmr-0.9.0 s3fs-2023.12.2 tinynetrc-1.3.1\n"
          ]
        }
      ]
    },
    {
      "cell_type": "markdown",
      "source": [
        "## 1.3 Importing necessary libraries"
      ],
      "metadata": {
        "id": "TxfhRi7ySyFY"
      }
    },
    {
      "cell_type": "code",
      "execution_count": null,
      "metadata": {
        "id": "IAAuhYMcEkvP"
      },
      "outputs": [],
      "source": [
        "import earthaccess # needed to discover and download TEMPO data\n",
        "import netCDF4 as nc # needed to read TEMPO data\n",
        "\n",
        "import os\n",
        "import sys\n",
        "\n",
        "import platform\n",
        "from subprocess import Popen\n",
        "import shutil\n",
        "\n",
        "from shapely.geometry import Point, Polygon # needed to search a point within a polygon\n",
        "from scipy.interpolate import griddata # needed to interpolate TEMPO data to the point of interest\n",
        "\n",
        "import requests # needed to search for and download Pandora data\n",
        "import codecs # needed to read Pandora data\n",
        "import numpy as np\n",
        "import matplotlib.pyplot as plt # needed to plot the resulting time series\n",
        "from urllib.request import urlopen, Request # needed to search for and download Pandora data\n",
        "from pathlib import Path # needed to check whether a needed data file is already downloaded\n",
        "from datetime import datetime, timedelta # needed to work with time in plotting time series"
      ]
    },
    {
      "cell_type": "markdown",
      "source": [
        "# 2 Establishing access to EarthData"
      ],
      "metadata": {
        "id": "9FiqnX6XSt-3"
      }
    },
    {
      "cell_type": "markdown",
      "source": [
        "## 2.1 Logging in\n",
        "\n",
        "User needs to create an account at https://www.earthdata.nasa.gov/\n",
        "\n",
        "Function earthaccess.login prompts for EarthData login and password."
      ],
      "metadata": {
        "id": "LXGbiH5VTbPZ"
      }
    },
    {
      "cell_type": "code",
      "source": [
        "auth = earthaccess.login(strategy=\"interactive\", persist=True)"
      ],
      "metadata": {
        "id": "aHZmh8-xYZFe",
        "colab": {
          "base_uri": "https://localhost:8080/"
        },
        "outputId": "da5dff06-1437-404d-eb2f-28871200892e"
      },
      "execution_count": null,
      "outputs": [
        {
          "output_type": "stream",
          "name": "stdout",
          "text": [
            "Enter your Earthdata Login username: alexrad71\n",
            "Enter your Earthdata password: ··········\n",
            "Persisting credentials to .netrc\n"
          ]
        }
      ]
    },
    {
      "cell_type": "markdown",
      "source": [
        "## 2.2 Creating local directory"
      ],
      "metadata": {
        "id": "AR7UGlswVGHj"
      }
    },
    {
      "cell_type": "code",
      "source": [
        "homeDir = os.path.expanduser(\"~\") + os.sep\n",
        "\n",
        "with open(homeDir + '.dodsrc', 'w') as file:\n",
        "    file.write('HTTP.COOKIEJAR={}.urs_cookies\\n'.format(homeDir))\n",
        "    file.write('HTTP.NETRC={}.netrc'.format(homeDir))\n",
        "    file.close()\n",
        "\n",
        "print('Saved .dodsrc to:', homeDir)\n",
        "\n",
        "# Set appropriate permissions for Linux/macOS\n",
        "if platform.system() != \"Windows\":\n",
        "    Popen('chmod og-rw ~/.netrc', shell=True)\n",
        "else:\n",
        "    # Copy dodsrc to working directory in Windows\n",
        "    shutil.copy2(homeDir + '.dodsrc', os.getcwd())\n",
        "    print('Copied .dodsrc to:', os.getcwd())"
      ],
      "metadata": {
        "colab": {
          "base_uri": "https://localhost:8080/"
        },
        "id": "tizBt7IvY0lx",
        "outputId": "607617d9-4e4f-4694-b200-ef4b49bf7b68"
      },
      "execution_count": null,
      "outputs": [
        {
          "output_type": "stream",
          "name": "stdout",
          "text": [
            "Saved .dodsrc to: /root/\n"
          ]
        }
      ]
    },
    {
      "cell_type": "markdown",
      "source": [
        "# 3 Working with Pandora data"
      ],
      "metadata": {
        "id": "5QaStYVXVmdN"
      }
    },
    {
      "cell_type": "markdown",
      "source": [
        "## 3.0 Managing security certificate issue\n",
        "\n",
        "This step is needed only if there is a security certificate problem with Pandora data web site,  http://data.pandonia-global-network.org/. Should be avoided otherwise."
      ],
      "metadata": {
        "id": "Dt3zbZ1VV4Lk"
      }
    },
    {
      "cell_type": "code",
      "source": [
        "'''\n",
        "Pandora data web site,  url = 'http://data.pandonia-global-network.org/',\n",
        "currently has its security certificate expired. In order to make this code\n",
        "working, urlopen(url) was replaced by urlopen(url,context=context).\n",
        "2 lines below are needed to bypass certificate check.\n",
        "Once the site certificate is up-to-date,\n",
        "these lines can be removed and usual call of urlopen can be restored.\n",
        "'''\n",
        "import ssl\n",
        "context = ssl._create_unverified_context()"
      ],
      "metadata": {
        "id": "peFB-BWSieE1"
      },
      "execution_count": null,
      "outputs": []
    },
    {
      "cell_type": "markdown",
      "source": [
        "## 3.1 Defining a function gathering the list of available Pandora sites\n",
        "\n",
        "If there is a security certificate problem with Pandora data web site,  http://data.pandonia-global-network.org/, un-comment line\n",
        "\n",
        "page = urlopen(url,context=context)\n",
        "\n",
        "and comment out\n",
        "\n",
        "page = urlopen(url)"
      ],
      "metadata": {
        "id": "lpMSyF-LXm5i"
      }
    },
    {
      "cell_type": "code",
      "source": [
        "'''\n",
        "function read_pandora_web returns the list of available Pandora sites\n",
        "'''\n",
        "def read_pandora_web():\n",
        "  url = 'https://data.pandonia-global-network.org/'\n",
        "  page = urlopen(url)\n",
        "#  page = urlopen(url,context=context)\n",
        "  html_bytes = page.read()\n",
        "  html = html_bytes.decode(\"utf-8\")\n",
        "  html_len = len(html)\n",
        "\n",
        "  pos1 = 0\n",
        "\n",
        "  big_line = str(html)\n",
        "  lines = big_line.split('\\n')\n",
        "\n",
        "  ref_lines = [i for i in lines if 'href' in i]\n",
        "  refs = []\n",
        "  for line in ref_lines:\n",
        "    pos1 = line.find('\"')\n",
        "    pos2 = line.rfind('\"')\n",
        "    if pos1 > 0 and pos2 > pos1 and line[pos2-1] =='/' and line[pos1+1] == '.':\n",
        "      refs.append(line[pos1+3 : pos2-1])\n",
        "\n",
        "  return refs"
      ],
      "metadata": {
        "id": "eFwvdlZWFNnM"
      },
      "execution_count": null,
      "outputs": []
    },
    {
      "cell_type": "markdown",
      "source": [
        "## 3.2 Defining functions allowing user to choose a Pandora site of interest"
      ],
      "metadata": {
        "id": "vUrk8c6KYe8E"
      }
    },
    {
      "cell_type": "code",
      "source": [
        "'''\n",
        "function check_site checks whether user entered site is in the list of available Pandora sites\n",
        "'''\n",
        "def check_site(site_name, refs):\n",
        "  site_list = []\n",
        "  for line in refs:\n",
        "    if site_name in line:\n",
        "      site_list.append(line)\n",
        "\n",
        "  return site_list\n",
        "\n",
        "'''\n",
        "function take_pandora_sites takes user input and checks whether the site is in the list of available Pandora sites\n",
        "'''\n",
        "def take_pandora_sites(refs):\n",
        "  print('please select a Pandora site name from the list')\n",
        "  for ref in refs:\n",
        "    print(ref)\n",
        "\n",
        "  answer = 'y'\n",
        "  while answer == 'y':\n",
        "    site_name = input('Enter a name of a Pandora site: ')\n",
        "    print(site_name)\n",
        "    site_list = check_site(site_name, refs)\n",
        "    site_num = len(site_list)\n",
        "    if site_num == 0:\n",
        "      print('site ', site_name, 'was not found')\n",
        "      continue\n",
        "\n",
        "    if site_num > 1:\n",
        "      print('there are ', site_num, ' site names, select one from')\n",
        "      for site in site_list: print(site)\n",
        "\n",
        "      site_name = input('Enter an exact name of a Pandora site: ')\n",
        "      if site_list.count(site_name) != 1:\n",
        "        print('Entered name is not the exact match of one of the following sites')\n",
        "        for site in site_list: print(site)\n",
        "        print('program terminated')\n",
        "        sys.exit()\n",
        "\n",
        "      for site in site_list:\n",
        "        if site == site_name:\n",
        "          pandora_site = site_name\n",
        "          print('site ', site_name, 'was found and added to the list of sites ')\n",
        "          break\n",
        "\n",
        "    if site_num == 1:\n",
        "      pandora_site = site_list[0]\n",
        "      print('site ', site_list[0], 'was found and added to the list of sites ')\n",
        "\n",
        "    answer = 'n'\n",
        "\n",
        "  return pandora_site"
      ],
      "metadata": {
        "id": "HddB1cMqFv_u"
      },
      "execution_count": null,
      "outputs": []
    },
    {
      "cell_type": "markdown",
      "source": [
        "## 3.3 Defining a function creating the list links to HCHO data files at the selected Pandora sites\n",
        "\n",
        "Pandora site may have several instruments. In this case each instrument has its own directory. However, the most recent version of the HCHO data, rfus5p1-8, is available only in one of these directories. The function creates all possible links, but some of them may be non-existing. This is chacked and cleared later.\n",
        "\n",
        "If there is a security certificate problem with Pandora data web site,  http://data.pandonia-global-network.org/, un-comment line\n",
        "\n",
        "page = urlopen(url,context=context)\n",
        "\n",
        "and comment out\n",
        "\n",
        "page = urlopen(url)"
      ],
      "metadata": {
        "id": "T95P34fTZN1S"
      }
    },
    {
      "cell_type": "code",
      "source": [
        "'''\n",
        "function instrument_path returns links to available Pandora O3 retrievals files\n",
        "'''\n",
        "def instrument_path(site):\n",
        "  url = 'https://data.pandonia-global-network.org/' + site + '/'\n",
        "  page = urlopen(url)\n",
        "#  page = urlopen(url,context=context)\n",
        "  html_bytes = page.read()\n",
        "  html = html_bytes.decode(\"utf-8\")\n",
        "  html_len = len(html)\n",
        "\n",
        "  pos1 = 0\n",
        "  big_line = str(html)\n",
        "  lines = big_line.split('\\n')\n",
        "\n",
        "  ref_lines = [i for i in lines if 'href' in i]\n",
        "  links = []\n",
        "  for line in ref_lines:\n",
        "\n",
        "    pos1 = line.find('\"')\n",
        "    pos2 = line.rfind('\"')\n",
        "    if pos1 > 0 and pos2 > pos1 and line[pos2-1] =='/' and\\\n",
        "       line[pos1+3 : pos1 + 10] == 'Pandora':\n",
        "      link = url + line[pos1+3 : pos2] + 'L2/' + line[pos1+3 : pos2-1] + '_' + site + '_L2_rfus5p1-8.txt'\n",
        "      print(link)\n",
        "      links.append(link)\n",
        "\n",
        "  return links"
      ],
      "metadata": {
        "id": "fMzfud_8HdDf"
      },
      "execution_count": null,
      "outputs": []
    },
    {
      "cell_type": "markdown",
      "source": [
        "## 3.4 Defining functions downloading Pandora data file with given url\n",
        "\n",
        "If there is a security certificate problem with Pandora data web site, http://data.pandonia-global-network.org/, un-comment line\n",
        "\n",
        "response = requests.get(url, verify=False)\n",
        "\n",
        "and comment out\n",
        "\n",
        "page = response = requests.get(url)"
      ],
      "metadata": {
        "id": "KjgZatRzatr6"
      }
    },
    {
      "cell_type": "code",
      "source": [
        "'''\n",
        "function download downloads file with given url\n",
        "'''\n",
        "def download(url):\n",
        "  response = requests.get(url)\n",
        "#  response = requests.get(url, verify=False)\n",
        "  response_code = response.status_code\n",
        "\n",
        "  file_name = url.split('/')[-1]\n",
        "\n",
        "  if response_code == 200:\n",
        "    content = response.content\n",
        "    data_path = Path(file_name)\n",
        "    data_path.write_bytes(content)\n",
        "\n",
        "  return file_name, response_code"
      ],
      "metadata": {
        "id": "y0X0IsLEM-SB"
      },
      "execution_count": null,
      "outputs": []
    },
    {
      "cell_type": "markdown",
      "source": [
        "## 3.5 Defining functions converting Pandora timestamp into a set of  year, month, day, hour, minute, and second"
      ],
      "metadata": {
        "id": "rlz83ZGabWP9"
      }
    },
    {
      "cell_type": "code",
      "source": [
        "'''\n",
        "function read_timestamp converts Pandora timestamp of the format\n",
        "'yyyymmddThhmmssZ' into a set of 6 numbers:\n",
        "integer year, month, day, hour, minute, and real second.\n",
        "'''\n",
        "def read_timestamp(timestamp):\n",
        "\n",
        "  yyyy = int(timestamp[0:4])\n",
        "  mm = int(timestamp[4:6])\n",
        "  dd = int(timestamp[6:8])\n",
        "  hh = int(timestamp[9:11])\n",
        "  mn = int(timestamp[11:13])\n",
        "  ss = float(timestamp[13:17])\n",
        "\n",
        "  return yyyy, mm, dd, hh, mn, ss"
      ],
      "metadata": {
        "id": "jfV_yV_iOOnJ"
      },
      "execution_count": null,
      "outputs": []
    },
    {
      "cell_type": "markdown",
      "source": [
        "## 3.6 Defining function reading Pandora NCHO data file rfus5p1-8"
      ],
      "metadata": {
        "id": "QIuXfcvScCy3"
      }
    },
    {
      "cell_type": "code",
      "source": [
        "'''\n",
        "function read_Pandora_HCHO_rfus5p1_8 reads Pandora total HCHO column data files\n",
        "ending with rfus5p1-8.\n",
        "\n",
        "Arguments:\n",
        "fname - name file to be read, string;\n",
        "start_date - beginning of the time interval of interest,\n",
        "             integer of the form YYYYMMDD;\n",
        "end_date -   end of the time interval of interest,\n",
        "             integer of the form YYYYMMDD.\n",
        "\n",
        "if start_date is greater than end_date, the function returns a numpy array\n",
        "with shape (0, 8), otherwise it returns an 8-column numpy array\n",
        "with with columns being year, month, day, hour, minute, second of observation\n",
        "and retrieved total O3 column along with its total uncertainty.\n",
        "\n",
        "HCHO column is in mol/m^2, so conversion to molecules/cm^2 is performed by\n",
        "multiplication by Avogadro constant, NA =  6.02214076E+23, and division by 1.E+4\n",
        "\n",
        "'''\n",
        "def read_Pandora_HCHO_rfus5p1_8(fname, start_date, end_date):\n",
        "\n",
        "  conversion_coeff = 6.02214076E+19 # Avogadro constant divided by 10000\n",
        "\n",
        "  data = np.empty([0, 8])\n",
        "  if start_date > end_date: return -999., -999., 'no_name', data\n",
        "\n",
        "  with codecs.open(fname, 'r', encoding='utf-8', errors='ignore') as f:\n",
        "\n",
        "    while True:\n",
        "# Get next line from file\n",
        "      line = f.readline()\n",
        "\n",
        "      if line.find('Short location name:') >= 0:\n",
        "        loc_name = line.split()[-1] # location name, to be used in the output file name\n",
        "        print('location name ', loc_name)\n",
        "\n",
        "      if line.find('Location latitude [deg]:') >= 0:\n",
        "        lat = float(line.split()[-1]) # location latitude\n",
        "        print('location latitude ', lat)\n",
        "\n",
        "      if line.find('Location longitude [deg]:') >= 0:\n",
        "        lon = float(line.split()[-1]) # location longitude\n",
        "        print('location longitude ', lon)\n",
        "\n",
        "      if line.find('--------') >= 0: break\n",
        "\n",
        "    while True:\n",
        "# Get next line from file\n",
        "      line = f.readline()\n",
        "\n",
        "      if line.find('--------') >= 0: break\n",
        "\n",
        "    while True:\n",
        "# now reading line with data\n",
        "      line = f.readline()\n",
        "\n",
        "      if not line: break\n",
        "\n",
        "      line_split = line.split()\n",
        "\n",
        "      yyyy, mm, dd, hh, mn, ss = read_timestamp(line_split[0])\n",
        "      date_stamp = yyyy*10000 + mm*100 + dd\n",
        "      if date_stamp < start_date or date_stamp > end_date: continue\n",
        "\n",
        "\n",
        "\n",
        "      column = float(line_split[38])\n",
        "      if column < 0.: continue\n",
        "\n",
        "      column_unc = float(line_split[42]) # total column uncertainty\n",
        "      if column_unc < 0.: continue\n",
        "\n",
        "      data = np.append(data, [[yyyy, mm, dd, hh, mn, ss, column*conversion_coeff, column_unc*conversion_coeff]], axis = 0)\n",
        "\n",
        "  return lat, lon, loc_name, data"
      ],
      "metadata": {
        "id": "7R72M8dVO2s2"
      },
      "execution_count": null,
      "outputs": []
    },
    {
      "cell_type": "markdown",
      "source": [
        "## 3.7 Discovering existing Pandora stations and selecting one of them"
      ],
      "metadata": {
        "id": "NN7_YcCackvI"
      }
    },
    {
      "cell_type": "code",
      "source": [
        "# Discovering available Pandora site.\n",
        "# Please bear in mind that some sites do not have O3 data files\n",
        "print('gathering Pandora sites information')\n",
        "refs = read_pandora_web()\n",
        "\n",
        "pandora_site = take_pandora_sites(refs) # create list of Pandora sites of interest\n",
        "print('the following sites were selected')\n",
        "print(pandora_site)\n",
        "print('from the list of existing Pandora sites')\n",
        "\n",
        "# create a list of !AVAILABLE! Pandora files for the Pandora site\n",
        "pandora_files = []\n",
        "\n",
        "links = instrument_path(pandora_site)\n",
        "\n",
        "npfiles = 0\n",
        "\n",
        "for link in links:\n",
        "  pandora_fname = link.split('/')[-1]\n",
        "\n",
        "# check if file exists in the local directory, if not download from Pandora site\n",
        "  if not os.path.exists(pandora_fname):\n",
        "    print(pandora_fname,' does not exit in local directory, downloading from the web')\n",
        "    print(link)\n",
        "\n",
        "    pandora_fname, response_code = download(link)\n",
        "\n",
        "    if response_code == 200:\n",
        "      print('Pandora L2 file ', pandora_fname, ' has been downloaded')\n",
        "      npfiles = npfiles + 1\n",
        "      pandora_files.append(pandora_fname)\n",
        "    else:\n",
        "      print('Pandora L2 file ', link, ' does not exist')\n",
        "\n",
        "  else:\n",
        "    print(pandora_fname,' exits in local directory')\n",
        "    npfiles = npfiles + 1\n",
        "    pandora_files.append(pandora_fname)\n",
        "\n",
        "if npfiles == 0: # no files were found, STOP here\n",
        "  print('no files were found for Pandora site ', pandora_site, 'program terminated')\n",
        "  sys.exit()\n",
        "if npfiles > 1: # normally there should be only one file per site. if there are more - STOP\n",
        "  print('there are too many files for site ', pandora_site, '- STOP and investigate file names below. Program terminated')\n",
        "  for pandora_fname in pandora_files:\n",
        "    print(pandora_fname)\n",
        "  sys.exit()"
      ],
      "metadata": {
        "colab": {
          "base_uri": "https://localhost:8080/"
        },
        "id": "G-VGNGOtzqBY",
        "outputId": "40d910ce-e8c1-44fb-b948-96191015ecc0"
      },
      "execution_count": null,
      "outputs": [
        {
          "output_type": "stream",
          "name": "stdout",
          "text": [
            "gathering Pandora sites information\n",
            "please select a Pandora site name from the list\n",
            "Agam\n",
            "AldineTX\n",
            "AliceSprings\n",
            "Altzomoni\n",
            "ArlingtonTX\n",
            "Athens-NOA\n",
            "AtlantaGA-SouthDeKalb\n",
            "AtlantaGA\n",
            "Bandung\n",
            "Bangkok\n",
            "Banting\n",
            "BayonneNJ\n",
            "Beijing-RADI\n",
            "BeltsvilleMD\n",
            "Berlin\n",
            "BlueHillMA\n",
            "BostonMA\n",
            "BoulderCO-NCAR\n",
            "BoulderCO\n",
            "Bremen\n",
            "BristolPA\n",
            "BronxNY\n",
            "Brussels-Uccle\n",
            "Bucharest\n",
            "BuenosAires\n",
            "BuffaloNY\n",
            "Busan\n",
            "Cabauw\n",
            "CambridgeMA\n",
            "CapeElizabethME\n",
            "ChapelHillNC\n",
            "CharlesCityVA\n",
            "ChicagoIL\n",
            "ClearLakeShoresTX\n",
            "Cologne\n",
            "ComodoroRivadavia\n",
            "Cordoba\n",
            "Dalanzadgad\n",
            "Davos\n",
            "DearbornMI\n",
            "Dhaka\n",
            "Downsview\n",
            "EastProvidenceRI\n",
            "EdwardsCA\n",
            "Egbert\n",
            "Eureka-PEARL\n",
            "FairbanksAK\n",
            "Fajardo\n",
            "FortMcKay\n",
            "Fukuoka\n",
            "Granada\n",
            "GreenbeltMD\n",
            "HamptonVA-HU\n",
            "HamptonVA\n",
            "Helsinki\n",
            "HoustonTX\n",
            "HuntsvilleAL\n",
            "Incheon-ESC\n",
            "Innsbruck\n",
            "Islamabad-NUST\n",
            "Izana\n",
            "Juelich\n",
            "KenoshaWI\n",
            "Kobe\n",
            "LaPorteTX\n",
            "Lindenberg\n",
            "LondonderryNH\n",
            "LynnMA\n",
            "MadisonCT\n",
            "ManhattanKS\n",
            "ManhattanNY-CCNY\n",
            "MaunaLoaHI\n",
            "MexicoCity-UNAM\n",
            "MexicoCity-Vallejo\n",
            "MountainViewCA\n",
            "Nagoya\n",
            "NewBrunswickNJ\n",
            "NewHavenCT\n",
            "NyAlesund\n",
            "OldFieldNY\n",
            "Palau\n",
            "PhiladelphiaPA\n",
            "PittsburghPA\n",
            "Pontianak\n",
            "Potchefstroom-METSI\n",
            "QueensNY\n",
            "RichmondCA\n",
            "Rome-IIA\n",
            "Rome-ISAC\n",
            "Rome-SAP\n",
            "SaltLakeCityUT-Hawthorne\n",
            "SaltLakeCityUT\n",
            "SanJoseCA\n",
            "Sapporo\n",
            "Seosan\n",
            "Seoul-SNU\n",
            "Seoul\n",
            "Singapore-NUS\n",
            "SouthJordanUT\n",
            "StGeorge\n",
            "StonyPlain\n",
            "SWDetroitMI\n",
            "Tel-Aviv\n",
            "Thessaloniki\n",
            "Tokyo-TMU\n",
            "Toronto-Scarborough\n",
            "Toronto-West\n",
            "Trollhaugen\n",
            "Tsukuba-NIES-West\n",
            "Tsukuba-NIES\n",
            "Tsukuba\n",
            "TurlockCA\n",
            "Ulaanbaatar\n",
            "Ulsan\n",
            "WacoTX\n",
            "Wakkerstroom\n",
            "WallopsIslandVA\n",
            "WashingtonDC\n",
            "WestportCT\n",
            "WhittierCA\n",
            "Windsor-West\n",
            "WrightwoodCA\n",
            "Yokosuka\n",
            "Enter a name of a Pandora site: Manh\n",
            "Manh\n",
            "there are  2  site names, select one from\n",
            "ManhattanKS\n",
            "ManhattanNY-CCNY\n",
            "Enter an exact name of a Pandora site: ManhattanNY-CCNY\n",
            "site  ManhattanNY-CCNY was found and added to the list of sites \n",
            "the following sites were selected\n",
            "ManhattanNY-CCNY\n",
            "from the list of existing Pandora sites\n",
            "https://data.pandonia-global-network.org/ManhattanNY-CCNY/Pandora135s1/L2/Pandora135s1_ManhattanNY-CCNY_L2_rfus5p1-8.txt\n",
            "Pandora135s1_ManhattanNY-CCNY_L2_rfus5p1-8.txt  does not exit in local directory, downloading from the web\n",
            "https://data.pandonia-global-network.org/ManhattanNY-CCNY/Pandora135s1/L2/Pandora135s1_ManhattanNY-CCNY_L2_rfus5p1-8.txt\n",
            "Pandora L2 file  Pandora135s1_ManhattanNY-CCNY_L2_rfus5p1-8.txt  has been downloaded\n"
          ]
        }
      ]
    },
    {
      "cell_type": "markdown",
      "source": [
        "## 3.8 Selecting timeframe of interest\n",
        "\n",
        "It is going to be common for both instruments"
      ],
      "metadata": {
        "id": "4vYb5skDdNvg"
      }
    },
    {
      "cell_type": "code",
      "source": [
        "print('enter period of interest, start and end dates, in the form YYYYMMDD')\n",
        "datestamp_ini = input('enter start date of interest ')\n",
        "datestamp_fin = input('enter end date of interest ')\n",
        "\n",
        "start_date = int(datestamp_ini)\n",
        "end_date = int(datestamp_fin)\n",
        "\n",
        "yyyy_ini = start_date//10000\n",
        "mm_ini = (start_date//100 - yyyy_ini*100)\n",
        "dd_ini = (start_date - yyyy_ini*10000 - mm_ini*100)\n",
        "\n",
        "yyyy_fin = end_date//10000\n",
        "mm_fin = (end_date//100 - yyyy_fin*100)\n",
        "dd_fin = (end_date - yyyy_fin*10000 - mm_fin*100)\n",
        "print(yyyy_ini, mm_ini, dd_ini, yyyy_fin, mm_fin, dd_fin)\n",
        "\n",
        "date_start = str('%4.4i-%2.2i-%2.2i 00:00:00' %(yyyy_ini, mm_ini, dd_ini))\n",
        "date_end = str('%4.4i-%2.2i-%2.2i 23:59:59' %(yyyy_fin, mm_fin, dd_fin))"
      ],
      "metadata": {
        "colab": {
          "base_uri": "https://localhost:8080/"
        },
        "id": "R7G6LBj6z9Mi",
        "outputId": "a48c6a50-8eb5-4d47-e9d4-869f72958598"
      },
      "execution_count": null,
      "outputs": [
        {
          "output_type": "stream",
          "name": "stdout",
          "text": [
            "enter period of interest, start and end dates, in the form YYYYMMDD\n",
            "enter start date of interest 20231028\n",
            "enter end date of interest 20231028\n",
            "2023 10 28 2023 10 28\n"
          ]
        }
      ]
    },
    {
      "cell_type": "markdown",
      "source": [
        "## 3.9 Reading Pandora file within selected timeframe and create point of interest"
      ],
      "metadata": {
        "id": "mTFV2Fkadj8e"
      }
    },
    {
      "cell_type": "code",
      "source": [
        "pandora_file = pandora_files[0]\n",
        "lat, lon, POI_name, Pandora_data = read_Pandora_HCHO_rfus5p1_8(pandora_file, start_date, end_date)\n",
        "\n",
        "if lat == -999.:\n",
        "  print('error reading pandora file ', pandora_file, 'program terminated')\n",
        "  sys.exit()\n",
        "\n",
        "POI = np.array([lat, lon])"
      ],
      "metadata": {
        "colab": {
          "base_uri": "https://localhost:8080/"
        },
        "id": "Rzmdn7JqxFBg",
        "outputId": "fc69dda6-b14d-4bd1-bbaa-c508a88299c9"
      },
      "execution_count": null,
      "outputs": [
        {
          "output_type": "stream",
          "name": "stdout",
          "text": [
            "location name  ManhattanNY-CCNY\n",
            "location latitude  40.8153\n",
            "location longitude  -73.9505\n"
          ]
        }
      ]
    },
    {
      "cell_type": "code",
      "source": [
        "print(Pandora_data)"
      ],
      "metadata": {
        "colab": {
          "base_uri": "https://localhost:8080/"
        },
        "id": "xzHznem2b_Nn",
        "outputId": "61d1e3ae-d386-4d01-8834-36ac1526dd34"
      },
      "execution_count": null,
      "outputs": [
        {
          "output_type": "stream",
          "name": "stdout",
          "text": [
            "[[2.02300000e+03 1.00000000e+01 2.80000000e+01 1.10000000e+01\n",
            "  5.20000000e+01 4.13000000e+01 9.15124510e+15 1.21502712e+15]\n",
            " [2.02300000e+03 1.00000000e+01 2.80000000e+01 1.20000000e+01\n",
            "  4.00000000e+00 1.09000000e+01 7.83420291e+15 6.34914300e+14]\n",
            " [2.02300000e+03 1.00000000e+01 2.80000000e+01 1.20000000e+01\n",
            "  1.40000000e+01 5.82000000e+01 7.95163466e+15 5.54030928e+14]\n",
            " [2.02300000e+03 1.00000000e+01 2.80000000e+01 1.20000000e+01\n",
            "  2.90000000e+01 4.23000000e+01 7.37953129e+15 5.38361318e+14]\n",
            " [2.02300000e+03 1.00000000e+01 2.80000000e+01 1.20000000e+01\n",
            "  3.50000000e+01 2.60000000e+01 7.31449217e+15 5.38216786e+14]\n",
            " [2.02300000e+03 1.00000000e+01 2.80000000e+01 1.20000000e+01\n",
            "  4.00000000e+01 5.86000000e+01 7.65715198e+15 5.67665054e+14]\n",
            " [2.02300000e+03 1.00000000e+01 2.80000000e+01 1.20000000e+01\n",
            "  4.60000000e+01 5.16000000e+01 7.61981470e+15 5.83184111e+14]\n",
            " [2.02300000e+03 1.00000000e+01 2.80000000e+01 1.20000000e+01\n",
            "  5.70000000e+01 5.49000000e+01 7.39037114e+15 6.11427951e+14]\n",
            " [2.02300000e+03 1.00000000e+01 2.80000000e+01 1.30000000e+01\n",
            "  8.00000000e+00 8.20000000e+00 7.32051431e+15 6.46175704e+14]\n",
            " [2.02300000e+03 1.00000000e+01 2.80000000e+01 1.30000000e+01\n",
            "  2.80000000e+01 2.84000000e+01 6.94292608e+15 7.24282869e+14]\n",
            " [2.02300000e+03 1.00000000e+01 2.80000000e+01 1.30000000e+01\n",
            "  3.30000000e+01 5.19000000e+01 7.04349583e+15 7.45721690e+14]\n",
            " [2.02300000e+03 1.00000000e+01 2.80000000e+01 1.30000000e+01\n",
            "  3.90000000e+01 1.05000000e+01 6.91221316e+15 7.68906932e+14]\n",
            " [2.02300000e+03 1.00000000e+01 2.80000000e+01 1.30000000e+01\n",
            "  4.40000000e+01 3.44000000e+01 6.64483011e+15 7.93055717e+14]\n",
            " [2.02300000e+03 1.00000000e+01 2.80000000e+01 1.30000000e+01\n",
            "  5.50000000e+01 9.80000000e+00 5.79558782e+15 8.23347085e+14]\n",
            " [2.02300000e+03 1.00000000e+01 2.80000000e+01 1.40000000e+01\n",
            "  9.00000000e+00 1.34000000e+01 6.22568912e+15 8.71162882e+14]\n",
            " [2.02300000e+03 1.00000000e+01 2.80000000e+01 1.40000000e+01\n",
            "  1.40000000e+01 3.42000000e+01 6.56172457e+15 8.91337054e+14]\n",
            " [2.02300000e+03 1.00000000e+01 2.80000000e+01 1.40000000e+01\n",
            "  1.90000000e+01 5.36000000e+01 6.14920793e+15 9.07837720e+14]\n",
            " [2.02300000e+03 1.00000000e+01 2.80000000e+01 1.40000000e+01\n",
            "  2.50000000e+01 1.36000000e+01 6.13836808e+15 9.26145027e+14]\n",
            " [2.02300000e+03 1.00000000e+01 2.80000000e+01 1.40000000e+01\n",
            "  3.00000000e+01 3.27000000e+01 6.09380424e+15 9.43067243e+14]\n",
            " [2.02300000e+03 1.00000000e+01 2.80000000e+01 1.40000000e+01\n",
            "  3.50000000e+01 5.33000000e+01 6.70806259e+15 9.58664588e+14]\n",
            " [2.02300000e+03 1.00000000e+01 2.80000000e+01 1.40000000e+01\n",
            "  4.10000000e+01 1.26000000e+01 7.21030913e+15 9.73780161e+14]\n",
            " [2.02300000e+03 1.00000000e+01 2.80000000e+01 1.40000000e+01\n",
            "  4.60000000e+01 3.21000000e+01 5.77649764e+15 9.93472561e+14]\n",
            " [2.02300000e+03 1.00000000e+01 2.80000000e+01 1.40000000e+01\n",
            "  5.70000000e+01 7.40000000e+00 6.14499243e+15 1.02322194e+15]\n",
            " [2.02300000e+03 1.00000000e+01 2.80000000e+01 1.50000000e+01\n",
            "  6.00000000e+00 3.50000000e+01 6.91763309e+15 1.04080659e+15]\n",
            " [2.02300000e+03 1.00000000e+01 2.80000000e+01 1.50000000e+01\n",
            "  1.30000000e+01 3.21000000e+01 6.48464117e+15 1.05562105e+15]\n",
            " [2.02300000e+03 1.00000000e+01 2.80000000e+01 1.50000000e+01\n",
            "  1.80000000e+01 5.11000000e+01 6.91462202e+15 1.06652113e+15]\n",
            " [2.02300000e+03 1.00000000e+01 2.80000000e+01 1.50000000e+01\n",
            "  2.40000000e+01 1.00000000e+01 5.54669275e+15 1.08308202e+15]\n",
            " [2.02300000e+03 1.00000000e+01 2.80000000e+01 1.50000000e+01\n",
            "  2.90000000e+01 2.77000000e+01 6.98989878e+15 1.08699641e+15]\n",
            " [2.02300000e+03 1.00000000e+01 2.80000000e+01 1.50000000e+01\n",
            "  3.40000000e+01 4.69000000e+01 7.90405975e+15 1.09608984e+15]\n",
            " [2.02300000e+03 1.00000000e+01 2.80000000e+01 1.50000000e+01\n",
            "  4.00000000e+01 4.60000000e+00 7.08565082e+15 1.10409929e+15]\n",
            " [2.02300000e+03 1.00000000e+01 2.80000000e+01 1.50000000e+01\n",
            "  4.50000000e+01 2.43000000e+01 6.76105743e+15 1.11174741e+15]\n",
            " [2.02300000e+03 1.00000000e+01 2.80000000e+01 1.50000000e+01\n",
            "  5.00000000e+01 3.16000000e+01 7.57525086e+15 1.12547789e+15]\n",
            " [2.02300000e+03 1.00000000e+01 2.80000000e+01 1.50000000e+01\n",
            "  5.00000000e+01 5.94000000e+01 7.31087888e+15 1.12710386e+15]\n",
            " [2.02300000e+03 1.00000000e+01 2.80000000e+01 1.60000000e+01\n",
            "  1.00000000e+00 8.20000000e+00 7.95524794e+15 1.13782328e+15]\n",
            " [2.02300000e+03 1.00000000e+01 2.80000000e+01 1.60000000e+01\n",
            "  1.00000000e+00 3.61000000e+01 7.98415422e+15 1.13824483e+15]\n",
            " [2.02300000e+03 1.00000000e+01 2.80000000e+01 1.60000000e+01\n",
            "  1.00000000e+01 3.22000000e+01 7.11696595e+15 1.14517029e+15]\n",
            " [2.02300000e+03 1.00000000e+01 2.80000000e+01 1.60000000e+01\n",
            "  1.10000000e+01 2.00000000e-01 6.66831646e+15 1.14721781e+15]\n",
            " [2.02300000e+03 1.00000000e+01 2.80000000e+01 1.60000000e+01\n",
            "  1.70000000e+01 3.02000000e+01 7.99981179e+15 1.15034933e+15]\n",
            " [2.02300000e+03 1.00000000e+01 2.80000000e+01 1.60000000e+01\n",
            "  1.70000000e+01 5.80000000e+01 8.22865313e+15 1.14986756e+15]\n",
            " [2.02300000e+03 1.00000000e+01 2.80000000e+01 1.60000000e+01\n",
            "  2.20000000e+01 4.81000000e+01 7.42289070e+15 1.15167420e+15]\n",
            " [2.02300000e+03 1.00000000e+01 2.80000000e+01 1.60000000e+01\n",
            "  2.30000000e+01 1.61000000e+01 7.70894239e+15 1.15317973e+15]\n",
            " [2.02300000e+03 1.00000000e+01 2.80000000e+01 1.60000000e+01\n",
            "  2.80000000e+01 8.00000000e+00 6.08236217e+15 1.15354106e+15]\n",
            " [2.02300000e+03 1.00000000e+01 2.80000000e+01 1.60000000e+01\n",
            "  2.80000000e+01 3.59000000e+01 6.96039029e+15 1.15420350e+15]\n",
            " [2.02300000e+03 1.00000000e+01 2.80000000e+01 1.60000000e+01\n",
            "  3.30000000e+01 2.57000000e+01 5.68502132e+15 1.15540793e+15]\n",
            " [2.02300000e+03 1.00000000e+01 2.80000000e+01 1.60000000e+01\n",
            "  3.30000000e+01 5.36000000e+01 6.51475187e+15 1.15769634e+15]\n",
            " [2.02300000e+03 1.00000000e+01 2.80000000e+01 1.60000000e+01\n",
            "  3.80000000e+01 4.56000000e+01 6.32806551e+15 1.15588970e+15]\n",
            " [2.02300000e+03 1.00000000e+01 2.80000000e+01 1.60000000e+01\n",
            "  3.90000000e+01 1.34000000e+01 7.39699550e+15 1.15564881e+15]\n",
            " [2.02300000e+03 1.00000000e+01 2.80000000e+01 1.60000000e+01\n",
            "  4.40000000e+01 2.90000000e+00 5.83033558e+15 1.15570903e+15]\n",
            " [2.02300000e+03 1.00000000e+01 2.80000000e+01 1.60000000e+01\n",
            "  4.40000000e+01 3.07000000e+01 7.07601539e+15 1.15582948e+15]\n",
            " [2.02300000e+03 1.00000000e+01 2.80000000e+01 1.60000000e+01\n",
            "  4.90000000e+01 2.28000000e+01 6.82910762e+15 1.15456483e+15]\n",
            " [2.02300000e+03 1.00000000e+01 2.80000000e+01 1.60000000e+01\n",
            "  4.90000000e+01 5.06000000e+01 7.82095421e+15 1.15486593e+15]\n",
            " [2.02300000e+03 1.00000000e+01 2.80000000e+01 1.60000000e+01\n",
            "  5.40000000e+01 3.98000000e+01 6.99230764e+15 1.15390239e+15]\n",
            " [2.02300000e+03 1.00000000e+01 2.80000000e+01 1.60000000e+01\n",
            "  5.50000000e+01 7.70000000e+00 7.27896154e+15 1.15456483e+15]\n",
            " [2.02300000e+03 1.00000000e+01 2.80000000e+01 1.70000000e+01\n",
            "  5.00000000e+00 1.82000000e+01 7.68605825e+15 1.14757914e+15]\n",
            " [2.02300000e+03 1.00000000e+01 2.80000000e+01 1.70000000e+01\n",
            "  5.00000000e+00 4.61000000e+01 7.82095421e+15 1.14751892e+15]\n",
            " [2.02300000e+03 1.00000000e+01 2.80000000e+01 1.70000000e+01\n",
            "  1.40000000e+01 4.08000000e+01 8.43701920e+15 1.13987080e+15]\n",
            " [2.02300000e+03 1.00000000e+01 2.80000000e+01 1.70000000e+01\n",
            "  1.50000000e+01 8.70000000e+00 8.86278456e+15 1.14005147e+15]\n",
            " [2.02300000e+03 1.00000000e+01 2.80000000e+01 1.70000000e+01\n",
            "  2.10000000e+01 3.90000000e+01 7.17236965e+15 1.13529398e+15]\n",
            " [2.02300000e+03 1.00000000e+01 2.80000000e+01 1.70000000e+01\n",
            "  2.20000000e+01 6.80000000e+00 8.10158596e+15 1.13607685e+15]\n",
            " [2.02300000e+03 1.00000000e+01 2.80000000e+01 1.70000000e+01\n",
            "  2.60000000e+01 5.66000000e+01 6.88752239e+15 1.12957294e+15]\n",
            " [2.02300000e+03 1.00000000e+01 2.80000000e+01 1.70000000e+01\n",
            "  2.70000000e+01 2.46000000e+01 8.11603910e+15 1.12921161e+15]\n",
            " [2.02300000e+03 1.00000000e+01 2.80000000e+01 1.70000000e+01\n",
            "  3.20000000e+01 2.65000000e+01 5.86147004e+15 1.28988233e+15]\n",
            " [2.02300000e+03 1.00000000e+01 2.80000000e+01 1.70000000e+01\n",
            "  4.10000000e+01 3.20000000e+01 4.89407335e+15 3.49416651e+15]\n",
            " [2.02300000e+03 1.00000000e+01 2.80000000e+01 1.70000000e+01\n",
            "  4.50000000e+01 6.90000000e+00 1.00220467e+16 9.23856614e+15]\n",
            " [2.02300000e+03 1.00000000e+01 2.80000000e+01 1.80000000e+01\n",
            "  3.00000000e+00 3.57000000e+01 7.14587223e+15 1.37274699e+15]\n",
            " [2.02300000e+03 1.00000000e+01 2.80000000e+01 1.80000000e+01\n",
            "  1.10000000e+01 5.35000000e+01 4.18665248e+15 2.47516007e+15]\n",
            " [2.02300000e+03 1.00000000e+01 2.80000000e+01 1.80000000e+01\n",
            "  1.60000000e+01 4.82000000e+01 7.55838887e+15 1.03087006e+15]\n",
            " [2.02300000e+03 1.00000000e+01 2.80000000e+01 1.80000000e+01\n",
            "  2.20000000e+01 8.40000000e+00 8.06725976e+15 1.01846445e+15]\n",
            " [2.02300000e+03 1.00000000e+01 2.80000000e+01 1.80000000e+01\n",
            "  2.70000000e+01 2.71000000e+01 8.12085681e+15 1.01081633e+15]\n",
            " [2.02300000e+03 1.00000000e+01 2.80000000e+01 1.80000000e+01\n",
            "  3.20000000e+01 4.49000000e+01 8.81039193e+15 9.87992413e+14]\n",
            " [2.02300000e+03 1.00000000e+01 2.80000000e+01 1.80000000e+01\n",
            "  3.80000000e+01 4.40000000e+00 8.90493954e+15 9.72334847e+14]\n",
            " [2.02300000e+03 1.00000000e+01 2.80000000e+01 1.80000000e+01\n",
            "  4.30000000e+01 2.29000000e+01 8.05581769e+15 9.57881709e+14]\n",
            " [2.02300000e+03 1.00000000e+01 2.80000000e+01 1.80000000e+01\n",
            "  4.80000000e+01 4.21000000e+01 7.07962868e+15 9.41742372e+14]\n",
            " [2.02300000e+03 1.00000000e+01 2.80000000e+01 1.80000000e+01\n",
            "  5.40000000e+01 6.00000000e-01 8.29068118e+15 9.26867684e+14]\n",
            " [2.02300000e+03 1.00000000e+01 2.80000000e+01 1.90000000e+01\n",
            "  4.00000000e+00 3.66000000e+01 8.53457789e+15 8.94287903e+14]\n",
            " [2.02300000e+03 1.00000000e+01 2.80000000e+01 1.90000000e+01\n",
            "  5.60000000e+01 5.04000000e+01 3.61834305e+15 1.46578906e+15]\n",
            " [2.02300000e+03 1.00000000e+01 2.80000000e+01 2.00000000e+01\n",
            "  2.00000000e+00 1.34000000e+01 7.80228557e+15 6.92666630e+14]\n",
            " [2.02300000e+03 1.00000000e+01 2.80000000e+01 2.00000000e+01\n",
            "  2.00000000e+01 2.68000000e+01 1.04899670e+16 3.40726702e+15]\n",
            " [2.02300000e+03 1.00000000e+01 2.80000000e+01 2.00000000e+01\n",
            "  2.40000000e+01 4.72000000e+01 8.26960369e+15 6.33107658e+14]\n",
            " [2.02300000e+03 1.00000000e+01 2.80000000e+01 2.00000000e+01\n",
            "  3.00000000e+01 2.58000000e+01 8.69115354e+15 6.11307509e+14]\n",
            " [2.02300000e+03 1.00000000e+01 2.80000000e+01 2.00000000e+01\n",
            "  3.60000000e+01 9.60000000e+00 6.85138954e+15 9.18677573e+14]\n",
            " [2.02300000e+03 1.00000000e+01 2.80000000e+01 2.00000000e+01\n",
            "  4.50000000e+01 3.85000000e+01 1.13107848e+16 5.04944458e+15]\n",
            " [2.02300000e+03 1.00000000e+01 2.80000000e+01 2.10000000e+01\n",
            "  7.00000000e+00 3.00000000e+00 9.27710784e+15 6.34071201e+14]\n",
            " [2.02300000e+03 1.00000000e+01 2.80000000e+01 2.10000000e+01\n",
            "  1.80000000e+01 2.00000000e-01 7.83360070e+15 8.34247159e+14]]\n"
          ]
        }
      ]
    },
    {
      "cell_type": "code",
      "source": [
        "print(len(Pandora_data))"
      ],
      "metadata": {
        "colab": {
          "base_uri": "https://localhost:8080/"
        },
        "id": "KvzB0taNsaYj",
        "outputId": "30884dd2-8281-4cbd-f531-6935ac761be8"
      },
      "execution_count": null,
      "outputs": [
        {
          "output_type": "stream",
          "name": "stdout",
          "text": [
            "84\n"
          ]
        }
      ]
    },
    {
      "cell_type": "markdown",
      "source": [
        "#4 Working with TEMPO data"
      ],
      "metadata": {
        "id": "1h0srrK7HbpO"
      }
    },
    {
      "cell_type": "markdown",
      "source": [
        "##4.1 Setting TEMPO name constants"
      ],
      "metadata": {
        "id": "3wvhtsq5kXgZ"
      }
    },
    {
      "cell_type": "code",
      "source": [
        "short_name = 'TEMPO_HCHO_L2' # collection name to search for in the EarthData\n",
        "out_Q = 'tot_HCHO_col' # name of the output quantity with unit\n",
        "out_Q_unit = out_Q+',_molecules/cm^2' # name of the output quantity with unit"
      ],
      "metadata": {
        "id": "fZRNP9ifkMg4"
      },
      "execution_count": null,
      "outputs": []
    },
    {
      "cell_type": "markdown",
      "source": [
        "##5.2 Searching TEMPO data files within 0.5 degree range around the POI (position of the Pandora station)"
      ],
      "metadata": {
        "id": "qO9NEF61jlcy"
      }
    },
    {
      "cell_type": "code",
      "source": [
        "POI_lat = POI[0]\n",
        "POI_lon = POI[1]\n",
        "\n",
        "bbox = (POI_lon - 0.5, POI_lat - 0.5, POI_lon + 0.5, POI_lat + 0.5)\n",
        "POI_results = earthaccess.search_data(short_name = short_name,\n",
        "                                    temporal = (date_start, date_end),\n",
        "                                    bounding_box = bbox)\n",
        "\n",
        "print('total number of granules found for POI', POI_name, \\\n",
        "      '\\nwithin period of interes between', date_start, 'and', date_end, \\\n",
        "      '\\nis', len(POI_results))"
      ],
      "metadata": {
        "colab": {
          "base_uri": "https://localhost:8080/"
        },
        "id": "vEUujyNZzRx0",
        "outputId": "e0d80b78-1bb1-4221-d202-01398547b9ef"
      },
      "execution_count": null,
      "outputs": [
        {
          "output_type": "stream",
          "name": "stdout",
          "text": [
            "Granules found: 22\n",
            "total number of granules found for POI ManhattanNY-CCNY \n",
            "within period of interes between 2023-10-28 00:00:00 and 2023-10-28 23:59:59 \n",
            "is 22\n"
          ]
        }
      ]
    },
    {
      "cell_type": "markdown",
      "source": [
        "###5.2.0 Printing explicit links to the granules\n",
        "\n",
        "This can be dropped off"
      ],
      "metadata": {
        "id": "OvC5eZRhk7Xz"
      }
    },
    {
      "cell_type": "code",
      "source": [
        "granule_links = []\n",
        "for result in POI_results: granule_links.append(result['umm']['RelatedUrls'][0]['URL'])\n",
        "\n",
        "for granule_link in granule_links: print(granule_link)"
      ],
      "metadata": {
        "id": "UQnLZCmB5Oxv",
        "colab": {
          "base_uri": "https://localhost:8080/"
        },
        "outputId": "86be698c-2867-4b87-f7eb-b96ec947ab4a"
      },
      "execution_count": null,
      "outputs": [
        {
          "output_type": "stream",
          "name": "stdout",
          "text": [
            "https://data.asdc.earthdata.nasa.gov/asdc-prod-protected/TEMPO/TEMPO_HCHO_L2_V01/2023.10.28/TEMPO_HCHO_L2_V01_20231028T114841Z_S001G02.nc\n",
            "https://data.asdc.earthdata.nasa.gov/asdc-prod-protected/TEMPO/TEMPO_HCHO_L2_V01/2023.10.28/TEMPO_HCHO_L2_V01_20231028T115518Z_S001G03.nc\n",
            "https://data.asdc.earthdata.nasa.gov/asdc-prod-protected/TEMPO/TEMPO_HCHO_L2_V01/2023.10.28/TEMPO_HCHO_L2_V01_20231028T122846Z_S002G02.nc\n",
            "https://data.asdc.earthdata.nasa.gov/asdc-prod-protected/TEMPO/TEMPO_HCHO_L2_V01/2023.10.28/TEMPO_HCHO_L2_V01_20231028T123523Z_S002G03.nc\n",
            "https://data.asdc.earthdata.nasa.gov/asdc-prod-protected/TEMPO/TEMPO_HCHO_L2_V01/2023.10.28/TEMPO_HCHO_L2_V01_20231028T130851Z_S003G02.nc\n",
            "https://data.asdc.earthdata.nasa.gov/asdc-prod-protected/TEMPO/TEMPO_HCHO_L2_V01/2023.10.28/TEMPO_HCHO_L2_V01_20231028T131528Z_S003G03.nc\n",
            "https://data.asdc.earthdata.nasa.gov/asdc-prod-protected/TEMPO/TEMPO_HCHO_L2_V01/2023.10.28/TEMPO_HCHO_L2_V01_20231028T134856Z_S004G02.nc\n",
            "https://data.asdc.earthdata.nasa.gov/asdc-prod-protected/TEMPO/TEMPO_HCHO_L2_V01/2023.10.28/TEMPO_HCHO_L2_V01_20231028T135533Z_S004G03.nc\n",
            "https://data.asdc.earthdata.nasa.gov/asdc-prod-protected/TEMPO/TEMPO_HCHO_L2_V01/2023.10.28/TEMPO_HCHO_L2_V01_20231028T142901Z_S005G02.nc\n",
            "https://data.asdc.earthdata.nasa.gov/asdc-prod-protected/TEMPO/TEMPO_HCHO_L2_V01/2023.10.28/TEMPO_HCHO_L2_V01_20231028T143541Z_S005G03.nc\n",
            "https://data.asdc.earthdata.nasa.gov/asdc-prod-protected/TEMPO/TEMPO_HCHO_L2_V01/2023.10.28/TEMPO_HCHO_L2_V01_20231028T152901Z_S006G02.nc\n",
            "https://data.asdc.earthdata.nasa.gov/asdc-prod-protected/TEMPO/TEMPO_HCHO_L2_V01/2023.10.28/TEMPO_HCHO_L2_V01_20231028T153541Z_S006G03.nc\n",
            "https://data.asdc.earthdata.nasa.gov/asdc-prod-protected/TEMPO/TEMPO_HCHO_L2_V01/2023.10.28/TEMPO_HCHO_L2_V01_20231028T162901Z_S007G02.nc\n",
            "https://data.asdc.earthdata.nasa.gov/asdc-prod-protected/TEMPO/TEMPO_HCHO_L2_V01/2023.10.28/TEMPO_HCHO_L2_V01_20231028T163541Z_S007G03.nc\n",
            "https://data.asdc.earthdata.nasa.gov/asdc-prod-protected/TEMPO/TEMPO_HCHO_L2_V01/2023.10.28/TEMPO_HCHO_L2_V01_20231028T172901Z_S008G02.nc\n",
            "https://data.asdc.earthdata.nasa.gov/asdc-prod-protected/TEMPO/TEMPO_HCHO_L2_V01/2023.10.28/TEMPO_HCHO_L2_V01_20231028T173541Z_S008G03.nc\n",
            "https://data.asdc.earthdata.nasa.gov/asdc-prod-protected/TEMPO/TEMPO_HCHO_L2_V01/2023.10.28/TEMPO_HCHO_L2_V01_20231028T182901Z_S009G02.nc\n",
            "https://data.asdc.earthdata.nasa.gov/asdc-prod-protected/TEMPO/TEMPO_HCHO_L2_V01/2023.10.28/TEMPO_HCHO_L2_V01_20231028T183541Z_S009G03.nc\n",
            "https://data.asdc.earthdata.nasa.gov/asdc-prod-protected/TEMPO/TEMPO_HCHO_L2_V01/2023.10.28/TEMPO_HCHO_L2_V01_20231028T192901Z_S010G02.nc\n",
            "https://data.asdc.earthdata.nasa.gov/asdc-prod-protected/TEMPO/TEMPO_HCHO_L2_V01/2023.10.28/TEMPO_HCHO_L2_V01_20231028T193541Z_S010G03.nc\n",
            "https://data.asdc.earthdata.nasa.gov/asdc-prod-protected/TEMPO/TEMPO_HCHO_L2_V01/2023.10.28/TEMPO_HCHO_L2_V01_20231028T202917Z_S011G02.nc\n",
            "https://data.asdc.earthdata.nasa.gov/asdc-prod-protected/TEMPO/TEMPO_HCHO_L2_V01/2023.10.28/TEMPO_HCHO_L2_V01_20231028T203613Z_S011G03.nc\n"
          ]
        }
      ]
    },
    {
      "cell_type": "markdown",
      "source": [
        "##5.3 Downloading TEMPO data files"
      ],
      "metadata": {
        "id": "GTZXmaFalcLa"
      }
    },
    {
      "cell_type": "code",
      "source": [
        "downloaded_files = earthaccess.download(\n",
        "    POI_results,\n",
        "    local_path='.',\n",
        ")"
      ],
      "metadata": {
        "colab": {
          "base_uri": "https://localhost:8080/",
          "height": 130,
          "referenced_widgets": [
            "d360ce0f49434219a039f7fc2a23e6ac",
            "d4357487b6a2463cb561e0c00c225afa",
            "6b1b852c9d634b668aee73b40de644a5",
            "4493b2dc30b54e398af76ba9a25021b8",
            "eac175a82c45417c81cdd2fba3428df1",
            "ae60e787f11449acae21752be0309aeb",
            "ef91ed369ae3484d81b5e91e4342390e",
            "8e05f97fd3fe4653880b801c86ffd6d1",
            "559b55bd2d354798b101a942366d0a74",
            "2822d107ab5943bab7c89da70e2437e2",
            "a848066fa71f4657981754a430dc5756",
            "72a9ab2642154eea8eb1b88b42930f01",
            "939d0c90197a4b3fae36d2f40e66d52b",
            "7072a48bfee4409b88a02ff216f84525",
            "b6e6690c453e4cf29b215901b6fefc82",
            "2b188f80cbbb44c68f7bc80fed613813",
            "4538cced45cd43aaad96392f5b17b69e",
            "4a498d9f6f4b4785831648618c057387",
            "54f1e8102db64c06a8ed12bf52a01360",
            "300791c412fd40e19311c22db0404aae",
            "2500050cd8424aa796f529e041a32f55",
            "d296f414cb144950b7ec7fee330eedab",
            "f253d8a1f53a4022b42f04283b71ffe9",
            "211b2e7dde7b41f2a5e755a043c9518e",
            "941e1e2b952b4ea8a335c23807e8bc4c",
            "1ce61bce12854fdcba7c24b73b806a93",
            "3147596830d9451581fb003f68c9b001",
            "4f91aed2aa884630b7a72c497d71aca0",
            "58527717a65a4e458d22b1f3402fcbb5",
            "3f7c50365b324c138fe985eac0aa9c24",
            "38300503770e480b8f0a9d29f6251345",
            "9214dbdde44a4b3d8d3a78db62633554",
            "319e49239a9242e8b6191546ae981173"
          ]
        },
        "id": "DeSFXhk2DYIP",
        "outputId": "6e286f75-7db0-4bc2-b842-99885bd615ca"
      },
      "execution_count": null,
      "outputs": [
        {
          "output_type": "stream",
          "name": "stdout",
          "text": [
            " Getting 22 granules, approx download size: 0.0 GB\n"
          ]
        },
        {
          "output_type": "display_data",
          "data": {
            "text/plain": [
              "QUEUEING TASKS | :   0%|          | 0/22 [00:00<?, ?it/s]"
            ],
            "application/vnd.jupyter.widget-view+json": {
              "version_major": 2,
              "version_minor": 0,
              "model_id": "d360ce0f49434219a039f7fc2a23e6ac"
            }
          },
          "metadata": {}
        },
        {
          "output_type": "display_data",
          "data": {
            "text/plain": [
              "PROCESSING TASKS | :   0%|          | 0/22 [00:00<?, ?it/s]"
            ],
            "application/vnd.jupyter.widget-view+json": {
              "version_major": 2,
              "version_minor": 0,
              "model_id": "72a9ab2642154eea8eb1b88b42930f01"
            }
          },
          "metadata": {}
        },
        {
          "output_type": "display_data",
          "data": {
            "text/plain": [
              "COLLECTING RESULTS | :   0%|          | 0/22 [00:00<?, ?it/s]"
            ],
            "application/vnd.jupyter.widget-view+json": {
              "version_major": 2,
              "version_minor": 0,
              "model_id": "f253d8a1f53a4022b42f04283b71ffe9"
            }
          },
          "metadata": {}
        }
      ]
    },
    {
      "cell_type": "markdown",
      "source": [
        "###5.3.0 Checking whether all TEMPO data files\n",
        "\n",
        "This can be dropped off, but it can be useful to ensure that all TEMPO files are downloaded. If the outcom is '0' then all is done"
      ],
      "metadata": {
        "id": "_LizSkWolsNc"
      }
    },
    {
      "cell_type": "code",
      "source": [
        "cnt = 0\n",
        "for granule_link in granule_links:\n",
        "  TEMPO_fname = granule_link.split('/')[-1]\n",
        "\n",
        "# check if file exists in the local directory, if not download from Pandora site\n",
        "  if not os.path.exists(TEMPO_fname):\n",
        "    print(TEMPO_fname, 'does not exist in local directory')\n",
        "    cnt += 1\n",
        "\n",
        "print(cnt)"
      ],
      "metadata": {
        "colab": {
          "base_uri": "https://localhost:8080/"
        },
        "id": "M23BH438AM2k",
        "outputId": "9c7a23a1-a18d-44fa-a8ee-495154b37e58"
      },
      "execution_count": null,
      "outputs": [
        {
          "output_type": "stream",
          "name": "stdout",
          "text": [
            "0\n"
          ]
        }
      ]
    },
    {
      "cell_type": "markdown",
      "source": [
        "##5.4 Defining function reading TEMPO HCHO data file"
      ],
      "metadata": {
        "id": "qOcLRgZf6dbS"
      }
    },
    {
      "cell_type": "code",
      "source": [
        "def read_TEMPO_HCHO_L2(fn):\n",
        "  '''\n",
        "  function read_TEMPO_HCHO_L2 reads the following arrays from the\n",
        "  TEMPO L2 O3 product TEMPO_HCHO_L2_V01:\n",
        "    vertical_column;\n",
        "    vertical_column_uncertainty;\n",
        "  and returns respective fields along with coordinates of the pixels\n",
        "  and their corners and fill values of all variables.\n",
        "\n",
        "  If one requested variables cannot be read, all returned variables are zeroed\n",
        "  '''\n",
        "  ds = nc.Dataset(fn)\n",
        "\n",
        "  prod = ds.groups['product'] # this opens group product, /product, as prod\n",
        "\n",
        "  var_name = 'vertical_column'\n",
        "  var_unc_name = 'vertical_column_uncertainty'\n",
        "  try:\n",
        "    var = prod.variables[var_name] # this reads variable column_amount_o3 from prod (group product, /product)\n",
        "    total_HCHO_column = np.array(var)\n",
        "    fv_prod = var.getncattr('_FillValue')\n",
        "    prod_unit = var.getncattr('units')\n",
        "\n",
        "    var_unc = prod.variables[var_unc_name] # this reads variable column_amount_o3 from prod (group product, /product)\n",
        "    total_HCHO_column_unc = np.array(var_unc)\n",
        "\n",
        "  except:\n",
        "    print('variable '+var_name+' cannot be read in file '+fn)\n",
        "    lat = 0.\n",
        "    lon = 0.\n",
        "    time = 0.\n",
        "    fv_geo = 0.\n",
        "    total_HCHO_column = 0.\n",
        "    total_HCHO_column_unc = 0.\n",
        "    fv_prod = 0.\n",
        "    prod_unit = ''\n",
        "    return lat, lon, fv_geo, time, total_HCHO_column, total_HCHO_column_unc, fv_prod, prod_unit\n",
        "\n",
        "  geo = ds.groups['geolocation'] # this opens group geolocation, /geolocation, as geo\n",
        "\n",
        "  lat = np.array(geo.variables['latitude']) # this reads variable latitude from geo (geolocation group, /geolocation) into a numpy array\n",
        "  lon = np.array(geo.variables['longitude']) # this reads variable longitude from geo (geolocation group, /geolocation) into a numpy array\n",
        "  fv_geo = geo.variables['latitude'].getncattr('_FillValue')\n",
        "  time = np.array(geo.variables['time'] )# this reads variable longitude from geo (geolocation group, /geolocation) into a numpy array\n",
        "\n",
        "  return lat, lon, fv_geo, time, total_HCHO_column, total_HCHO_column_unc, fv_prod, prod_unit\n"
      ],
      "metadata": {
        "id": "AV7xYKvtVGNc"
      },
      "execution_count": null,
      "outputs": []
    },
    {
      "cell_type": "markdown",
      "source": [
        "##5.5 Defining function creating TEMPO O3 granule polygon"
      ],
      "metadata": {
        "id": "cIx1pyeu6ykg"
      }
    },
    {
      "cell_type": "code",
      "source": [
        "def TEMPO_L2_polygon(lat, lon, fv_geo):\n",
        "  nx = lon.shape[0]\n",
        "  ny = lon.shape[1]\n",
        "  print(nx, ny)\n",
        "\n",
        "  dpos = np.empty([0,2])\n",
        "\n",
        "  x_ind = np.empty([nx, ny], dtype = int) # creating array in x indices\n",
        "  for ix in range(nx): x_ind[ix, :] = ix # populating array in x indices\n",
        "  y_ind = np.empty([nx, ny], dtype = int)\n",
        "  for iy in range(ny): y_ind[:, iy] = iy # populating array in x indices\n",
        "\n",
        "  mask = (lon[ix, iy] != fv_geo)&(lat[ix, iy] != fv_geo)\n",
        "  if len(lon[mask]) == 0:\n",
        "    print('the granule is empty - no meaningful positions')\n",
        "    return dpos\n",
        "\n",
        "# right boundary\n",
        "  r_m = min(x_ind[mask].flatten())\n",
        "  local_mask = (lon[r_m, :] != fv_geo)&(lat[r_m, :] != fv_geo)\n",
        "  r_b = np.stack((lon[r_m, local_mask], lat[r_m, local_mask])).T\n",
        "\n",
        "# left boundary\n",
        "  l_m = max(x_ind[mask].flatten())\n",
        "  local_mask = (lon[l_m, :] != fv_geo)&(lat[l_m, :] != fv_geo)\n",
        "  l_b = np.stack((lon[l_m, local_mask], lat[l_m, local_mask])).T\n",
        "#  sys.exit()\n",
        "\n",
        "#top and bottom boundaries\n",
        "  t_b = np.empty([0,2])\n",
        "  b_b = np.empty([0,2])\n",
        "  for ix in range(r_m + 1, l_m):\n",
        "    local_mask = (lon[ix, :] != fv_geo)&(lat[ix, :] != fv_geo)\n",
        "    local_y_ind = y_ind[ix, local_mask]\n",
        "    y_ind_top = min(local_y_ind)\n",
        "    y_ind_bottom = max(local_y_ind)\n",
        "    t_b = np.append(t_b, [[lon[ix, y_ind_top], lat[ix, y_ind_top]]], axis=0)\n",
        "    b_b = np.append(b_b, [[lon[ix, y_ind_bottom], lat[ix, y_ind_bottom]]], axis=0)\n",
        "\n",
        "# combining right, top, left, and bottom boundaries together, going along the combined boundary counterclockwise\n",
        "  dpos = np.append(dpos, r_b[ : :-1, :], axis=0) # this adds right boundary, counterclockwise\n",
        "  dpos = np.append(dpos, t_b, axis=0) # this adds top boundary, counterclockwise\n",
        "  dpos = np.append(dpos, l_b, axis=0) # this adds left boundary, counterclockwise\n",
        "  dpos = np.append(dpos, b_b[ : :-1, :], axis=0) # this adds bottom boundary, counterclockwise\n",
        "\n",
        "  return dpos"
      ],
      "metadata": {
        "id": "gCEdtHuuTTMP"
      },
      "execution_count": null,
      "outputs": []
    },
    {
      "cell_type": "markdown",
      "source": [
        "##5.6 Compiling TEMPO HCHO total column time series"
      ],
      "metadata": {
        "id": "kPyYwF-E7Qiv"
      }
    },
    {
      "cell_type": "code",
      "source": [
        "days = [31, 28, 31, 30, 31, 30, 31, 31, 30, 31, 30, 31]\n",
        "\n",
        "POI_name_ = POI_name.replace(' ','_')\n",
        "\n",
        "fout = open(out_Q+'_'+datestamp_ini+'_'+datestamp_fin+'_'+POI_name_+'_'+str('%08.4fN_%08.4fW' %(POI[0], -POI[1])), 'w')\n",
        "fout.write('timeseries of '+out_Q+' at '+POI_name+' '+str('%08.4fN %08.4fW' %(POI[0], -POI[1]))+'\\n')\n",
        "fout.write('yyyy mm dd hh mn ss '+out_Q_unit+'\\n')\n",
        "\n",
        "for result in POI_results:\n",
        "  granule_link = result['umm']['RelatedUrls'][0]['URL']\n",
        "  last_slash_ind = granule_link.rfind('/')\n",
        "  fname = granule_link[last_slash_ind+1 : ]\n",
        "  print(fname)\n",
        "  lat, lon, fv_geo, time, total_HCHO_column, total_HCHO_column_unc, fv_prod,\\\n",
        "prod_unit = read_TEMPO_HCHO_L2(fname)\n",
        "\n",
        "  if isinstance(lat, float): continue\n",
        "\n",
        "  polygon = TEMPO_L2_polygon(lat, lon, fv_geo)\n",
        "  print(polygon.shape)\n",
        "\n",
        "  coords_poly = list(polygon)\n",
        "  poly = Polygon(coords_poly)\n",
        "\n",
        "  nx = lon.shape[0]\n",
        "  ny = lon.shape[1]\n",
        "\n",
        "# getting time from the granule filename\n",
        "  Tind = fname.rfind('T')\n",
        "  yyyy= int(fname[Tind-8 : Tind-4])\n",
        "  mm = int(fname[Tind-4 : Tind-2])\n",
        "  dd = int(fname[Tind-2 : Tind])\n",
        "  hh = int(fname[Tind+1 : Tind+3])\n",
        "  mn = int(fname[Tind+3 : Tind+5])\n",
        "  ss = float(fname[Tind+5 : Tind+7])\n",
        "\n",
        "# check whether POI is in the granule. If not - move to the next granule\n",
        "  pp = np.array([POI[1], POI[0]])\n",
        "  p = Point(pp) # POI[0] - latitudes, POI[1] - longitudes\n",
        "  if not p.within(poly): continue\n",
        "  print('point', p, 'is in granule polygon' )\n",
        "\n",
        "  POI_found = False\n",
        "  for ix in range(nx-1):\n",
        "    for iy in range(ny-1):\n",
        "      if lon[ix, iy] == fv_geo: continue\n",
        "      if lat[ix, iy] == fv_geo: continue\n",
        "      if lon[ix, iy+1] == fv_geo: continue\n",
        "      if lat[ix, iy+1] == fv_geo: continue\n",
        "      if lon[ix+1, iy+1] == fv_geo: continue\n",
        "      if lat[ix+1, iy+1] == fv_geo: continue\n",
        "      if lon[ix+1, iy] == fv_geo: continue\n",
        "      if lat[ix+1, iy] == fv_geo: continue\n",
        "\n",
        "      coords_poly_loc = [[lon[ix, iy], lat[ix, iy]], [lon[ix, iy+1], lat[ix, iy+1]] \\\n",
        "                   , [lon[ix+1, iy+1], lat[ix+1, iy+1]], [lon[ix+1, iy], lat[ix+1, iy]]]\n",
        "      poly_loc = Polygon(coords_poly_loc)\n",
        "\n",
        "      if p.within(poly_loc):\n",
        "\n",
        "        print(ix, iy, lat[ix, iy], lon[ix, iy]\\\n",
        "            , total_HCHO_column[ix, iy])\n",
        "        print(ix, iy+1, lat[ix, iy+1], lon[ix, iy+1]\\\n",
        "            , total_HCHO_column[ix, iy+1])\n",
        "        print(ix+1, iy+1, lat[ix+1, iy+1], lon[ix+1, iy+1]\\\n",
        "            , total_HCHO_column[ix+1, iy+1])\n",
        "        print(ix+1, iy, lat[ix+1, iy], lon[ix+1, iy]\\\n",
        "            , total_HCHO_column[ix+1, iy])\n",
        "\n",
        "        POI_found = True\n",
        "        print('POI', POI_name, 'at', POI[1], POI[0], ' found')\n",
        "\n",
        "        points = np.empty([0,2])\n",
        "        ff = np.empty(0)\n",
        "        points_unc = np.empty([0,2])\n",
        "        ff_unc = np.empty(0)\n",
        "\n",
        "        if total_HCHO_column[ix, iy] != fv_prod:\n",
        "          points = np.append(points, [[lon[ix, iy], lat[ix, iy]]], axis=0)\n",
        "          ff = np.append(ff, total_HCHO_column[ix, iy])\n",
        "        if total_HCHO_column_unc[ix, iy] != fv_prod:\n",
        "          points_unc = np.append(points_unc, [[lon[ix, iy], lat[ix, iy]]], axis=0)\n",
        "          ff_unc = np.append(ff_unc, total_HCHO_column_unc[ix, iy])\n",
        "\n",
        "        if total_HCHO_column[ix, iy+1] != fv_prod:\n",
        "          points = np.append(points, [[lon[ix, iy+1], lat[ix, iy+1]]], axis=0)\n",
        "          ff = np.append(ff, total_HCHO_column[ix, iy+1])\n",
        "        if total_HCHO_column_unc[ix, iy+1] != fv_prod:\n",
        "          points_unc = np.append(points_unc, [[lon[ix, iy+1], lat[ix, iy+1]]], axis=0)\n",
        "          ff_unc = np.append(ff_unc, total_HCHO_column_unc[ix, iy+1])\n",
        "\n",
        "        if total_HCHO_column[ix+1, iy+1] != fv_prod:\n",
        "          points = np.append(points, [[lon[ix+1, iy+1], lat[ix+1, iy+1]]], axis=0)\n",
        "          ff = np.append(ff, total_HCHO_column[ix+1, iy+1])\n",
        "        if total_HCHO_column_unc[ix+1, iy+1] != fv_prod:\n",
        "          points_unc = np.append(points_unc, [[lon[ix+1, iy+1], lat[ix+1, iy+1]]], axis=0)\n",
        "          ff_unc = np.append(ff_unc, total_HCHO_column_unc[ix+1, iy+1])\n",
        "\n",
        "        if total_HCHO_column[ix+1, iy] != fv_prod:\n",
        "          points = np.append(points, [[lon[ix+1, iy], lat[ix+1, iy]]], axis=0)\n",
        "          ff = np.append(ff, total_HCHO_column[ix+1, iy])\n",
        "        if total_HCHO_column_unc[ix+1, iy] != fv_prod:\n",
        "          points_unc = np.append(points_unc, [[lon[ix+1, iy], lat[ix+1, iy]]], axis=0)\n",
        "          ff_unc = np.append(ff_unc, total_HCHO_column_unc[ix+1, iy])\n",
        "\n",
        "        if ff.shape[0] == 0:\n",
        "          continue\n",
        "        elif ff.shape[0] < 4:\n",
        "          prod_loc = np.mean(ff)\n",
        "        elif ff.shape[0] == 4:\n",
        "          prod_loc = griddata(points, ff, pp, method='linear', fill_value=-1., rescale=False)\n",
        "\n",
        "        if ff_unc.shape[0] == 0:\n",
        "          continue\n",
        "        elif ff_unc.shape[0] < 4:\n",
        "          prod_loc_unc = np.mean(ff_unc)\n",
        "        elif ff.shape[0] == 4:\n",
        "          prod_loc_unc = griddata(points_unc, ff_unc, pp, method='linear', fill_value=-1., rescale=False)\n",
        "\n",
        "        if prod_loc < 0.: continue\n",
        "\n",
        "# handling time first:\n",
        "        delta_t = (time[ix+1] + time[ix])*0.5 - time[0]\n",
        "        ss = ss + delta_t\n",
        "        if ss >= 60.:\n",
        "          delta_mn = int(ss/60.)\n",
        "          ss = ss - 60.*delta_mn\n",
        "          mn = mn + delta_mn\n",
        "          if mn >= 60:\n",
        "            mn = mn - 60\n",
        "            hh = hh + 1\n",
        "            if hh == 24:\n",
        "              hh = hh - 24\n",
        "              dd = dd + 1\n",
        "              day_month = days[mm]\n",
        "              if (yyyy//4)*4 == yyyy and mm == 2: day_month = day_month + 1\n",
        "              if dd > day_month:\n",
        "                dd = 1\n",
        "                mm = mm + 1\n",
        "                if mm > 12:\n",
        "                  mm = 1\n",
        "                  yyyy = yyyy + 1\n",
        "\n",
        "        fout.write(str('%4.4i %2.2i %2.2i %2.2i %2.2i %2.2i %10.3e %10.3e '\\\n",
        "%(yyyy, mm, dd, hh, mn, ss, prod_loc, prod_loc_unc)))\n",
        "        fout.write(str('%9.4fN %9.4fW %10.3e %10.3e '\\\n",
        "%(lat[ix, iy], -lon[ix, iy],\\\n",
        "total_HCHO_column[ix, iy], total_HCHO_column_unc[ix, iy])))\n",
        "        fout.write(str('%9.4fN %9.4fW %10.3e %10.3e '\\\n",
        "%(lat[ix, iy+1], -lon[ix, iy+1],\\\n",
        "total_HCHO_column[ix, iy+1], total_HCHO_column_unc[ix, iy+1])))\n",
        "        fout.write(str('%9.4fN %9.4fW %10.3e %10.3e '\\\n",
        "%(lat[ix+1, iy+1], -lon[ix+1, iy+1],\\\n",
        "total_HCHO_column[ix+1, iy+1], total_HCHO_column_unc[ix+1, iy+1])))\n",
        "        fout.write(str('%9.4fN %9.4fW %10.3e %10.3e\\n'\\\n",
        "%(lat[ix+1, iy], -lon[ix+1, iy],\\\n",
        "total_HCHO_column[ix+1, iy], total_HCHO_column_unc[ix+1, iy])))\n",
        "\n",
        "        break\n",
        "\n",
        "    if POI_found: break\n",
        "\n",
        "fout.close()"
      ],
      "metadata": {
        "colab": {
          "base_uri": "https://localhost:8080/"
        },
        "id": "njLS6oxmQCkn",
        "outputId": "c0256f2d-4323-438f-ca6f-fda59d32f8a9"
      },
      "execution_count": null,
      "outputs": [
        {
          "output_type": "stream",
          "name": "stdout",
          "text": [
            "TEMPO_HCHO_L2_V01_20231028T114841Z_S001G02.nc\n",
            "131 2048\n",
            "(4354, 2)\n",
            "TEMPO_HCHO_L2_V01_20231028T115518Z_S001G03.nc\n",
            "131 2048\n",
            "(4354, 2)\n",
            "point POINT (-73.9505 40.8153) is in granule polygon\n",
            "5 661 40.823624 -73.89749 1.014431124401824e+16\n",
            "5 662 40.802673 -73.90375 6668635394643734.0\n",
            "6 662 40.800457 -73.96601 -1716151545924833.2\n",
            "6 661 40.82168 -73.95962 6270137298321736.0\n",
            "POI ManhattanNY-CCNY at -73.9505 40.8153  found\n",
            "TEMPO_HCHO_L2_V01_20231028T122846Z_S002G02.nc\n",
            "131 2048\n",
            "(4354, 2)\n",
            "TEMPO_HCHO_L2_V01_20231028T123523Z_S002G03.nc\n",
            "131 2048\n",
            "(4354, 2)\n",
            "point POINT (-73.9505 40.8153) is in granule polygon\n",
            "5 659 40.834335 -73.88505 4680487769729427.0\n",
            "5 660 40.813305 -73.891396 6281958775238227.0\n",
            "6 660 40.810856 -73.95394 7234031737116496.0\n",
            "6 659 40.83194 -73.94758 1308863597878559.2\n",
            "POI ManhattanNY-CCNY at -73.9505 40.8153  found\n",
            "TEMPO_HCHO_L2_V01_20231028T130851Z_S003G02.nc\n",
            "131 2048\n",
            "(4354, 2)\n",
            "TEMPO_HCHO_L2_V01_20231028T131528Z_S003G03.nc\n",
            "131 2048\n",
            "(4354, 2)\n",
            "point POINT (-73.9505 40.8153) is in granule polygon\n",
            "6 659 40.836914 -73.92179 1.6993140666554594e+16\n",
            "6 660 40.816147 -73.92797 1.8206472041822852e+16\n",
            "7 660 40.81313 -73.99016 1.8205263147843012e+16\n",
            "7 659 40.83428 -73.98377 999562742221238.4\n",
            "POI ManhattanNY-CCNY at -73.9505 40.8153  found\n",
            "TEMPO_HCHO_L2_V01_20231028T134856Z_S004G02.nc\n",
            "131 2048\n",
            "(4354, 2)\n",
            "TEMPO_HCHO_L2_V01_20231028T135533Z_S004G03.nc\n",
            "131 2048\n",
            "(4354, 2)\n",
            "point POINT (-73.9505 40.8153) is in granule polygon\n",
            "6 660 40.817856 -73.91114 1.5495101957175208e+16\n",
            "6 661 40.796894 -73.917435 1.4286857340958422e+16\n",
            "7 661 40.79445 -73.979774 1167584415289385.5\n",
            "7 660 40.81545 -73.97347 1.2876130126109136e+16\n",
            "POI ManhattanNY-CCNY at -73.9505 40.8153  found\n",
            "TEMPO_HCHO_L2_V01_20231028T142901Z_S005G02.nc\n",
            "132 2048\n",
            "(4356, 2)\n",
            "TEMPO_HCHO_L2_V01_20231028T143541Z_S005G03.nc\n",
            "131 2048\n",
            "(4354, 2)\n",
            "point POINT (-73.9505 40.8153) is in granule polygon\n",
            "5 659 40.832314 -73.91373 9989060799705128.0\n",
            "5 660 40.81137 -73.92001 1168511480000226.0\n",
            "6 660 40.807915 -73.982864 1.7561437094535956e+16\n",
            "6 659 40.828514 -73.976814 1.4638132113266208e+16\n",
            "POI ManhattanNY-CCNY at -73.9505 40.8153  found\n",
            "TEMPO_HCHO_L2_V01_20231028T152901Z_S006G02.nc\n",
            "132 2048\n",
            "(4356, 2)\n",
            "TEMPO_HCHO_L2_V01_20231028T153541Z_S006G03.nc\n",
            "131 2048\n",
            "(4354, 2)\n",
            "point POINT (-73.9505 40.8153) is in granule polygon\n",
            "5 659 40.83604 -73.91127 7538539074924705.0\n",
            "5 660 40.81498 -73.91763 1.1976330649273084e+16\n",
            "6 660 40.81148 -73.97951 1758862629965728.2\n",
            "6 659 40.832203 -73.9734 2585927418642080.5\n",
            "POI ManhattanNY-CCNY at -73.9505 40.8153  found\n",
            "TEMPO_HCHO_L2_V01_20231028T162901Z_S007G02.nc\n",
            "132 2048\n",
            "(4356, 2)\n",
            "TEMPO_HCHO_L2_V01_20231028T163541Z_S007G03.nc\n",
            "131 2048\n",
            "(4354, 2)\n",
            "point POINT (-73.9505 40.8153) is in granule polygon\n",
            "5 659 40.831936 -73.89438 9240766655739050.0\n",
            "5 660 40.810955 -73.900696 -1044311577821225.6\n",
            "6 660 40.807747 -73.96245 6369967113367400.0\n",
            "6 659 40.828766 -73.95614 7919963164262059.0\n",
            "POI ManhattanNY-CCNY at -73.9505 40.8153  found\n",
            "TEMPO_HCHO_L2_V01_20231028T172901Z_S008G02.nc\n",
            "132 2048\n",
            "(4356, 2)\n",
            "TEMPO_HCHO_L2_V01_20231028T173541Z_S008G03.nc\n",
            "131 2048\n",
            "(4354, 2)\n",
            "point POINT (-73.9505 40.8153) is in granule polygon\n",
            "5 659 40.826057 -73.89818 960554119492963.9\n",
            "5 660 40.805103 -73.90447 8530855510049855.0\n",
            "6 660 40.802624 -73.96712 5005592130079257.0\n",
            "6 659 40.823826 -73.96069 1.082890031841463e+16\n",
            "POI ManhattanNY-CCNY at -73.9505 40.8153  found\n",
            "TEMPO_HCHO_L2_V01_20231028T182901Z_S009G02.nc\n",
            "132 2048\n",
            "(4356, 2)\n",
            "TEMPO_HCHO_L2_V01_20231028T183541Z_S009G03.nc\n",
            "131 2048\n",
            "(4354, 2)\n",
            "point POINT (-73.9505 40.8153) is in granule polygon\n",
            "6 659 40.83008 -73.932945 3962734942357079.5\n",
            "6 660 40.80917 -73.9392 8181298756073461.0\n",
            "7 660 40.80642 -74.001144 1520769554184640.5\n",
            "7 659 40.827766 -73.99465 6812038883768698.0\n",
            "POI ManhattanNY-CCNY at -73.9505 40.8153  found\n",
            "TEMPO_HCHO_L2_V01_20231028T192901Z_S010G02.nc\n",
            "132 2048\n",
            "(4356, 2)\n",
            "TEMPO_HCHO_L2_V01_20231028T193541Z_S010G03.nc\n",
            "131 2048\n",
            "(4354, 2)\n",
            "point POINT (-73.9505 40.8153) is in granule polygon\n",
            "6 659 40.83264 -73.93434 9197669027039458.0\n",
            "6 660 40.81179 -73.94055 8563034957675439.0\n",
            "7 660 40.809162 -74.00296 -2018884735896117.5\n",
            "7 659 40.830444 -73.99651 1.1002390311107708e+16\n",
            "POI ManhattanNY-CCNY at -73.9505 40.8153  found\n",
            "TEMPO_HCHO_L2_V01_20231028T202917Z_S011G02.nc\n",
            "137 2048\n",
            "(4366, 2)\n",
            "point POINT (-73.9505 40.8153) is in granule polygon\n",
            "133 660 40.822155 -73.92563 1014079018742897.1\n",
            "133 661 40.80123 -73.93188 725593760429791.1\n",
            "134 661 40.799015 -73.993355 5683318128892130.0\n",
            "134 660 40.819603 -73.98733 -6424339415919006.0\n",
            "POI ManhattanNY-CCNY at -73.9505 40.8153  found\n",
            "TEMPO_HCHO_L2_V01_20231028T203613Z_S011G03.nc\n",
            "137 2048\n",
            "(4366, 2)\n"
          ]
        }
      ]
    },
    {
      "cell_type": "markdown",
      "source": [
        "#6 Plotting the results"
      ],
      "metadata": {
        "id": "RMhPI74LW91T"
      }
    },
    {
      "cell_type": "markdown",
      "source": [
        "##6.1 Reading created data files for TEMPO and DSCOVR, create timeseries"
      ],
      "metadata": {
        "id": "LBG0YtxbXSpm"
      }
    },
    {
      "cell_type": "code",
      "source": [
        "# reading TEMPO file that was created at the previous step\n",
        "# only read POI information from the header and first 8 columns of data:\n",
        "#   yyyy, mm, dd, hh, mn, ss, HCHO column, and its incertainty\n",
        "fout = open(out_Q+'_'+datestamp_ini+'_'+datestamp_fin+'_'+POI_name_+'_'+str('%08.4fN_%08.4fW' %(POI[0], -POI[1])), 'r')\n",
        "\n",
        "header1 = fout.readline()\n",
        "header2 = fout.readline()\n",
        "data_lines = fout.readlines()\n",
        "\n",
        "fout.close()\n",
        "\n",
        "split = data_lines[0].split()\n",
        "yyyy = int(split[0])\n",
        "mm = int(split[1])\n",
        "dd = int(split[2])\n",
        "hh = 0\n",
        "mn = 0\n",
        "ss = 0\n",
        "dt0 = datetime(yyyy, mm, dd, hh, mn, ss)\n",
        "\n",
        "time_series_TEMPO = np.empty([0, 3])\n",
        "\n",
        "for line in data_lines:\n",
        "  split = line.split()\n",
        "  yyyy = int(split[0])\n",
        "  mm = int(split[1])\n",
        "  dd = int(split[2])\n",
        "  hh = int(split[3])\n",
        "  mn = int(split[4])\n",
        "  ss = int(split[5])\n",
        "# dt below is time since the beginning of the period of interest in hours\n",
        "  dt = (datetime(yyyy, mm, dd, hh, mn, ss) - dt0).total_seconds()/86400.\n",
        "  time_series_TEMPO = np.append(time_series_TEMPO,\\\n",
        " [[dt, float(split[6]), float(split[7])]], axis = 0)\n",
        "\n",
        "split = data_lines[0].split()\n",
        "yyyy = int(split[0])\n",
        "mm = int(split[1])\n",
        "dd = int(split[2])\n",
        "hh = 0\n",
        "mn = 0\n",
        "ss = 0\n",
        "dt0 = datetime(yyyy, mm, dd, hh, mn, ss)\n",
        "\n",
        "time_series_Pandora = np.empty([0, 3])\n",
        "\n",
        "for line in Pandora_data:\n",
        "  yyyy = int(line[0])\n",
        "  mm = int(line[1])\n",
        "  dd = int(line[2])\n",
        "  hh = int(line[3])\n",
        "  mn = int(line[4])\n",
        "  ss = int(line[5])\n",
        "# dt below is time since the beginning of the period of interest in hours\n",
        "  dt = (datetime(yyyy, mm, dd, hh, mn, ss) - dt0).total_seconds()/86400.\n",
        "  time_series_Pandora = np.append(time_series_Pandora,\\\n",
        "[[dt, line[6], line[7]]], axis = 0)\n",
        "\n"
      ],
      "metadata": {
        "id": "6tWE__dTPyGu"
      },
      "execution_count": null,
      "outputs": []
    },
    {
      "cell_type": "markdown",
      "source": [
        "##6.1 Plotting timeseries"
      ],
      "metadata": {
        "id": "4qidCOMV4oQb"
      }
    },
    {
      "cell_type": "markdown",
      "source": [
        "###6.1.1 No error bars"
      ],
      "metadata": {
        "id": "T5-3oQUj44B5"
      }
    },
    {
      "cell_type": "code",
      "source": [
        "plot_title = out_Q+'_'+datestamp_ini+'_'+datestamp_fin+'\\n'+POI_name\n",
        "img_name = out_Q+'_'+datestamp_ini+'_'+datestamp_fin+'_'+POI_name+'.jpg'\n",
        "\n",
        "plt.plot(time_series_Pandora[:, 0], time_series_Pandora[:, 1],\\\n",
        "         label = \"Pandora\", c = 'r')\n",
        "plt.plot(time_series_TEMPO[:, 0], time_series_TEMPO[:, 1],\n",
        "         label = \"TEMPO\", c = 'b')\n",
        "\n",
        "# Set the range of x-axis\n",
        "l_lim = int(min(time_series_TEMPO[:, 0]))\n",
        "u_lim = int(max(time_series_TEMPO[:, 0])) + 1\n",
        "plt.xlim(l_lim, u_lim)\n",
        "\n",
        "# some research is required to set the vertical range\n",
        "plt.xlabel(r'GMT, day from beginning of '+datestamp_ini, fontsize=12)\n",
        "plt.ylabel(out_Q_unit.replace('_',' '), fontsize=12)\n",
        "\n",
        "plt.legend(loc='lower left')\n",
        "\n",
        "plt.title(plot_title+str(', %08.4fN %08.4fW' %(POI[0], -POI[1])))\n",
        "plt.savefig(img_name, format='jpg', dpi=300)"
      ],
      "metadata": {
        "colab": {
          "base_uri": "https://localhost:8080/",
          "height": 497
        },
        "id": "4Y6fM_SHd5wZ",
        "outputId": "7f341ec8-b88f-487c-d4b6-acdb9d77836e"
      },
      "execution_count": null,
      "outputs": [
        {
          "output_type": "display_data",
          "data": {
            "text/plain": [
              "<Figure size 640x480 with 1 Axes>"
            ],
            "image/png": "[encoded data removed]"
          },
          "metadata": {}
        }
      ]
    },
    {
      "cell_type": "markdown",
      "source": [
        "###6.1.2 Smooth Pandora retievals and interplate them into other time series times\n",
        "\n",
        "Pandora timeseries has significantly more data points then TEMPO and DSCOVR. It is also very noisy. To make comparison easier, Pandora timeseries is interpolated to the moments of TEMPO and DSCOVR observations.\n",
        "\n",
        "Interpolation is performed by the function defined below with the help of Gaussian smooting as follow:\n",
        "\n",
        "x_int(t) = SUM(x_p(t_i)*wt(t_i, t)),\n",
        "\n",
        "wt(t_i, t) = exp(-(t - t_i)^2/(2 * sigma^2))/SUM(exp(-(t - t_i)^2/(2 * sigma^2))),\n",
        "\n",
        "where sums are taken over times t_i falling into time interval (t-dt_max, t+dt_max).\n",
        "\n",
        "Parameters dt_max and sigma can be chosen by the user. In the example below they are\n",
        "\n",
        "dt_max = 0.00041666667  - 10 minutes expressed in days\n",
        "\n",
        "sigma = 0.00041666667  - 1 minute expressed in days"
      ],
      "metadata": {
        "id": "B7s-OkU_Xz62"
      }
    },
    {
      "cell_type": "code",
      "source": [
        "def gauss_interpolation(timeseries, new_times):\n",
        "#\n",
        "# function gauss_interpolation takes 2D array timeseries with function\n",
        "# to be interpolated and 1D array new_times containing times to which\n",
        "# the function is to be interpolated\n",
        "# arguments:\n",
        "#     timeseries - array with at least 2 columns,\n",
        "#                  1st column - times, 2nd (3rd, ...) column(s) - function to be interpolated\n",
        "#     new_times  - 1D array of times to which the function(s) to be interpolated\n",
        "#\n",
        "# parameters\n",
        "# dt_max = 0.0041666667 - 10 minutes expressed in days\n",
        "# sigma = 0.00041666667 - 1 minute expressed in days\n",
        "\n",
        "  dt_max = 0.0041666667 # 10 minutes expressed in days\n",
        "  sigma = 0.00041666667 # 1 minute expressed in days\n",
        "\n",
        "  nnt = len(new_times)\n",
        "  (nt, nfun) = timeseries.shape\n",
        "\n",
        "  timeseries_smooth = np.empty([0, nfun])\n",
        "\n",
        "  for new_time in new_times:\n",
        "    llim = new_time - dt_max\n",
        "    ulim = new_time + dt_max\n",
        "\n",
        "    timeseries_subset = timeseries[((timeseries[:, 0] < ulim)\\\n",
        "                                    & (timeseries[:, 0] > llim))]\n",
        "    if len(timeseries_subset) < 1: continue\n",
        "    t_delta = timeseries_subset[:, 0] - new_time\n",
        "    wt = np.exp(-t_delta**2/(2.*sigma**2))\n",
        "    wt = wt/np.sum(wt)\n",
        "\n",
        "    timeseries_smooth_loc = np.array([new_time])\n",
        "    for ifun in range(1, nfun):\n",
        "      timeseries_smooth_loc = np.append(timeseries_smooth_loc,\\\n",
        "                                        np.sum(timeseries_subset[:, ifun]*wt))\n",
        "\n",
        "    timeseries_smooth = np.append(timeseries_smooth,\\\n",
        "                                  np.array([timeseries_smooth_loc]), axis = 0)\n",
        "\n",
        "  return timeseries_smooth"
      ],
      "metadata": {
        "id": "Myd3jh7jFAmL"
      },
      "execution_count": null,
      "outputs": []
    },
    {
      "cell_type": "markdown",
      "source": [
        "###6.1.3 Plotting smoothed Pandora retievals with error bars\n"
      ],
      "metadata": {
        "id": "OxT6_zBj7VH9"
      }
    },
    {
      "cell_type": "code",
      "source": [
        "print(time_series_Pandora.shape)\n",
        "print(time_series_TEMPO.shape)"
      ],
      "metadata": {
        "colab": {
          "base_uri": "https://localhost:8080/"
        },
        "id": "VaJzWEU440TH",
        "outputId": "d330e9b1-ce8b-4342-ddec-6d08b15ec8e0"
      },
      "execution_count": null,
      "outputs": [
        {
          "output_type": "stream",
          "name": "stdout",
          "text": [
            "(84, 3)\n",
            "(10, 3)\n"
          ]
        }
      ]
    },
    {
      "cell_type": "code",
      "source": [
        "timeseries_Pandora_TEMPO = gauss_interpolation(time_series_Pandora[:, 0:3],\\\n",
        "                                                time_series_TEMPO[:, 0])"
      ],
      "metadata": {
        "id": "rlfrJAIfCx88"
      },
      "execution_count": null,
      "outputs": []
    },
    {
      "cell_type": "code",
      "source": [
        "plot_title = out_Q+'_unc_'+datestamp_ini+'_'+datestamp_fin+'\\n'+POI_name\n",
        "img_name = out_Q+'_unc_'+'_'+datestamp_ini+'_'+datestamp_fin+'_'+POI_name+'.jpg'\n",
        "\n",
        "fig = plt.figure()\n",
        "\n",
        "plt.errorbar(time_series_TEMPO[:, 0], time_series_TEMPO[:, 1],\\\n",
        "yerr=time_series_TEMPO[:, 2], label = \"TEMPO\", c = 'b', ls = '', marker = \".\")\n",
        "\n",
        "plt.errorbar(timeseries_Pandora_TEMPO[:, 0],\\\n",
        "             timeseries_Pandora_TEMPO[:, 1],\\\n",
        "             yerr=timeseries_Pandora_TEMPO[:, 2],\\\n",
        "             label = \"Pandora smoothed at TEMPO times\",\\\n",
        "             c = 'r', ls = '', marker = \".\")\n",
        "\n",
        "# Set the range of x-axis\n",
        "l_lim = int(min(time_series_TEMPO[:, 0]))\n",
        "u_lim = int(max(time_series_TEMPO[:, 0])) + 1\n",
        "plt.xlim(l_lim, u_lim)\n",
        "'''\n",
        "# Set the range of y-axis\n",
        "l_lim = 200\n",
        "u_lim = 350\n",
        "plt.ylim(l_lim, u_lim)\n",
        "'''\n",
        "# some research is required to set the vertical range\n",
        "plt.xlabel(r'GMT, day from beginning of '+datestamp_ini, fontsize=12)\n",
        "plt.ylabel(out_Q_unit.replace('_',' '), fontsize=12)\n",
        "\n",
        "plt.legend(loc='lower left')\n",
        "#plt.legend(loc='upper left')\n",
        "\n",
        "plt.title(plot_title+str(', %08.4fN %08.4fW' %(POI[0], -POI[1])))\n",
        "plt.savefig(img_name, format='jpg', dpi=300)\n"
      ],
      "metadata": {
        "id": "DHKXyXJkRC2G",
        "colab": {
          "base_uri": "https://localhost:8080/",
          "height": 497
        },
        "outputId": "a2465f75-2448-4da6-dcc7-a26fc1efe22e"
      },
      "execution_count": null,
      "outputs": [
        {
          "output_type": "display_data",
          "data": {
            "text/plain": [
              "<Figure size 640x480 with 1 Axes>"
            ],
            "image/png": "[encoded data removed]"
          },
          "metadata": {}
        }
      ]
    },
    {
      "cell_type": "code",
      "source": [],
      "metadata": {
        "id": "K8ZuqXLI_jvF"
      },
      "execution_count": null,
      "outputs": []
    }
  ]
}