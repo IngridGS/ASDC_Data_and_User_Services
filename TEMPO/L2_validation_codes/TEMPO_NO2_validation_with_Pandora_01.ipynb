{
  "nbformat": 4,
  "nbformat_minor": 0,
  "metadata": {
    "colab": {
      "provenance": []
    },
    "kernelspec": {
      "name": "python3",
      "display_name": "Python 3"
    },
    "language_info": {
      "name": "python"
    },
    "widgets": {
      "application/vnd.jupyter.widget-state+json": {
        "b3406bca4aff4c338188bf200ff4a71b": {
          "model_module": "@jupyter-widgets/controls",
          "model_name": "HBoxModel",
          "model_module_version": "1.5.0",
          "state": {
            "_dom_classes": [],
            "_model_module": "@jupyter-widgets/controls",
            "_model_module_version": "1.5.0",
            "_model_name": "HBoxModel",
            "_view_count": null,
            "_view_module": "@jupyter-widgets/controls",
            "_view_module_version": "1.5.0",
            "_view_name": "HBoxView",
            "box_style": "",
            "children": [
              "IPY_MODEL_90440a5605414bfd94c1fc066b5109c1",
              "IPY_MODEL_695865acba6140bf9564cd8785f3c00f",
              "IPY_MODEL_6e6a1359f78f4ca095aa5e0049f97b86"
            ],
            "layout": "IPY_MODEL_4621b3f161fa4f8da47781177e3d3a04"
          }
        },
        "90440a5605414bfd94c1fc066b5109c1": {
          "model_module": "@jupyter-widgets/controls",
          "model_name": "HTMLModel",
          "model_module_version": "1.5.0",
          "state": {
            "_dom_classes": [],
            "_model_module": "@jupyter-widgets/controls",
            "_model_module_version": "1.5.0",
            "_model_name": "HTMLModel",
            "_view_count": null,
            "_view_module": "@jupyter-widgets/controls",
            "_view_module_version": "1.5.0",
            "_view_name": "HTMLView",
            "description": "",
            "description_tooltip": null,
            "layout": "IPY_MODEL_8a2e564823ed4f57b61d110b63b2bcf4",
            "placeholder": "​",
            "style": "IPY_MODEL_e50eb17b9dbd4f64894c48b632cbe10d",
            "value": "QUEUEING TASKS | : 100%"
          }
        },
        "695865acba6140bf9564cd8785f3c00f": {
          "model_module": "@jupyter-widgets/controls",
          "model_name": "FloatProgressModel",
          "model_module_version": "1.5.0",
          "state": {
            "_dom_classes": [],
            "_model_module": "@jupyter-widgets/controls",
            "_model_module_version": "1.5.0",
            "_model_name": "FloatProgressModel",
            "_view_count": null,
            "_view_module": "@jupyter-widgets/controls",
            "_view_module_version": "1.5.0",
            "_view_name": "ProgressView",
            "bar_style": "success",
            "description": "",
            "description_tooltip": null,
            "layout": "IPY_MODEL_ac9aa6c64eee4b719c1978c0ebabcb03",
            "max": 15,
            "min": 0,
            "orientation": "horizontal",
            "style": "IPY_MODEL_1820a79254d34380a375098b795812f8",
            "value": 15
          }
        },
        "6e6a1359f78f4ca095aa5e0049f97b86": {
          "model_module": "@jupyter-widgets/controls",
          "model_name": "HTMLModel",
          "model_module_version": "1.5.0",
          "state": {
            "_dom_classes": [],
            "_model_module": "@jupyter-widgets/controls",
            "_model_module_version": "1.5.0",
            "_model_name": "HTMLModel",
            "_view_count": null,
            "_view_module": "@jupyter-widgets/controls",
            "_view_module_version": "1.5.0",
            "_view_name": "HTMLView",
            "description": "",
            "description_tooltip": null,
            "layout": "IPY_MODEL_60108a003a3b4a8fb8baabbb5e38433b",
            "placeholder": "​",
            "style": "IPY_MODEL_f3e5572678824682b974486508eb9b9e",
            "value": " 15/15 [00:00&lt;00:00, 297.68it/s]"
          }
        },
        "4621b3f161fa4f8da47781177e3d3a04": {
          "model_module": "@jupyter-widgets/base",
          "model_name": "LayoutModel",
          "model_module_version": "1.2.0",
          "state": {
            "_model_module": "@jupyter-widgets/base",
            "_model_module_version": "1.2.0",
            "_model_name": "LayoutModel",
            "_view_count": null,
            "_view_module": "@jupyter-widgets/base",
            "_view_module_version": "1.2.0",
            "_view_name": "LayoutView",
            "align_content": null,
            "align_items": null,
            "align_self": null,
            "border": null,
            "bottom": null,
            "display": null,
            "flex": null,
            "flex_flow": null,
            "grid_area": null,
            "grid_auto_columns": null,
            "grid_auto_flow": null,
            "grid_auto_rows": null,
            "grid_column": null,
            "grid_gap": null,
            "grid_row": null,
            "grid_template_areas": null,
            "grid_template_columns": null,
            "grid_template_rows": null,
            "height": null,
            "justify_content": null,
            "justify_items": null,
            "left": null,
            "margin": null,
            "max_height": null,
            "max_width": null,
            "min_height": null,
            "min_width": null,
            "object_fit": null,
            "object_position": null,
            "order": null,
            "overflow": null,
            "overflow_x": null,
            "overflow_y": null,
            "padding": null,
            "right": null,
            "top": null,
            "visibility": null,
            "width": null
          }
        },
        "8a2e564823ed4f57b61d110b63b2bcf4": {
          "model_module": "@jupyter-widgets/base",
          "model_name": "LayoutModel",
          "model_module_version": "1.2.0",
          "state": {
            "_model_module": "@jupyter-widgets/base",
            "_model_module_version": "1.2.0",
            "_model_name": "LayoutModel",
            "_view_count": null,
            "_view_module": "@jupyter-widgets/base",
            "_view_module_version": "1.2.0",
            "_view_name": "LayoutView",
            "align_content": null,
            "align_items": null,
            "align_self": null,
            "border": null,
            "bottom": null,
            "display": null,
            "flex": null,
            "flex_flow": null,
            "grid_area": null,
            "grid_auto_columns": null,
            "grid_auto_flow": null,
            "grid_auto_rows": null,
            "grid_column": null,
            "grid_gap": null,
            "grid_row": null,
            "grid_template_areas": null,
            "grid_template_columns": null,
            "grid_template_rows": null,
            "height": null,
            "justify_content": null,
            "justify_items": null,
            "left": null,
            "margin": null,
            "max_height": null,
            "max_width": null,
            "min_height": null,
            "min_width": null,
            "object_fit": null,
            "object_position": null,
            "order": null,
            "overflow": null,
            "overflow_x": null,
            "overflow_y": null,
            "padding": null,
            "right": null,
            "top": null,
            "visibility": null,
            "width": null
          }
        },
        "e50eb17b9dbd4f64894c48b632cbe10d": {
          "model_module": "@jupyter-widgets/controls",
          "model_name": "DescriptionStyleModel",
          "model_module_version": "1.5.0",
          "state": {
            "_model_module": "@jupyter-widgets/controls",
            "_model_module_version": "1.5.0",
            "_model_name": "DescriptionStyleModel",
            "_view_count": null,
            "_view_module": "@jupyter-widgets/base",
            "_view_module_version": "1.2.0",
            "_view_name": "StyleView",
            "description_width": ""
          }
        },
        "ac9aa6c64eee4b719c1978c0ebabcb03": {
          "model_module": "@jupyter-widgets/base",
          "model_name": "LayoutModel",
          "model_module_version": "1.2.0",
          "state": {
            "_model_module": "@jupyter-widgets/base",
            "_model_module_version": "1.2.0",
            "_model_name": "LayoutModel",
            "_view_count": null,
            "_view_module": "@jupyter-widgets/base",
            "_view_module_version": "1.2.0",
            "_view_name": "LayoutView",
            "align_content": null,
            "align_items": null,
            "align_self": null,
            "border": null,
            "bottom": null,
            "display": null,
            "flex": null,
            "flex_flow": null,
            "grid_area": null,
            "grid_auto_columns": null,
            "grid_auto_flow": null,
            "grid_auto_rows": null,
            "grid_column": null,
            "grid_gap": null,
            "grid_row": null,
            "grid_template_areas": null,
            "grid_template_columns": null,
            "grid_template_rows": null,
            "height": null,
            "justify_content": null,
            "justify_items": null,
            "left": null,
            "margin": null,
            "max_height": null,
            "max_width": null,
            "min_height": null,
            "min_width": null,
            "object_fit": null,
            "object_position": null,
            "order": null,
            "overflow": null,
            "overflow_x": null,
            "overflow_y": null,
            "padding": null,
            "right": null,
            "top": null,
            "visibility": null,
            "width": null
          }
        },
        "1820a79254d34380a375098b795812f8": {
          "model_module": "@jupyter-widgets/controls",
          "model_name": "ProgressStyleModel",
          "model_module_version": "1.5.0",
          "state": {
            "_model_module": "@jupyter-widgets/controls",
            "_model_module_version": "1.5.0",
            "_model_name": "ProgressStyleModel",
            "_view_count": null,
            "_view_module": "@jupyter-widgets/base",
            "_view_module_version": "1.2.0",
            "_view_name": "StyleView",
            "bar_color": null,
            "description_width": ""
          }
        },
        "60108a003a3b4a8fb8baabbb5e38433b": {
          "model_module": "@jupyter-widgets/base",
          "model_name": "LayoutModel",
          "model_module_version": "1.2.0",
          "state": {
            "_model_module": "@jupyter-widgets/base",
            "_model_module_version": "1.2.0",
            "_model_name": "LayoutModel",
            "_view_count": null,
            "_view_module": "@jupyter-widgets/base",
            "_view_module_version": "1.2.0",
            "_view_name": "LayoutView",
            "align_content": null,
            "align_items": null,
            "align_self": null,
            "border": null,
            "bottom": null,
            "display": null,
            "flex": null,
            "flex_flow": null,
            "grid_area": null,
            "grid_auto_columns": null,
            "grid_auto_flow": null,
            "grid_auto_rows": null,
            "grid_column": null,
            "grid_gap": null,
            "grid_row": null,
            "grid_template_areas": null,
            "grid_template_columns": null,
            "grid_template_rows": null,
            "height": null,
            "justify_content": null,
            "justify_items": null,
            "left": null,
            "margin": null,
            "max_height": null,
            "max_width": null,
            "min_height": null,
            "min_width": null,
            "object_fit": null,
            "object_position": null,
            "order": null,
            "overflow": null,
            "overflow_x": null,
            "overflow_y": null,
            "padding": null,
            "right": null,
            "top": null,
            "visibility": null,
            "width": null
          }
        },
        "f3e5572678824682b974486508eb9b9e": {
          "model_module": "@jupyter-widgets/controls",
          "model_name": "DescriptionStyleModel",
          "model_module_version": "1.5.0",
          "state": {
            "_model_module": "@jupyter-widgets/controls",
            "_model_module_version": "1.5.0",
            "_model_name": "DescriptionStyleModel",
            "_view_count": null,
            "_view_module": "@jupyter-widgets/base",
            "_view_module_version": "1.2.0",
            "_view_name": "StyleView",
            "description_width": ""
          }
        },
        "4589868c39604cd38a4ac2708db5d2c9": {
          "model_module": "@jupyter-widgets/controls",
          "model_name": "HBoxModel",
          "model_module_version": "1.5.0",
          "state": {
            "_dom_classes": [],
            "_model_module": "@jupyter-widgets/controls",
            "_model_module_version": "1.5.0",
            "_model_name": "HBoxModel",
            "_view_count": null,
            "_view_module": "@jupyter-widgets/controls",
            "_view_module_version": "1.5.0",
            "_view_name": "HBoxView",
            "box_style": "",
            "children": [
              "IPY_MODEL_82d9e5fedc0e46e3af8508d013b34f2a",
              "IPY_MODEL_e387aa5ab5bf48419fbc4d70b9fb1189",
              "IPY_MODEL_76a5b2a82c3f44b8b6b18240880f5e78"
            ],
            "layout": "IPY_MODEL_4dd076707863489cb0e3b9914211ba7e"
          }
        },
        "82d9e5fedc0e46e3af8508d013b34f2a": {
          "model_module": "@jupyter-widgets/controls",
          "model_name": "HTMLModel",
          "model_module_version": "1.5.0",
          "state": {
            "_dom_classes": [],
            "_model_module": "@jupyter-widgets/controls",
            "_model_module_version": "1.5.0",
            "_model_name": "HTMLModel",
            "_view_count": null,
            "_view_module": "@jupyter-widgets/controls",
            "_view_module_version": "1.5.0",
            "_view_name": "HTMLView",
            "description": "",
            "description_tooltip": null,
            "layout": "IPY_MODEL_5a772a92571b4a0dbf9af8f0156c70ae",
            "placeholder": "​",
            "style": "IPY_MODEL_09f85af6a18748f5874f73e0c8983483",
            "value": "PROCESSING TASKS | : 100%"
          }
        },
        "e387aa5ab5bf48419fbc4d70b9fb1189": {
          "model_module": "@jupyter-widgets/controls",
          "model_name": "FloatProgressModel",
          "model_module_version": "1.5.0",
          "state": {
            "_dom_classes": [],
            "_model_module": "@jupyter-widgets/controls",
            "_model_module_version": "1.5.0",
            "_model_name": "FloatProgressModel",
            "_view_count": null,
            "_view_module": "@jupyter-widgets/controls",
            "_view_module_version": "1.5.0",
            "_view_name": "ProgressView",
            "bar_style": "success",
            "description": "",
            "description_tooltip": null,
            "layout": "IPY_MODEL_5e14d35ba0ad42919d3d8db2f624c843",
            "max": 15,
            "min": 0,
            "orientation": "horizontal",
            "style": "IPY_MODEL_b5cbff4cd255461fa7d14e4e6233f38f",
            "value": 15
          }
        },
        "76a5b2a82c3f44b8b6b18240880f5e78": {
          "model_module": "@jupyter-widgets/controls",
          "model_name": "HTMLModel",
          "model_module_version": "1.5.0",
          "state": {
            "_dom_classes": [],
            "_model_module": "@jupyter-widgets/controls",
            "_model_module_version": "1.5.0",
            "_model_name": "HTMLModel",
            "_view_count": null,
            "_view_module": "@jupyter-widgets/controls",
            "_view_module_version": "1.5.0",
            "_view_name": "HTMLView",
            "description": "",
            "description_tooltip": null,
            "layout": "IPY_MODEL_52c59ed13d8a4945aaa7b25be111fe3d",
            "placeholder": "​",
            "style": "IPY_MODEL_14f4f41e4700499196f0637471c31044",
            "value": " 15/15 [00:21&lt;00:00,  1.62it/s]"
          }
        },
        "4dd076707863489cb0e3b9914211ba7e": {
          "model_module": "@jupyter-widgets/base",
          "model_name": "LayoutModel",
          "model_module_version": "1.2.0",
          "state": {
            "_model_module": "@jupyter-widgets/base",
            "_model_module_version": "1.2.0",
            "_model_name": "LayoutModel",
            "_view_count": null,
            "_view_module": "@jupyter-widgets/base",
            "_view_module_version": "1.2.0",
            "_view_name": "LayoutView",
            "align_content": null,
            "align_items": null,
            "align_self": null,
            "border": null,
            "bottom": null,
            "display": null,
            "flex": null,
            "flex_flow": null,
            "grid_area": null,
            "grid_auto_columns": null,
            "grid_auto_flow": null,
            "grid_auto_rows": null,
            "grid_column": null,
            "grid_gap": null,
            "grid_row": null,
            "grid_template_areas": null,
            "grid_template_columns": null,
            "grid_template_rows": null,
            "height": null,
            "justify_content": null,
            "justify_items": null,
            "left": null,
            "margin": null,
            "max_height": null,
            "max_width": null,
            "min_height": null,
            "min_width": null,
            "object_fit": null,
            "object_position": null,
            "order": null,
            "overflow": null,
            "overflow_x": null,
            "overflow_y": null,
            "padding": null,
            "right": null,
            "top": null,
            "visibility": null,
            "width": null
          }
        },
        "5a772a92571b4a0dbf9af8f0156c70ae": {
          "model_module": "@jupyter-widgets/base",
          "model_name": "LayoutModel",
          "model_module_version": "1.2.0",
          "state": {
            "_model_module": "@jupyter-widgets/base",
            "_model_module_version": "1.2.0",
            "_model_name": "LayoutModel",
            "_view_count": null,
            "_view_module": "@jupyter-widgets/base",
            "_view_module_version": "1.2.0",
            "_view_name": "LayoutView",
            "align_content": null,
            "align_items": null,
            "align_self": null,
            "border": null,
            "bottom": null,
            "display": null,
            "flex": null,
            "flex_flow": null,
            "grid_area": null,
            "grid_auto_columns": null,
            "grid_auto_flow": null,
            "grid_auto_rows": null,
            "grid_column": null,
            "grid_gap": null,
            "grid_row": null,
            "grid_template_areas": null,
            "grid_template_columns": null,
            "grid_template_rows": null,
            "height": null,
            "justify_content": null,
            "justify_items": null,
            "left": null,
            "margin": null,
            "max_height": null,
            "max_width": null,
            "min_height": null,
            "min_width": null,
            "object_fit": null,
            "object_position": null,
            "order": null,
            "overflow": null,
            "overflow_x": null,
            "overflow_y": null,
            "padding": null,
            "right": null,
            "top": null,
            "visibility": null,
            "width": null
          }
        },
        "09f85af6a18748f5874f73e0c8983483": {
          "model_module": "@jupyter-widgets/controls",
          "model_name": "DescriptionStyleModel",
          "model_module_version": "1.5.0",
          "state": {
            "_model_module": "@jupyter-widgets/controls",
            "_model_module_version": "1.5.0",
            "_model_name": "DescriptionStyleModel",
            "_view_count": null,
            "_view_module": "@jupyter-widgets/base",
            "_view_module_version": "1.2.0",
            "_view_name": "StyleView",
            "description_width": ""
          }
        },
        "5e14d35ba0ad42919d3d8db2f624c843": {
          "model_module": "@jupyter-widgets/base",
          "model_name": "LayoutModel",
          "model_module_version": "1.2.0",
          "state": {
            "_model_module": "@jupyter-widgets/base",
            "_model_module_version": "1.2.0",
            "_model_name": "LayoutModel",
            "_view_count": null,
            "_view_module": "@jupyter-widgets/base",
            "_view_module_version": "1.2.0",
            "_view_name": "LayoutView",
            "align_content": null,
            "align_items": null,
            "align_self": null,
            "border": null,
            "bottom": null,
            "display": null,
            "flex": null,
            "flex_flow": null,
            "grid_area": null,
            "grid_auto_columns": null,
            "grid_auto_flow": null,
            "grid_auto_rows": null,
            "grid_column": null,
            "grid_gap": null,
            "grid_row": null,
            "grid_template_areas": null,
            "grid_template_columns": null,
            "grid_template_rows": null,
            "height": null,
            "justify_content": null,
            "justify_items": null,
            "left": null,
            "margin": null,
            "max_height": null,
            "max_width": null,
            "min_height": null,
            "min_width": null,
            "object_fit": null,
            "object_position": null,
            "order": null,
            "overflow": null,
            "overflow_x": null,
            "overflow_y": null,
            "padding": null,
            "right": null,
            "top": null,
            "visibility": null,
            "width": null
          }
        },
        "b5cbff4cd255461fa7d14e4e6233f38f": {
          "model_module": "@jupyter-widgets/controls",
          "model_name": "ProgressStyleModel",
          "model_module_version": "1.5.0",
          "state": {
            "_model_module": "@jupyter-widgets/controls",
            "_model_module_version": "1.5.0",
            "_model_name": "ProgressStyleModel",
            "_view_count": null,
            "_view_module": "@jupyter-widgets/base",
            "_view_module_version": "1.2.0",
            "_view_name": "StyleView",
            "bar_color": null,
            "description_width": ""
          }
        },
        "52c59ed13d8a4945aaa7b25be111fe3d": {
          "model_module": "@jupyter-widgets/base",
          "model_name": "LayoutModel",
          "model_module_version": "1.2.0",
          "state": {
            "_model_module": "@jupyter-widgets/base",
            "_model_module_version": "1.2.0",
            "_model_name": "LayoutModel",
            "_view_count": null,
            "_view_module": "@jupyter-widgets/base",
            "_view_module_version": "1.2.0",
            "_view_name": "LayoutView",
            "align_content": null,
            "align_items": null,
            "align_self": null,
            "border": null,
            "bottom": null,
            "display": null,
            "flex": null,
            "flex_flow": null,
            "grid_area": null,
            "grid_auto_columns": null,
            "grid_auto_flow": null,
            "grid_auto_rows": null,
            "grid_column": null,
            "grid_gap": null,
            "grid_row": null,
            "grid_template_areas": null,
            "grid_template_columns": null,
            "grid_template_rows": null,
            "height": null,
            "justify_content": null,
            "justify_items": null,
            "left": null,
            "margin": null,
            "max_height": null,
            "max_width": null,
            "min_height": null,
            "min_width": null,
            "object_fit": null,
            "object_position": null,
            "order": null,
            "overflow": null,
            "overflow_x": null,
            "overflow_y": null,
            "padding": null,
            "right": null,
            "top": null,
            "visibility": null,
            "width": null
          }
        },
        "14f4f41e4700499196f0637471c31044": {
          "model_module": "@jupyter-widgets/controls",
          "model_name": "DescriptionStyleModel",
          "model_module_version": "1.5.0",
          "state": {
            "_model_module": "@jupyter-widgets/controls",
            "_model_module_version": "1.5.0",
            "_model_name": "DescriptionStyleModel",
            "_view_count": null,
            "_view_module": "@jupyter-widgets/base",
            "_view_module_version": "1.2.0",
            "_view_name": "StyleView",
            "description_width": ""
          }
        },
        "aaff4155eab8422badf0086326bf56d2": {
          "model_module": "@jupyter-widgets/controls",
          "model_name": "HBoxModel",
          "model_module_version": "1.5.0",
          "state": {
            "_dom_classes": [],
            "_model_module": "@jupyter-widgets/controls",
            "_model_module_version": "1.5.0",
            "_model_name": "HBoxModel",
            "_view_count": null,
            "_view_module": "@jupyter-widgets/controls",
            "_view_module_version": "1.5.0",
            "_view_name": "HBoxView",
            "box_style": "",
            "children": [
              "IPY_MODEL_3c91d832230646b1aac40a02e63a5839",
              "IPY_MODEL_4ff7be99f76c4d9ba5bd4f32099323ff",
              "IPY_MODEL_e2c8d21abcd24d6e89740d5963c6b172"
            ],
            "layout": "IPY_MODEL_43eaa4f040e14663a4a9cd1f1aafd047"
          }
        },
        "3c91d832230646b1aac40a02e63a5839": {
          "model_module": "@jupyter-widgets/controls",
          "model_name": "HTMLModel",
          "model_module_version": "1.5.0",
          "state": {
            "_dom_classes": [],
            "_model_module": "@jupyter-widgets/controls",
            "_model_module_version": "1.5.0",
            "_model_name": "HTMLModel",
            "_view_count": null,
            "_view_module": "@jupyter-widgets/controls",
            "_view_module_version": "1.5.0",
            "_view_name": "HTMLView",
            "description": "",
            "description_tooltip": null,
            "layout": "IPY_MODEL_e4d98381b07642b3adb76354f5edfed0",
            "placeholder": "​",
            "style": "IPY_MODEL_88ae25438bee482e8a712629b7668b0a",
            "value": "COLLECTING RESULTS | : 100%"
          }
        },
        "4ff7be99f76c4d9ba5bd4f32099323ff": {
          "model_module": "@jupyter-widgets/controls",
          "model_name": "FloatProgressModel",
          "model_module_version": "1.5.0",
          "state": {
            "_dom_classes": [],
            "_model_module": "@jupyter-widgets/controls",
            "_model_module_version": "1.5.0",
            "_model_name": "FloatProgressModel",
            "_view_count": null,
            "_view_module": "@jupyter-widgets/controls",
            "_view_module_version": "1.5.0",
            "_view_name": "ProgressView",
            "bar_style": "success",
            "description": "",
            "description_tooltip": null,
            "layout": "IPY_MODEL_7828094044ef43f2b65e43c7dc189370",
            "max": 15,
            "min": 0,
            "orientation": "horizontal",
            "style": "IPY_MODEL_4fa1bff9773d484b98f65efc7edc3417",
            "value": 15
          }
        },
        "e2c8d21abcd24d6e89740d5963c6b172": {
          "model_module": "@jupyter-widgets/controls",
          "model_name": "HTMLModel",
          "model_module_version": "1.5.0",
          "state": {
            "_dom_classes": [],
            "_model_module": "@jupyter-widgets/controls",
            "_model_module_version": "1.5.0",
            "_model_name": "HTMLModel",
            "_view_count": null,
            "_view_module": "@jupyter-widgets/controls",
            "_view_module_version": "1.5.0",
            "_view_name": "HTMLView",
            "description": "",
            "description_tooltip": null,
            "layout": "IPY_MODEL_b1fed22a6cf54b42ae7a276ad5351bdd",
            "placeholder": "​",
            "style": "IPY_MODEL_1f5d83e35a254dccb3a875c5ba578b22",
            "value": " 15/15 [00:00&lt;00:00, 229.14it/s]"
          }
        },
        "43eaa4f040e14663a4a9cd1f1aafd047": {
          "model_module": "@jupyter-widgets/base",
          "model_name": "LayoutModel",
          "model_module_version": "1.2.0",
          "state": {
            "_model_module": "@jupyter-widgets/base",
            "_model_module_version": "1.2.0",
            "_model_name": "LayoutModel",
            "_view_count": null,
            "_view_module": "@jupyter-widgets/base",
            "_view_module_version": "1.2.0",
            "_view_name": "LayoutView",
            "align_content": null,
            "align_items": null,
            "align_self": null,
            "border": null,
            "bottom": null,
            "display": null,
            "flex": null,
            "flex_flow": null,
            "grid_area": null,
            "grid_auto_columns": null,
            "grid_auto_flow": null,
            "grid_auto_rows": null,
            "grid_column": null,
            "grid_gap": null,
            "grid_row": null,
            "grid_template_areas": null,
            "grid_template_columns": null,
            "grid_template_rows": null,
            "height": null,
            "justify_content": null,
            "justify_items": null,
            "left": null,
            "margin": null,
            "max_height": null,
            "max_width": null,
            "min_height": null,
            "min_width": null,
            "object_fit": null,
            "object_position": null,
            "order": null,
            "overflow": null,
            "overflow_x": null,
            "overflow_y": null,
            "padding": null,
            "right": null,
            "top": null,
            "visibility": null,
            "width": null
          }
        },
        "e4d98381b07642b3adb76354f5edfed0": {
          "model_module": "@jupyter-widgets/base",
          "model_name": "LayoutModel",
          "model_module_version": "1.2.0",
          "state": {
            "_model_module": "@jupyter-widgets/base",
            "_model_module_version": "1.2.0",
            "_model_name": "LayoutModel",
            "_view_count": null,
            "_view_module": "@jupyter-widgets/base",
            "_view_module_version": "1.2.0",
            "_view_name": "LayoutView",
            "align_content": null,
            "align_items": null,
            "align_self": null,
            "border": null,
            "bottom": null,
            "display": null,
            "flex": null,
            "flex_flow": null,
            "grid_area": null,
            "grid_auto_columns": null,
            "grid_auto_flow": null,
            "grid_auto_rows": null,
            "grid_column": null,
            "grid_gap": null,
            "grid_row": null,
            "grid_template_areas": null,
            "grid_template_columns": null,
            "grid_template_rows": null,
            "height": null,
            "justify_content": null,
            "justify_items": null,
            "left": null,
            "margin": null,
            "max_height": null,
            "max_width": null,
            "min_height": null,
            "min_width": null,
            "object_fit": null,
            "object_position": null,
            "order": null,
            "overflow": null,
            "overflow_x": null,
            "overflow_y": null,
            "padding": null,
            "right": null,
            "top": null,
            "visibility": null,
            "width": null
          }
        },
        "88ae25438bee482e8a712629b7668b0a": {
          "model_module": "@jupyter-widgets/controls",
          "model_name": "DescriptionStyleModel",
          "model_module_version": "1.5.0",
          "state": {
            "_model_module": "@jupyter-widgets/controls",
            "_model_module_version": "1.5.0",
            "_model_name": "DescriptionStyleModel",
            "_view_count": null,
            "_view_module": "@jupyter-widgets/base",
            "_view_module_version": "1.2.0",
            "_view_name": "StyleView",
            "description_width": ""
          }
        },
        "7828094044ef43f2b65e43c7dc189370": {
          "model_module": "@jupyter-widgets/base",
          "model_name": "LayoutModel",
          "model_module_version": "1.2.0",
          "state": {
            "_model_module": "@jupyter-widgets/base",
            "_model_module_version": "1.2.0",
            "_model_name": "LayoutModel",
            "_view_count": null,
            "_view_module": "@jupyter-widgets/base",
            "_view_module_version": "1.2.0",
            "_view_name": "LayoutView",
            "align_content": null,
            "align_items": null,
            "align_self": null,
            "border": null,
            "bottom": null,
            "display": null,
            "flex": null,
            "flex_flow": null,
            "grid_area": null,
            "grid_auto_columns": null,
            "grid_auto_flow": null,
            "grid_auto_rows": null,
            "grid_column": null,
            "grid_gap": null,
            "grid_row": null,
            "grid_template_areas": null,
            "grid_template_columns": null,
            "grid_template_rows": null,
            "height": null,
            "justify_content": null,
            "justify_items": null,
            "left": null,
            "margin": null,
            "max_height": null,
            "max_width": null,
            "min_height": null,
            "min_width": null,
            "object_fit": null,
            "object_position": null,
            "order": null,
            "overflow": null,
            "overflow_x": null,
            "overflow_y": null,
            "padding": null,
            "right": null,
            "top": null,
            "visibility": null,
            "width": null
          }
        },
        "4fa1bff9773d484b98f65efc7edc3417": {
          "model_module": "@jupyter-widgets/controls",
          "model_name": "ProgressStyleModel",
          "model_module_version": "1.5.0",
          "state": {
            "_model_module": "@jupyter-widgets/controls",
            "_model_module_version": "1.5.0",
            "_model_name": "ProgressStyleModel",
            "_view_count": null,
            "_view_module": "@jupyter-widgets/base",
            "_view_module_version": "1.2.0",
            "_view_name": "StyleView",
            "bar_color": null,
            "description_width": ""
          }
        },
        "b1fed22a6cf54b42ae7a276ad5351bdd": {
          "model_module": "@jupyter-widgets/base",
          "model_name": "LayoutModel",
          "model_module_version": "1.2.0",
          "state": {
            "_model_module": "@jupyter-widgets/base",
            "_model_module_version": "1.2.0",
            "_model_name": "LayoutModel",
            "_view_count": null,
            "_view_module": "@jupyter-widgets/base",
            "_view_module_version": "1.2.0",
            "_view_name": "LayoutView",
            "align_content": null,
            "align_items": null,
            "align_self": null,
            "border": null,
            "bottom": null,
            "display": null,
            "flex": null,
            "flex_flow": null,
            "grid_area": null,
            "grid_auto_columns": null,
            "grid_auto_flow": null,
            "grid_auto_rows": null,
            "grid_column": null,
            "grid_gap": null,
            "grid_row": null,
            "grid_template_areas": null,
            "grid_template_columns": null,
            "grid_template_rows": null,
            "height": null,
            "justify_content": null,
            "justify_items": null,
            "left": null,
            "margin": null,
            "max_height": null,
            "max_width": null,
            "min_height": null,
            "min_width": null,
            "object_fit": null,
            "object_position": null,
            "order": null,
            "overflow": null,
            "overflow_x": null,
            "overflow_y": null,
            "padding": null,
            "right": null,
            "top": null,
            "visibility": null,
            "width": null
          }
        },
        "1f5d83e35a254dccb3a875c5ba578b22": {
          "model_module": "@jupyter-widgets/controls",
          "model_name": "DescriptionStyleModel",
          "model_module_version": "1.5.0",
          "state": {
            "_model_module": "@jupyter-widgets/controls",
            "_model_module_version": "1.5.0",
            "_model_name": "DescriptionStyleModel",
            "_view_count": null,
            "_view_module": "@jupyter-widgets/base",
            "_view_module_version": "1.2.0",
            "_view_name": "StyleView",
            "description_width": ""
          }
        }
      }
    }
  },
  "cells": [
    {
      "cell_type": "markdown",
      "source": [
        "### **TEMPO NO2 validation**\n",
        "\n",
        "This notebook illustrates comparison of nitrogen dioxide total column retrievals by TEMPO and Pandora ground stations.\n",
        "\n",
        "It allows a user to choose Pandora station of interest. Since TEMPO spatial coverage is regional and limited to North America, it is user's responsibilty to select the station within TEMPO's field of regard (FOR). If the selected station is outside FOR, no TEMPO time series will be generated.\n",
        "\n",
        "The user is allowed to choose the time period of interest by providing start and end dates in the form YYYYMMDD. Please be aware, that if the selecte period of interest is outside of available time span of one of the sensors, corresponding time series will not be generated.\n",
        "\n",
        "Data files for both sensors are downloaded on-the-fly. TEMPO data are downloaded with earthaccess library that needs to be installed first.\n",
        "\n",
        "TEMPO data files are read by means of netCDF library that needs to be installed first.\n",
        "\n",
        "Pandora data files are ASCII files with header and space separated columns. Custome made function is included to read nitrogen dioxide total column along with its total uncertainty.\n",
        "\n",
        "The resulting time series are plotted with and without uncertainty of both measurement in the end of the notebook."
      ],
      "metadata": {
        "id": "kjVKCytfEnRt"
      }
    },
    {
      "cell_type": "markdown",
      "source": [
        "# 1 Installing and importing necessary libraries"
      ],
      "metadata": {
        "id": "luJG0oPIPGjC"
      }
    },
    {
      "cell_type": "markdown",
      "source": [
        "## 1.1 Installing netCDF"
      ],
      "metadata": {
        "id": "m5ru-FMpPXoE"
      }
    },
    {
      "cell_type": "code",
      "source": [
        "! pip3 install netCDF4"
      ],
      "metadata": {
        "colab": {
          "base_uri": "https://localhost:8080/"
        },
        "id": "5NWX4mCVQJt_",
        "outputId": "6ec09d05-73b6-4baa-fa07-db5b55b485bc"
      },
      "execution_count": null,
      "outputs": [
        {
          "output_type": "stream",
          "name": "stdout",
          "text": [
            "Collecting netCDF4\n",
            "  Downloading netCDF4-1.6.5-cp310-cp310-manylinux_2_17_x86_64.manylinux2014_x86_64.whl (5.5 MB)\n",
            "\u001b[2K     \u001b[90m━━━━━━━━━━━━━━━━━━━━━━━━━━━━━━━━━━━━━━━━\u001b[0m \u001b[32m5.5/5.5 MB\u001b[0m \u001b[31m14.0 MB/s\u001b[0m eta \u001b[36m0:00:00\u001b[0m\n",
            "\u001b[?25hCollecting cftime (from netCDF4)\n",
            "  Downloading cftime-1.6.3-cp310-cp310-manylinux_2_17_x86_64.manylinux2014_x86_64.whl (1.3 MB)\n",
            "\u001b[2K     \u001b[90m━━━━━━━━━━━━━━━━━━━━━━━━━━━━━━━━━━━━━━━━\u001b[0m \u001b[32m1.3/1.3 MB\u001b[0m \u001b[31m19.2 MB/s\u001b[0m eta \u001b[36m0:00:00\u001b[0m\n",
            "\u001b[?25hRequirement already satisfied: certifi in /usr/local/lib/python3.10/dist-packages (from netCDF4) (2023.11.17)\n",
            "Requirement already satisfied: numpy in /usr/local/lib/python3.10/dist-packages (from netCDF4) (1.23.5)\n",
            "Installing collected packages: cftime, netCDF4\n",
            "Successfully installed cftime-1.6.3 netCDF4-1.6.5\n"
          ]
        }
      ]
    },
    {
      "cell_type": "markdown",
      "source": [
        "## 1.2 Installing earthaccess"
      ],
      "metadata": {
        "id": "cQJCMByjPp9i"
      }
    },
    {
      "cell_type": "code",
      "source": [
        "! pip3 install earthaccess"
      ],
      "metadata": {
        "colab": {
          "base_uri": "https://localhost:8080/"
        },
        "id": "N7Gm15VaYKW9",
        "outputId": "e002cbaa-6bd4-4c12-9684-93965ae80d2c"
      },
      "execution_count": null,
      "outputs": [
        {
          "output_type": "stream",
          "name": "stdout",
          "text": [
            "Collecting earthaccess\n",
            "  Downloading earthaccess-0.8.2-py3-none-any.whl (56 kB)\n",
            "\u001b[2K     \u001b[90m━━━━━━━━━━━━━━━━━━━━━━━━━━━━━━━━━━━━━━━━\u001b[0m \u001b[32m57.0/57.0 kB\u001b[0m \u001b[31m1.9 MB/s\u001b[0m eta \u001b[36m0:00:00\u001b[0m\n",
            "\u001b[?25hRequirement already satisfied: fsspec>=2022.11 in /usr/local/lib/python3.10/dist-packages (from earthaccess) (2023.6.0)\n",
            "Collecting multimethod>=1.8 (from earthaccess)\n",
            "  Downloading multimethod-1.10-py3-none-any.whl (9.9 kB)\n",
            "Collecting pqdm>=0.1 (from earthaccess)\n",
            "  Downloading pqdm-0.2.0-py2.py3-none-any.whl (6.8 kB)\n",
            "Collecting python-cmr>=0.9.0 (from earthaccess)\n",
            "  Downloading python_cmr-0.9.0-py3-none-any.whl (11 kB)\n",
            "Requirement already satisfied: python-dateutil>=2.8.2 in /usr/local/lib/python3.10/dist-packages (from earthaccess) (2.8.2)\n",
            "Requirement already satisfied: requests<3.0.0,>=2.26 in /usr/local/lib/python3.10/dist-packages (from earthaccess) (2.31.0)\n",
            "Collecting s3fs<2024,>=2022.11 (from earthaccess)\n",
            "  Downloading s3fs-2023.12.2-py3-none-any.whl (28 kB)\n",
            "Collecting tinynetrc<2.0.0,>=1.3.1 (from earthaccess)\n",
            "  Downloading tinynetrc-1.3.1-py2.py3-none-any.whl (3.9 kB)\n",
            "Collecting bounded-pool-executor (from pqdm>=0.1->earthaccess)\n",
            "  Downloading bounded_pool_executor-0.0.3-py3-none-any.whl (3.4 kB)\n",
            "Requirement already satisfied: tqdm in /usr/local/lib/python3.10/dist-packages (from pqdm>=0.1->earthaccess) (4.66.1)\n",
            "Requirement already satisfied: typing-extensions in /usr/local/lib/python3.10/dist-packages (from pqdm>=0.1->earthaccess) (4.5.0)\n",
            "Requirement already satisfied: six>=1.5 in /usr/local/lib/python3.10/dist-packages (from python-dateutil>=2.8.2->earthaccess) (1.16.0)\n",
            "Requirement already satisfied: charset-normalizer<4,>=2 in /usr/local/lib/python3.10/dist-packages (from requests<3.0.0,>=2.26->earthaccess) (3.3.2)\n",
            "Requirement already satisfied: idna<4,>=2.5 in /usr/local/lib/python3.10/dist-packages (from requests<3.0.0,>=2.26->earthaccess) (3.6)\n",
            "Requirement already satisfied: urllib3<3,>=1.21.1 in /usr/local/lib/python3.10/dist-packages (from requests<3.0.0,>=2.26->earthaccess) (2.0.7)\n",
            "Requirement already satisfied: certifi>=2017.4.17 in /usr/local/lib/python3.10/dist-packages (from requests<3.0.0,>=2.26->earthaccess) (2023.11.17)\n",
            "Collecting aiobotocore<3.0.0,>=2.5.4 (from s3fs<2024,>=2022.11->earthaccess)\n",
            "  Downloading aiobotocore-2.11.1-py3-none-any.whl (76 kB)\n",
            "\u001b[2K     \u001b[90m━━━━━━━━━━━━━━━━━━━━━━━━━━━━━━━━━━━━━━━━\u001b[0m \u001b[32m76.1/76.1 kB\u001b[0m \u001b[31m9.3 MB/s\u001b[0m eta \u001b[36m0:00:00\u001b[0m\n",
            "\u001b[?25hCollecting fsspec>=2022.11 (from earthaccess)\n",
            "  Downloading fsspec-2023.12.2-py3-none-any.whl (168 kB)\n",
            "\u001b[2K     \u001b[90m━━━━━━━━━━━━━━━━━━━━━━━━━━━━━━━━━━━━━━━━\u001b[0m \u001b[32m169.0/169.0 kB\u001b[0m \u001b[31m3.9 MB/s\u001b[0m eta \u001b[36m0:00:00\u001b[0m\n",
            "\u001b[?25hRequirement already satisfied: aiohttp!=4.0.0a0,!=4.0.0a1 in /usr/local/lib/python3.10/dist-packages (from s3fs<2024,>=2022.11->earthaccess) (3.9.1)\n",
            "Collecting botocore<1.34.28,>=1.33.2 (from aiobotocore<3.0.0,>=2.5.4->s3fs<2024,>=2022.11->earthaccess)\n",
            "  Downloading botocore-1.34.27-py3-none-any.whl (11.9 MB)\n",
            "\u001b[2K     \u001b[90m━━━━━━━━━━━━━━━━━━━━━━━━━━━━━━━━━━━━━━━━\u001b[0m \u001b[32m11.9/11.9 MB\u001b[0m \u001b[31m25.7 MB/s\u001b[0m eta \u001b[36m0:00:00\u001b[0m\n",
            "\u001b[?25hRequirement already satisfied: wrapt<2.0.0,>=1.10.10 in /usr/local/lib/python3.10/dist-packages (from aiobotocore<3.0.0,>=2.5.4->s3fs<2024,>=2022.11->earthaccess) (1.14.1)\n",
            "Collecting aioitertools<1.0.0,>=0.5.1 (from aiobotocore<3.0.0,>=2.5.4->s3fs<2024,>=2022.11->earthaccess)\n",
            "  Downloading aioitertools-0.11.0-py3-none-any.whl (23 kB)\n",
            "Requirement already satisfied: attrs>=17.3.0 in /usr/local/lib/python3.10/dist-packages (from aiohttp!=4.0.0a0,!=4.0.0a1->s3fs<2024,>=2022.11->earthaccess) (23.2.0)\n",
            "Requirement already satisfied: multidict<7.0,>=4.5 in /usr/local/lib/python3.10/dist-packages (from aiohttp!=4.0.0a0,!=4.0.0a1->s3fs<2024,>=2022.11->earthaccess) (6.0.4)\n",
            "Requirement already satisfied: yarl<2.0,>=1.0 in /usr/local/lib/python3.10/dist-packages (from aiohttp!=4.0.0a0,!=4.0.0a1->s3fs<2024,>=2022.11->earthaccess) (1.9.4)\n",
            "Requirement already satisfied: frozenlist>=1.1.1 in /usr/local/lib/python3.10/dist-packages (from aiohttp!=4.0.0a0,!=4.0.0a1->s3fs<2024,>=2022.11->earthaccess) (1.4.1)\n",
            "Requirement already satisfied: aiosignal>=1.1.2 in /usr/local/lib/python3.10/dist-packages (from aiohttp!=4.0.0a0,!=4.0.0a1->s3fs<2024,>=2022.11->earthaccess) (1.3.1)\n",
            "Requirement already satisfied: async-timeout<5.0,>=4.0 in /usr/local/lib/python3.10/dist-packages (from aiohttp!=4.0.0a0,!=4.0.0a1->s3fs<2024,>=2022.11->earthaccess) (4.0.3)\n",
            "Collecting jmespath<2.0.0,>=0.7.1 (from botocore<1.34.28,>=1.33.2->aiobotocore<3.0.0,>=2.5.4->s3fs<2024,>=2022.11->earthaccess)\n",
            "  Downloading jmespath-1.0.1-py3-none-any.whl (20 kB)\n",
            "Installing collected packages: tinynetrc, bounded-pool-executor, pqdm, multimethod, jmespath, fsspec, aioitertools, python-cmr, botocore, aiobotocore, s3fs, earthaccess\n",
            "  Attempting uninstall: fsspec\n",
            "    Found existing installation: fsspec 2023.6.0\n",
            "    Uninstalling fsspec-2023.6.0:\n",
            "      Successfully uninstalled fsspec-2023.6.0\n",
            "\u001b[31mERROR: pip's dependency resolver does not currently take into account all the packages that are installed. This behaviour is the source of the following dependency conflicts.\n",
            "gcsfs 2023.6.0 requires fsspec==2023.6.0, but you have fsspec 2023.12.2 which is incompatible.\u001b[0m\u001b[31m\n",
            "\u001b[0mSuccessfully installed aiobotocore-2.11.1 aioitertools-0.11.0 botocore-1.34.27 bounded-pool-executor-0.0.3 earthaccess-0.8.2 fsspec-2023.12.2 jmespath-1.0.1 multimethod-1.10 pqdm-0.2.0 python-cmr-0.9.0 s3fs-2023.12.2 tinynetrc-1.3.1\n"
          ]
        }
      ]
    },
    {
      "cell_type": "markdown",
      "source": [
        "## 1.3 Importing necessary libraries"
      ],
      "metadata": {
        "id": "TxfhRi7ySyFY"
      }
    },
    {
      "cell_type": "code",
      "execution_count": null,
      "metadata": {
        "id": "IAAuhYMcEkvP"
      },
      "outputs": [],
      "source": [
        "import earthaccess # needed to discover and download TEMPO data\n",
        "import netCDF4 as nc # needed to read TEMPO data\n",
        "\n",
        "import os\n",
        "import sys\n",
        "\n",
        "import platform\n",
        "from subprocess import Popen\n",
        "import shutil\n",
        "\n",
        "from shapely.geometry import Point, Polygon # needed to search a point within a polygon\n",
        "from scipy.interpolate import griddata # needed to interpolate TEMPO data to the point of interest\n",
        "\n",
        "import requests # needed to search for and download Pandora data\n",
        "import codecs # needed to read Pandora data\n",
        "import numpy as np\n",
        "#import h5py\n",
        "import matplotlib.pyplot as plt # needed to plot the resulting time series\n",
        "from urllib.request import urlopen, Request # needed to search for and download Pandora data\n",
        "from pathlib import Path # needed to check whether a needed data file is already downloaded\n",
        "from datetime import datetime, timedelta # needed to work with time in plotting time series"
      ]
    },
    {
      "cell_type": "markdown",
      "source": [
        "# 2 Establishing access to EarthData"
      ],
      "metadata": {
        "id": "9FiqnX6XSt-3"
      }
    },
    {
      "cell_type": "markdown",
      "source": [
        "## 2.1 Logging in\n",
        "\n",
        "User needs to create an account at https://www.earthdata.nasa.gov/\n",
        "\n",
        "Function earthaccess.login prompts for EarthData login and password."
      ],
      "metadata": {
        "id": "LXGbiH5VTbPZ"
      }
    },
    {
      "cell_type": "code",
      "source": [
        "auth = earthaccess.login(strategy=\"interactive\", persist=True)"
      ],
      "metadata": {
        "id": "aHZmh8-xYZFe",
        "colab": {
          "base_uri": "https://localhost:8080/"
        },
        "outputId": "b5f4c5b2-2be9-43da-a258-b7845d22c0e4"
      },
      "execution_count": null,
      "outputs": [
        {
          "output_type": "stream",
          "name": "stdout",
          "text": [
            "Enter your Earthdata Login username: alexrad71\n",
            "Enter your Earthdata password: ··········\n",
            "Persisting credentials to .netrc\n"
          ]
        }
      ]
    },
    {
      "cell_type": "markdown",
      "source": [
        "## 2.2 Creating local directory"
      ],
      "metadata": {
        "id": "AR7UGlswVGHj"
      }
    },
    {
      "cell_type": "code",
      "source": [
        "homeDir = os.path.expanduser(\"~\") + os.sep\n",
        "\n",
        "with open(homeDir + '.dodsrc', 'w') as file:\n",
        "    file.write('HTTP.COOKIEJAR={}.urs_cookies\\n'.format(homeDir))\n",
        "    file.write('HTTP.NETRC={}.netrc'.format(homeDir))\n",
        "    file.close()\n",
        "\n",
        "print('Saved .dodsrc to:', homeDir)\n",
        "\n",
        "# Set appropriate permissions for Linux/macOS\n",
        "if platform.system() != \"Windows\":\n",
        "    Popen('chmod og-rw ~/.netrc', shell=True)\n",
        "else:\n",
        "    # Copy dodsrc to working directory in Windows\n",
        "    shutil.copy2(homeDir + '.dodsrc', os.getcwd())\n",
        "    print('Copied .dodsrc to:', os.getcwd())"
      ],
      "metadata": {
        "colab": {
          "base_uri": "https://localhost:8080/"
        },
        "id": "tizBt7IvY0lx",
        "outputId": "1b4844a0-4afe-4e77-8f7a-b03596c0deaa"
      },
      "execution_count": null,
      "outputs": [
        {
          "output_type": "stream",
          "name": "stdout",
          "text": [
            "Saved .dodsrc to: /root/\n"
          ]
        }
      ]
    },
    {
      "cell_type": "markdown",
      "source": [
        "# 3 Working with Pandora data"
      ],
      "metadata": {
        "id": "5QaStYVXVmdN"
      }
    },
    {
      "cell_type": "markdown",
      "source": [
        "## 3.0 Managing security certificate issue\n",
        "\n",
        "This step is needed only if there is a security certificate problem with Pandora data web site,  http://data.pandonia-global-network.org/. Should be avoided otherwise."
      ],
      "metadata": {
        "id": "Dt3zbZ1VV4Lk"
      }
    },
    {
      "cell_type": "code",
      "source": [
        "'''\n",
        "Pandora data web site,  url = 'http://data.pandonia-global-network.org/',\n",
        "currently has its security certificate expired. In order to make this code\n",
        "working, urlopen(url) was replaced by urlopen(url,context=context).\n",
        "2 lines below are needed to bypass certificate check.\n",
        "Once the site certificate is up-to-date,\n",
        "these lines can be removed and usual call of urlopen can be restored.\n",
        "'''\n",
        "import ssl\n",
        "context = ssl._create_unverified_context()"
      ],
      "metadata": {
        "id": "peFB-BWSieE1"
      },
      "execution_count": null,
      "outputs": []
    },
    {
      "cell_type": "markdown",
      "source": [
        "## 3.1 Defining a function gathering the list of available Pandora sites\n",
        "\n",
        "If there is a security certificate problem with Pandora data web site,  http://data.pandonia-global-network.org/, un-comment line\n",
        "\n",
        "page = urlopen(url,context=context)\n",
        "\n",
        "and comment out\n",
        "\n",
        "page = urlopen(url)"
      ],
      "metadata": {
        "id": "lpMSyF-LXm5i"
      }
    },
    {
      "cell_type": "code",
      "source": [
        "'''\n",
        "function read_pandora_web returns the list of available Pandora sites\n",
        "'''\n",
        "def read_pandora_web():\n",
        "  url = 'https://data.pandonia-global-network.org/'\n",
        "  page = urlopen(url)\n",
        "#  page = urlopen(url,context=context)\n",
        "  html_bytes = page.read()\n",
        "  html = html_bytes.decode(\"utf-8\")\n",
        "  html_len = len(html)\n",
        "\n",
        "  pos1 = 0\n",
        "\n",
        "  big_line = str(html)\n",
        "  lines = big_line.split('\\n')\n",
        "\n",
        "  ref_lines = [i for i in lines if 'href' in i]\n",
        "  refs = []\n",
        "  for line in ref_lines:\n",
        "    pos1 = line.find('\"')\n",
        "    pos2 = line.rfind('\"')\n",
        "    if pos1 > 0 and pos2 > pos1 and line[pos2-1] =='/' and line[pos1+1] == '.':\n",
        "      refs.append(line[pos1+3 : pos2-1])\n",
        "\n",
        "  return refs"
      ],
      "metadata": {
        "id": "eFwvdlZWFNnM"
      },
      "execution_count": null,
      "outputs": []
    },
    {
      "cell_type": "markdown",
      "source": [
        "## 3.2 Defining functions allowing user to choose a Pandora site of interest"
      ],
      "metadata": {
        "id": "vUrk8c6KYe8E"
      }
    },
    {
      "cell_type": "code",
      "source": [
        "'''\n",
        "function check_site checks whether user entered site is in the list of available Pandora sites\n",
        "'''\n",
        "def check_site(site_name, refs):\n",
        "  site_list = []\n",
        "  for line in refs:\n",
        "    if site_name in line:\n",
        "      site_list.append(line)\n",
        "\n",
        "  return site_list\n",
        "\n",
        "'''\n",
        "function take_pandora_sites takes user input and checks whether the site is in the list of available Pandora sites\n",
        "'''\n",
        "def take_pandora_sites(refs):\n",
        "  print('please select a Pandora site name from the list')\n",
        "  for ref in refs:\n",
        "    print(ref)\n",
        "\n",
        "  answer = 'y'\n",
        "  while answer == 'y':\n",
        "    site_name = input('Enter a name of a Pandora site: ')\n",
        "    print(site_name)\n",
        "    site_list = check_site(site_name, refs)\n",
        "    site_num = len(site_list)\n",
        "    if site_num == 0:\n",
        "      print('site ', site_name, 'was not found')\n",
        "      continue\n",
        "\n",
        "    if site_num > 1:\n",
        "      print('there are ', site_num, ' site names, select one from')\n",
        "      for site in site_list:\n",
        "        print(site)\n",
        "\n",
        "      site_name = input('Enter a name of a Pandora site: ')\n",
        "\n",
        "      for site in site_list:\n",
        "        if site == site_name:\n",
        "          pandora_site = site_name\n",
        "          print('site ', site_name, 'was found and added to the list of sites ')\n",
        "          break\n",
        "\n",
        "    if site_num == 1:\n",
        "      pandora_site = site_list[0]\n",
        "      print('site ', site_list[0], 'was found and added to the list of sites ')\n",
        "\n",
        "    answer = 'n'\n",
        "\n",
        "  return pandora_site"
      ],
      "metadata": {
        "id": "HddB1cMqFv_u"
      },
      "execution_count": null,
      "outputs": []
    },
    {
      "cell_type": "markdown",
      "source": [
        "## 3.3 Defining a function creating the list links to NO2 data files at the selected Pandora sites\n",
        "\n",
        "Pandora site may have several instruments. In this case each instrument has its own directory. However, the most recent version of the NO2 data, rnvs3p1-8, is available only in one of these directories. The function creates all possible links, but some of them may be non-existing. This is chacked and cleared later.\n",
        "\n",
        "If there is a security certificate problem with Pandora data web site,  http://data.pandonia-global-network.org/, un-comment line\n",
        "\n",
        "page = urlopen(url,context=context)\n",
        "\n",
        "and comment out\n",
        "\n",
        "page = urlopen(url)"
      ],
      "metadata": {
        "id": "T95P34fTZN1S"
      }
    },
    {
      "cell_type": "code",
      "source": [
        "'''\n",
        "function instrument_path returns links to available Pandora NO2 retrievals files\n",
        "'''\n",
        "def instrument_path(site):\n",
        "  url = 'https://data.pandonia-global-network.org/' + site + '/'\n",
        "  page = urlopen(url)\n",
        "#  page = urlopen(url,context=context)\n",
        "  html_bytes = page.read()\n",
        "  html = html_bytes.decode(\"utf-8\")\n",
        "  html_len = len(html)\n",
        "\n",
        "  pos1 = 0\n",
        "  big_line = str(html)\n",
        "  lines = big_line.split('\\n')\n",
        "\n",
        "  ref_lines = [i for i in lines if 'href' in i]\n",
        "  links = []\n",
        "  for line in ref_lines:\n",
        "\n",
        "    pos1 = line.find('\"')\n",
        "    pos2 = line.rfind('\"')\n",
        "    if pos1 > 0 and pos2 > pos1 and line[pos2-1] =='/' and\\\n",
        "       line[pos1+3 : pos1 + 10] == 'Pandora':\n",
        "      link = url + line[pos1+3 : pos2] + 'L2/' + line[pos1+3 : pos2-1] + '_' + site + '_L2_rnvs3p1-8.txt'\n",
        "      print(link)\n",
        "      links.append(link)\n",
        "\n",
        "  return links"
      ],
      "metadata": {
        "id": "fMzfud_8HdDf"
      },
      "execution_count": null,
      "outputs": []
    },
    {
      "cell_type": "markdown",
      "source": [
        "## 3.4 Defining functions downloading Pandora data file with given url\n",
        "\n",
        "If there is a security certificate problem with Pandora data web site, http://data.pandonia-global-network.org/, un-comment line\n",
        "\n",
        "response = requests.get(url, verify=False)\n",
        "\n",
        "and comment out\n",
        "\n",
        "page = response = requests.get(url)"
      ],
      "metadata": {
        "id": "KjgZatRzatr6"
      }
    },
    {
      "cell_type": "code",
      "source": [
        "'''\n",
        "function download downloads file with given url\n",
        "'''\n",
        "def download(url):\n",
        "  response = requests.get(url)\n",
        "#  response = requests.get(url, verify=False)\n",
        "  response_code = response.status_code\n",
        "\n",
        "  file_name = url.split('/')[-1]\n",
        "\n",
        "  if response_code == 200:\n",
        "    content = response.content\n",
        "    data_path = Path(file_name)\n",
        "    data_path.write_bytes(content)\n",
        "\n",
        "  return file_name, response_code"
      ],
      "metadata": {
        "id": "y0X0IsLEM-SB"
      },
      "execution_count": null,
      "outputs": []
    },
    {
      "cell_type": "markdown",
      "source": [
        "## 3.5 Defining functions converting Pandora timestamp into a set of  year, month, day, hour, minute, and second"
      ],
      "metadata": {
        "id": "rlz83ZGabWP9"
      }
    },
    {
      "cell_type": "code",
      "source": [
        "'''\n",
        "function read_timestamp converts Pandora timestamp of the format\n",
        "'yyyymmddThhmmssZ' into a set of 6 numbers:\n",
        "integer year, month, day, hour, minute, and real second.\n",
        "'''\n",
        "def read_timestamp(timestamp):\n",
        "\n",
        "  yyyy = int(timestamp[0:4])\n",
        "  mm = int(timestamp[4:6])\n",
        "  dd = int(timestamp[6:8])\n",
        "  hh = int(timestamp[9:11])\n",
        "  mn = int(timestamp[11:13])\n",
        "  ss = float(timestamp[13:17])\n",
        "\n",
        "  return yyyy, mm, dd, hh, mn, ss"
      ],
      "metadata": {
        "id": "jfV_yV_iOOnJ"
      },
      "execution_count": null,
      "outputs": []
    },
    {
      "cell_type": "markdown",
      "source": [
        "## 3.6 Defining function reading Pandora NO2 data file rnvs3p1-8"
      ],
      "metadata": {
        "id": "QIuXfcvScCy3"
      }
    },
    {
      "cell_type": "code",
      "source": [
        "'''\n",
        "function read_Pandora_NO2_rnvs3p1-8 reads Pandora total NO2 column data files\n",
        "ending with rnvs3p1-8.\n",
        "\n",
        "Arguments:\n",
        "fname - name file to be read, string;\n",
        "start_date - beginning of the time interval of interest,\n",
        "             integer of the form YYYYMMDD;\n",
        "end_date -   end of the time interval of interest,\n",
        "             integer of the form YYYYMMDD.\n",
        "\n",
        "if start_date is greater than end_date, the function returns a numpy array\n",
        "with shape (0, 8), otherwise it returns an 8-column numpy array\n",
        "with with columns being year, month, day, hour, minute, second of observation\n",
        "and retrieved total NO2 column alonng with its total uncertainty.\n",
        "\n",
        "NO2 column is in mol/m^2, so conversion to molecules/cm^2 is performed by\n",
        "multiplication by Avogadro constant, NA =  6.02214076E+23, and division by 1.E+4\n",
        "\n",
        "'''\n",
        "def read_Pandora_NO2_rnvs3p1_8(fname, start_date, end_date):\n",
        "\n",
        "  conversion_coeff = 6.02214076E+19 # Avogadro constant divided by 10000\n",
        "\n",
        "  data = np.empty([0, 8])\n",
        "  if start_date > end_date: return -999., -999., data\n",
        "\n",
        "  with codecs.open(fname, 'r', encoding='utf-8', errors='ignore') as f:\n",
        "\n",
        "    while True:\n",
        "# Get next line from file\n",
        "      line = f.readline()\n",
        "\n",
        "      if line.find('Short location name:') >= 0:\n",
        "        loc_name = line.split()[-1] # location name, to be used in the output file name\n",
        "        print('location name ', loc_name)\n",
        "\n",
        "      if line.find('Location latitude [deg]:') >= 0:\n",
        "        lat = float(line.split()[-1]) # location latitude\n",
        "        print('location latitude ', lat)\n",
        "\n",
        "      if line.find('Location longitude [deg]:') >= 0:\n",
        "        lon = float(line.split()[-1]) # location longitude\n",
        "        print('location longitude ', lon)\n",
        "\n",
        "      if line.find('--------') >= 0: break\n",
        "\n",
        "    while True:\n",
        "# Get next line from file\n",
        "      line = f.readline()\n",
        "\n",
        "      if line.find('--------') >= 0: break\n",
        "\n",
        "    while True:\n",
        "# now reading line with data\n",
        "      line = f.readline()\n",
        "\n",
        "      if not line: break\n",
        "\n",
        "      line_split = line.split()\n",
        "\n",
        "      yyyy, mm, dd, hh, mn, ss = read_timestamp(line_split[0])\n",
        "      date_stamp = yyyy*10000 + mm*100 + dd\n",
        "      if date_stamp < start_date or date_stamp > end_date: continue\n",
        "\n",
        "      column = float(line_split[38])\n",
        "      if column < 0.: continue\n",
        "\n",
        "      column_unc = float(line_split[42]) # total column uncertainty\n",
        "      if column_unc < 0.: continue\n",
        "\n",
        "      data = np.append(data, [[yyyy, mm, dd, hh, mn, ss, column*conversion_coeff, column_unc*conversion_coeff]], axis = 0)\n",
        "\n",
        "  return lat, lon, loc_name, data"
      ],
      "metadata": {
        "id": "7R72M8dVO2s2"
      },
      "execution_count": null,
      "outputs": []
    },
    {
      "cell_type": "markdown",
      "source": [
        "## 3.7 Discovering existing Pandora stations and selecting one of them"
      ],
      "metadata": {
        "id": "NN7_YcCackvI"
      }
    },
    {
      "cell_type": "code",
      "source": [
        "# Discovering available Pandora site.\n",
        "# Please bear in mind that some sites do not have O3 data files\n",
        "print('gathering Pandora sites information')\n",
        "refs = read_pandora_web()\n",
        "\n",
        "pandora_site = take_pandora_sites(refs) # create list of Pandora sites of interest\n",
        "print('the following sites were selected')\n",
        "print(pandora_site)\n",
        "print('from the list of existing Pandora sites')\n",
        "\n",
        "# create a list of !AVAILABLE! Pandora files for the Pandora site\n",
        "pandora_files = []\n",
        "\n",
        "links = instrument_path(pandora_site)\n",
        "\n",
        "npfiles = 0\n",
        "\n",
        "for link in links:\n",
        "  pandora_fname = link.split('/')[-1]\n",
        "\n",
        "# check if file exists in the local directory, if not download from Pandora site\n",
        "  if not os.path.exists(pandora_fname):\n",
        "    print(pandora_fname,' does not exit in local directory, downloading from the web')\n",
        "    print(link)\n",
        "\n",
        "    pandora_fname, response_code = download(link)\n",
        "\n",
        "    if response_code == 200:\n",
        "      print('Pandora L2 file ', pandora_fname, ' has been downloaded')\n",
        "      npfiles = npfiles + 1\n",
        "      pandora_files.append(pandora_fname)\n",
        "    else:\n",
        "      print('Pandora L2 file ', link, ' does not exist')\n",
        "\n",
        "  else:\n",
        "    print(pandora_fname,' exits in local directory')\n",
        "    npfiles = npfiles + 1\n",
        "    pandora_files.append(pandora_fname)\n",
        "\n",
        "if npfiles == 0: # no files were found, STOP here\n",
        "  print('no files were found for Pandora site ', pandora_site, 'program terminated')\n",
        "  sys.exit()\n",
        "if npfiles > 1: # normally there should be only one file per site. if there are more - STOP\n",
        "  print('there are too many files for site ', pandora_site, '- STOP and investigate file names below. Program terminated')\n",
        "  for pandora_fname in pandora_files:\n",
        "    print(pandora_fname)\n",
        "  sys.exit()"
      ],
      "metadata": {
        "colab": {
          "base_uri": "https://localhost:8080/"
        },
        "id": "G-VGNGOtzqBY",
        "outputId": "291718ea-dd0c-4af6-e8a9-14e0b0d5a6f1"
      },
      "execution_count": null,
      "outputs": [
        {
          "output_type": "stream",
          "name": "stdout",
          "text": [
            "gathering Pandora sites information\n",
            "please select a Pandora site name from the list\n",
            "Agam\n",
            "AldineTX\n",
            "AliceSprings\n",
            "Altzomoni\n",
            "ArlingtonTX\n",
            "Athens-NOA\n",
            "AtlantaGA-SouthDeKalb\n",
            "AtlantaGA\n",
            "Bandung\n",
            "Bangkok\n",
            "Banting\n",
            "BayonneNJ\n",
            "Beijing-RADI\n",
            "BeltsvilleMD\n",
            "Berlin\n",
            "BlueHillMA\n",
            "BostonMA\n",
            "BoulderCO-NCAR\n",
            "BoulderCO\n",
            "Bremen\n",
            "BristolPA\n",
            "BronxNY\n",
            "Brussels-Uccle\n",
            "Bucharest\n",
            "BuenosAires\n",
            "BuffaloNY\n",
            "Busan\n",
            "Cabauw\n",
            "CambridgeMA\n",
            "CapeElizabethME\n",
            "ChapelHillNC\n",
            "CharlesCityVA\n",
            "ChicagoIL\n",
            "ClearLakeShoresTX\n",
            "Cologne\n",
            "ComodoroRivadavia\n",
            "Cordoba\n",
            "Dalanzadgad\n",
            "Davos\n",
            "DearbornMI\n",
            "Dhaka\n",
            "Downsview\n",
            "EastProvidenceRI\n",
            "EdwardsCA\n",
            "Egbert\n",
            "Eureka-PEARL\n",
            "FairbanksAK\n",
            "Fajardo\n",
            "FortMcKay\n",
            "Fukuoka\n",
            "Granada\n",
            "GreenbeltMD\n",
            "HamptonVA-HU\n",
            "HamptonVA\n",
            "Helsinki\n",
            "HoustonTX\n",
            "HuntsvilleAL\n",
            "Incheon-ESC\n",
            "Innsbruck\n",
            "Islamabad-NUST\n",
            "Izana\n",
            "Juelich\n",
            "KenoshaWI\n",
            "Kobe\n",
            "LaPorteTX\n",
            "Lindenberg\n",
            "LondonderryNH\n",
            "LynnMA\n",
            "MadisonCT\n",
            "ManhattanKS\n",
            "ManhattanNY-CCNY\n",
            "MaunaLoaHI\n",
            "MexicoCity-UNAM\n",
            "MexicoCity-Vallejo\n",
            "MountainViewCA\n",
            "Nagoya\n",
            "NewBrunswickNJ\n",
            "NewHavenCT\n",
            "NyAlesund\n",
            "OldFieldNY\n",
            "Palau\n",
            "PhiladelphiaPA\n",
            "PittsburghPA\n",
            "Pontianak\n",
            "Potchefstroom-METSI\n",
            "QueensNY\n",
            "RichmondCA\n",
            "Rome-IIA\n",
            "Rome-ISAC\n",
            "Rome-SAP\n",
            "SaltLakeCityUT-Hawthorne\n",
            "SaltLakeCityUT\n",
            "SanJoseCA\n",
            "Sapporo\n",
            "Seosan\n",
            "Seoul-SNU\n",
            "Seoul\n",
            "Singapore-NUS\n",
            "SouthJordanUT\n",
            "StGeorge\n",
            "StonyPlain\n",
            "SWDetroitMI\n",
            "Tel-Aviv\n",
            "Thessaloniki\n",
            "Tokyo-TMU\n",
            "Toronto-Scarborough\n",
            "Toronto-West\n",
            "Trollhaugen\n",
            "Tsukuba-NIES-West\n",
            "Tsukuba-NIES\n",
            "Tsukuba\n",
            "TurlockCA\n",
            "Ulaanbaatar\n",
            "Ulsan\n",
            "WacoTX\n",
            "Wakkerstroom\n",
            "WallopsIslandVA\n",
            "WashingtonDC\n",
            "WestportCT\n",
            "WhittierCA\n",
            "Windsor-West\n",
            "WrightwoodCA\n",
            "Yokosuka\n",
            "Enter a name of a Pandora site: Mex\n",
            "Mex\n",
            "there are  2  site names, select one from\n",
            "MexicoCity-UNAM\n",
            "MexicoCity-Vallejo\n",
            "Enter a name of a Pandora site: MexicoCity-UNAM\n",
            "site  MexicoCity-UNAM was found and added to the list of sites \n",
            "the following sites were selected\n",
            "MexicoCity-UNAM\n",
            "from the list of existing Pandora sites\n",
            "https://data.pandonia-global-network.org/MexicoCity-UNAM/Pandora142s1/L2/Pandora142s1_MexicoCity-UNAM_L2_rnvs3p1-8.txt\n",
            "Pandora142s1_MexicoCity-UNAM_L2_rnvs3p1-8.txt  does not exit in local directory, downloading from the web\n",
            "https://data.pandonia-global-network.org/MexicoCity-UNAM/Pandora142s1/L2/Pandora142s1_MexicoCity-UNAM_L2_rnvs3p1-8.txt\n",
            "Pandora L2 file  Pandora142s1_MexicoCity-UNAM_L2_rnvs3p1-8.txt  has been downloaded\n"
          ]
        }
      ]
    },
    {
      "cell_type": "markdown",
      "source": [
        "## 3.8 Selecting timeframe of interest\n",
        "\n",
        "It is going to be common for both instruments"
      ],
      "metadata": {
        "id": "4vYb5skDdNvg"
      }
    },
    {
      "cell_type": "code",
      "source": [
        "print('enter period of interest, start and end dates, in the form YYYYMMDD')\n",
        "datestamp_ini = input('enter start date of interest ')\n",
        "datestamp_fin = input('enter end date of interest ')\n",
        "\n",
        "start_date = int(datestamp_ini)\n",
        "end_date = int(datestamp_fin)\n",
        "\n",
        "yyyy_ini = start_date//10000\n",
        "mm_ini = (start_date//100 - yyyy_ini*100)\n",
        "dd_ini = (start_date - yyyy_ini*10000 - mm_ini*100)\n",
        "\n",
        "yyyy_fin = end_date//10000\n",
        "mm_fin = (end_date//100 - yyyy_fin*100)\n",
        "dd_fin = (end_date - yyyy_fin*10000 - mm_fin*100)\n",
        "print(yyyy_ini, mm_ini, dd_ini, yyyy_fin, mm_fin, dd_fin)\n",
        "\n",
        "date_start = str('%4.4i-%2.2i-%2.2i 00:00:00' %(yyyy_ini, mm_ini, dd_ini))\n",
        "date_end = str('%4.4i-%2.2i-%2.2i 23:59:59' %(yyyy_fin, mm_fin, dd_fin))"
      ],
      "metadata": {
        "colab": {
          "base_uri": "https://localhost:8080/"
        },
        "id": "R7G6LBj6z9Mi",
        "outputId": "dc268089-55e4-46f3-b009-c1b2e885733e"
      },
      "execution_count": null,
      "outputs": [
        {
          "output_type": "stream",
          "name": "stdout",
          "text": [
            "enter period of interest, start and end dates, in the form YYYYMMDD\n",
            "enter start date of interest 20231026\n",
            "enter end date of interest 20231026\n",
            "2023 10 26 2023 10 26\n"
          ]
        }
      ]
    },
    {
      "cell_type": "markdown",
      "source": [
        "## 3.9 Reading Pandora file within selected timeframe and create point of interest"
      ],
      "metadata": {
        "id": "mTFV2Fkadj8e"
      }
    },
    {
      "cell_type": "code",
      "source": [
        "pandora_file = pandora_files[0]\n",
        "lat, lon, POI_name, Pandora_data = read_Pandora_NO2_rnvs3p1_8(pandora_file, start_date, end_date)\n",
        "\n",
        "if lat == -999.:\n",
        "  print('error reading pandora file ', pandora_file, 'program terminated')\n",
        "  sys.exit()\n",
        "\n",
        "POI = np.array([lat, lon])"
      ],
      "metadata": {
        "colab": {
          "base_uri": "https://localhost:8080/"
        },
        "id": "Rzmdn7JqxFBg",
        "outputId": "c74c40ae-a575-4710-e058-16e9ae221a77"
      },
      "execution_count": null,
      "outputs": [
        {
          "output_type": "stream",
          "name": "stdout",
          "text": [
            "location name  MexicoCity-UNAM\n",
            "location latitude  19.3262\n",
            "location longitude  -99.1761\n"
          ]
        }
      ]
    },
    {
      "cell_type": "code",
      "source": [
        "print(len(Pandora_data))\n",
        "for i in range(5): print(str('%4.4i %2.2i %2.2i %2.2i %2.2i %4.1f %12.4e %12.4e'\\\n",
        "%(Pandora_data[i, 0], Pandora_data[i, 1], Pandora_data[i, 2], Pandora_data[i, 3],\\\n",
        "  Pandora_data[i, 4], Pandora_data[i, 5], Pandora_data[i, 6], Pandora_data[i, 7])))"
      ],
      "metadata": {
        "colab": {
          "base_uri": "https://localhost:8080/"
        },
        "id": "MiKDFRpl7YVy",
        "outputId": "b50df5a2-2345-4858-a0f4-fc1327de2eaa"
      },
      "execution_count": null,
      "outputs": [
        {
          "output_type": "stream",
          "name": "stdout",
          "text": [
            "417\n",
            "2023 10 26 13 51 48.2   2.0263e+16   2.3259e+14\n",
            "2023 10 26 13 52  3.5   1.9573e+16   2.3967e+14\n",
            "2023 10 26 14 14 54.4   2.2585e+16   8.0679e+14\n",
            "2023 10 26 14 20 19.5   1.9327e+16   3.0944e+14\n",
            "2023 10 26 14 20 26.0   1.9241e+16   3.0959e+14\n"
          ]
        }
      ]
    },
    {
      "cell_type": "markdown",
      "source": [
        "# 4 Working with TEMPO data"
      ],
      "metadata": {
        "id": "VGfpNlrWei36"
      }
    },
    {
      "cell_type": "markdown",
      "source": [
        "## 4.1 Setting TEMPO name constants"
      ],
      "metadata": {
        "id": "3wvhtsq5kXgZ"
      }
    },
    {
      "cell_type": "code",
      "source": [
        "short_name = 'TEMPO_NO2_L2' # collection name to search for in the EarthData\n",
        "out_Q = 'tot_NO2_col' # name of the output quantity with unit\n",
        "out_Q_unit = out_Q+',_molecules/cm^2' # name of the output quantity with unit"
      ],
      "metadata": {
        "id": "fZRNP9ifkMg4"
      },
      "execution_count": null,
      "outputs": []
    },
    {
      "cell_type": "markdown",
      "source": [
        "## 4.2 Searching TEMPO data files within 0.5 degree range around the POI (position of the Pandora station)"
      ],
      "metadata": {
        "id": "qO9NEF61jlcy"
      }
    },
    {
      "cell_type": "code",
      "source": [
        "POI_lat = POI[0]\n",
        "POI_lon = POI[1]\n",
        "\n",
        "bbox = (POI_lon - 0.5, POI_lat - 0.5, POI_lon + 0.5, POI_lat + 0.5)\n",
        "POI_results = earthaccess.search_data(short_name = short_name,\n",
        "                                    temporal = (date_start, date_end),\n",
        "                                    bounding_box = bbox)\n",
        "\n",
        "print('total number of granules found for POI', POI_name, \\\n",
        "      '\\nwithin period of interes between', date_start, 'and', date_end, \\\n",
        "      '\\nis', len(POI_results))"
      ],
      "metadata": {
        "colab": {
          "base_uri": "https://localhost:8080/"
        },
        "id": "vEUujyNZzRx0",
        "outputId": "b1e8bf7c-d4a2-4113-c4f2-518dd8b20387"
      },
      "execution_count": null,
      "outputs": [
        {
          "output_type": "stream",
          "name": "stdout",
          "text": [
            "Granules found: 15\n",
            "total number of granules found for POI MexicoCity-UNAM \n",
            "within period of interes between 2023-10-26 00:00:00 and 2023-10-26 23:59:59 \n",
            "is 15\n"
          ]
        }
      ]
    },
    {
      "cell_type": "markdown",
      "source": [
        "### 4.2.0 Printing explicit links to the granules\n",
        "\n",
        "This can be dropped off"
      ],
      "metadata": {
        "id": "OvC5eZRhk7Xz"
      }
    },
    {
      "cell_type": "code",
      "source": [
        "granule_links = []\n",
        "for result in POI_results: granule_links.append(result['umm']['RelatedUrls'][0]['URL'])\n",
        "\n",
        "for granule_link in granule_links: print(granule_link)"
      ],
      "metadata": {
        "id": "UQnLZCmB5Oxv",
        "colab": {
          "base_uri": "https://localhost:8080/"
        },
        "outputId": "c8b90fd3-1935-4d57-962f-65bd64d374aa"
      },
      "execution_count": null,
      "outputs": [
        {
          "output_type": "stream",
          "name": "stdout",
          "text": [
            "https://data.asdc.earthdata.nasa.gov/asdc-prod-protected/TEMPO/TEMPO_NO2_L2_V01/2023.10.26/TEMPO_NO2_L2_V01_20231026T121521Z_S001G06.nc\n",
            "https://data.asdc.earthdata.nasa.gov/asdc-prod-protected/TEMPO/TEMPO_NO2_L2_V01/2023.10.26/TEMPO_NO2_L2_V01_20231026T125526Z_S002G06.nc\n",
            "https://data.asdc.earthdata.nasa.gov/asdc-prod-protected/TEMPO/TEMPO_NO2_L2_V01/2023.10.26/TEMPO_NO2_L2_V01_20231026T133531Z_S003G06.nc\n",
            "https://data.asdc.earthdata.nasa.gov/asdc-prod-protected/TEMPO/TEMPO_NO2_L2_V01/2023.10.26/TEMPO_NO2_L2_V01_20231026T141536Z_S004G06.nc\n",
            "https://data.asdc.earthdata.nasa.gov/asdc-prod-protected/TEMPO/TEMPO_NO2_L2_V01/2023.10.26/TEMPO_NO2_L2_V01_20231026T145544Z_S005G06.nc\n",
            "https://data.asdc.earthdata.nasa.gov/asdc-prod-protected/TEMPO/TEMPO_NO2_L2_V01/2023.10.26/TEMPO_NO2_L2_V01_20231026T155544Z_S006G06.nc\n",
            "https://data.asdc.earthdata.nasa.gov/asdc-prod-protected/TEMPO/TEMPO_NO2_L2_V01/2023.10.26/TEMPO_NO2_L2_V01_20231026T165544Z_S007G06.nc\n",
            "https://data.asdc.earthdata.nasa.gov/asdc-prod-protected/TEMPO/TEMPO_NO2_L2_V01/2023.10.26/TEMPO_NO2_L2_V01_20231026T175544Z_S008G06.nc\n",
            "https://data.asdc.earthdata.nasa.gov/asdc-prod-protected/TEMPO/TEMPO_NO2_L2_V01/2023.10.26/TEMPO_NO2_L2_V01_20231026T185544Z_S009G06.nc\n",
            "https://data.asdc.earthdata.nasa.gov/asdc-prod-protected/TEMPO/TEMPO_NO2_L2_V01/2023.10.26/TEMPO_NO2_L2_V01_20231026T195544Z_S010G06.nc\n",
            "https://data.asdc.earthdata.nasa.gov/asdc-prod-protected/TEMPO/TEMPO_NO2_L2_V01/2023.10.26/TEMPO_NO2_L2_V01_20231026T205544Z_S011G06.nc\n",
            "https://data.asdc.earthdata.nasa.gov/asdc-prod-protected/TEMPO/TEMPO_NO2_L2_V01/2023.10.26/TEMPO_NO2_L2_V01_20231026T213549Z_S012G03.nc\n",
            "https://data.asdc.earthdata.nasa.gov/asdc-prod-protected/TEMPO/TEMPO_NO2_L2_V01/2023.10.26/TEMPO_NO2_L2_V01_20231026T221554Z_S013G03.nc\n",
            "https://data.asdc.earthdata.nasa.gov/asdc-prod-protected/TEMPO/TEMPO_NO2_L2_V01/2023.10.26/TEMPO_NO2_L2_V01_20231026T225559Z_S014G03.nc\n",
            "https://data.asdc.earthdata.nasa.gov/asdc-prod-protected/TEMPO/TEMPO_NO2_L2_V01/2023.10.26/TEMPO_NO2_L2_V01_20231026T233604Z_S015G03.nc\n"
          ]
        }
      ]
    },
    {
      "cell_type": "markdown",
      "source": [
        "## 4.3 Downloading TEMPO data files"
      ],
      "metadata": {
        "id": "GTZXmaFalcLa"
      }
    },
    {
      "cell_type": "code",
      "source": [
        "downloaded_files = earthaccess.download(\n",
        "    POI_results,\n",
        "    local_path='.',\n",
        ")"
      ],
      "metadata": {
        "colab": {
          "base_uri": "https://localhost:8080/",
          "height": 130,
          "referenced_widgets": [
            "b3406bca4aff4c338188bf200ff4a71b",
            "90440a5605414bfd94c1fc066b5109c1",
            "695865acba6140bf9564cd8785f3c00f",
            "6e6a1359f78f4ca095aa5e0049f97b86",
            "4621b3f161fa4f8da47781177e3d3a04",
            "8a2e564823ed4f57b61d110b63b2bcf4",
            "e50eb17b9dbd4f64894c48b632cbe10d",
            "ac9aa6c64eee4b719c1978c0ebabcb03",
            "1820a79254d34380a375098b795812f8",
            "60108a003a3b4a8fb8baabbb5e38433b",
            "f3e5572678824682b974486508eb9b9e",
            "4589868c39604cd38a4ac2708db5d2c9",
            "82d9e5fedc0e46e3af8508d013b34f2a",
            "e387aa5ab5bf48419fbc4d70b9fb1189",
            "76a5b2a82c3f44b8b6b18240880f5e78",
            "4dd076707863489cb0e3b9914211ba7e",
            "5a772a92571b4a0dbf9af8f0156c70ae",
            "09f85af6a18748f5874f73e0c8983483",
            "5e14d35ba0ad42919d3d8db2f624c843",
            "b5cbff4cd255461fa7d14e4e6233f38f",
            "52c59ed13d8a4945aaa7b25be111fe3d",
            "14f4f41e4700499196f0637471c31044",
            "aaff4155eab8422badf0086326bf56d2",
            "3c91d832230646b1aac40a02e63a5839",
            "4ff7be99f76c4d9ba5bd4f32099323ff",
            "e2c8d21abcd24d6e89740d5963c6b172",
            "43eaa4f040e14663a4a9cd1f1aafd047",
            "e4d98381b07642b3adb76354f5edfed0",
            "88ae25438bee482e8a712629b7668b0a",
            "7828094044ef43f2b65e43c7dc189370",
            "4fa1bff9773d484b98f65efc7edc3417",
            "b1fed22a6cf54b42ae7a276ad5351bdd",
            "1f5d83e35a254dccb3a875c5ba578b22"
          ]
        },
        "id": "DeSFXhk2DYIP",
        "outputId": "8c0ec312-ea7b-4a09-899a-892865bc2b2d"
      },
      "execution_count": null,
      "outputs": [
        {
          "output_type": "stream",
          "name": "stdout",
          "text": [
            " Getting 15 granules, approx download size: 0.0 GB\n"
          ]
        },
        {
          "output_type": "display_data",
          "data": {
            "text/plain": [
              "QUEUEING TASKS | :   0%|          | 0/15 [00:00<?, ?it/s]"
            ],
            "application/vnd.jupyter.widget-view+json": {
              "version_major": 2,
              "version_minor": 0,
              "model_id": "b3406bca4aff4c338188bf200ff4a71b"
            }
          },
          "metadata": {}
        },
        {
          "output_type": "display_data",
          "data": {
            "text/plain": [
              "PROCESSING TASKS | :   0%|          | 0/15 [00:00<?, ?it/s]"
            ],
            "application/vnd.jupyter.widget-view+json": {
              "version_major": 2,
              "version_minor": 0,
              "model_id": "4589868c39604cd38a4ac2708db5d2c9"
            }
          },
          "metadata": {}
        },
        {
          "output_type": "display_data",
          "data": {
            "text/plain": [
              "COLLECTING RESULTS | :   0%|          | 0/15 [00:00<?, ?it/s]"
            ],
            "application/vnd.jupyter.widget-view+json": {
              "version_major": 2,
              "version_minor": 0,
              "model_id": "aaff4155eab8422badf0086326bf56d2"
            }
          },
          "metadata": {}
        }
      ]
    },
    {
      "cell_type": "markdown",
      "source": [
        "### 4.3.0 Checking whether all TEMPO data files\n",
        "\n",
        "This can be dropped off, but it can be useful to ensure that all TEMPO files are downloaded. If the outcom is '0' then all is done"
      ],
      "metadata": {
        "id": "_LizSkWolsNc"
      }
    },
    {
      "cell_type": "code",
      "source": [
        "cnt = 0\n",
        "for granule_link in granule_links:\n",
        "  TEMPO_fname = granule_link.split('/')[-1]\n",
        "\n",
        "# check if file exists in the local directory, if not download from Pandora site\n",
        "  if not os.path.exists(TEMPO_fname):\n",
        "    print(TEMPO_fname, 'does not exist in local directory')\n",
        "    cnt += 1\n",
        "\n",
        "print(cnt)"
      ],
      "metadata": {
        "colab": {
          "base_uri": "https://localhost:8080/"
        },
        "id": "M23BH438AM2k",
        "outputId": "15b3a410-118c-4550-f0ae-c371d6839626"
      },
      "execution_count": null,
      "outputs": [
        {
          "output_type": "stream",
          "name": "stdout",
          "text": [
            "0\n"
          ]
        }
      ]
    },
    {
      "cell_type": "markdown",
      "source": [
        "## 4.4 Defining function reading TEMPO NO2 data file"
      ],
      "metadata": {
        "id": "qOcLRgZf6dbS"
      }
    },
    {
      "cell_type": "code",
      "source": [
        "def read_TEMPO_NO2_L2(fn):\n",
        "  '''\n",
        "  function read_TEMPO_NO2_L2 reads the following arrays from the\n",
        "  TEMPO L2 NO2 product TEMPO_NO2_L2_V01:\n",
        "    vertical_column_total,\n",
        "    vertical_column_total_uncertainty;\n",
        "  and returns respective fields along with coordinates of the pixels\n",
        "  and their corners and fill values of all variables.\n",
        "\n",
        "  If one requested variables cannot be read, all returned variables are zeroed\n",
        "  '''\n",
        "  ds = nc.Dataset(fn)\n",
        "\n",
        "  prod = ds.groups['product'] # this opens group product, /product, as prod\n",
        "\n",
        "  var_name = 'vertical_column_total'\n",
        "  try:\n",
        "    var = prod.variables[var_name] # this reads variable vertical_column_total from prod (group product, /product)\n",
        "    total_NO2_column = np.array(var)\n",
        "    fv_prod = var.getncattr('_FillValue')\n",
        "    prod_unit = var.getncattr('units')\n",
        "\n",
        "  except:\n",
        "    print('variable '+var_name+' cannot be read in file '+fn)\n",
        "    lat = 0.\n",
        "    lon = 0.\n",
        "    time = 0.\n",
        "    fv_geo = 0.\n",
        "    total_NO2_column = 0.\n",
        "    total_NO2_column_unc = 0.\n",
        "    fv_prod = 0.\n",
        "    prod_unit = ''\n",
        "    return lat, lon, fv_geo, time, total_NO2_column, total_NO2_column_unc, fv_prod, prod_unit\n",
        "\n",
        "  var_name = 'vertical_column_total_uncertainty'\n",
        "  try:\n",
        "    var = np.array(prod.variables[var_name]) # this reads variable vertical_column_total_uncertainty from prod (group product, /product)\n",
        "    total_NO2_column_unc = np.array(prod.variables[var_name]) # this reads variable vertical_column_total_uncertainty from prod (group product, /product)\n",
        "  except:\n",
        "    print('variable '+var_name+' cannot be read in file '+fn)\n",
        "    lat = 0.\n",
        "    lon = 0.\n",
        "    time = 0.\n",
        "    fv_geo = 0.\n",
        "    total_NO2_column = 0.\n",
        "    total_NO2_column_unc = 0.\n",
        "    fv_prod = 0.\n",
        "    prod_unit = ''\n",
        "    return lat, lon, fv_geo, time, total_NO2_column, total_NO2_column_unc, fv_prod, prod_unit\n",
        "\n",
        "  geo = ds.groups['geolocation'] # this opens group geolocation, /geolocation, as geo\n",
        "\n",
        "  lat = np.array(geo.variables['latitude']) # this reads variable latitude from geo (geolocation group, /geolocation) into a numpy array\n",
        "  lon = np.array(geo.variables['longitude']) # this reads variable longitude from geo (geolocation group, /geolocation) into a numpy array\n",
        "  fv_geo = geo.variables['latitude'].getncattr('_FillValue')\n",
        "  time = np.array(geo.variables['time'] )# this reads variable longitude from geo (geolocation group, /geolocation) into a numpy array\n",
        "\n",
        "  return lat, lon, fv_geo, time, total_NO2_column, total_NO2_column_unc, fv_prod, prod_unit\n"
      ],
      "metadata": {
        "id": "AV7xYKvtVGNc"
      },
      "execution_count": null,
      "outputs": []
    },
    {
      "cell_type": "markdown",
      "source": [
        "## 4.5 Defining function creating TEMPO NO2 granule polygon"
      ],
      "metadata": {
        "id": "cIx1pyeu6ykg"
      }
    },
    {
      "cell_type": "code",
      "source": [
        "def TEMPO_L2_polygon(lat, lon, fv_geo):\n",
        "  nx = lon.shape[0]\n",
        "  ny = lon.shape[1]\n",
        "  print(nx, ny)\n",
        "\n",
        "  dpos = np.empty([0,2])\n",
        "\n",
        "  x_ind = np.empty([nx, ny], dtype = int) # creating array in x indices\n",
        "  for ix in range(nx): x_ind[ix, :] = ix # populating array in x indices\n",
        "  y_ind = np.empty([nx, ny], dtype = int)\n",
        "  for iy in range(ny): y_ind[:, iy] = iy # populating array in x indices\n",
        "\n",
        "  mask = (lon[ix, iy] != fv_geo)&(lat[ix, iy] != fv_geo)\n",
        "  if len(lon[mask]) == 0:\n",
        "    print('the granule is empty - no meaningful positions')\n",
        "    return dpos\n",
        "\n",
        "# right boundary\n",
        "  r_m = min(x_ind[mask].flatten())\n",
        "  local_mask = (lon[r_m, :] != fv_geo)&(lat[r_m, :] != fv_geo)\n",
        "  r_b = np.stack((lon[r_m, local_mask], lat[r_m, local_mask])).T\n",
        "\n",
        "# left boundary\n",
        "  l_m = max(x_ind[mask].flatten())\n",
        "  local_mask = (lon[l_m, :] != fv_geo)&(lat[l_m, :] != fv_geo)\n",
        "  l_b = np.stack((lon[l_m, local_mask], lat[l_m, local_mask])).T\n",
        "#  sys.exit()\n",
        "\n",
        "#top and bottom boundaries\n",
        "  t_b = np.empty([0,2])\n",
        "  b_b = np.empty([0,2])\n",
        "  for ix in range(r_m + 1, l_m):\n",
        "    local_mask = (lon[ix, :] != fv_geo)&(lat[ix, :] != fv_geo)\n",
        "    local_y_ind = y_ind[ix, local_mask]\n",
        "    y_ind_top = min(local_y_ind)\n",
        "    y_ind_bottom = max(local_y_ind)\n",
        "    t_b = np.append(t_b, [[lon[ix, y_ind_top], lat[ix, y_ind_top]]], axis=0)\n",
        "    b_b = np.append(b_b, [[lon[ix, y_ind_bottom], lat[ix, y_ind_bottom]]], axis=0)\n",
        "\n",
        "# combining right, top, left, and bottom boundaries together, going along the combined boundary counterclockwise\n",
        "  dpos = np.append(dpos, r_b[ : :-1, :], axis=0) # this adds right boundary, counterclockwise\n",
        "  dpos = np.append(dpos, t_b, axis=0) # this adds top boundary, counterclockwise\n",
        "  dpos = np.append(dpos, l_b, axis=0) # this adds left boundary, counterclockwise\n",
        "  dpos = np.append(dpos, b_b[ : :-1, :], axis=0) # this adds bottom boundary, counterclockwise\n",
        "\n",
        "  return dpos"
      ],
      "metadata": {
        "id": "gCEdtHuuTTMP"
      },
      "execution_count": null,
      "outputs": []
    },
    {
      "cell_type": "markdown",
      "source": [
        "## 4.6 Compiling TEMPO NO2 total column time series"
      ],
      "metadata": {
        "id": "kPyYwF-E7Qiv"
      }
    },
    {
      "cell_type": "code",
      "source": [
        "days = [31, 28, 31, 30, 31, 30, 31, 31, 30, 31, 30, 31]\n",
        "\n",
        "POI_name_ = POI_name.replace(' ','_')\n",
        "\n",
        "fout = open(out_Q+'_'+datestamp_ini+'_'+datestamp_fin+'_'+POI_name_+'_'+str('%08.4fN_%08.4fW' %(POI[0], -POI[1])), 'w')\n",
        "fout.write('timeseries of '+out_Q+' at '+POI_name+' '+str('%08.4fN %08.4fW' %(POI[0], -POI[1]))+'\\n')\n",
        "fout.write('yyyy mm dd hh mn ss '+out_Q_unit+'\\n')\n",
        "\n",
        "for result in POI_results:\n",
        "  granule_link = result['umm']['RelatedUrls'][0]['URL']\n",
        "  last_slash_ind = granule_link.rfind('/')\n",
        "  fname = granule_link[last_slash_ind+1 : ]\n",
        "  print(fname)\n",
        "  lat, lon, fv_geo, time, total_NO2_column, \\\n",
        "  total_NO2_column_unc, fv_prod, prod_unit  = read_TEMPO_NO2_L2(fname)\n",
        "\n",
        "  if isinstance(lat, float):\n",
        "    sys.exit()\n",
        "    continue\n",
        "\n",
        "  print(fv_geo)\n",
        "\n",
        "  polygon = TEMPO_L2_polygon(lat, lon, fv_geo)\n",
        "  print(polygon.shape)\n",
        "\n",
        "  coords_poly = list(polygon)\n",
        "  poly = Polygon(coords_poly)\n",
        "\n",
        "  nx = lon.shape[0]\n",
        "  ny = lon.shape[1]\n",
        "\n",
        "# getting time from the granule filename\n",
        "  Tind = fname.rfind('T')\n",
        "  yyyy= int(fname[Tind-8 : Tind-4])\n",
        "  mm = int(fname[Tind-4 : Tind-2])\n",
        "  dd = int(fname[Tind-2 : Tind])\n",
        "  hh = int(fname[Tind+1 : Tind+3])\n",
        "  mn = int(fname[Tind+3 : Tind+5])\n",
        "  ss = float(fname[Tind+5 : Tind+7])\n",
        "\n",
        "# check whether POI is in the granule. If not - move to the next granule\n",
        "  pp = np.array([POI[1], POI[0]])\n",
        "  p = Point(pp) # POI[0] - latitudes, POI[1] - longitudes\n",
        "  if not p.within(poly): continue\n",
        "  print('point', p, 'is in granule polygon' )\n",
        "\n",
        "  POI_found = False\n",
        "  for ix in range(nx-1):\n",
        "    for iy in range(ny-1):\n",
        "      if lon[ix, iy] == fv_geo: continue\n",
        "      if lat[ix, iy] == fv_geo: continue\n",
        "      if lon[ix, iy+1] == fv_geo: continue\n",
        "      if lat[ix, iy+1] == fv_geo: continue\n",
        "      if lon[ix+1, iy+1] == fv_geo: continue\n",
        "      if lat[ix+1, iy+1] == fv_geo: continue\n",
        "      if lon[ix+1, iy] == fv_geo: continue\n",
        "      if lat[ix+1, iy] == fv_geo: continue\n",
        "\n",
        "      coords_poly_loc = [[lon[ix, iy], lat[ix, iy]], [lon[ix, iy+1], lat[ix, iy+1]] \\\n",
        "                   , [lon[ix+1, iy+1], lat[ix+1, iy+1]], [lon[ix+1, iy], lat[ix+1, iy]]]\n",
        "      poly_loc = Polygon(coords_poly_loc)\n",
        "\n",
        "      if p.within(poly_loc):\n",
        "\n",
        "        print(ix, iy, lat[ix, iy], lon[ix, iy]\\\n",
        "            , total_NO2_column[ix, iy], total_NO2_column_unc[ix, iy])\n",
        "        print(ix, iy+1, lat[ix, iy+1], lon[ix, iy+1]\\\n",
        "            , total_NO2_column[ix, iy+1], total_NO2_column_unc[ix, iy+1])\n",
        "        print(ix+1, iy+1, lat[ix+1, iy+1], lon[ix+1, iy+1]\\\n",
        "            , total_NO2_column[ix+1, iy+1], total_NO2_column_unc[ix+1, iy+1])\n",
        "        print(ix+1, iy, lat[ix+1, iy], lon[ix+1, iy]\\\n",
        "            , total_NO2_column[ix+1, iy], total_NO2_column_unc[ix+1, iy])\n",
        "\n",
        "        POI_found = True\n",
        "        print('POI', POI_name, 'at', POI[1], POI[0], ' found')\n",
        "\n",
        "        points = np.empty([0,2])\n",
        "        ff = np.empty(0)\n",
        "        points_unc = np.empty([0,2])\n",
        "        ff_unc = np.empty(0)\n",
        "\n",
        "        if total_NO2_column[ix, iy] != fv_prod:\n",
        "          points = np.append(points, [[lon[ix, iy], lat[ix, iy]]], axis=0)\n",
        "          ff = np.append(ff, total_NO2_column[ix, iy])\n",
        "        if total_NO2_column_unc[ix, iy] != fv_prod:\n",
        "          points_unc = np.append(points_unc, [[lon[ix, iy], lat[ix, iy]]], axis=0)\n",
        "          ff_unc = np.append(ff_unc, total_NO2_column_unc[ix, iy])\n",
        "\n",
        "        if total_NO2_column[ix, iy+1] != fv_prod:\n",
        "          points = np.append(points, [[lon[ix, iy+1], lat[ix, iy+1]]], axis=0)\n",
        "          ff = np.append(ff, total_NO2_column[ix, iy+1])\n",
        "        if total_NO2_column_unc[ix, iy+1] != fv_prod:\n",
        "          points_unc = np.append(points_unc, [[lon[ix, iy+1], lat[ix, iy+1]]], axis=0)\n",
        "          ff_unc = np.append(ff_unc, total_NO2_column_unc[ix, iy+1])\n",
        "\n",
        "        if total_NO2_column[ix+1, iy+1] != fv_prod:\n",
        "          points = np.append(points, [[lon[ix+1, iy+1], lat[ix+1, iy+1]]], axis=0)\n",
        "          ff = np.append(ff, total_NO2_column[ix+1, iy+1])\n",
        "        if total_NO2_column_unc[ix+1, iy+1] != fv_prod:\n",
        "          points_unc = np.append(points_unc, [[lon[ix+1, iy+1], lat[ix+1, iy+1]]], axis=0)\n",
        "          ff_unc = np.append(ff_unc, total_NO2_column_unc[ix+1, iy+1])\n",
        "\n",
        "        if total_NO2_column[ix+1, iy] != fv_prod:\n",
        "          points = np.append(points, [[lon[ix+1, iy], lat[ix+1, iy]]], axis=0)\n",
        "          ff = np.append(ff, total_NO2_column[ix+1, iy])\n",
        "        if total_NO2_column_unc[ix+1, iy] != fv_prod:\n",
        "          points_unc = np.append(points_unc, [[lon[ix+1, iy], lat[ix+1, iy]]], axis=0)\n",
        "          ff_unc = np.append(ff_unc, total_NO2_column_unc[ix+1, iy])\n",
        "\n",
        "        if ff.shape[0] == 0:\n",
        "          continue\n",
        "        elif ff.shape[0] < 4:\n",
        "          prod_loc = np.mean(ff)\n",
        "        elif ff.shape[0] == 4:\n",
        "          prod_loc = griddata(points, ff, pp, method='linear', fill_value=-1., rescale=False)\n",
        "\n",
        "        if ff_unc.shape[0] == 0:\n",
        "          continue\n",
        "        elif ff_unc.shape[0] < 4:\n",
        "          prod_loc_unc = np.mean(ff_unc)\n",
        "        elif ff.shape[0] == 4:\n",
        "          prod_loc_unc = griddata(points_unc, ff_unc, pp, method='linear', fill_value=-1., rescale=False)\n",
        "\n",
        "        if prod_loc > 0.:\n",
        "# handling time first:\n",
        "          delta_t = (time[ix+1] + time[ix])*0.5 - time[0]\n",
        "          ss = ss + delta_t\n",
        "          if ss >= 60.:\n",
        "            delta_mn = int(ss/60.)\n",
        "            ss = ss - 60.*delta_mn\n",
        "            mn = mn + delta_mn\n",
        "            if mn >= 60:\n",
        "              mn = mn - 60\n",
        "              hh = hh + 1\n",
        "              if hh == 24:\n",
        "                hh = hh - 24\n",
        "                dd = dd + 1\n",
        "                day_month = days[mm]\n",
        "                if (yyyy//4)*4 == yyyy and mm == 2: day_month = day_month + 1\n",
        "                if dd > day_month:\n",
        "                  dd = 1\n",
        "                  mm = mm + 1\n",
        "                  if mm > 12:\n",
        "                    mm = 1\n",
        "                    yyyy = yyyy + 1\n",
        "\n",
        "          fout.write(str('%4.4i %2.2i %2.2i %2.2i %2.2i %2.2i %10.3e %10.3e '\\\n",
        "%(yyyy, mm, dd, hh, mn, ss, prod_loc, prod_loc_unc)))\n",
        "          fout.write(str('%9.4fN %9.4fW %10.3e %10.3e '\\\n",
        "%(lat[ix, iy], -lon[ix, iy],\\\n",
        "total_NO2_column[ix, iy], total_NO2_column_unc[ix, iy])))\n",
        "          fout.write(str('%9.4fN %9.4fW %10.3e %10.3e '\\\n",
        "%(lat[ix, iy+1], -lon[ix, iy+1],\\\n",
        "total_NO2_column[ix, iy+1], total_NO2_column_unc[ix, iy+1])))\n",
        "          fout.write(str('%9.4fN %9.4fW %10.3e %10.3e '\\\n",
        "%(lat[ix+1, iy+1], -lon[ix+1, iy+1],\\\n",
        "total_NO2_column[ix+1, iy+1], total_NO2_column_unc[ix+1, iy+1])))\n",
        "          fout.write(str('%9.4fN %9.4fW %10.3e %10.3e\\n'\\\n",
        "%(lat[ix+1, iy], -lon[ix+1, iy],\\\n",
        "total_NO2_column[ix+1, iy], total_NO2_column_unc[ix+1, iy])))\n",
        "\n",
        "        break\n",
        "\n",
        "    if POI_found: break\n",
        "\n",
        "fout.close()"
      ],
      "metadata": {
        "colab": {
          "base_uri": "https://localhost:8080/"
        },
        "id": "njLS6oxmQCkn",
        "outputId": "0cf37715-4d8a-46d2-ec8a-61293b239c8e"
      },
      "execution_count": null,
      "outputs": [
        {
          "output_type": "stream",
          "name": "stdout",
          "text": [
            "TEMPO_NO2_L2_V01_20231026T121521Z_S001G06.nc\n",
            "-1e+30\n",
            "131 2048\n",
            "(4354, 2)\n",
            "point POINT (-99.1761 19.3262) is in granule polygon\n",
            "86 1902 19.329556 -99.15793 -1e+30 -1e+30\n",
            "86 1903 19.314634 -99.15704 -1e+30 -1e+30\n",
            "87 1903 19.314198 -99.202415 -1e+30 -1e+30\n",
            "87 1902 19.329151 -99.20332 -1e+30 -1e+30\n",
            "POI MexicoCity-UNAM at -99.1761 19.3262  found\n",
            "TEMPO_NO2_L2_V01_20231026T125526Z_S002G06.nc\n",
            "-1e+30\n",
            "131 2048\n",
            "(4354, 2)\n",
            "point POINT (-99.1761 19.3262) is in granule polygon\n",
            "86 1905 19.331696 -99.13749 -1e+30 -1e+30\n",
            "86 1906 19.31682 -99.13665 -1e+30 -1e+30\n",
            "87 1906 19.316732 -99.1815 -1e+30 -1e+30\n",
            "87 1905 19.331675 -99.18237 -1e+30 -1e+30\n",
            "POI MexicoCity-UNAM at -99.1761 19.3262  found\n",
            "TEMPO_NO2_L2_V01_20231026T133531Z_S003G06.nc\n",
            "-1e+30\n",
            "131 2048\n",
            "(4354, 2)\n",
            "point POINT (-99.1761 19.3262) is in granule polygon\n",
            "86 1905 19.335524 -99.165504 1.6777314356658156e+16 1264840575661564.2\n",
            "86 1906 19.320614 -99.16465 1.6852367847587736e+16 1042682598282897.4\n",
            "87 1906 19.320108 -99.20992 1.3903058019378674e+16 1497372192283358.0\n",
            "87 1905 19.334917 -99.21074 1.4387986912155786e+16 1161376493679845.8\n",
            "POI MexicoCity-UNAM at -99.1761 19.3262  found\n",
            "TEMPO_NO2_L2_V01_20231026T141536Z_S004G06.nc\n",
            "-1e+30\n",
            "131 2048\n",
            "(4354, 2)\n",
            "point POINT (-99.1761 19.3262) is in granule polygon\n",
            "86 1905 19.339037 -99.13405 1.8779758179094708e+16 1.2336134569389872e+16\n",
            "86 1906 19.324177 -99.133224 2.2795365898296084e+16 7124810644176498.0\n",
            "87 1906 19.32379 -99.17782 2.055628125486051e+16 3194895723241431.0\n",
            "87 1905 19.338692 -99.17867 2.013728976297965e+16 3218129359420245.0\n",
            "POI MexicoCity-UNAM at -99.1761 19.3262  found\n",
            "TEMPO_NO2_L2_V01_20231026T145544Z_S005G06.nc\n",
            "-1e+30\n",
            "131 2048\n",
            "(4354, 2)\n",
            "point POINT (-99.1761 19.3262) is in granule polygon\n",
            "86 1905 19.333227 -99.16271 2.6157646050413844e+16 2811837453414920.5\n",
            "86 1906 19.31831 -99.16186 2.277866456789847e+16 2964372445785086.5\n",
            "87 1906 19.317728 -99.20718 2.2084917295728468e+16 3683845435417735.0\n",
            "87 1905 19.332592 -99.20801 2.504473751717388e+16 5155085413131386.0\n",
            "POI MexicoCity-UNAM at -99.1761 19.3262  found\n",
            "TEMPO_NO2_L2_V01_20231026T155544Z_S006G06.nc\n",
            "-1e+30\n",
            "131 2048\n",
            "(4354, 2)\n",
            "point POINT (-99.1761 19.3262) is in granule polygon\n",
            "85 1905 19.340797 -99.13387 1.868844008589648e+16 1287676170366056.0\n",
            "85 1906 19.32594 -99.13306 1.478880836714517e+16 2940858038881440.0\n",
            "86 1906 19.325937 -99.1783 3.305815453175179e+16 1.0222039838354916e+16\n",
            "86 1905 19.340834 -99.17914 1.8936831077612804e+16 6771212572364667.0\n",
            "POI MexicoCity-UNAM at -99.1761 19.3262  found\n",
            "TEMPO_NO2_L2_V01_20231026T165544Z_S007G06.nc\n",
            "-1e+30\n",
            "131 2048\n",
            "(4354, 2)\n",
            "point POINT (-99.1761 19.3262) is in granule polygon\n",
            "86 1905 19.333136 -99.17204 1.7386119524337824e+16 1.862141039361732e+16\n",
            "86 1906 19.318233 -99.1712 2.13001155990585e+16 1.835234238738788e+16\n",
            "87 1906 19.318039 -99.21634 2.7930112512338588e+16 1.6281393054547716e+16\n",
            "87 1905 19.33283 -99.21713 2.336368799433517e+16 1.0966203831939844e+16\n",
            "POI MexicoCity-UNAM at -99.1761 19.3262  found\n",
            "TEMPO_NO2_L2_V01_20231026T175544Z_S008G06.nc\n",
            "-1e+30\n",
            "131 2048\n",
            "(4354, 2)\n",
            "point POINT (-99.1761 19.3262) is in granule polygon\n",
            "86 1905 19.333435 -99.164925 9311046561810474.0 5160380968981888.0\n",
            "86 1906 19.318523 -99.16408 1.3749249673071824e+16 4014669118674094.5\n",
            "87 1906 19.317968 -99.20958 2.4390303939911228e+16 1.3308318578780344e+16\n",
            "87 1905 19.332811 -99.21039 1.4844737870111506e+16 2893375677072444.0\n",
            "POI MexicoCity-UNAM at -99.1761 19.3262  found\n",
            "TEMPO_NO2_L2_V01_20231026T185544Z_S009G06.nc\n",
            "-1e+30\n",
            "131 2048\n",
            "(4354, 2)\n",
            "point POINT (-99.1761 19.3262) is in granule polygon\n",
            "86 1905 19.339447 -99.161415 4040056830692693.0 3348556297743881.0\n",
            "86 1906 19.324545 -99.16057 1.2156264562109852e+16 2778982637384406.5\n",
            "87 1906 19.324474 -99.20583 6625054424823581.0 2316899303150253.5\n",
            "87 1905 19.339275 -99.206635 7331258061408888.0 5020778373708878.0\n",
            "POI MexicoCity-UNAM at -99.1761 19.3262  found\n",
            "TEMPO_NO2_L2_V01_20231026T195544Z_S010G06.nc\n",
            "-1e+30\n",
            "131 2048\n",
            "(4354, 2)\n",
            "point POINT (-99.1761 19.3262) is in granule polygon\n",
            "86 1907 19.328896 -99.14935 3170540113526135.5 2591133751272087.0\n",
            "86 1908 19.313997 -99.14851 2.965784974361336e+16 1.9193358782756344e+16\n",
            "87 1908 19.31364 -99.1939 1.0227282016576928e+16 8491956317339305.0\n",
            "87 1907 19.328579 -99.19476 8721631017101763.0 1.1081378536143448e+16\n",
            "POI MexicoCity-UNAM at -99.1761 19.3262  found\n",
            "TEMPO_NO2_L2_V01_20231026T205544Z_S011G06.nc\n",
            "-1e+30\n",
            "131 2048\n",
            "(4354, 2)\n",
            "point POINT (-99.1761 19.3262) is in granule polygon\n",
            "86 1906 19.338282 -99.15228 1.1390971226319608e+16 3251925941572025.0\n",
            "86 1907 19.323381 -99.15145 5591997680914351.0 925481587736464.0\n",
            "87 1907 19.3229 -99.19668 4479462519416857.5 512889527719911.1\n",
            "87 1906 19.337793 -99.19752 4507068072017336.0 1898427408384263.8\n",
            "POI MexicoCity-UNAM at -99.1761 19.3262  found\n",
            "TEMPO_NO2_L2_V01_20231026T213549Z_S012G03.nc\n",
            "-1e+30\n",
            "131 2048\n",
            "(4354, 2)\n",
            "point POINT (-99.1761 19.3262) is in granule polygon\n",
            "87 1907 19.336018 -99.14749 1.950297823034752e+16 7553278690179536.0\n",
            "87 1908 19.321127 -99.14665 2.180828955234168e+16 7193428992868197.0\n",
            "88 1908 19.321127 -99.191574 6949415842483689.0 856658390608664.0\n",
            "88 1907 19.336018 -99.192406 5613409780416725.0 816448623967735.0\n",
            "POI MexicoCity-UNAM at -99.1761 19.3262  found\n",
            "TEMPO_NO2_L2_V01_20231026T221554Z_S013G03.nc\n",
            "-1e+30\n",
            "131 2048\n",
            "(4354, 2)\n",
            "point POINT (-99.1761 19.3262) is in granule polygon\n",
            "87 1908 19.329174 -99.146805 1.2590856253748438e+16 1187995966723341.8\n",
            "87 1909 19.314278 -99.14597 9757202910974176.0 2189999959079678.5\n",
            "88 1909 19.313877 -99.1917 1.0312548032970642e+16 4828702840921690.0\n",
            "88 1908 19.328821 -99.192566 1.131263161751955e+16 1196198800187674.0\n",
            "POI MexicoCity-UNAM at -99.1761 19.3262  found\n",
            "TEMPO_NO2_L2_V01_20231026T225559Z_S014G03.nc\n",
            "-1e+30\n",
            "131 2048\n",
            "(4354, 2)\n",
            "point POINT (-99.1761 19.3262) is in granule polygon\n",
            "87 1908 19.337297 -99.1536 2.541582071545829e+16 2337250469824538.0\n",
            "87 1909 19.322388 -99.15276 1.2743461626403026e+16 1225694803793176.5\n",
            "88 1909 19.322422 -99.19833 1.1500403220797788e+16 984672510937869.2\n",
            "88 1908 19.3373 -99.19916 1.2337637392692972e+16 1276192597517901.2\n",
            "POI MexicoCity-UNAM at -99.1761 19.3262  found\n",
            "TEMPO_NO2_L2_V01_20231026T233604Z_S015G03.nc\n",
            "-1e+30\n",
            "131 2048\n",
            "(4354, 2)\n",
            "point POINT (-99.1761 19.3262) is in granule polygon\n",
            "87 1907 19.335026 -99.152336 -1e+30 -1e+30\n",
            "87 1908 19.320118 -99.1515 -1e+30 -1e+30\n",
            "88 1908 19.32056 -99.19681 -1e+30 -1e+30\n",
            "88 1907 19.335466 -99.19765 -1e+30 -1e+30\n",
            "POI MexicoCity-UNAM at -99.1761 19.3262  found\n"
          ]
        }
      ]
    },
    {
      "cell_type": "markdown",
      "source": [
        "#5 Plotting the results"
      ],
      "metadata": {
        "id": "xaRNZa_4bl11"
      }
    },
    {
      "cell_type": "markdown",
      "source": [
        "##5.1 Reading created data files for TEMPO and DSCOVR, create timeseries"
      ],
      "metadata": {
        "id": "XglvHW3AbfFl"
      }
    },
    {
      "cell_type": "code",
      "source": [
        "# reading TEMPO file that was created at the previous step\n",
        "# only read POI information from the header and first 8 columns of data:\n",
        "#   yyyy, mm, dd, hh, mn, ss, NO2 column, and its incertainty\n",
        "fout = open(out_Q+'_'+datestamp_ini+'_'+datestamp_fin+'_'+POI_name_+'_'+str('%08.4fN_%08.4fW' %(POI[0], -POI[1])), 'r')\n",
        "\n",
        "header1 = fout.readline()\n",
        "header2 = fout.readline()\n",
        "data_lines = fout.readlines()\n",
        "\n",
        "fout.close()\n",
        "\n",
        "split = data_lines[0].split()\n",
        "yyyy = int(split[0])\n",
        "mm = int(split[1])\n",
        "dd = int(split[2])\n",
        "hh = 0\n",
        "mn = 0\n",
        "ss = 0\n",
        "dt0 = datetime(yyyy, mm, dd, hh, mn, ss)\n",
        "\n",
        "time_series_TEMPO = np.empty([0, 3])\n",
        "\n",
        "for line in data_lines:\n",
        "  split = line.split()\n",
        "  yyyy = int(split[0])\n",
        "  mm = int(split[1])\n",
        "  dd = int(split[2])\n",
        "  hh = int(split[3])\n",
        "  mn = int(split[4])\n",
        "  ss = int(split[5])\n",
        "# dt below is time since the beginning of the period of interest in hours\n",
        "  dt = (datetime(yyyy, mm, dd, hh, mn, ss) - dt0).total_seconds()/86400.\n",
        "  time_series_TEMPO = np.append(time_series_TEMPO,\\\n",
        " [[dt, float(split[6]), float(split[7])]], axis = 0)\n",
        "\n",
        "# time_series_Pandora = np.empty([0, 2])\n",
        "time_series_Pandora = np.empty([0, 3])\n",
        "\n",
        "for line in Pandora_data:\n",
        "  yyyy = int(line[0])\n",
        "  mm = int(line[1])\n",
        "  dd = int(line[2])\n",
        "  hh = int(line[3])\n",
        "  mn = int(line[4])\n",
        "  ss = int(line[5])\n",
        "# dt below is time since the beginning of the period of interest in hours\n",
        "  dt = (datetime(yyyy, mm, dd, hh, mn, ss) - dt0).total_seconds()/86400.\n",
        "  time_series_Pandora = np.append(time_series_Pandora,\\\n",
        "[[dt, line[6], line[7]]], axis = 0)"
      ],
      "metadata": {
        "id": "6tWE__dTPyGu"
      },
      "execution_count": null,
      "outputs": []
    },
    {
      "cell_type": "markdown",
      "source": [
        "##5.2 Plotting timeseries"
      ],
      "metadata": {
        "id": "NGXMMgcNcMb4"
      }
    },
    {
      "cell_type": "markdown",
      "source": [
        "###5.2.1 No error bars"
      ],
      "metadata": {
        "id": "WEkwDqvOccOK"
      }
    },
    {
      "cell_type": "code",
      "source": [
        "plot_title = out_Q+'_'+datestamp_ini+'_'+datestamp_fin+'\\n'+POI_name\n",
        "img_name = out_Q+'_'+datestamp_ini+'_'+datestamp_fin+'_'+POI_name+'.jpg'\n",
        "\n",
        "plt.plot(time_series_Pandora[:, 0], time_series_Pandora[:, 1],\\\n",
        "         label = \"Pandora\", c = 'r')\n",
        "plt.plot(time_series_TEMPO[:, 0], time_series_TEMPO[:, 1],\n",
        "         label = \"TEMPO\", c = 'b')\n",
        "\n",
        "# Set the range of x-axis\n",
        "l_lim = int(min(time_series_TEMPO[:, 0]))\n",
        "u_lim = int(max(time_series_TEMPO[:, 0])) + 1\n",
        "plt.xlim(l_lim, u_lim)\n",
        "\n",
        "# some research is required to set the vertical range\n",
        "plt.xlabel(r'GMT, day from beginning of '+datestamp_ini, fontsize=12)\n",
        "plt.ylabel(out_Q_unit.replace('_',' '), fontsize=12)\n",
        "\n",
        "plt.legend(loc='lower left')\n",
        "\n",
        "plt.title(plot_title+str(', %08.4fN %08.4fW' %(POI[0], -POI[1])))\n",
        "plt.savefig(img_name, format='jpg', dpi=300)"
      ],
      "metadata": {
        "colab": {
          "base_uri": "https://localhost:8080/",
          "height": 497
        },
        "id": "aoBISVFDcYHx",
        "outputId": "0e0c3697-ddcd-4435-bb28-9a7d3c401e43"
      },
      "execution_count": null,
      "outputs": [
        {
          "output_type": "display_data",
          "data": {
            "text/plain": [
              "<Figure size 640x480 with 1 Axes>"
            ],
            "image/png": "[encoded data removed]"
          },
          "metadata": {}
        }
      ]
    },
    {
      "cell_type": "markdown",
      "source": [
        "###5.2.2 Smooth Pandora retievals and interplate them into other time series times\n",
        "\n",
        "Pandora timeseries has significantly more data points then TEMPO and DSCOVR. It is also very noisy. To make comparison easier, Pandora timeseries is interpolated to the moments of TEMPO and DSCOVR observations.\n",
        "\n",
        "Interpolation is performed by the function defined below with the help of Gaussian smooting as follow:\n",
        "\n",
        "x_int(t) = SUM(x_p(t_i)*wt(t_i, t)),\n",
        "\n",
        "wt(t_i, t) = exp(-(t - t_i)^2/(2 * sigma^2))/SUM(exp(-(t - t_i)^2/(2 * sigma^2))),\n",
        "\n",
        "where sums are taken over times t_i falling into time interval (t-dt_max, t+dt_max).\n",
        "\n",
        "Parameters dt_max and sigma can be chosen by the user. In the example below they are\n",
        "\n",
        "dt_max = 0.00041666667  - 10 minutes expressed in days\n",
        "\n",
        "sigma = 0.00041666667  - 1 minute expressed in days"
      ],
      "metadata": {
        "id": "D_nOk1m_cDOt"
      }
    },
    {
      "cell_type": "code",
      "source": [
        "def gauss_interpolation(timeseries, new_times):\n",
        "#\n",
        "# function gauss_interpolation takes 2D array timeseries with function\n",
        "# to be interpolated and 1D array new_times containing times to which\n",
        "# the function is to be interpolated\n",
        "# arguments:\n",
        "#     timeseries - array with at least 2 columns,\n",
        "#                  1st column - times, 2nd (3rd, ...) column(s) - function to be interpolated\n",
        "#     new_times  - 1D array of times to which the function(s) to be interpolated\n",
        "#\n",
        "# parameters\n",
        "# dt_max = 0.0041666667 - 10 minutes expressed in days\n",
        "# sigma = 0.00041666667 - 1 minute expressed in days\n",
        "\n",
        "  dt_max = 0.0041666667 # 10 minutes expressed in days\n",
        "  sigma = 0.00041666667 # 1 minute expressed in days\n",
        "\n",
        "  nnt = len(new_times)\n",
        "  (nt, nfun) = timeseries.shape\n",
        "\n",
        "  timeseries_smooth = np.empty([0, nfun])\n",
        "\n",
        "  for new_time in new_times:\n",
        "    llim = new_time - dt_max\n",
        "    ulim = new_time + dt_max\n",
        "\n",
        "    timeseries_subset = timeseries[((timeseries[:, 0] < ulim)\\\n",
        "                                    & (timeseries[:, 0] > llim))]\n",
        "    if len(timeseries_subset) < 1: continue\n",
        "    t_delta = timeseries_subset[:, 0] - new_time\n",
        "    wt = np.exp(-t_delta**2/(2.*sigma**2))\n",
        "    wt = wt/np.sum(wt)\n",
        "\n",
        "    timeseries_smooth_loc = np.array([new_time])\n",
        "    for ifun in range(1, nfun):\n",
        "      timeseries_smooth_loc = np.append(timeseries_smooth_loc,\\\n",
        "                                        np.sum(timeseries_subset[:, ifun]*wt))\n",
        "\n",
        "    timeseries_smooth = np.append(timeseries_smooth,\\\n",
        "                                  np.array([timeseries_smooth_loc]), axis = 0)\n",
        "\n",
        "  return timeseries_smooth"
      ],
      "metadata": {
        "id": "tZJftSY4edvx"
      },
      "execution_count": null,
      "outputs": []
    },
    {
      "cell_type": "markdown",
      "source": [
        "###5.2.3 Plotting smoothed Pandora retievals with error bars"
      ],
      "metadata": {
        "id": "QyhmWrUMXU5z"
      }
    },
    {
      "cell_type": "code",
      "source": [
        "print(time_series_Pandora.shape)\n",
        "print(time_series_TEMPO.shape)"
      ],
      "metadata": {
        "colab": {
          "base_uri": "https://localhost:8080/"
        },
        "id": "VaJzWEU440TH",
        "outputId": "424bbce7-d7dd-46f4-e693-c652da4dea9e"
      },
      "execution_count": null,
      "outputs": [
        {
          "output_type": "stream",
          "name": "stdout",
          "text": [
            "(417, 3)\n",
            "(12, 3)\n"
          ]
        }
      ]
    },
    {
      "cell_type": "code",
      "source": [
        "timeseries_Pandora_TEMPO = gauss_interpolation(time_series_Pandora[:, 0:3],\\\n",
        "                                                time_series_TEMPO[:, 0])"
      ],
      "metadata": {
        "id": "BV5V7keLfmdE"
      },
      "execution_count": null,
      "outputs": []
    },
    {
      "cell_type": "code",
      "source": [
        "plot_title = out_Q+'_unc_'+datestamp_ini+'_'+datestamp_fin+'\\n'+POI_name\n",
        "img_name = out_Q+'_unc_'+'_'+datestamp_ini+'_'+datestamp_fin+'_'+POI_name+'.jpg'\n",
        "\n",
        "fig = plt.figure()\n",
        "\n",
        "plt.errorbar(time_series_TEMPO[:, 0], time_series_TEMPO[:, 1],\\\n",
        "yerr=time_series_TEMPO[:, 2], label = \"TEMPO\", c = 'b', ls = '', marker = \".\")\n",
        "\n",
        "plt.errorbar(timeseries_Pandora_TEMPO[:, 0],\\\n",
        "             timeseries_Pandora_TEMPO[:, 1],\\\n",
        "             yerr=timeseries_Pandora_TEMPO[:, 2],\\\n",
        "             label = \"Pandora smoothed at TEMPO times\",\\\n",
        "             c = 'r', ls = '', marker = \".\")\n",
        "\n",
        "# Set the range of x-axis\n",
        "l_lim = int(min(time_series_TEMPO[:, 0]))\n",
        "u_lim = int(max(time_series_TEMPO[:, 0])) + 1\n",
        "plt.xlim(l_lim, u_lim)\n",
        "\n",
        "# Set the range of y-axis\n",
        "'''\n",
        "l_lim = 200\n",
        "u_lim = 350\n",
        "plt.ylim(l_lim, u_lim)\n",
        "'''\n",
        "# some research is required to set the vertical range\n",
        "plt.xlabel(r'GMT, day from beginning of '+datestamp_ini, fontsize=12)\n",
        "plt.ylabel(out_Q_unit.replace('_',' '), fontsize=12)\n",
        "\n",
        "#plt.legend(loc='lower left')\n",
        "plt.legend(loc='upper left')\n",
        "#plt.legend(loc='center left')\n",
        "\n",
        "plt.title(plot_title+str(', %08.4fN %08.4fW' %(POI[0], -POI[1])))\n",
        "plt.savefig(img_name, format='jpg', dpi=300)\n"
      ],
      "metadata": {
        "colab": {
          "base_uri": "https://localhost:8080/",
          "height": 497
        },
        "id": "ZUm4oYFDf37d",
        "outputId": "20fd32ac-d386-4ed4-edbe-41c33bdcbfbf"
      },
      "execution_count": null,
      "outputs": [
        {
          "output_type": "display_data",
          "data": {
            "text/plain": [
              "<Figure size 640x480 with 1 Axes>"
            ],
            "image/png": "[encoded data removed]"
          },
          "metadata": {}
        }
      ]
    },
    {
      "cell_type": "code",
      "source": [
        "TEMPO_Pandora_scatter = np.empty([0, 4])\n",
        "for td in time_series_TEMPO:\n",
        "  for pd in timeseries_Pandora_TEMPO:\n",
        "    if td[0] == pd[0]:\n",
        "      TEMPO_Pandora_scatter = np.append(TEMPO_Pandora_scatter,[[td[1], pd[1], td[2], pd[2]]], axis = 0)\n",
        "      break\n",
        "\n",
        "print(TEMPO_Pandora_scatter.shape)"
      ],
      "metadata": {
        "colab": {
          "base_uri": "https://localhost:8080/"
        },
        "id": "spTkT0ac93n8",
        "outputId": "fbbbc8f8-ec43-4a1c-ce70-f1cb05208fab"
      },
      "execution_count": null,
      "outputs": [
        {
          "output_type": "stream",
          "name": "stdout",
          "text": [
            "(11, 4)\n"
          ]
        }
      ]
    },
    {
      "cell_type": "code",
      "source": [
        "print(TEMPO_Pandora_scatter[:, [0,1]].shape)\n",
        "print(TEMPO_Pandora_scatter[:, [0,1]].flatten().shape)"
      ],
      "metadata": {
        "colab": {
          "base_uri": "https://localhost:8080/"
        },
        "id": "-HUq9ALICaqK",
        "outputId": "36563250-3fb2-4c43-8cb1-6627b336239b"
      },
      "execution_count": null,
      "outputs": [
        {
          "output_type": "stream",
          "name": "stdout",
          "text": [
            "(11, 2)\n",
            "(22,)\n"
          ]
        }
      ]
    },
    {
      "cell_type": "code",
      "source": [
        "plot_title = out_Q+'_unc_'+datestamp_ini+'_'+datestamp_fin+'\\n'+POI_name\n",
        "img_name = out_Q+'_unc_'+'_'+datestamp_ini+'_'+datestamp_fin+'_'+POI_name+'.jpg'\n",
        "\n",
        "fig = plt.figure()\n",
        "\n",
        "plt.errorbar(TEMPO_Pandora_scatter[:, 0], TEMPO_Pandora_scatter[:, 1],\\\n",
        "xerr=TEMPO_Pandora_scatter[:, 2], yerr=TEMPO_Pandora_scatter[:, 3],\\\n",
        "c = 'b', ls = '', marker = \".\")\n",
        "\n",
        "plt.xlabel(r'TEMPO NO2 column, molecules/cm^2', fontsize=12)\n",
        "plt.ylabel(r'Pandora NO2 column, molecules/cm^2', fontsize=12)\n",
        "\n",
        "# Set the range of x-axis\n",
        "l_lim = 0.\n",
        "u_lim = max(TEMPO_Pandora_scatter[:, [0,1]].flatten())\n",
        "plt.xlim(l_lim, u_lim)\n",
        "plt.ylim(l_lim, u_lim)\n",
        "\n",
        "plt.plot([l_lim, u_lim], [l_lim, u_lim],\\\n",
        "c = 'g', ls = '--')\n",
        "\n",
        "# Set the range of y-axis\n",
        "'''\n",
        "l_lim = 200\n",
        "u_lim = 350\n",
        "plt.ylim(l_lim, u_lim)\n",
        "'''\n",
        "\n",
        "#plt.legend(loc='lower left')\n",
        "#plt.legend(loc='center left')\n",
        "\n",
        "plt.title(plot_title+str(', %08.4fN %08.4fW' %(POI[0], -POI[1])))\n",
        "#plt.savefig(img_name, format='jpg', dpi=300)\n"
      ],
      "metadata": {
        "colab": {
          "base_uri": "https://localhost:8080/",
          "height": 514
        },
        "id": "biptCjUP9Vs8",
        "outputId": "da8a932a-19ae-4ed4-c519-b475bbee2925"
      },
      "execution_count": null,
      "outputs": [
        {
          "output_type": "execute_result",
          "data": {
            "text/plain": [
              "Text(0.5, 1.0, 'tot_NO2_col_unc_20231026_20231026\\nMexicoCity-UNAM, 019.3262N 099.1761W')"
            ]
          },
          "metadata": {},
          "execution_count": 32
        },
        {
          "output_type": "display_data",
          "data": {
            "text/plain": [
              "<Figure size 640x480 with 1 Axes>"
            ],
            "image/png": "[encoded data removed]"
          },
          "metadata": {}
        }
      ]
    }
  ]
}