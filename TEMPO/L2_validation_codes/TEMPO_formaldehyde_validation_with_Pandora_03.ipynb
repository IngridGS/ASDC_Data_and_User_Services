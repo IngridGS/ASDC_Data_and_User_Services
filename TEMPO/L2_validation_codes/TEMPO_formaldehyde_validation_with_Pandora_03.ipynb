{
  "nbformat": 4,
  "nbformat_minor": 0,
  "metadata": {
    "colab": {
      "provenance": []
    },
    "kernelspec": {
      "name": "python3",
      "display_name": "Python 3"
    },
    "language_info": {
      "name": "python"
    },
    "widgets": {
      "application/vnd.jupyter.widget-state+json": {
        "1ade5214d9934418b94d8048886fa34f": {
          "model_module": "@jupyter-widgets/controls",
          "model_name": "HBoxModel",
          "model_module_version": "1.5.0",
          "state": {
            "_dom_classes": [],
            "_model_module": "@jupyter-widgets/controls",
            "_model_module_version": "1.5.0",
            "_model_name": "HBoxModel",
            "_view_count": null,
            "_view_module": "@jupyter-widgets/controls",
            "_view_module_version": "1.5.0",
            "_view_name": "HBoxView",
            "box_style": "",
            "children": [
              "IPY_MODEL_979c079b73fb4629a73eaac824c8b584",
              "IPY_MODEL_031bec658a8242f19fb1d45909f31351",
              "IPY_MODEL_ce6c51c3b89e4e12a7a8dc10e9dc8b32"
            ],
            "layout": "IPY_MODEL_c5e13c793fc74599ae1ffbe00144edf3"
          }
        },
        "979c079b73fb4629a73eaac824c8b584": {
          "model_module": "@jupyter-widgets/controls",
          "model_name": "HTMLModel",
          "model_module_version": "1.5.0",
          "state": {
            "_dom_classes": [],
            "_model_module": "@jupyter-widgets/controls",
            "_model_module_version": "1.5.0",
            "_model_name": "HTMLModel",
            "_view_count": null,
            "_view_module": "@jupyter-widgets/controls",
            "_view_module_version": "1.5.0",
            "_view_name": "HTMLView",
            "description": "",
            "description_tooltip": null,
            "layout": "IPY_MODEL_9b8cb87d0a774b1d836191dacc66e6bf",
            "placeholder": "​",
            "style": "IPY_MODEL_037c73558dcc40d5a7c120d7047fc4dc",
            "value": "QUEUEING TASKS | : 100%"
          }
        },
        "031bec658a8242f19fb1d45909f31351": {
          "model_module": "@jupyter-widgets/controls",
          "model_name": "FloatProgressModel",
          "model_module_version": "1.5.0",
          "state": {
            "_dom_classes": [],
            "_model_module": "@jupyter-widgets/controls",
            "_model_module_version": "1.5.0",
            "_model_name": "FloatProgressModel",
            "_view_count": null,
            "_view_module": "@jupyter-widgets/controls",
            "_view_module_version": "1.5.0",
            "_view_name": "ProgressView",
            "bar_style": "success",
            "description": "",
            "description_tooltip": null,
            "layout": "IPY_MODEL_f986d11d864b49799802d97acf922b33",
            "max": 24,
            "min": 0,
            "orientation": "horizontal",
            "style": "IPY_MODEL_a01cdb7d820441c79bbaee7f0cf886d9",
            "value": 24
          }
        },
        "ce6c51c3b89e4e12a7a8dc10e9dc8b32": {
          "model_module": "@jupyter-widgets/controls",
          "model_name": "HTMLModel",
          "model_module_version": "1.5.0",
          "state": {
            "_dom_classes": [],
            "_model_module": "@jupyter-widgets/controls",
            "_model_module_version": "1.5.0",
            "_model_name": "HTMLModel",
            "_view_count": null,
            "_view_module": "@jupyter-widgets/controls",
            "_view_module_version": "1.5.0",
            "_view_name": "HTMLView",
            "description": "",
            "description_tooltip": null,
            "layout": "IPY_MODEL_3ba5e8c95a3c47108e9347846e3bacad",
            "placeholder": "​",
            "style": "IPY_MODEL_98da4c74db074ca483461d02f85f9a33",
            "value": " 24/24 [00:00&lt;00:00, 595.43it/s]"
          }
        },
        "c5e13c793fc74599ae1ffbe00144edf3": {
          "model_module": "@jupyter-widgets/base",
          "model_name": "LayoutModel",
          "model_module_version": "1.2.0",
          "state": {
            "_model_module": "@jupyter-widgets/base",
            "_model_module_version": "1.2.0",
            "_model_name": "LayoutModel",
            "_view_count": null,
            "_view_module": "@jupyter-widgets/base",
            "_view_module_version": "1.2.0",
            "_view_name": "LayoutView",
            "align_content": null,
            "align_items": null,
            "align_self": null,
            "border": null,
            "bottom": null,
            "display": null,
            "flex": null,
            "flex_flow": null,
            "grid_area": null,
            "grid_auto_columns": null,
            "grid_auto_flow": null,
            "grid_auto_rows": null,
            "grid_column": null,
            "grid_gap": null,
            "grid_row": null,
            "grid_template_areas": null,
            "grid_template_columns": null,
            "grid_template_rows": null,
            "height": null,
            "justify_content": null,
            "justify_items": null,
            "left": null,
            "margin": null,
            "max_height": null,
            "max_width": null,
            "min_height": null,
            "min_width": null,
            "object_fit": null,
            "object_position": null,
            "order": null,
            "overflow": null,
            "overflow_x": null,
            "overflow_y": null,
            "padding": null,
            "right": null,
            "top": null,
            "visibility": null,
            "width": null
          }
        },
        "9b8cb87d0a774b1d836191dacc66e6bf": {
          "model_module": "@jupyter-widgets/base",
          "model_name": "LayoutModel",
          "model_module_version": "1.2.0",
          "state": {
            "_model_module": "@jupyter-widgets/base",
            "_model_module_version": "1.2.0",
            "_model_name": "LayoutModel",
            "_view_count": null,
            "_view_module": "@jupyter-widgets/base",
            "_view_module_version": "1.2.0",
            "_view_name": "LayoutView",
            "align_content": null,
            "align_items": null,
            "align_self": null,
            "border": null,
            "bottom": null,
            "display": null,
            "flex": null,
            "flex_flow": null,
            "grid_area": null,
            "grid_auto_columns": null,
            "grid_auto_flow": null,
            "grid_auto_rows": null,
            "grid_column": null,
            "grid_gap": null,
            "grid_row": null,
            "grid_template_areas": null,
            "grid_template_columns": null,
            "grid_template_rows": null,
            "height": null,
            "justify_content": null,
            "justify_items": null,
            "left": null,
            "margin": null,
            "max_height": null,
            "max_width": null,
            "min_height": null,
            "min_width": null,
            "object_fit": null,
            "object_position": null,
            "order": null,
            "overflow": null,
            "overflow_x": null,
            "overflow_y": null,
            "padding": null,
            "right": null,
            "top": null,
            "visibility": null,
            "width": null
          }
        },
        "037c73558dcc40d5a7c120d7047fc4dc": {
          "model_module": "@jupyter-widgets/controls",
          "model_name": "DescriptionStyleModel",
          "model_module_version": "1.5.0",
          "state": {
            "_model_module": "@jupyter-widgets/controls",
            "_model_module_version": "1.5.0",
            "_model_name": "DescriptionStyleModel",
            "_view_count": null,
            "_view_module": "@jupyter-widgets/base",
            "_view_module_version": "1.2.0",
            "_view_name": "StyleView",
            "description_width": ""
          }
        },
        "f986d11d864b49799802d97acf922b33": {
          "model_module": "@jupyter-widgets/base",
          "model_name": "LayoutModel",
          "model_module_version": "1.2.0",
          "state": {
            "_model_module": "@jupyter-widgets/base",
            "_model_module_version": "1.2.0",
            "_model_name": "LayoutModel",
            "_view_count": null,
            "_view_module": "@jupyter-widgets/base",
            "_view_module_version": "1.2.0",
            "_view_name": "LayoutView",
            "align_content": null,
            "align_items": null,
            "align_self": null,
            "border": null,
            "bottom": null,
            "display": null,
            "flex": null,
            "flex_flow": null,
            "grid_area": null,
            "grid_auto_columns": null,
            "grid_auto_flow": null,
            "grid_auto_rows": null,
            "grid_column": null,
            "grid_gap": null,
            "grid_row": null,
            "grid_template_areas": null,
            "grid_template_columns": null,
            "grid_template_rows": null,
            "height": null,
            "justify_content": null,
            "justify_items": null,
            "left": null,
            "margin": null,
            "max_height": null,
            "max_width": null,
            "min_height": null,
            "min_width": null,
            "object_fit": null,
            "object_position": null,
            "order": null,
            "overflow": null,
            "overflow_x": null,
            "overflow_y": null,
            "padding": null,
            "right": null,
            "top": null,
            "visibility": null,
            "width": null
          }
        },
        "a01cdb7d820441c79bbaee7f0cf886d9": {
          "model_module": "@jupyter-widgets/controls",
          "model_name": "ProgressStyleModel",
          "model_module_version": "1.5.0",
          "state": {
            "_model_module": "@jupyter-widgets/controls",
            "_model_module_version": "1.5.0",
            "_model_name": "ProgressStyleModel",
            "_view_count": null,
            "_view_module": "@jupyter-widgets/base",
            "_view_module_version": "1.2.0",
            "_view_name": "StyleView",
            "bar_color": null,
            "description_width": ""
          }
        },
        "3ba5e8c95a3c47108e9347846e3bacad": {
          "model_module": "@jupyter-widgets/base",
          "model_name": "LayoutModel",
          "model_module_version": "1.2.0",
          "state": {
            "_model_module": "@jupyter-widgets/base",
            "_model_module_version": "1.2.0",
            "_model_name": "LayoutModel",
            "_view_count": null,
            "_view_module": "@jupyter-widgets/base",
            "_view_module_version": "1.2.0",
            "_view_name": "LayoutView",
            "align_content": null,
            "align_items": null,
            "align_self": null,
            "border": null,
            "bottom": null,
            "display": null,
            "flex": null,
            "flex_flow": null,
            "grid_area": null,
            "grid_auto_columns": null,
            "grid_auto_flow": null,
            "grid_auto_rows": null,
            "grid_column": null,
            "grid_gap": null,
            "grid_row": null,
            "grid_template_areas": null,
            "grid_template_columns": null,
            "grid_template_rows": null,
            "height": null,
            "justify_content": null,
            "justify_items": null,
            "left": null,
            "margin": null,
            "max_height": null,
            "max_width": null,
            "min_height": null,
            "min_width": null,
            "object_fit": null,
            "object_position": null,
            "order": null,
            "overflow": null,
            "overflow_x": null,
            "overflow_y": null,
            "padding": null,
            "right": null,
            "top": null,
            "visibility": null,
            "width": null
          }
        },
        "98da4c74db074ca483461d02f85f9a33": {
          "model_module": "@jupyter-widgets/controls",
          "model_name": "DescriptionStyleModel",
          "model_module_version": "1.5.0",
          "state": {
            "_model_module": "@jupyter-widgets/controls",
            "_model_module_version": "1.5.0",
            "_model_name": "DescriptionStyleModel",
            "_view_count": null,
            "_view_module": "@jupyter-widgets/base",
            "_view_module_version": "1.2.0",
            "_view_name": "StyleView",
            "description_width": ""
          }
        },
        "9906d2de4cab4d6ba4fb64fa15fbcaff": {
          "model_module": "@jupyter-widgets/controls",
          "model_name": "HBoxModel",
          "model_module_version": "1.5.0",
          "state": {
            "_dom_classes": [],
            "_model_module": "@jupyter-widgets/controls",
            "_model_module_version": "1.5.0",
            "_model_name": "HBoxModel",
            "_view_count": null,
            "_view_module": "@jupyter-widgets/controls",
            "_view_module_version": "1.5.0",
            "_view_name": "HBoxView",
            "box_style": "",
            "children": [
              "IPY_MODEL_7dbc55809000484798185222601f6e66",
              "IPY_MODEL_64c4adcf79b54d3bb7d8040ae7dd5e9a",
              "IPY_MODEL_cde073d5694a49a49174b2971f9c1284"
            ],
            "layout": "IPY_MODEL_684b5de7631f4f38a6c68c8c57c6ba0d"
          }
        },
        "7dbc55809000484798185222601f6e66": {
          "model_module": "@jupyter-widgets/controls",
          "model_name": "HTMLModel",
          "model_module_version": "1.5.0",
          "state": {
            "_dom_classes": [],
            "_model_module": "@jupyter-widgets/controls",
            "_model_module_version": "1.5.0",
            "_model_name": "HTMLModel",
            "_view_count": null,
            "_view_module": "@jupyter-widgets/controls",
            "_view_module_version": "1.5.0",
            "_view_name": "HTMLView",
            "description": "",
            "description_tooltip": null,
            "layout": "IPY_MODEL_df81a12dbd3b4d8a944d8fc8afa47d04",
            "placeholder": "​",
            "style": "IPY_MODEL_cd244181c0da4dff91108d820a270c88",
            "value": "PROCESSING TASKS | : 100%"
          }
        },
        "64c4adcf79b54d3bb7d8040ae7dd5e9a": {
          "model_module": "@jupyter-widgets/controls",
          "model_name": "FloatProgressModel",
          "model_module_version": "1.5.0",
          "state": {
            "_dom_classes": [],
            "_model_module": "@jupyter-widgets/controls",
            "_model_module_version": "1.5.0",
            "_model_name": "FloatProgressModel",
            "_view_count": null,
            "_view_module": "@jupyter-widgets/controls",
            "_view_module_version": "1.5.0",
            "_view_name": "ProgressView",
            "bar_style": "success",
            "description": "",
            "description_tooltip": null,
            "layout": "IPY_MODEL_ff014766ab184911a51c6ced48b2eab7",
            "max": 24,
            "min": 0,
            "orientation": "horizontal",
            "style": "IPY_MODEL_4ed620c5d2554fd2b4ba66e52454e647",
            "value": 24
          }
        },
        "cde073d5694a49a49174b2971f9c1284": {
          "model_module": "@jupyter-widgets/controls",
          "model_name": "HTMLModel",
          "model_module_version": "1.5.0",
          "state": {
            "_dom_classes": [],
            "_model_module": "@jupyter-widgets/controls",
            "_model_module_version": "1.5.0",
            "_model_name": "HTMLModel",
            "_view_count": null,
            "_view_module": "@jupyter-widgets/controls",
            "_view_module_version": "1.5.0",
            "_view_name": "HTMLView",
            "description": "",
            "description_tooltip": null,
            "layout": "IPY_MODEL_0e7375c5bfce498a902df7b5953548e8",
            "placeholder": "​",
            "style": "IPY_MODEL_80daa2d21dcc4d0bae44acd1864d21d7",
            "value": " 24/24 [00:27&lt;00:00,  1.32it/s]"
          }
        },
        "684b5de7631f4f38a6c68c8c57c6ba0d": {
          "model_module": "@jupyter-widgets/base",
          "model_name": "LayoutModel",
          "model_module_version": "1.2.0",
          "state": {
            "_model_module": "@jupyter-widgets/base",
            "_model_module_version": "1.2.0",
            "_model_name": "LayoutModel",
            "_view_count": null,
            "_view_module": "@jupyter-widgets/base",
            "_view_module_version": "1.2.0",
            "_view_name": "LayoutView",
            "align_content": null,
            "align_items": null,
            "align_self": null,
            "border": null,
            "bottom": null,
            "display": null,
            "flex": null,
            "flex_flow": null,
            "grid_area": null,
            "grid_auto_columns": null,
            "grid_auto_flow": null,
            "grid_auto_rows": null,
            "grid_column": null,
            "grid_gap": null,
            "grid_row": null,
            "grid_template_areas": null,
            "grid_template_columns": null,
            "grid_template_rows": null,
            "height": null,
            "justify_content": null,
            "justify_items": null,
            "left": null,
            "margin": null,
            "max_height": null,
            "max_width": null,
            "min_height": null,
            "min_width": null,
            "object_fit": null,
            "object_position": null,
            "order": null,
            "overflow": null,
            "overflow_x": null,
            "overflow_y": null,
            "padding": null,
            "right": null,
            "top": null,
            "visibility": null,
            "width": null
          }
        },
        "df81a12dbd3b4d8a944d8fc8afa47d04": {
          "model_module": "@jupyter-widgets/base",
          "model_name": "LayoutModel",
          "model_module_version": "1.2.0",
          "state": {
            "_model_module": "@jupyter-widgets/base",
            "_model_module_version": "1.2.0",
            "_model_name": "LayoutModel",
            "_view_count": null,
            "_view_module": "@jupyter-widgets/base",
            "_view_module_version": "1.2.0",
            "_view_name": "LayoutView",
            "align_content": null,
            "align_items": null,
            "align_self": null,
            "border": null,
            "bottom": null,
            "display": null,
            "flex": null,
            "flex_flow": null,
            "grid_area": null,
            "grid_auto_columns": null,
            "grid_auto_flow": null,
            "grid_auto_rows": null,
            "grid_column": null,
            "grid_gap": null,
            "grid_row": null,
            "grid_template_areas": null,
            "grid_template_columns": null,
            "grid_template_rows": null,
            "height": null,
            "justify_content": null,
            "justify_items": null,
            "left": null,
            "margin": null,
            "max_height": null,
            "max_width": null,
            "min_height": null,
            "min_width": null,
            "object_fit": null,
            "object_position": null,
            "order": null,
            "overflow": null,
            "overflow_x": null,
            "overflow_y": null,
            "padding": null,
            "right": null,
            "top": null,
            "visibility": null,
            "width": null
          }
        },
        "cd244181c0da4dff91108d820a270c88": {
          "model_module": "@jupyter-widgets/controls",
          "model_name": "DescriptionStyleModel",
          "model_module_version": "1.5.0",
          "state": {
            "_model_module": "@jupyter-widgets/controls",
            "_model_module_version": "1.5.0",
            "_model_name": "DescriptionStyleModel",
            "_view_count": null,
            "_view_module": "@jupyter-widgets/base",
            "_view_module_version": "1.2.0",
            "_view_name": "StyleView",
            "description_width": ""
          }
        },
        "ff014766ab184911a51c6ced48b2eab7": {
          "model_module": "@jupyter-widgets/base",
          "model_name": "LayoutModel",
          "model_module_version": "1.2.0",
          "state": {
            "_model_module": "@jupyter-widgets/base",
            "_model_module_version": "1.2.0",
            "_model_name": "LayoutModel",
            "_view_count": null,
            "_view_module": "@jupyter-widgets/base",
            "_view_module_version": "1.2.0",
            "_view_name": "LayoutView",
            "align_content": null,
            "align_items": null,
            "align_self": null,
            "border": null,
            "bottom": null,
            "display": null,
            "flex": null,
            "flex_flow": null,
            "grid_area": null,
            "grid_auto_columns": null,
            "grid_auto_flow": null,
            "grid_auto_rows": null,
            "grid_column": null,
            "grid_gap": null,
            "grid_row": null,
            "grid_template_areas": null,
            "grid_template_columns": null,
            "grid_template_rows": null,
            "height": null,
            "justify_content": null,
            "justify_items": null,
            "left": null,
            "margin": null,
            "max_height": null,
            "max_width": null,
            "min_height": null,
            "min_width": null,
            "object_fit": null,
            "object_position": null,
            "order": null,
            "overflow": null,
            "overflow_x": null,
            "overflow_y": null,
            "padding": null,
            "right": null,
            "top": null,
            "visibility": null,
            "width": null
          }
        },
        "4ed620c5d2554fd2b4ba66e52454e647": {
          "model_module": "@jupyter-widgets/controls",
          "model_name": "ProgressStyleModel",
          "model_module_version": "1.5.0",
          "state": {
            "_model_module": "@jupyter-widgets/controls",
            "_model_module_version": "1.5.0",
            "_model_name": "ProgressStyleModel",
            "_view_count": null,
            "_view_module": "@jupyter-widgets/base",
            "_view_module_version": "1.2.0",
            "_view_name": "StyleView",
            "bar_color": null,
            "description_width": ""
          }
        },
        "0e7375c5bfce498a902df7b5953548e8": {
          "model_module": "@jupyter-widgets/base",
          "model_name": "LayoutModel",
          "model_module_version": "1.2.0",
          "state": {
            "_model_module": "@jupyter-widgets/base",
            "_model_module_version": "1.2.0",
            "_model_name": "LayoutModel",
            "_view_count": null,
            "_view_module": "@jupyter-widgets/base",
            "_view_module_version": "1.2.0",
            "_view_name": "LayoutView",
            "align_content": null,
            "align_items": null,
            "align_self": null,
            "border": null,
            "bottom": null,
            "display": null,
            "flex": null,
            "flex_flow": null,
            "grid_area": null,
            "grid_auto_columns": null,
            "grid_auto_flow": null,
            "grid_auto_rows": null,
            "grid_column": null,
            "grid_gap": null,
            "grid_row": null,
            "grid_template_areas": null,
            "grid_template_columns": null,
            "grid_template_rows": null,
            "height": null,
            "justify_content": null,
            "justify_items": null,
            "left": null,
            "margin": null,
            "max_height": null,
            "max_width": null,
            "min_height": null,
            "min_width": null,
            "object_fit": null,
            "object_position": null,
            "order": null,
            "overflow": null,
            "overflow_x": null,
            "overflow_y": null,
            "padding": null,
            "right": null,
            "top": null,
            "visibility": null,
            "width": null
          }
        },
        "80daa2d21dcc4d0bae44acd1864d21d7": {
          "model_module": "@jupyter-widgets/controls",
          "model_name": "DescriptionStyleModel",
          "model_module_version": "1.5.0",
          "state": {
            "_model_module": "@jupyter-widgets/controls",
            "_model_module_version": "1.5.0",
            "_model_name": "DescriptionStyleModel",
            "_view_count": null,
            "_view_module": "@jupyter-widgets/base",
            "_view_module_version": "1.2.0",
            "_view_name": "StyleView",
            "description_width": ""
          }
        },
        "1d086d1060b04605b7d2c5b5d7bc7122": {
          "model_module": "@jupyter-widgets/controls",
          "model_name": "HBoxModel",
          "model_module_version": "1.5.0",
          "state": {
            "_dom_classes": [],
            "_model_module": "@jupyter-widgets/controls",
            "_model_module_version": "1.5.0",
            "_model_name": "HBoxModel",
            "_view_count": null,
            "_view_module": "@jupyter-widgets/controls",
            "_view_module_version": "1.5.0",
            "_view_name": "HBoxView",
            "box_style": "",
            "children": [
              "IPY_MODEL_760f35818d0d49c6819f16475d4628b9",
              "IPY_MODEL_5f0031e946794f6e908fee59e96f458c",
              "IPY_MODEL_5a3239298d2e4a25afd08bfbfcf15469"
            ],
            "layout": "IPY_MODEL_763f98ba55d04481af2981a34181182a"
          }
        },
        "760f35818d0d49c6819f16475d4628b9": {
          "model_module": "@jupyter-widgets/controls",
          "model_name": "HTMLModel",
          "model_module_version": "1.5.0",
          "state": {
            "_dom_classes": [],
            "_model_module": "@jupyter-widgets/controls",
            "_model_module_version": "1.5.0",
            "_model_name": "HTMLModel",
            "_view_count": null,
            "_view_module": "@jupyter-widgets/controls",
            "_view_module_version": "1.5.0",
            "_view_name": "HTMLView",
            "description": "",
            "description_tooltip": null,
            "layout": "IPY_MODEL_9a4806e861cf4ba4b97ca8f0326f9f16",
            "placeholder": "​",
            "style": "IPY_MODEL_2bee1c0ba74444d1897c573fe5572021",
            "value": "COLLECTING RESULTS | : 100%"
          }
        },
        "5f0031e946794f6e908fee59e96f458c": {
          "model_module": "@jupyter-widgets/controls",
          "model_name": "FloatProgressModel",
          "model_module_version": "1.5.0",
          "state": {
            "_dom_classes": [],
            "_model_module": "@jupyter-widgets/controls",
            "_model_module_version": "1.5.0",
            "_model_name": "FloatProgressModel",
            "_view_count": null,
            "_view_module": "@jupyter-widgets/controls",
            "_view_module_version": "1.5.0",
            "_view_name": "ProgressView",
            "bar_style": "success",
            "description": "",
            "description_tooltip": null,
            "layout": "IPY_MODEL_b919a8789d9940e88f3b4d151714917b",
            "max": 24,
            "min": 0,
            "orientation": "horizontal",
            "style": "IPY_MODEL_c57e180b9d774fe2842e6ca78fc75697",
            "value": 24
          }
        },
        "5a3239298d2e4a25afd08bfbfcf15469": {
          "model_module": "@jupyter-widgets/controls",
          "model_name": "HTMLModel",
          "model_module_version": "1.5.0",
          "state": {
            "_dom_classes": [],
            "_model_module": "@jupyter-widgets/controls",
            "_model_module_version": "1.5.0",
            "_model_name": "HTMLModel",
            "_view_count": null,
            "_view_module": "@jupyter-widgets/controls",
            "_view_module_version": "1.5.0",
            "_view_name": "HTMLView",
            "description": "",
            "description_tooltip": null,
            "layout": "IPY_MODEL_a85bc2be580d45b3af2d7fab8b27175b",
            "placeholder": "​",
            "style": "IPY_MODEL_290f5a45924040959f27dba901b56bbc",
            "value": " 24/24 [00:00&lt;00:00, 434.98it/s]"
          }
        },
        "763f98ba55d04481af2981a34181182a": {
          "model_module": "@jupyter-widgets/base",
          "model_name": "LayoutModel",
          "model_module_version": "1.2.0",
          "state": {
            "_model_module": "@jupyter-widgets/base",
            "_model_module_version": "1.2.0",
            "_model_name": "LayoutModel",
            "_view_count": null,
            "_view_module": "@jupyter-widgets/base",
            "_view_module_version": "1.2.0",
            "_view_name": "LayoutView",
            "align_content": null,
            "align_items": null,
            "align_self": null,
            "border": null,
            "bottom": null,
            "display": null,
            "flex": null,
            "flex_flow": null,
            "grid_area": null,
            "grid_auto_columns": null,
            "grid_auto_flow": null,
            "grid_auto_rows": null,
            "grid_column": null,
            "grid_gap": null,
            "grid_row": null,
            "grid_template_areas": null,
            "grid_template_columns": null,
            "grid_template_rows": null,
            "height": null,
            "justify_content": null,
            "justify_items": null,
            "left": null,
            "margin": null,
            "max_height": null,
            "max_width": null,
            "min_height": null,
            "min_width": null,
            "object_fit": null,
            "object_position": null,
            "order": null,
            "overflow": null,
            "overflow_x": null,
            "overflow_y": null,
            "padding": null,
            "right": null,
            "top": null,
            "visibility": null,
            "width": null
          }
        },
        "9a4806e861cf4ba4b97ca8f0326f9f16": {
          "model_module": "@jupyter-widgets/base",
          "model_name": "LayoutModel",
          "model_module_version": "1.2.0",
          "state": {
            "_model_module": "@jupyter-widgets/base",
            "_model_module_version": "1.2.0",
            "_model_name": "LayoutModel",
            "_view_count": null,
            "_view_module": "@jupyter-widgets/base",
            "_view_module_version": "1.2.0",
            "_view_name": "LayoutView",
            "align_content": null,
            "align_items": null,
            "align_self": null,
            "border": null,
            "bottom": null,
            "display": null,
            "flex": null,
            "flex_flow": null,
            "grid_area": null,
            "grid_auto_columns": null,
            "grid_auto_flow": null,
            "grid_auto_rows": null,
            "grid_column": null,
            "grid_gap": null,
            "grid_row": null,
            "grid_template_areas": null,
            "grid_template_columns": null,
            "grid_template_rows": null,
            "height": null,
            "justify_content": null,
            "justify_items": null,
            "left": null,
            "margin": null,
            "max_height": null,
            "max_width": null,
            "min_height": null,
            "min_width": null,
            "object_fit": null,
            "object_position": null,
            "order": null,
            "overflow": null,
            "overflow_x": null,
            "overflow_y": null,
            "padding": null,
            "right": null,
            "top": null,
            "visibility": null,
            "width": null
          }
        },
        "2bee1c0ba74444d1897c573fe5572021": {
          "model_module": "@jupyter-widgets/controls",
          "model_name": "DescriptionStyleModel",
          "model_module_version": "1.5.0",
          "state": {
            "_model_module": "@jupyter-widgets/controls",
            "_model_module_version": "1.5.0",
            "_model_name": "DescriptionStyleModel",
            "_view_count": null,
            "_view_module": "@jupyter-widgets/base",
            "_view_module_version": "1.2.0",
            "_view_name": "StyleView",
            "description_width": ""
          }
        },
        "b919a8789d9940e88f3b4d151714917b": {
          "model_module": "@jupyter-widgets/base",
          "model_name": "LayoutModel",
          "model_module_version": "1.2.0",
          "state": {
            "_model_module": "@jupyter-widgets/base",
            "_model_module_version": "1.2.0",
            "_model_name": "LayoutModel",
            "_view_count": null,
            "_view_module": "@jupyter-widgets/base",
            "_view_module_version": "1.2.0",
            "_view_name": "LayoutView",
            "align_content": null,
            "align_items": null,
            "align_self": null,
            "border": null,
            "bottom": null,
            "display": null,
            "flex": null,
            "flex_flow": null,
            "grid_area": null,
            "grid_auto_columns": null,
            "grid_auto_flow": null,
            "grid_auto_rows": null,
            "grid_column": null,
            "grid_gap": null,
            "grid_row": null,
            "grid_template_areas": null,
            "grid_template_columns": null,
            "grid_template_rows": null,
            "height": null,
            "justify_content": null,
            "justify_items": null,
            "left": null,
            "margin": null,
            "max_height": null,
            "max_width": null,
            "min_height": null,
            "min_width": null,
            "object_fit": null,
            "object_position": null,
            "order": null,
            "overflow": null,
            "overflow_x": null,
            "overflow_y": null,
            "padding": null,
            "right": null,
            "top": null,
            "visibility": null,
            "width": null
          }
        },
        "c57e180b9d774fe2842e6ca78fc75697": {
          "model_module": "@jupyter-widgets/controls",
          "model_name": "ProgressStyleModel",
          "model_module_version": "1.5.0",
          "state": {
            "_model_module": "@jupyter-widgets/controls",
            "_model_module_version": "1.5.0",
            "_model_name": "ProgressStyleModel",
            "_view_count": null,
            "_view_module": "@jupyter-widgets/base",
            "_view_module_version": "1.2.0",
            "_view_name": "StyleView",
            "bar_color": null,
            "description_width": ""
          }
        },
        "a85bc2be580d45b3af2d7fab8b27175b": {
          "model_module": "@jupyter-widgets/base",
          "model_name": "LayoutModel",
          "model_module_version": "1.2.0",
          "state": {
            "_model_module": "@jupyter-widgets/base",
            "_model_module_version": "1.2.0",
            "_model_name": "LayoutModel",
            "_view_count": null,
            "_view_module": "@jupyter-widgets/base",
            "_view_module_version": "1.2.0",
            "_view_name": "LayoutView",
            "align_content": null,
            "align_items": null,
            "align_self": null,
            "border": null,
            "bottom": null,
            "display": null,
            "flex": null,
            "flex_flow": null,
            "grid_area": null,
            "grid_auto_columns": null,
            "grid_auto_flow": null,
            "grid_auto_rows": null,
            "grid_column": null,
            "grid_gap": null,
            "grid_row": null,
            "grid_template_areas": null,
            "grid_template_columns": null,
            "grid_template_rows": null,
            "height": null,
            "justify_content": null,
            "justify_items": null,
            "left": null,
            "margin": null,
            "max_height": null,
            "max_width": null,
            "min_height": null,
            "min_width": null,
            "object_fit": null,
            "object_position": null,
            "order": null,
            "overflow": null,
            "overflow_x": null,
            "overflow_y": null,
            "padding": null,
            "right": null,
            "top": null,
            "visibility": null,
            "width": null
          }
        },
        "290f5a45924040959f27dba901b56bbc": {
          "model_module": "@jupyter-widgets/controls",
          "model_name": "DescriptionStyleModel",
          "model_module_version": "1.5.0",
          "state": {
            "_model_module": "@jupyter-widgets/controls",
            "_model_module_version": "1.5.0",
            "_model_name": "DescriptionStyleModel",
            "_view_count": null,
            "_view_module": "@jupyter-widgets/base",
            "_view_module_version": "1.2.0",
            "_view_name": "StyleView",
            "description_width": ""
          }
        }
      }
    }
  },
  "cells": [
    {
      "cell_type": "markdown",
      "source": [
        "### **TEMPO formaldehyde validation**\n",
        "\n",
        "This notebook illustrates comparison of TEMPO formaldehyde total column retrievals with Pandora ground stations.\n",
        "\n",
        "It allows a user to choose Pandora station of interest. Since TEMPO spatial coverage is regional and limited to North America, it is user's responsibilty to select the station within TEMPO's field of regard (FOR). If the selected station is outside FOR, no TEMPO time series will be generated.\n",
        "\n",
        "The user is allowed to choose the time period of interest by providing start and end dates in the form YYYYMMDD. Please be aware, that if the selecte period of interest is outside of available time span of one of the sensors, corresponding time series will not be generated.\n",
        "\n",
        "Data files for both sensors are downloaded on-the-fly. TEMPO data are downloaded with earthaccess library that needs to be installed first.\n",
        "\n",
        "TEMPO data files are read by means of netCDF library that needs to be installed first.\n",
        "\n",
        "Pandora data files are ASCII files with header and space separated columns. Custome made function is included to read nitrogen dioxide total column along with its total uncertainty.\n",
        "\n",
        "This code takes into account quality flags (QFs) from both TEMPO and Pandora. This is implemented as follow. On the TEMPO side, data set \"/product/main_data_quality_flag\" is read, all pixels with non-zero QFs are discarded, however negative values of total HCHO column are NOT discarded and used for averaging/interpolationg to the point of interest. For the purpose of physical sanity, another way is also implemented, i.e., negative retrievals are not used in averaging. Therefore, TWO values are returned, total_HCHO_col, and total_HCHO_col_noneg. On Pandora side negative columns also occur despite high quality flags, though they are rare. So, two Pandora time series are considered - with and without negative columns.\n",
        "\n",
        "The resulting time series are plotted with and without uncertainty of both measurement in the end of the notebook."
      ],
      "metadata": {
        "id": "kjVKCytfEnRt"
      }
    },
    {
      "cell_type": "markdown",
      "source": [
        "# 1 Installing and importing necessary libraries"
      ],
      "metadata": {
        "id": "luJG0oPIPGjC"
      }
    },
    {
      "cell_type": "markdown",
      "source": [
        "## 1.1 Installing netCDF"
      ],
      "metadata": {
        "id": "m5ru-FMpPXoE"
      }
    },
    {
      "cell_type": "code",
      "source": [
        "! pip3 install netCDF4"
      ],
      "metadata": {
        "colab": {
          "base_uri": "https://localhost:8080/"
        },
        "id": "5NWX4mCVQJt_",
        "outputId": "de27d9a3-6dbb-49b0-8f57-65ed6ef5ccf0"
      },
      "execution_count": null,
      "outputs": [
        {
          "output_type": "stream",
          "name": "stdout",
          "text": [
            "Collecting netCDF4\n",
            "  Downloading netCDF4-1.6.5-cp310-cp310-manylinux_2_17_x86_64.manylinux2014_x86_64.whl (5.5 MB)\n",
            "\u001b[2K     \u001b[90m━━━━━━━━━━━━━━━━━━━━━━━━━━━━━━━━━━━━━━━━\u001b[0m \u001b[32m5.5/5.5 MB\u001b[0m \u001b[31m11.1 MB/s\u001b[0m eta \u001b[36m0:00:00\u001b[0m\n",
            "\u001b[?25hCollecting cftime (from netCDF4)\n",
            "  Downloading cftime-1.6.3-cp310-cp310-manylinux_2_17_x86_64.manylinux2014_x86_64.whl (1.3 MB)\n",
            "\u001b[2K     \u001b[90m━━━━━━━━━━━━━━━━━━━━━━━━━━━━━━━━━━━━━━━━\u001b[0m \u001b[32m1.3/1.3 MB\u001b[0m \u001b[31m12.8 MB/s\u001b[0m eta \u001b[36m0:00:00\u001b[0m\n",
            "\u001b[?25hRequirement already satisfied: certifi in /usr/local/lib/python3.10/dist-packages (from netCDF4) (2024.2.2)\n",
            "Requirement already satisfied: numpy in /usr/local/lib/python3.10/dist-packages (from netCDF4) (1.25.2)\n",
            "Installing collected packages: cftime, netCDF4\n",
            "Successfully installed cftime-1.6.3 netCDF4-1.6.5\n"
          ]
        }
      ]
    },
    {
      "cell_type": "markdown",
      "source": [
        "## 1.2 Installing earthaccess"
      ],
      "metadata": {
        "id": "cQJCMByjPp9i"
      }
    },
    {
      "cell_type": "code",
      "source": [
        "! pip3 install earthaccess"
      ],
      "metadata": {
        "colab": {
          "base_uri": "https://localhost:8080/"
        },
        "id": "N7Gm15VaYKW9",
        "outputId": "07aee29d-7791-4b4d-fbfe-c12defa84971"
      },
      "execution_count": null,
      "outputs": [
        {
          "output_type": "stream",
          "name": "stdout",
          "text": [
            "Collecting earthaccess\n",
            "  Downloading earthaccess-0.9.0-py3-none-any.whl (57 kB)\n",
            "\u001b[?25l     \u001b[90m━━━━━━━━━━━━━━━━━━━━━━━━━━━━━━━━━━━━━━━━\u001b[0m \u001b[32m0.0/57.1 kB\u001b[0m \u001b[31m?\u001b[0m eta \u001b[36m-:--:--\u001b[0m\r\u001b[2K     \u001b[90m━━━━━━━━━━━━━━━━━━━━━━━━━━━━━━━━━━━━━━━━\u001b[0m \u001b[32m57.1/57.1 kB\u001b[0m \u001b[31m1.4 MB/s\u001b[0m eta \u001b[36m0:00:00\u001b[0m\n",
            "\u001b[?25hRequirement already satisfied: fsspec>=2022.11 in /usr/local/lib/python3.10/dist-packages (from earthaccess) (2023.6.0)\n",
            "Collecting multimethod>=1.8 (from earthaccess)\n",
            "  Downloading multimethod-1.11.2-py3-none-any.whl (10 kB)\n",
            "Collecting pqdm>=0.1 (from earthaccess)\n",
            "  Downloading pqdm-0.2.0-py2.py3-none-any.whl (6.8 kB)\n",
            "Collecting python-cmr>=0.9.0 (from earthaccess)\n",
            "  Downloading python_cmr-0.9.0-py3-none-any.whl (11 kB)\n",
            "Requirement already satisfied: python-dateutil>=2.8.2 in /usr/local/lib/python3.10/dist-packages (from earthaccess) (2.8.2)\n",
            "Requirement already satisfied: requests>=2.26 in /usr/local/lib/python3.10/dist-packages (from earthaccess) (2.31.0)\n",
            "Collecting s3fs>=2022.11 (from earthaccess)\n",
            "  Downloading s3fs-2024.3.1-py3-none-any.whl (29 kB)\n",
            "Collecting tinynetrc<2.0.0,>=1.3.1 (from earthaccess)\n",
            "  Downloading tinynetrc-1.3.1-py2.py3-none-any.whl (3.9 kB)\n",
            "Collecting bounded-pool-executor (from pqdm>=0.1->earthaccess)\n",
            "  Downloading bounded_pool_executor-0.0.3-py3-none-any.whl (3.4 kB)\n",
            "Requirement already satisfied: tqdm in /usr/local/lib/python3.10/dist-packages (from pqdm>=0.1->earthaccess) (4.66.2)\n",
            "Requirement already satisfied: typing-extensions in /usr/local/lib/python3.10/dist-packages (from pqdm>=0.1->earthaccess) (4.10.0)\n",
            "Requirement already satisfied: six>=1.5 in /usr/local/lib/python3.10/dist-packages (from python-dateutil>=2.8.2->earthaccess) (1.16.0)\n",
            "Requirement already satisfied: charset-normalizer<4,>=2 in /usr/local/lib/python3.10/dist-packages (from requests>=2.26->earthaccess) (3.3.2)\n",
            "Requirement already satisfied: idna<4,>=2.5 in /usr/local/lib/python3.10/dist-packages (from requests>=2.26->earthaccess) (3.6)\n",
            "Requirement already satisfied: urllib3<3,>=1.21.1 in /usr/local/lib/python3.10/dist-packages (from requests>=2.26->earthaccess) (2.0.7)\n",
            "Requirement already satisfied: certifi>=2017.4.17 in /usr/local/lib/python3.10/dist-packages (from requests>=2.26->earthaccess) (2024.2.2)\n",
            "Collecting aiobotocore<3.0.0,>=2.5.4 (from s3fs>=2022.11->earthaccess)\n",
            "  Downloading aiobotocore-2.12.2-py3-none-any.whl (76 kB)\n",
            "\u001b[2K     \u001b[90m━━━━━━━━━━━━━━━━━━━━━━━━━━━━━━━━━━━━━━━━\u001b[0m \u001b[32m76.5/76.5 kB\u001b[0m \u001b[31m3.9 MB/s\u001b[0m eta \u001b[36m0:00:00\u001b[0m\n",
            "\u001b[?25hCollecting fsspec>=2022.11 (from earthaccess)\n",
            "  Downloading fsspec-2024.3.1-py3-none-any.whl (171 kB)\n",
            "\u001b[2K     \u001b[90m━━━━━━━━━━━━━━━━━━━━━━━━━━━━━━━━━━━━━━━━\u001b[0m \u001b[32m172.0/172.0 kB\u001b[0m \u001b[31m12.1 MB/s\u001b[0m eta \u001b[36m0:00:00\u001b[0m\n",
            "\u001b[?25hRequirement already satisfied: aiohttp!=4.0.0a0,!=4.0.0a1 in /usr/local/lib/python3.10/dist-packages (from s3fs>=2022.11->earthaccess) (3.9.3)\n",
            "Collecting botocore<1.34.52,>=1.34.41 (from aiobotocore<3.0.0,>=2.5.4->s3fs>=2022.11->earthaccess)\n",
            "  Downloading botocore-1.34.51-py3-none-any.whl (12.0 MB)\n",
            "\u001b[2K     \u001b[90m━━━━━━━━━━━━━━━━━━━━━━━━━━━━━━━━━━━━━━━━\u001b[0m \u001b[32m12.0/12.0 MB\u001b[0m \u001b[31m24.9 MB/s\u001b[0m eta \u001b[36m0:00:00\u001b[0m\n",
            "\u001b[?25hRequirement already satisfied: wrapt<2.0.0,>=1.10.10 in /usr/local/lib/python3.10/dist-packages (from aiobotocore<3.0.0,>=2.5.4->s3fs>=2022.11->earthaccess) (1.14.1)\n",
            "Collecting aioitertools<1.0.0,>=0.5.1 (from aiobotocore<3.0.0,>=2.5.4->s3fs>=2022.11->earthaccess)\n",
            "  Downloading aioitertools-0.11.0-py3-none-any.whl (23 kB)\n",
            "Requirement already satisfied: aiosignal>=1.1.2 in /usr/local/lib/python3.10/dist-packages (from aiohttp!=4.0.0a0,!=4.0.0a1->s3fs>=2022.11->earthaccess) (1.3.1)\n",
            "Requirement already satisfied: attrs>=17.3.0 in /usr/local/lib/python3.10/dist-packages (from aiohttp!=4.0.0a0,!=4.0.0a1->s3fs>=2022.11->earthaccess) (23.2.0)\n",
            "Requirement already satisfied: frozenlist>=1.1.1 in /usr/local/lib/python3.10/dist-packages (from aiohttp!=4.0.0a0,!=4.0.0a1->s3fs>=2022.11->earthaccess) (1.4.1)\n",
            "Requirement already satisfied: multidict<7.0,>=4.5 in /usr/local/lib/python3.10/dist-packages (from aiohttp!=4.0.0a0,!=4.0.0a1->s3fs>=2022.11->earthaccess) (6.0.5)\n",
            "Requirement already satisfied: yarl<2.0,>=1.0 in /usr/local/lib/python3.10/dist-packages (from aiohttp!=4.0.0a0,!=4.0.0a1->s3fs>=2022.11->earthaccess) (1.9.4)\n",
            "Requirement already satisfied: async-timeout<5.0,>=4.0 in /usr/local/lib/python3.10/dist-packages (from aiohttp!=4.0.0a0,!=4.0.0a1->s3fs>=2022.11->earthaccess) (4.0.3)\n",
            "Collecting jmespath<2.0.0,>=0.7.1 (from botocore<1.34.52,>=1.34.41->aiobotocore<3.0.0,>=2.5.4->s3fs>=2022.11->earthaccess)\n",
            "  Downloading jmespath-1.0.1-py3-none-any.whl (20 kB)\n",
            "Installing collected packages: tinynetrc, bounded-pool-executor, pqdm, multimethod, jmespath, fsspec, aioitertools, python-cmr, botocore, aiobotocore, s3fs, earthaccess\n",
            "  Attempting uninstall: fsspec\n",
            "    Found existing installation: fsspec 2023.6.0\n",
            "    Uninstalling fsspec-2023.6.0:\n",
            "      Successfully uninstalled fsspec-2023.6.0\n",
            "\u001b[31mERROR: pip's dependency resolver does not currently take into account all the packages that are installed. This behaviour is the source of the following dependency conflicts.\n",
            "torch 2.2.1+cu121 requires nvidia-cublas-cu12==12.1.3.1; platform_system == \"Linux\" and platform_machine == \"x86_64\", which is not installed.\n",
            "torch 2.2.1+cu121 requires nvidia-cuda-cupti-cu12==12.1.105; platform_system == \"Linux\" and platform_machine == \"x86_64\", which is not installed.\n",
            "torch 2.2.1+cu121 requires nvidia-cuda-nvrtc-cu12==12.1.105; platform_system == \"Linux\" and platform_machine == \"x86_64\", which is not installed.\n",
            "torch 2.2.1+cu121 requires nvidia-cuda-runtime-cu12==12.1.105; platform_system == \"Linux\" and platform_machine == \"x86_64\", which is not installed.\n",
            "torch 2.2.1+cu121 requires nvidia-cudnn-cu12==8.9.2.26; platform_system == \"Linux\" and platform_machine == \"x86_64\", which is not installed.\n",
            "torch 2.2.1+cu121 requires nvidia-cufft-cu12==11.0.2.54; platform_system == \"Linux\" and platform_machine == \"x86_64\", which is not installed.\n",
            "torch 2.2.1+cu121 requires nvidia-curand-cu12==10.3.2.106; platform_system == \"Linux\" and platform_machine == \"x86_64\", which is not installed.\n",
            "torch 2.2.1+cu121 requires nvidia-cusolver-cu12==11.4.5.107; platform_system == \"Linux\" and platform_machine == \"x86_64\", which is not installed.\n",
            "torch 2.2.1+cu121 requires nvidia-cusparse-cu12==12.1.0.106; platform_system == \"Linux\" and platform_machine == \"x86_64\", which is not installed.\n",
            "torch 2.2.1+cu121 requires nvidia-nccl-cu12==2.19.3; platform_system == \"Linux\" and platform_machine == \"x86_64\", which is not installed.\n",
            "torch 2.2.1+cu121 requires nvidia-nvtx-cu12==12.1.105; platform_system == \"Linux\" and platform_machine == \"x86_64\", which is not installed.\n",
            "gcsfs 2023.6.0 requires fsspec==2023.6.0, but you have fsspec 2024.3.1 which is incompatible.\u001b[0m\u001b[31m\n",
            "\u001b[0mSuccessfully installed aiobotocore-2.12.2 aioitertools-0.11.0 botocore-1.34.51 bounded-pool-executor-0.0.3 earthaccess-0.9.0 fsspec-2024.3.1 jmespath-1.0.1 multimethod-1.11.2 pqdm-0.2.0 python-cmr-0.9.0 s3fs-2024.3.1 tinynetrc-1.3.1\n"
          ]
        }
      ]
    },
    {
      "cell_type": "markdown",
      "source": [
        "## 1.3 Importing necessary libraries"
      ],
      "metadata": {
        "id": "TxfhRi7ySyFY"
      }
    },
    {
      "cell_type": "code",
      "execution_count": null,
      "metadata": {
        "id": "IAAuhYMcEkvP"
      },
      "outputs": [],
      "source": [
        "import earthaccess # needed to discover and download TEMPO data\n",
        "import netCDF4 as nc # needed to read TEMPO data\n",
        "\n",
        "import os\n",
        "import sys\n",
        "\n",
        "import platform\n",
        "from subprocess import Popen\n",
        "import shutil\n",
        "\n",
        "from shapely.geometry import Point, Polygon # needed to search a point within a polygon\n",
        "from scipy.interpolate import griddata # needed to interpolate TEMPO data to the point of interest\n",
        "from scipy import stats # needed for linear regression analysis\n",
        "\n",
        "import requests # needed to search for and download Pandora data\n",
        "import codecs # needed to read Pandora data\n",
        "import numpy as np\n",
        "import matplotlib.pyplot as plt # needed to plot the resulting time series\n",
        "from urllib.request import urlopen, Request # needed to search for and download Pandora data\n",
        "from pathlib import Path # needed to check whether a needed data file is already downloaded\n",
        "from datetime import datetime, timedelta # needed to work with time in plotting time series"
      ]
    },
    {
      "cell_type": "markdown",
      "source": [
        "#2 Defining functions to work with Pandora and TEMPO data"
      ],
      "metadata": {
        "id": "ANsfYumeXjKm"
      }
    },
    {
      "cell_type": "markdown",
      "source": [
        "#2.1 functions to work with Pandora"
      ],
      "metadata": {
        "id": "OQGUPNbgXyKN"
      }
    },
    {
      "cell_type": "markdown",
      "source": [
        "###2.1.1 function creating the list of available Pandora sites"
      ],
      "metadata": {
        "id": "RB9IWsMvX6Kd"
      }
    },
    {
      "cell_type": "code",
      "source": [
        "# function read_pandora_web returns the list of available Pandora sites\n",
        "def read_pandora_web():\n",
        "  url = 'https://data.pandonia-global-network.org/'\n",
        "  page = urlopen(url)\n",
        "  html_bytes = page.read()\n",
        "  html = html_bytes.decode(\"utf-8\")\n",
        "  html_len = len(html)\n",
        "\n",
        "  pos1 = 0\n",
        "\n",
        "  big_line = str(html)\n",
        "  lines = big_line.split('\\n')\n",
        "\n",
        "  ref_lines = [i for i in lines if 'href' in i]\n",
        "  refs = []\n",
        "  for line in ref_lines:\n",
        "    pos1 = line.find('\"')\n",
        "    pos2 = line.rfind('\"')\n",
        "    if pos1 > 0 and pos2 > pos1 and line[pos2-1] =='/' and line[pos1+1] == '.':\n",
        "      refs.append(line[pos1+3 : pos2-1])\n",
        "\n",
        "  return refs"
      ],
      "metadata": {
        "id": "kB3wW0-D1RP2"
      },
      "execution_count": null,
      "outputs": []
    },
    {
      "cell_type": "markdown",
      "source": [
        "###2.1.2 functions allowing user to choose a Pandora site of interest"
      ],
      "metadata": {
        "id": "Ht9LHL28YUmR"
      }
    },
    {
      "cell_type": "code",
      "source": [
        "# function check_site checks whether user entered site is in the list of available Pandora sites\n",
        "def check_site(site_name, refs):\n",
        "  site_list = []\n",
        "  for line in refs:\n",
        "    if site_name in line:\n",
        "      site_list.append(line)\n",
        "\n",
        "  return site_list\n",
        "\n",
        "\n",
        "# function take_pandora_sites takes user input and checks whether the site is in the list of available Pandora sites\n",
        "def take_pandora_sites(refs):\n",
        "  print('please select a Pandora site name from the list')\n",
        "  for ref in refs:\n",
        "    print(ref)\n",
        "\n",
        "  answer = 'y'\n",
        "  while answer == 'y':\n",
        "    site_name = input('Enter a name of a Pandora site: ')\n",
        "    print(site_name)\n",
        "    site_list = check_site(site_name, refs)\n",
        "    site_num = len(site_list)\n",
        "    if site_num == 0:\n",
        "      print('site ', site_name, 'was not found')\n",
        "      continue\n",
        "\n",
        "    if site_num > 1:\n",
        "      print('there are ', site_num, ' site names, select one from')\n",
        "      for site in site_list: print(site)\n",
        "\n",
        "      site_name = input('Enter an exact name of a Pandora site: ')\n",
        "      if site_list.count(site_name) != 1:\n",
        "        print('Entered name is not the exact match of one of the following sites')\n",
        "        for site in site_list: print(site)\n",
        "        print('program terminated')\n",
        "        sys.exit()\n",
        "\n",
        "      for site in site_list:\n",
        "        if site == site_name:\n",
        "          pandora_site = site_name\n",
        "          print('site ', site_name, 'was found and added to the list of sites ')\n",
        "          break\n",
        "\n",
        "    if site_num == 1:\n",
        "      pandora_site = site_list[0]\n",
        "      print('site ', site_list[0], 'was found and added to the list of sites ')\n",
        "\n",
        "    answer = 'n'\n",
        "\n",
        "  return pandora_site"
      ],
      "metadata": {
        "id": "tpF3vEOD1dsm"
      },
      "execution_count": null,
      "outputs": []
    },
    {
      "cell_type": "markdown",
      "source": [
        "###2.1.3 function creating the list of links to formaldehyde data files at the selected Pandora sites and downloading the data files"
      ],
      "metadata": {
        "id": "F5sX6MEaZGFI"
      }
    },
    {
      "cell_type": "code",
      "source": [
        "# Pandora site may have several instruments. In this case each instrument has its own directory.\n",
        "# However, the most recent version of the HCHO data, rfus5p1-8, is available only in one of these directories.\n",
        "# The function creates all possible links, but some of them may be non-existing. This is checked and cleared later.\n",
        "def instrument_path(site):\n",
        "# function instrument_path returns links to available Pandora HCHO retrievals files\n",
        "  url = 'https://data.pandonia-global-network.org/' + site + '/'\n",
        "  page = urlopen(url)\n",
        "  html_bytes = page.read()\n",
        "  html = html_bytes.decode(\"utf-8\")\n",
        "  html_len = len(html)\n",
        "\n",
        "  pos1 = 0\n",
        "  big_line = str(html)\n",
        "  lines = big_line.split('\\n')\n",
        "\n",
        "  ref_lines = [i for i in lines if 'href' in i]\n",
        "  links = []\n",
        "  for line in ref_lines:\n",
        "\n",
        "    pos1 = line.find('\"')\n",
        "    pos2 = line.rfind('\"')\n",
        "    if pos1 > 0 and pos2 > pos1 and line[pos2-1] =='/' and\\\n",
        "       line[pos1+3 : pos1 + 10] == 'Pandora':\n",
        "      link = url + line[pos1+3 : pos2] + 'L2/' + line[pos1+3 : pos2-1] + '_' + site + '_L2_rfus5p1-8.txt'\n",
        "      print(link)\n",
        "      links.append(link)\n",
        "\n",
        "  return links\n",
        "\n",
        "\n",
        "# function downloading Pandora data file with given url\n",
        "def download(url):\n",
        "  response = requests.get(url)\n",
        "  response_code = response.status_code\n",
        "\n",
        "  file_name = url.split('/')[-1]\n",
        "\n",
        "  if response_code == 200:\n",
        "    content = response.content\n",
        "    data_path = Path(file_name)\n",
        "    data_path.write_bytes(content)\n",
        "\n",
        "  return file_name, response_code"
      ],
      "metadata": {
        "id": "PI8UerY82LoQ"
      },
      "execution_count": null,
      "outputs": []
    },
    {
      "cell_type": "markdown",
      "source": [
        "###2.1.4 function reading Pandora NCHO data file rfus5p1-8"
      ],
      "metadata": {
        "id": "HLnx6gUAaMg6"
      }
    },
    {
      "cell_type": "code",
      "source": [
        "# function converting Pandora timestamp into a set of  year, month, day, hour, minute, and second\n",
        "# function read_timestamp converts Pandora timestamp of the format\n",
        "# 'yyyymmddThhmmssZ' into a set of 6 numbers:\n",
        "# integer year, month, day, hour, minute, and real second.\n",
        "def read_timestamp(timestamp):\n",
        "\n",
        "  yyyy = int(timestamp[0:4])\n",
        "  mm = int(timestamp[4:6])\n",
        "  dd = int(timestamp[6:8])\n",
        "  hh = int(timestamp[9:11])\n",
        "  mn = int(timestamp[11:13])\n",
        "  ss = float(timestamp[13:17])\n",
        "\n",
        "  return yyyy, mm, dd, hh, mn, ss\n",
        "\n",
        "\n",
        "# function reading Pandora NCHO data file rfus5p1-8\n",
        "#\n",
        "# Below is the second version of function read_Pandora_HCHO_rfus5p1_8. It is to be used for the future validation efforts.\n",
        "# The difference with the original version is that instead of discriminating negative values of the total HCHO column,\n",
        "# it uses quality flags. It was previously found that QF == 0 does not occure often enough,\n",
        "# so we will have to use QF == 10 (not-assured high quality).\n",
        "#\n",
        "# function read_Pandora_HCHO_rfus5p1_8 reads Pandora total HCHO column data files ending with rfus5p1-8.\n",
        "# Arguments:\n",
        "# fname - name file to be read, string;\n",
        "# start_date - beginning of the time interval of interest,\n",
        "#              integer of the form YYYYMMDD;\n",
        "# end_date -   end of the time interval of interest,\n",
        "#              integer of the form YYYYMMDD.\n",
        "#\n",
        "# if start_date is greater than end_date, the function returns a numpy array\n",
        "# with shape (0, 8), otherwise it returns an 8-column numpy array\n",
        "# with with columns being year, month, day, hour, minute, second of observation\n",
        "# and retrieved total HCHO column along with its total uncertainty.\n",
        "#\n",
        "# HCHO column is in mol/m^2, so conversion to molecules/cm^2 is performed by\n",
        "# multiplication by Avogadro constant, NA =  6.02214076E+23, and division by 1.E+4\n",
        "def read_Pandora_HCHO_rfus5p1_8_v2(fname, start_date, end_date):\n",
        "\n",
        "  conversion_coeff = 6.02214076E+19 # Avogadro constant divided by 10000\n",
        "\n",
        "  data = np.empty([0, 8])\n",
        "  if start_date > end_date: return -999., -999., 'no_name', data\n",
        "\n",
        "  with codecs.open(fname, 'r', encoding='utf-8', errors='ignore') as f:\n",
        "\n",
        "    while True:\n",
        "# Get next line from file\n",
        "      line = f.readline()\n",
        "\n",
        "      if line.find('Short location name:') >= 0:\n",
        "        loc_name = line.split()[-1] # location name, to be used in the output file name\n",
        "        print('location name ', loc_name)\n",
        "\n",
        "      if line.find('Location latitude [deg]:') >= 0:\n",
        "        lat = float(line.split()[-1]) # location latitude\n",
        "        print('location latitude ', lat)\n",
        "\n",
        "      if line.find('Location longitude [deg]:') >= 0:\n",
        "        lon = float(line.split()[-1]) # location longitude\n",
        "        print('location longitude ', lon)\n",
        "\n",
        "      if line.find('--------') >= 0: break\n",
        "\n",
        "    while True:\n",
        "# Get next line from file\n",
        "      line = f.readline()\n",
        "\n",
        "      if line.find('--------') >= 0: break\n",
        "\n",
        "    while True:\n",
        "# now reading line with data\n",
        "      line = f.readline()\n",
        "\n",
        "      if not line: break\n",
        "\n",
        "      line_split = line.split()\n",
        "\n",
        "      yyyy, mm, dd, hh, mn, ss = read_timestamp(line_split[0])\n",
        "      date_stamp = yyyy*10000 + mm*100 + dd\n",
        "      if date_stamp < start_date or date_stamp > end_date: continue\n",
        "\n",
        "      QF = int(line_split[35]) # total column uncertainty\n",
        "\n",
        "      if QF == 0 or QF == 10:\n",
        "        column = float(line_split[38])\n",
        "        column_unc = float(line_split[42]) # total column uncertainty\n",
        "        data = np.append(data, [[yyyy, mm, dd, hh, mn, ss\\\n",
        "                               , column*conversion_coeff\\\n",
        "                               , column_unc*conversion_coeff]], axis = 0)\n",
        "\n",
        "  return lat, lon, loc_name, data"
      ],
      "metadata": {
        "id": "9XMu3iAp27yx"
      },
      "execution_count": null,
      "outputs": []
    },
    {
      "cell_type": "markdown",
      "source": [
        "##2.2 functions to work with TEMPO"
      ],
      "metadata": {
        "id": "Ep0Fl-Kzas5x"
      }
    },
    {
      "cell_type": "markdown",
      "source": [
        "###2.2.1 function reading TEMPO HCHO data file"
      ],
      "metadata": {
        "id": "iQS-0PYfbRYy"
      }
    },
    {
      "cell_type": "code",
      "source": [
        "# function reading TEMPO HCHO data file\n",
        "def read_TEMPO_HCHO_L2(fn):\n",
        "  '''\n",
        "  function read_TEMPO_HCHO_L2 reads the following arrays from the\n",
        "  TEMPO L2 HCHO product TEMPO_HCHO_L2_V01:\n",
        "    vertical_column;\n",
        "    vertical_column_uncertainty;\n",
        "  and returns respective fields along with coordinates of the pixels.\n",
        "\n",
        "  If one requested variables cannot be read, all returned variables are zeroed\n",
        "  '''\n",
        "  var_name = 'vertical_column'\n",
        "  var_unc_name = 'vertical_column_uncertainty'\n",
        "  var_QF_name = 'main_data_quality_flag'\n",
        "\n",
        "  try:\n",
        "    ds = nc.Dataset(fn)\n",
        "\n",
        "    prod = ds.groups['product'] # this opens group product, /product, as prod\n",
        "\n",
        "    var = prod.variables[var_name] # this reads variable vertical_column from prod (group product, /product)\n",
        "    total_HCHO_column = np.array(var)\n",
        "    fv_prod = var.getncattr('_FillValue')\n",
        "    prod_unit = var.getncattr('units')\n",
        "\n",
        "    var_unc = prod.variables[var_unc_name] # this reads variable vertical_column_uncertainty from prod (group product, /product)\n",
        "    total_HCHO_column_unc = np.array(var_unc)\n",
        "\n",
        "    var_QF = prod.variables[var_QF_name] # this reads variable main_data_quality_flag from prod (group product, /product)\n",
        "    total_HCHO_column_QF = np.array(var_QF)\n",
        "    fv_QF = var_QF.getncattr('_FillValue')\n",
        "\n",
        "    geo = ds.groups['geolocation'] # this opens group geolocation, /geolocation, as geo\n",
        "\n",
        "    lat = np.array(geo.variables['latitude']) # this reads variable latitude from geo (geolocation group, /geolocation) into a numpy array\n",
        "    lon = np.array(geo.variables['longitude']) # this reads variable longitude from geo (geolocation group, /geolocation) into a numpy array\n",
        "    fv_geo = geo.variables['latitude'].getncattr('_FillValue')\n",
        "    time = np.array(geo.variables['time'] )# this reads variable longitude from geo (geolocation group, /geolocation) into a numpy array\n",
        "\n",
        "    ds.close()\n",
        "\n",
        "  except:\n",
        "    print('variable '+var_name+' cannot be read in file '+fn)\n",
        "    lat = 0.\n",
        "    lon = 0.\n",
        "    time = 0.\n",
        "    fv_geo = 0.\n",
        "    total_HCHO_column = 0.\n",
        "    total_HCHO_column_unc = 0.\n",
        "    total_HCHO_column_QF = 0.\n",
        "    fv_prod = 0.\n",
        "    fv_QF = -999\n",
        "    prod_unit = ''\n",
        "\n",
        "  return lat, lon, fv_geo, time, total_HCHO_column, total_HCHO_column_unc\\\n",
        ", total_HCHO_column_QF, fv_prod, fv_QF, prod_unit"
      ],
      "metadata": {
        "id": "zVJY6k5i3qat"
      },
      "execution_count": null,
      "outputs": []
    },
    {
      "cell_type": "markdown",
      "source": [
        "###2.2.2 function creating TEMPO HCHO granule polygon"
      ],
      "metadata": {
        "id": "Q5p9Tzafb5dz"
      }
    },
    {
      "cell_type": "code",
      "source": [
        "def TEMPO_L2_polygon(lat, lon, fv_geo):\n",
        "  nx = lon.shape[0]\n",
        "  ny = lon.shape[1]\n",
        "  print('granule has %3d scanlines by %4d pixels' %(nx, ny))\n",
        "\n",
        "  dpos = np.empty([0,2])\n",
        "\n",
        "  x_ind = np.empty([nx, ny], dtype = int) # creating array in x indices\n",
        "  for ix in range(nx): x_ind[ix, :] = ix # populating array in x indices\n",
        "  y_ind = np.empty([nx, ny], dtype = int)\n",
        "  for iy in range(ny): y_ind[:, iy] = iy # populating array in x indices\n",
        "\n",
        "  mask = (lon[ix, iy] != fv_geo)&(lat[ix, iy] != fv_geo)\n",
        "  if len(lon[mask]) == 0:\n",
        "    print('the granule is empty - no meaningful positions')\n",
        "    return dpos\n",
        "\n",
        "# right boundary\n",
        "  r_m = min(x_ind[mask].flatten())\n",
        "  local_mask = (lon[r_m, :] != fv_geo)&(lat[r_m, :] != fv_geo)\n",
        "  r_b = np.stack((lon[r_m, local_mask], lat[r_m, local_mask])).T\n",
        "\n",
        "# left boundary\n",
        "  l_m = max(x_ind[mask].flatten())\n",
        "  local_mask = (lon[l_m, :] != fv_geo)&(lat[l_m, :] != fv_geo)\n",
        "  l_b = np.stack((lon[l_m, local_mask], lat[l_m, local_mask])).T\n",
        "\n",
        "#top and bottom boundaries\n",
        "  t_b = np.empty([0,2])\n",
        "  b_b = np.empty([0,2])\n",
        "  for ix in range(r_m + 1, l_m):\n",
        "    local_mask = (lon[ix, :] != fv_geo)&(lat[ix, :] != fv_geo)\n",
        "    local_y_ind = y_ind[ix, local_mask]\n",
        "    y_ind_top = min(local_y_ind)\n",
        "    y_ind_bottom = max(local_y_ind)\n",
        "    t_b = np.append(t_b, [[lon[ix, y_ind_top], lat[ix, y_ind_top]]], axis=0)\n",
        "    b_b = np.append(b_b, [[lon[ix, y_ind_bottom], lat[ix, y_ind_bottom]]], axis=0)\n",
        "\n",
        "# combining right, top, left, and bottom boundaries together, going along the combined boundary counterclockwise\n",
        "  dpos = np.append(dpos, r_b[ : :-1, :], axis=0) # this adds right boundary, counterclockwise\n",
        "  dpos = np.append(dpos, t_b, axis=0) # this adds top boundary, counterclockwise\n",
        "  dpos = np.append(dpos, l_b, axis=0) # this adds left boundary, counterclockwise\n",
        "  dpos = np.append(dpos, b_b[ : :-1, :], axis=0) # this adds bottom boundary, counterclockwise\n",
        "\n",
        "  print('polygon shape: ',dpos.shape)\n",
        "\n",
        "  return dpos"
      ],
      "metadata": {
        "id": "RcfB9WJd4E8I"
      },
      "execution_count": null,
      "outputs": []
    },
    {
      "cell_type": "markdown",
      "source": [
        "##2.3 auxiliary functions to handle data"
      ],
      "metadata": {
        "id": "OkRA1M7PcIYx"
      }
    },
    {
      "cell_type": "markdown",
      "source": [
        "###2.3.1 function smoothing Pandora retievals and interpolating them onto TEMPO times of observations"
      ],
      "metadata": {
        "id": "AKzFo9EjcTzx"
      }
    },
    {
      "cell_type": "code",
      "source": [
        "# Pandora timeseries has significantly more data points then TEMPO and DSCOVR. It is also very noisy.\n",
        "# To make comparison easier, Pandora timeseries is interpolated to the moments of TEMPO observations.\n",
        "#\n",
        "# Interpolation is performed by the function defined below with the help of Gaussian smooting as follow:\n",
        "# x_int(t) = SUM(x_p(t_i)*wt(t_i, t)),\n",
        "#\n",
        "# wt(t_i, t) = exp(-(t - t_i)^2/(2 * sigma^2))/SUM(exp(-(t - t_i)^2/(2 * sigma^2))),\n",
        "#\n",
        "# where sums are taken over times t_i falling into time interval (t-dt_max, t+dt_max).\n",
        "#\n",
        "# Parameters dt_max and sigma can be chosen by the user.\n",
        "def gauss_interpolation(timeseries, new_times):\n",
        "#\n",
        "# function gauss_interpolation takes 2D array timeseries with function\n",
        "# to be interpolated and 1D array new_times containing times to which\n",
        "# the function is to be interpolated\n",
        "# arguments:\n",
        "#     timeseries - array with at least 2 columns,\n",
        "#                  1st column - times, 2nd (3rd, ...) column(s) - function to be interpolated\n",
        "#     new_times  - 1D array of times to which the function(s) to be interpolated\n",
        "#\n",
        "# parameters\n",
        "# dt_max = 0.0041666667 - 6 minutes expressed in days\n",
        "# sigma = 0.00041666667 - 36 seconds expressed in days\n",
        "\n",
        "  dt_max = 0.0041666667 # 6 minutes expressed in days\n",
        "  sigma = 0.00041666667 # 36 seconds expressed in days\n",
        "\n",
        "  nnt = len(new_times)\n",
        "  (nt, nfun) = timeseries.shape\n",
        "\n",
        "  timeseries_smooth = np.empty([0, nfun])\n",
        "\n",
        "  for new_time in new_times:\n",
        "    llim = new_time - dt_max\n",
        "    ulim = new_time + dt_max\n",
        "\n",
        "    timeseries_subset = timeseries[((timeseries[:, 0] < ulim)\\\n",
        "                                    & (timeseries[:, 0] > llim))]\n",
        "    if len(timeseries_subset) < 1: continue\n",
        "    t_delta = timeseries_subset[:, 0] - new_time\n",
        "    wt = np.exp(-t_delta**2/(2.*sigma**2))\n",
        "    wt = wt/np.sum(wt)\n",
        "\n",
        "    timeseries_smooth_loc = np.array([new_time])\n",
        "    for ifun in range(1, nfun):\n",
        "      timeseries_smooth_loc = np.append(timeseries_smooth_loc,\\\n",
        "                                        np.sum(timeseries_subset[:, ifun]*wt))\n",
        "\n",
        "    timeseries_smooth = np.append(timeseries_smooth,\\\n",
        "                                  np.array([timeseries_smooth_loc]), axis = 0)\n",
        "\n",
        "  return timeseries_smooth"
      ],
      "metadata": {
        "id": "Or7hNgjA4oUi"
      },
      "execution_count": null,
      "outputs": []
    },
    {
      "cell_type": "markdown",
      "source": [
        "###2.3.2 function computing linear regression with zero intercept"
      ],
      "metadata": {
        "id": "nNoGDd0MdP9Y"
      }
    },
    {
      "cell_type": "code",
      "source": [
        "# custom made function regress_0intercept takes vectors x and y\n",
        "# representing coordinates and function values at these coordinates\n",
        "# and returns slope of regression fit y = a*x\n",
        "# along with coefficient of determination\n",
        "def regress_0intercept(x, y):\n",
        "  success = False\n",
        "\n",
        "  if len(x) != len(y):\n",
        "    a = 0.\n",
        "    R2 = 0.\n",
        "\n",
        "  elif len(x) == 1:\n",
        "    if x[0] != 0.:\n",
        "      a = y[0]/x[0]\n",
        "      R2 = 1.\n",
        "      success = True\n",
        "    else:\n",
        "      if y[0] != 0.:\n",
        "        a = np.inf\n",
        "        R2 = 1.\n",
        "        success = True\n",
        "      else:\n",
        "        a = np.inf\n",
        "        R2 = 0.\n",
        "\n",
        "  else:\n",
        "    xy_sum = np.dot(x, y)\n",
        "    x2_sum = np.dot(x, x)\n",
        "    a = xy_sum/x2_sum\n",
        "\n",
        "    res_y = y - a*x\n",
        "    res_sum_2 = np.dot(res_y, res_y)\n",
        "    y2_sum = np.dot(y, y)\n",
        "    sum_tot_2 = y2_sum - len(y)*np.mean(y)**2\n",
        "    R2 = 1. - res_sum_2/sum_tot_2\n",
        "\n",
        "    success = True\n",
        "\n",
        "  return success, a, R2"
      ],
      "metadata": {
        "id": "R2-9qdRo5kih"
      },
      "execution_count": null,
      "outputs": []
    },
    {
      "cell_type": "markdown",
      "source": [
        "#Main code begins here"
      ],
      "metadata": {
        "id": "0aDnIkZVdu93"
      }
    },
    {
      "cell_type": "markdown",
      "source": [
        "#3 Establishing access to EarthData"
      ],
      "metadata": {
        "id": "vXy2ArJ93d9e"
      }
    },
    {
      "cell_type": "markdown",
      "source": [
        "##3.1 Logging in\n",
        "\n",
        "User needs to create an account at https://www.earthdata.nasa.gov/\n",
        "\n",
        "Function earthaccess.login prompts for EarthData login and password."
      ],
      "metadata": {
        "id": "8BnoNI0k3mi1"
      }
    },
    {
      "cell_type": "code",
      "source": [
        "auth = earthaccess.login(strategy=\"interactive\", persist=True)"
      ],
      "metadata": {
        "colab": {
          "base_uri": "https://localhost:8080/"
        },
        "outputId": "8ba5bd6a-74b6-4231-a13e-995361e30c4f",
        "id": "ytaf8mOZ5x7q"
      },
      "execution_count": null,
      "outputs": [
        {
          "output_type": "stream",
          "name": "stdout",
          "text": [
            "Enter your Earthdata Login username: alexrad71\n",
            "Enter your Earthdata password: ··········\n",
            "Persisting credentials to .netrc\n"
          ]
        }
      ]
    },
    {
      "cell_type": "markdown",
      "source": [
        "##3.2 Creating local directory"
      ],
      "metadata": {
        "id": "3FRuPwwg5x7r"
      }
    },
    {
      "cell_type": "code",
      "source": [
        "homeDir = os.path.expanduser(\"~\") + os.sep\n",
        "\n",
        "with open(homeDir + '.dodsrc', 'w') as file:\n",
        "    file.write('HTTP.COOKIEJAR={}.urs_cookies\\n'.format(homeDir))\n",
        "    file.write('HTTP.NETRC={}.netrc'.format(homeDir))\n",
        "    file.close()\n",
        "\n",
        "print('Saved .dodsrc to:', homeDir)\n",
        "\n",
        "# Set appropriate permissions for Linux/macOS\n",
        "if platform.system() != \"Windows\":\n",
        "    Popen('chmod og-rw ~/.netrc', shell=True)\n",
        "else:\n",
        "    # Copy dodsrc to working directory in Windows\n",
        "    shutil.copy2(homeDir + '.dodsrc', os.getcwd())\n",
        "    print('Copied .dodsrc to:', os.getcwd())"
      ],
      "metadata": {
        "colab": {
          "base_uri": "https://localhost:8080/"
        },
        "outputId": "b992a852-49c8-44e2-bc00-6537b6de38f7",
        "id": "G51uzF9E5x7r"
      },
      "execution_count": null,
      "outputs": [
        {
          "output_type": "stream",
          "name": "stdout",
          "text": [
            "Saved .dodsrc to: /root/\n"
          ]
        }
      ]
    },
    {
      "cell_type": "markdown",
      "source": [
        "#4 Working with Pandora data"
      ],
      "metadata": {
        "id": "adQX_ZDp5x7r"
      }
    },
    {
      "cell_type": "markdown",
      "source": [
        "##4.1 Discovering existing Pandora stations and selecting one of them"
      ],
      "metadata": {
        "id": "JU9ksvT_5x7r"
      }
    },
    {
      "cell_type": "code",
      "source": [
        "# Discovering existing Pandora stations and selecting one of them\n",
        "# Discovering available Pandora site.\n",
        "# Please bear in mind that some sites do not have HCHO data files\n",
        "print('gathering Pandora sites information')\n",
        "refs = read_pandora_web()\n",
        "\n",
        "pandora_site = take_pandora_sites(refs) # create list of Pandora sites of interest\n",
        "print('the following sites were selected')\n",
        "print(pandora_site)\n",
        "print('from the list of existing Pandora sites')\n",
        "\n",
        "# create a list of !AVAILABLE! Pandora files for the Pandora site\n",
        "pandora_files = []\n",
        "\n",
        "links = instrument_path(pandora_site)\n",
        "\n",
        "npfiles = 0\n",
        "\n",
        "for link in links:\n",
        "  pandora_fname = link.split('/')[-1]\n",
        "\n",
        "# check if file exists in the local directory, if not download from Pandora site\n",
        "  if not os.path.exists(pandora_fname):\n",
        "    print(pandora_fname,' does not exit in local directory, downloading from the web')\n",
        "    print(link)\n",
        "\n",
        "    pandora_fname, response_code = download(link)\n",
        "\n",
        "    if response_code == 200:\n",
        "      print('Pandora L2 file ', pandora_fname, ' has been downloaded')\n",
        "      npfiles = npfiles + 1\n",
        "      pandora_files.append(pandora_fname)\n",
        "    else:\n",
        "      print('Pandora L2 file ', link, ' does not exist')\n",
        "\n",
        "  else:\n",
        "    print(pandora_fname,' exits in local directory')\n",
        "    npfiles = npfiles + 1\n",
        "    pandora_files.append(pandora_fname)\n",
        "\n",
        "if npfiles == 0: # no files were found, STOP here\n",
        "  print('no files were found for Pandora site ', pandora_site, 'program terminated')\n",
        "  sys.exit()\n",
        "if npfiles > 1: # normally there should be only one file per site. if there are more - STOP\n",
        "  print('there are too many files for site ', pandora_site, '- STOP and investigate file names below. Program terminated')\n",
        "  for pandora_fname in pandora_files:\n",
        "    print(pandora_fname)\n",
        "  sys.exit()"
      ],
      "metadata": {
        "colab": {
          "base_uri": "https://localhost:8080/"
        },
        "id": "p4ha-IPH57jp",
        "outputId": "c198057f-75ca-411d-d3be-b4ab78e6dd95"
      },
      "execution_count": null,
      "outputs": [
        {
          "output_type": "stream",
          "name": "stdout",
          "text": [
            "gathering Pandora sites information\n",
            "please select a Pandora site name from the list\n",
            "Agam\n",
            "AldineTX\n",
            "AliceSprings\n",
            "Altzomoni\n",
            "ArlingtonTX\n",
            "Athens-NOA\n",
            "AtlantaGA-SouthDeKalb\n",
            "AtlantaGA\n",
            "AustinTX\n",
            "Bandung\n",
            "Bangkok\n",
            "Banting\n",
            "BayonneNJ\n",
            "Beijing-RADI\n",
            "BeltsvilleMD\n",
            "Berlin\n",
            "BlueHillMA\n",
            "BostonMA\n",
            "BoulderCO-NCAR\n",
            "BoulderCO\n",
            "Bremen\n",
            "BristolPA\n",
            "BronxNY\n",
            "Brussels-Uccle\n",
            "Bucharest\n",
            "BuenosAires\n",
            "BuffaloNY\n",
            "Busan\n",
            "Cabauw\n",
            "calibrationfiles\n",
            "CambridgeMA\n",
            "CameronLA\n",
            "CapeElizabethME\n",
            "ChapelHillNC\n",
            "CharlesCityVA\n",
            "ChiangMai\n",
            "ChicagoIL\n",
            "Cologne\n",
            "ComodoroRivadavia\n",
            "Cordoba\n",
            "CornwallCT\n",
            "Dalanzadgad\n",
            "Davos\n",
            "DearbornMI\n",
            "Dhaka\n",
            "Downsview\n",
            "EastProvidenceRI\n",
            "EdwardsCA\n",
            "Egbert\n",
            "Eureka-PEARL\n",
            "FairbanksAK\n",
            "Fajardo\n",
            "FortMcKay\n",
            "FortYatesND\n",
            "Fukuoka\n",
            "Gongju-KNU\n",
            "Granada\n",
            "GrandForksND\n",
            "GreenbeltMD\n",
            "HamptonVA-HU\n",
            "HamptonVA\n",
            "Helsinki\n",
            "HoustonTX-SanJacinto\n",
            "HoustonTX\n",
            "HuntsvilleAL\n",
            "Incheon-ESC\n",
            "Innsbruck\n",
            "IowaCityIA-WHS\n",
            "Islamabad-NUST\n",
            "Izana\n",
            "Juelich\n",
            "KenoshaWI\n",
            "Kobe\n",
            "Kosetice\n",
            "LaPorteTX\n",
            "LapwaiID\n",
            "LibertyTX\n",
            "Lindenberg\n",
            "LondonderryNH\n",
            "LynnMA\n",
            "MadisonCT\n",
            "ManhattanKS\n",
            "ManhattanNY-CCNY\n",
            "MaunaLoaHI\n",
            "MexicoCity-UNAM\n",
            "MexicoCity-Vallejo\n",
            "MiamiFL-FIU\n",
            "MountainViewCA\n",
            "Nagoya\n",
            "Nainital-ARIES\n",
            "NewBrunswickNJ\n",
            "NewHavenCT\n",
            "NewLondonCT\n",
            "NyAlesund\n",
            "OldFieldNY\n",
            "operationfiles\n",
            "Palau\n",
            "PhiladelphiaPA\n",
            "PittsburghPA\n",
            "Pontianak\n",
            "QueensNY\n",
            "RichmondCA\n",
            "Rome-IIA\n",
            "Rome-ISAC\n",
            "Rome-SAP\n",
            "SaltLakeCityUT-Hawthorne\n",
            "SaltLakeCityUT\n",
            "SanJoseCA\n",
            "Sapporo\n",
            "Seosan\n",
            "Seoul-SNU\n",
            "Seoul\n",
            "Singapore-NUS\n",
            "Songkhla\n",
            "SouthJordanUT\n",
            "StGeorge\n",
            "StonyPlain\n",
            "Suwon-USW\n",
            "SWDetroitMI\n",
            "Tel-Aviv\n",
            "Thessaloniki\n",
            "Tokyo-Sophia\n",
            "Tokyo-TMU\n",
            "Toronto-Scarborough\n",
            "Toronto-West\n",
            "Trollhaugen\n",
            "Tsukuba-NIES-West\n",
            "Tsukuba-NIES\n",
            "Tsukuba\n",
            "TucsonAZ\n",
            "TurlockCA\n",
            "Ulaanbaatar\n",
            "Ulsan\n",
            "Vientiane\n",
            "VirginiaBeachVA-CBBT\n",
            "WacoTX\n",
            "Wakkerstroom\n",
            "WallopsIslandVA\n",
            "Warsaw-UW\n",
            "WashingtonDC\n",
            "WestportCT\n",
            "WhittierCA\n",
            "Windsor-West\n",
            "WrightwoodCA\n",
            "Yokosuka\n",
            "Yongin\n",
            "Enter a name of a Pandora site: BoulderCO\n",
            "BoulderCO\n",
            "there are  2  site names, select one from\n",
            "BoulderCO-NCAR\n",
            "BoulderCO\n",
            "Enter an exact name of a Pandora site: BoulderCO\n",
            "site  BoulderCO was found and added to the list of sites \n",
            "the following sites were selected\n",
            "BoulderCO\n",
            "from the list of existing Pandora sites\n",
            "https://data.pandonia-global-network.org/BoulderCO/Pandora57s1/L2/Pandora57s1_BoulderCO_L2_rfus5p1-8.txt\n",
            "Pandora57s1_BoulderCO_L2_rfus5p1-8.txt  does not exit in local directory, downloading from the web\n",
            "https://data.pandonia-global-network.org/BoulderCO/Pandora57s1/L2/Pandora57s1_BoulderCO_L2_rfus5p1-8.txt\n",
            "Pandora L2 file  Pandora57s1_BoulderCO_L2_rfus5p1-8.txt  has been downloaded\n"
          ]
        }
      ]
    },
    {
      "cell_type": "markdown",
      "source": [
        "##4.2 Selecting timeframe of interest\n",
        "\n",
        "It is going to be common for both instruments"
      ],
      "metadata": {
        "id": "-cqNd6lm6A4Q"
      }
    },
    {
      "cell_type": "code",
      "source": [
        "print('enter period of interest, start and end dates, in the form YYYYMMDD')\n",
        "datestamp_ini = input('enter start date of interest ')\n",
        "datestamp_fin = input('enter end date of interest ')\n",
        "\n",
        "start_date = int(datestamp_ini)\n",
        "end_date = int(datestamp_fin)\n",
        "\n",
        "yyyy_ini = start_date//10000\n",
        "mm_ini = (start_date//100 - yyyy_ini*100)\n",
        "dd_ini = (start_date - yyyy_ini*10000 - mm_ini*100)\n",
        "\n",
        "yyyy_fin = end_date//10000\n",
        "mm_fin = (end_date//100 - yyyy_fin*100)\n",
        "dd_fin = (end_date - yyyy_fin*10000 - mm_fin*100)\n",
        "print(yyyy_ini, mm_ini, dd_ini, yyyy_fin, mm_fin, dd_fin)\n",
        "\n",
        "date_start = str('%4.4i-%2.2i-%2.2i 00:00:00' %(yyyy_ini, mm_ini, dd_ini))\n",
        "date_end = str('%4.4i-%2.2i-%2.2i 23:59:59' %(yyyy_fin, mm_fin, dd_fin))"
      ],
      "metadata": {
        "colab": {
          "base_uri": "https://localhost:8080/"
        },
        "id": "keDJUzxA6rdW",
        "outputId": "01a61ce0-b6cb-4520-8903-6acc38432efc"
      },
      "execution_count": null,
      "outputs": [
        {
          "output_type": "stream",
          "name": "stdout",
          "text": [
            "enter period of interest, start and end dates, in the form YYYYMMDD\n",
            "enter start date of interest 20230901\n",
            "enter end date of interest 20230901\n",
            "2023 9 1 2023 9 1\n"
          ]
        }
      ]
    },
    {
      "cell_type": "markdown",
      "source": [
        "##4.3 Reading Pandora file within selected timeframe and creating point of interest"
      ],
      "metadata": {
        "id": "mTFV2Fkadj8e"
      }
    },
    {
      "cell_type": "code",
      "source": [
        "pandora_file = pandora_files[0]\n",
        "lat, lon, POI_name, Pandora_data = read_Pandora_HCHO_rfus5p1_8_v2(pandora_file, start_date, end_date)\n",
        "\n",
        "if lat == -999.:\n",
        "  print('error reading pandora file ', pandora_file, 'program terminated')\n",
        "  sys.exit()\n",
        "\n",
        "POI = np.array([lat, lon])\n",
        "\n",
        "# print # of points in Pandora timeseries\n",
        "n_Pandora_data = len(Pandora_data)\n",
        "print(n_Pandora_data,\\\n",
        "' Pandora measurements found within period of interes between',\\\n",
        "date_start, 'and', date_end)\n",
        "if n_Pandora_data == 0:\n",
        "  print('program terminated')\n",
        "  sys.exit()"
      ],
      "metadata": {
        "colab": {
          "base_uri": "https://localhost:8080/"
        },
        "id": "x7gLpKIB7cuZ",
        "outputId": "cdba7f07-0bfb-402d-ec52-591b5ff0be75"
      },
      "execution_count": null,
      "outputs": [
        {
          "output_type": "stream",
          "name": "stdout",
          "text": [
            "location name  BoulderCO\n",
            "location latitude  39.99\n",
            "location longitude  -105.26\n",
            "101  Pandora measurements found within period of interes between 2023-09-01 00:00:00 and 2023-09-01 23:59:59\n"
          ]
        }
      ]
    },
    {
      "cell_type": "markdown",
      "source": [
        "##4.4 Setting TEMPO name constants and writing Pandora timeseries to a file"
      ],
      "metadata": {
        "id": "3wvhtsq5kXgZ"
      }
    },
    {
      "cell_type": "code",
      "source": [
        "# Setting TEMPO name constants\n",
        "short_name = 'TEMPO_HCHO_L2' # collection name to search for in the EarthData\n",
        "out_Q = 'tot_HCHO_col' # name of the output quantity with unit\n",
        "out_Q_unit = out_Q+',_molecules/cm^2' # name of the output quantity with unit\n",
        "\n",
        "# write Pandora timeseries to a file\n",
        "POI_name_ = POI_name.replace(' ','_')\n",
        "Pandora_out = open(out_Q+'_Pandora_'+datestamp_ini+'_'+datestamp_fin+'_'\\\n",
        "+POI_name_+'_'+str('%08.4fN_%08.4fW.txt' %(POI[0], -POI[1])), 'w')\n",
        "for line in Pandora_data:\n",
        "  Pandora_out.write(str('%4.4i %2.2i %2.2i %2.2i %2.2i %4.1f %12.4e %12.4e\\n'\\\n",
        " %(line[0], line[1], line[2], line[3], line[4], line[5], line[6], line[7])))\n",
        "Pandora_out.close()"
      ],
      "metadata": {
        "id": "Za0rC_qA7oiN"
      },
      "execution_count": null,
      "outputs": []
    },
    {
      "cell_type": "markdown",
      "source": [
        "#5 Working with TEMPO data"
      ],
      "metadata": {
        "id": "VGfpNlrWei36"
      }
    },
    {
      "cell_type": "markdown",
      "source": [
        "##5.1 Searching TEMPO data files within 0.5 degree range around the POI (position of the Pandora station)"
      ],
      "metadata": {
        "id": "qO9NEF61jlcy"
      }
    },
    {
      "cell_type": "code",
      "source": [
        "# Searching TEMPO data files within 0.5 degree range around the POI (position of the Pandora station)\n",
        "POI_lat = POI[0]\n",
        "POI_lon = POI[1]\n",
        "bbox = (POI_lon - 0.5, POI_lat - 0.5, POI_lon + 0.5, POI_lat + 0.5)\n",
        "\n",
        "for version in ['V02', 'V01']:\n",
        "  POI_results = earthaccess.search_data(short_name = short_name\\\n",
        "                                      , version = version\\\n",
        "                                      , temporal = (date_start, date_end)\\\n",
        "                                      , bounding_box = bbox)\n",
        "  n_gr = len(POI_results)\n",
        "  if n_gr == 0: continue\n",
        "  print('total number of TEMPO version ', version,' granules found for POI', POI_name, \\\n",
        "        '\\nwithin period of interes between', date_start, 'and', date_end, ' is', n_gr)\n",
        "  break\n",
        "\n",
        "if n_gr == 0:\n",
        "  print('program terminated')\n",
        "  sys.exit()"
      ],
      "metadata": {
        "colab": {
          "base_uri": "https://localhost:8080/"
        },
        "id": "nKcGCvxX7yad",
        "outputId": "b05c7aab-7312-4cc0-d55e-0967d6702714"
      },
      "execution_count": null,
      "outputs": [
        {
          "output_type": "stream",
          "name": "stdout",
          "text": [
            "Granules found: 24\n",
            "total number of TEMPO version  V02  granules found for POI BoulderCO \n",
            "within period of interes between 2023-09-01 00:00:00 and 2023-09-01 23:59:59  is 24\n"
          ]
        }
      ]
    },
    {
      "cell_type": "markdown",
      "source": [
        "##5.2 Printing explicit links to the granules and downloading the files"
      ],
      "metadata": {
        "id": "OvC5eZRhk7Xz"
      }
    },
    {
      "cell_type": "code",
      "source": [
        "granule_links = []\n",
        "for result in POI_results: granule_links.append(result['umm']['RelatedUrls'][0]['URL'])\n",
        "for granule_link in granule_links: print(granule_link)\n",
        "\n",
        "# Downloading TEMPO data files\n",
        "downloaded_files = earthaccess.download(\n",
        "    POI_results,\n",
        "    local_path='.')\n",
        "\n",
        "# Checking whether all TEMPO data files have been downloaded\n",
        "for granule_link in granule_links:\n",
        "  TEMPO_fname = granule_link.split('/')[-1]\n",
        "# check if file exists in the local directory\n",
        "  if not os.path.exists(TEMPO_fname):\n",
        "    print(TEMPO_fname, 'does not exist in local directory')\n",
        "# repeat attempt to download\n",
        "    downloaded_files = earthaccess.download(granule_link,\n",
        "                                            local_path='.')\n",
        "# if file still does not exist in the directory, remove its link from the list of links\n",
        "    if not os.path.exists(TEMPO_fname): granule_links.remove(granule_link)"
      ],
      "metadata": {
        "colab": {
          "base_uri": "https://localhost:8080/",
          "height": 547,
          "referenced_widgets": [
            "1ade5214d9934418b94d8048886fa34f",
            "979c079b73fb4629a73eaac824c8b584",
            "031bec658a8242f19fb1d45909f31351",
            "ce6c51c3b89e4e12a7a8dc10e9dc8b32",
            "c5e13c793fc74599ae1ffbe00144edf3",
            "9b8cb87d0a774b1d836191dacc66e6bf",
            "037c73558dcc40d5a7c120d7047fc4dc",
            "f986d11d864b49799802d97acf922b33",
            "a01cdb7d820441c79bbaee7f0cf886d9",
            "3ba5e8c95a3c47108e9347846e3bacad",
            "98da4c74db074ca483461d02f85f9a33",
            "9906d2de4cab4d6ba4fb64fa15fbcaff",
            "7dbc55809000484798185222601f6e66",
            "64c4adcf79b54d3bb7d8040ae7dd5e9a",
            "cde073d5694a49a49174b2971f9c1284",
            "684b5de7631f4f38a6c68c8c57c6ba0d",
            "df81a12dbd3b4d8a944d8fc8afa47d04",
            "cd244181c0da4dff91108d820a270c88",
            "ff014766ab184911a51c6ced48b2eab7",
            "4ed620c5d2554fd2b4ba66e52454e647",
            "0e7375c5bfce498a902df7b5953548e8",
            "80daa2d21dcc4d0bae44acd1864d21d7",
            "1d086d1060b04605b7d2c5b5d7bc7122",
            "760f35818d0d49c6819f16475d4628b9",
            "5f0031e946794f6e908fee59e96f458c",
            "5a3239298d2e4a25afd08bfbfcf15469",
            "763f98ba55d04481af2981a34181182a",
            "9a4806e861cf4ba4b97ca8f0326f9f16",
            "2bee1c0ba74444d1897c573fe5572021",
            "b919a8789d9940e88f3b4d151714917b",
            "c57e180b9d774fe2842e6ca78fc75697",
            "a85bc2be580d45b3af2d7fab8b27175b",
            "290f5a45924040959f27dba901b56bbc"
          ]
        },
        "id": "Y17Rm0fV8KB8",
        "outputId": "dcff20e9-6b0f-47dc-8f76-a43cb1e9ff11"
      },
      "execution_count": null,
      "outputs": [
        {
          "output_type": "stream",
          "name": "stdout",
          "text": [
            "https://data.asdc.earthdata.nasa.gov/asdc-prod-protected/TEMPO/TEMPO_HCHO_L2_V02/2023.09.01/TEMPO_HCHO_L2_V02_20230901T001521Z_S018G02.nc\n",
            "https://data.asdc.earthdata.nasa.gov/asdc-prod-protected/TEMPO/TEMPO_HCHO_L2_V02/2023.09.01/TEMPO_HCHO_L2_V02_20230901T002134Z_S018G03.nc\n",
            "https://data.asdc.earthdata.nasa.gov/asdc-prod-protected/TEMPO/TEMPO_HCHO_L2_V02/2023.09.01/TEMPO_HCHO_L2_V02_20230901T004644Z_S019G02.nc\n",
            "https://data.asdc.earthdata.nasa.gov/asdc-prod-protected/TEMPO/TEMPO_HCHO_L2_V02/2023.09.01/TEMPO_HCHO_L2_V02_20230901T005257Z_S019G03.nc\n",
            "https://data.asdc.earthdata.nasa.gov/asdc-prod-protected/TEMPO/TEMPO_HCHO_L2_V02/2023.09.01/TEMPO_HCHO_L2_V02_20230901T011807Z_S020G02.nc\n",
            "https://data.asdc.earthdata.nasa.gov/asdc-prod-protected/TEMPO/TEMPO_HCHO_L2_V02/2023.09.01/TEMPO_HCHO_L2_V02_20230901T012420Z_S020G03.nc\n",
            "https://data.asdc.earthdata.nasa.gov/asdc-prod-protected/TEMPO/TEMPO_HCHO_L2_V02/2023.09.01/TEMPO_HCHO_L2_V02_20230901T144150Z_S007G07.nc\n",
            "https://data.asdc.earthdata.nasa.gov/asdc-prod-protected/TEMPO/TEMPO_HCHO_L2_V02/2023.09.01/TEMPO_HCHO_L2_V02_20230901T144803Z_S007G08.nc\n",
            "https://data.asdc.earthdata.nasa.gov/asdc-prod-protected/TEMPO/TEMPO_HCHO_L2_V02/2023.09.01/TEMPO_HCHO_L2_V02_20230901T154421Z_S008G07.nc\n",
            "https://data.asdc.earthdata.nasa.gov/asdc-prod-protected/TEMPO/TEMPO_HCHO_L2_V02/2023.09.01/TEMPO_HCHO_L2_V02_20230901T155034Z_S008G08.nc\n",
            "https://data.asdc.earthdata.nasa.gov/asdc-prod-protected/TEMPO/TEMPO_HCHO_L2_V02/2023.09.01/TEMPO_HCHO_L2_V02_20230901T165942Z_S009G09.nc\n",
            "https://data.asdc.earthdata.nasa.gov/asdc-prod-protected/TEMPO/TEMPO_HCHO_L2_V02/2023.09.01/TEMPO_HCHO_L2_V02_20230901T182132Z_S010G09.nc\n",
            "https://data.asdc.earthdata.nasa.gov/asdc-prod-protected/TEMPO/TEMPO_HCHO_L2_V02/2023.09.01/TEMPO_HCHO_L2_V02_20230901T195425Z_S011G07.nc\n",
            "https://data.asdc.earthdata.nasa.gov/asdc-prod-protected/TEMPO/TEMPO_HCHO_L2_V02/2023.09.01/TEMPO_HCHO_L2_V02_20230901T200038Z_S011G08.nc\n",
            "https://data.asdc.earthdata.nasa.gov/asdc-prod-protected/TEMPO/TEMPO_HCHO_L2_V02/2023.09.01/TEMPO_HCHO_L2_V02_20230901T205656Z_S012G07.nc\n",
            "https://data.asdc.earthdata.nasa.gov/asdc-prod-protected/TEMPO/TEMPO_HCHO_L2_V02/2023.09.01/TEMPO_HCHO_L2_V02_20230901T210309Z_S012G08.nc\n",
            "https://data.asdc.earthdata.nasa.gov/asdc-prod-protected/TEMPO/TEMPO_HCHO_L2_V02/2023.09.01/TEMPO_HCHO_L2_V02_20230901T215927Z_S013G07.nc\n",
            "https://data.asdc.earthdata.nasa.gov/asdc-prod-protected/TEMPO/TEMPO_HCHO_L2_V02/2023.09.01/TEMPO_HCHO_L2_V02_20230901T220540Z_S013G08.nc\n",
            "https://data.asdc.earthdata.nasa.gov/asdc-prod-protected/TEMPO/TEMPO_HCHO_L2_V02/2023.09.01/TEMPO_HCHO_L2_V02_20230901T223053Z_S015G02.nc\n",
            "https://data.asdc.earthdata.nasa.gov/asdc-prod-protected/TEMPO/TEMPO_HCHO_L2_V02/2023.09.01/TEMPO_HCHO_L2_V02_20230901T223706Z_S015G03.nc\n",
            "https://data.asdc.earthdata.nasa.gov/asdc-prod-protected/TEMPO/TEMPO_HCHO_L2_V02/2023.09.01/TEMPO_HCHO_L2_V02_20230901T230216Z_S016G02.nc\n",
            "https://data.asdc.earthdata.nasa.gov/asdc-prod-protected/TEMPO/TEMPO_HCHO_L2_V02/2023.09.01/TEMPO_HCHO_L2_V02_20230901T230829Z_S016G03.nc\n",
            "https://data.asdc.earthdata.nasa.gov/asdc-prod-protected/TEMPO/TEMPO_HCHO_L2_V02/2023.09.01/TEMPO_HCHO_L2_V02_20230901T233339Z_S017G02.nc\n",
            "https://data.asdc.earthdata.nasa.gov/asdc-prod-protected/TEMPO/TEMPO_HCHO_L2_V02/2023.09.01/TEMPO_HCHO_L2_V02_20230901T233952Z_S017G03.nc\n",
            " Getting 24 granules, approx download size: 0.0 GB\n"
          ]
        },
        {
          "output_type": "display_data",
          "data": {
            "text/plain": [
              "QUEUEING TASKS | :   0%|          | 0/24 [00:00<?, ?it/s]"
            ],
            "application/vnd.jupyter.widget-view+json": {
              "version_major": 2,
              "version_minor": 0,
              "model_id": "1ade5214d9934418b94d8048886fa34f"
            }
          },
          "metadata": {}
        },
        {
          "output_type": "display_data",
          "data": {
            "text/plain": [
              "PROCESSING TASKS | :   0%|          | 0/24 [00:00<?, ?it/s]"
            ],
            "application/vnd.jupyter.widget-view+json": {
              "version_major": 2,
              "version_minor": 0,
              "model_id": "9906d2de4cab4d6ba4fb64fa15fbcaff"
            }
          },
          "metadata": {}
        },
        {
          "output_type": "display_data",
          "data": {
            "text/plain": [
              "COLLECTING RESULTS | :   0%|          | 0/24 [00:00<?, ?it/s]"
            ],
            "application/vnd.jupyter.widget-view+json": {
              "version_major": 2,
              "version_minor": 0,
              "model_id": "1d086d1060b04605b7d2c5b5d7bc7122"
            }
          },
          "metadata": {}
        }
      ]
    },
    {
      "cell_type": "markdown",
      "source": [
        "##5.3 Compiling TEMPO formaldehyde column time series"
      ],
      "metadata": {
        "id": "kPyYwF-E7Qiv"
      }
    },
    {
      "cell_type": "code",
      "source": [
        "days = [31, 28, 31, 30, 31, 30, 31, 31, 30, 31, 30, 31]\n",
        "\n",
        "fout_noFV = open(out_Q+'_noFV_'+datestamp_ini+'_'+datestamp_fin+'_'\\\n",
        "+POI_name_+'_'+str('%08.4fN_%08.4fW.txt' %(POI[0], -POI[1])), 'w')\n",
        "fout_noFV.write('timeseries of '+out_Q+' at '\\\n",
        "+POI_name+' '+str('%08.4fN %08.4fW' %(POI[0], -POI[1]))+'\\n')\n",
        "fout_noFV.write('yyyy mm dd hh mn ss '+out_Q_unit+'\\n')\n",
        "\n",
        "fout_noneg = open(out_Q+'_noneg_'+datestamp_ini+'_'+datestamp_fin+'_'\\\n",
        "+POI_name_+'_'+str('%08.4fN_%08.4fW.txt' %(POI[0], -POI[1])), 'w')\n",
        "fout_noneg.write('timeseries of '+out_Q+' at '\\\n",
        "+POI_name+' '+str('%08.4fN %08.4fW' %(POI[0], -POI[1]))+'\\n')\n",
        "fout_noneg.write('yyyy mm dd hh mn ss '+out_Q_unit+'\\n')\n",
        "\n",
        "for granule_link in granule_links:\n",
        "  last_slash_ind = granule_link.rfind('/')\n",
        "  fname = granule_link[last_slash_ind+1 : ]\n",
        "  print('\\n', fname)\n",
        "\n",
        "  lat, lon, fv_geo, time, total_HCHO_column, total_HCHO_column_unc,\\\n",
        "total_HCHO_column_QF, fv_prod, fv_QF, prod_unit = read_TEMPO_HCHO_L2(fname)\n",
        "\n",
        "  if isinstance(lat, float): continue\n",
        "\n",
        "  polygon = TEMPO_L2_polygon(lat, lon, fv_geo)\n",
        "\n",
        "  coords_poly = list(polygon)\n",
        "  poly = Polygon(coords_poly)\n",
        "\n",
        "  nx = lon.shape[0]\n",
        "  ny = lon.shape[1]\n",
        "\n",
        "# getting time from the granule filename\n",
        "  Tind = fname.rfind('T')\n",
        "  yyyy= int(fname[Tind-8 : Tind-4])\n",
        "  mm = int(fname[Tind-4 : Tind-2])\n",
        "  dd = int(fname[Tind-2 : Tind])\n",
        "  hh = int(fname[Tind+1 : Tind+3])\n",
        "  mn = int(fname[Tind+3 : Tind+5])\n",
        "  ss = float(fname[Tind+5 : Tind+7])\n",
        "\n",
        "# check whether POI is in the granule. If not - move to the next granule\n",
        "  pp = np.array([POI[1], POI[0]])\n",
        "  p = Point(pp) # POI[0] - latitudes, POI[1] - longitudes\n",
        "  if not p.within(poly):\n",
        "    print('point', POI[0], POI[1], 'is not within the granule polygon' )\n",
        "    continue\n",
        "  print('point', POI[0], POI[1], 'is within the granule polygon' )\n",
        "\n",
        "  POI_found = False\n",
        "  for ix in range(nx-1):\n",
        "    for iy in range(ny-1):\n",
        "      if lon[ix, iy] == fv_geo: continue\n",
        "      if lat[ix, iy] == fv_geo: continue\n",
        "      if lon[ix, iy+1] == fv_geo: continue\n",
        "      if lat[ix, iy+1] == fv_geo: continue\n",
        "      if lon[ix+1, iy+1] == fv_geo: continue\n",
        "      if lat[ix+1, iy+1] == fv_geo: continue\n",
        "      if lon[ix+1, iy] == fv_geo: continue\n",
        "      if lat[ix+1, iy] == fv_geo: continue\n",
        "\n",
        "      coords_poly_loc = [[lon[ix, iy], lat[ix, iy]], [lon[ix, iy+1], lat[ix, iy+1]] \\\n",
        "                   , [lon[ix+1, iy+1], lat[ix+1, iy+1]], [lon[ix+1, iy], lat[ix+1, iy]]]\n",
        "      poly_loc = Polygon(coords_poly_loc)\n",
        "\n",
        "      if p.within(poly_loc):\n",
        "        print('scanl pixel latitude    longitude   totHCHO_col totHCHO_col_unc totHCHO_col_QF')\n",
        "        for scl in range(ix, ix+2, 1):\n",
        "          for pix in range(iy, iy+2, 1):\n",
        "            print(\"  %3d  %4d %9.6f %10.6f   %11.4e     %11.4e %5i\"\\\n",
        " %(scl, pix, lat[scl, pix], lon[scl, pix]\\\n",
        ", total_HCHO_column[scl, pix], total_HCHO_column_unc[scl, pix], total_HCHO_column_QF[scl, pix]))\n",
        "\n",
        "        POI_found = True\n",
        "        print('POI', POI_name, 'at', POI[0], POI[1], ' found')\n",
        "\n",
        "        total_HCHO_column_loc = np.array([total_HCHO_column[ix, iy],\\\n",
        "                                         total_HCHO_column[ix, iy+1],\\\n",
        "                                         total_HCHO_column[ix+1, iy+1],\\\n",
        "                                         total_HCHO_column[ix+1, iy]])\n",
        "        total_HCHO_column_unc_loc = np.array([total_HCHO_column_unc[ix, iy],\\\n",
        "                                             total_HCHO_column_unc[ix, iy+1],\\\n",
        "                                             total_HCHO_column_unc[ix+1, iy+1],\\\n",
        "                                             total_HCHO_column_unc[ix+1, iy]])\n",
        "        total_HCHO_column_QF_loc = np.array([total_HCHO_column_QF[ix, iy],\\\n",
        "                                            total_HCHO_column_QF[ix, iy+1],\\\n",
        "                                            total_HCHO_column_QF[ix+1, iy+1],\\\n",
        "                                            total_HCHO_column_QF[ix+1, iy]])\n",
        "        lat_loc = np.array([lat[ix, iy], lat[ix, iy+1],\\\n",
        "                            lat[ix+1, iy+1], lat[ix+1, iy]])\n",
        "        lon_loc = np.array([lon[ix, iy], lon[ix, iy+1],\\\n",
        "                            lon[ix+1, iy+1], lon[ix+1, iy]])\n",
        "        mask_noFV  = (total_HCHO_column_loc != fv_prod)&\\\n",
        "                     (total_HCHO_column_unc_loc != fv_prod)&\\\n",
        "                     (total_HCHO_column_QF_loc == 0)\n",
        "        mask_noneg = (total_HCHO_column_loc > 0.)&\\\n",
        "                     (total_HCHO_column_unc_loc != fv_prod)&\\\n",
        "                     (total_HCHO_column_QF_loc == 0)\n",
        "\n",
        "        points_noFV  = np.column_stack((lon_loc[mask_noFV], lat_loc[mask_noFV]))\n",
        "        points_noneg = np.column_stack((lon_loc[mask_noneg], lat_loc[mask_noneg]))\n",
        "        ff_noFV  = total_HCHO_column_loc[mask_noFV]\n",
        "        ff_noneg = total_HCHO_column_loc[mask_noneg]\n",
        "        ff_unc_noFV  = total_HCHO_column_unc_loc[mask_noFV]\n",
        "        ff_unc_noneg = total_HCHO_column_unc_loc[mask_noneg]\n",
        "\n",
        "        if ff_noFV.shape[0] == 0:\n",
        "          continue\n",
        "        elif ff_noFV.shape[0] < 4:\n",
        "          total_HCHO_column_noFV = np.mean(ff_noFV)\n",
        "          total_HCHO_column_unc_noFV = np.mean(ff_unc_noFV)\n",
        "        elif ff_noFV.shape[0] == 4:\n",
        "          total_HCHO_column_noFV = griddata(points_noFV, ff_noFV, pp,\\\n",
        "method='linear', fill_value=-1., rescale=False)[0]\n",
        "          total_HCHO_column_unc_noFV = griddata(points_noFV, ff_unc_noFV, pp,\\\n",
        "method='linear', fill_value=-1., rescale=False)[0]\n",
        "\n",
        "        if ff_noneg.shape[0] == 0:\n",
        "          continue\n",
        "        elif ff_noneg.shape[0] < 4:\n",
        "          total_HCHO_column_noneg = np.mean(ff_noneg)\n",
        "          total_HCHO_column_unc_noneg = np.mean(ff_unc_noneg)\n",
        "        elif ff_noneg.shape[0] == 4:\n",
        "          total_HCHO_column_noneg = griddata(points_noneg, ff_noneg, pp,\\\n",
        "method='linear', fill_value=-1., rescale=False)[0]\n",
        "          total_HCHO_column_unc_noneg = griddata(points_noneg, ff_unc_noneg, pp,\\\n",
        "method='linear', fill_value=-1., rescale=False)[0]\n",
        "\n",
        "# handling time first:\n",
        "        delta_t = (time[ix+1] + time[ix])*0.5 - time[0]\n",
        "        ss = ss + delta_t\n",
        "        if ss >= 60.:\n",
        "          delta_mn = int(ss/60.)\n",
        "          ss = ss - 60.*delta_mn\n",
        "          mn = mn + delta_mn\n",
        "          if mn >= 60:\n",
        "            mn = mn - 60\n",
        "            hh = hh + 1\n",
        "            if hh == 24:\n",
        "              hh = hh - 24\n",
        "              dd = dd + 1\n",
        "              day_month = days[mm]\n",
        "              if (yyyy//4)*4 == yyyy and mm == 2: day_month = day_month + 1\n",
        "              if dd > day_month:\n",
        "                dd = 1\n",
        "                mm = mm + 1\n",
        "                if mm > 12:\n",
        "                  mm = 1\n",
        "                  yyyy = yyyy + 1\n",
        "\n",
        "        fout_noFV.write(str('%4.4i %2.2i %2.2i %2.2i %2.2i %2.2i %10.3e %10.3e '\\\n",
        " %(yyyy, mm, dd, hh, mn, ss, total_HCHO_column_noFV, total_HCHO_column_unc_noFV)))\n",
        "        fout_noFV.write(str('%9.4fN %9.4fW %10.3e %10.3e '\\\n",
        " %(lat[ix, iy], -lon[ix, iy],\\\n",
        "total_HCHO_column[ix, iy], total_HCHO_column_unc[ix, iy])))\n",
        "        fout_noFV.write(str('%9.4fN %9.4fW %10.3e %10.3e '\\\n",
        " %(lat[ix, iy+1], -lon[ix, iy+1],\\\n",
        "total_HCHO_column[ix, iy+1], total_HCHO_column_unc[ix, iy+1])))\n",
        "        fout_noFV.write(str('%9.4fN %9.4fW %10.3e %10.3e '\\\n",
        " %(lat[ix+1, iy+1], -lon[ix+1, iy+1],\\\n",
        "total_HCHO_column[ix+1, iy+1], total_HCHO_column_unc[ix+1, iy+1])))\n",
        "        fout_noFV.write(str('%9.4fN %9.4fW %10.3e %10.3e\\n'\\\n",
        " %(lat[ix+1, iy], -lon[ix+1, iy],\\\n",
        "total_HCHO_column[ix+1, iy], total_HCHO_column_unc[ix+1, iy])))\n",
        "\n",
        "        fout_noneg.write(str('%4.4i %2.2i %2.2i %2.2i %2.2i %2.2i %10.3e %10.3e '\\\n",
        " %(yyyy, mm, dd, hh, mn, ss, total_HCHO_column_noneg, total_HCHO_column_unc_noneg)))\n",
        "        fout_noneg.write(str('%9.4fN %9.4fW %10.3e %10.3e '\\\n",
        " %(lat[ix, iy], -lon[ix, iy],\\\n",
        "total_HCHO_column[ix, iy], total_HCHO_column_unc[ix, iy])))\n",
        "        fout_noneg.write(str('%9.4fN %9.4fW %10.3e %10.3e '\\\n",
        " %(lat[ix, iy+1], -lon[ix, iy+1],\\\n",
        "total_HCHO_column[ix, iy+1], total_HCHO_column_unc[ix, iy+1])))\n",
        "        fout_noneg.write(str('%9.4fN %9.4fW %10.3e %10.3e '\\\n",
        " %(lat[ix+1, iy+1], -lon[ix+1, iy+1],\\\n",
        "total_HCHO_column[ix+1, iy+1], total_HCHO_column_unc[ix+1, iy+1])))\n",
        "        fout_noneg.write(str('%9.4fN %9.4fW %10.3e %10.3e\\n'\\\n",
        " %(lat[ix+1, iy], -lon[ix+1, iy],\\\n",
        "total_HCHO_column[ix+1, iy], total_HCHO_column_unc[ix+1, iy])))\n",
        "\n",
        "        break\n",
        "\n",
        "    if POI_found: break\n",
        "\n",
        "fout_noFV.close()\n",
        "fout_noneg.close()"
      ],
      "metadata": {
        "colab": {
          "base_uri": "https://localhost:8080/"
        },
        "id": "rEaA_LVX8RWM",
        "outputId": "e587ebfc-2d9b-4fab-e915-54ca33e84104"
      },
      "execution_count": null,
      "outputs": [
        {
          "output_type": "stream",
          "name": "stdout",
          "text": [
            "\n",
            " TEMPO_HCHO_L2_V02_20230901T001521Z_S018G02.nc\n",
            "granule has 123 scanlines by 2048 pixels\n",
            "polygon shape:  (4338, 2)\n",
            "point 39.99 -105.26 is not within the granule polygon\n",
            "\n",
            " TEMPO_HCHO_L2_V02_20230901T002134Z_S018G03.nc\n",
            "granule has 123 scanlines by 2048 pixels\n",
            "polygon shape:  (4338, 2)\n",
            "point 39.99 -105.26 is within the granule polygon\n",
            "scanl pixel latitude    longitude   totHCHO_col totHCHO_col_unc totHCHO_col_QF\n",
            "    4   696 40.003437 -105.259621   -2.5484e+15      8.7421e+15     0\n",
            "    4   697 39.982582 -105.254410    4.7104e+15      2.1058e+16     0\n",
            "    5   696 40.003002 -105.315849   -3.5717e+15      1.0729e+16     0\n",
            "    5   697 39.978489 -105.308716    2.5923e+15      9.5910e+15     0\n",
            "POI BoulderCO at 39.99 -105.26  found\n",
            "\n",
            " TEMPO_HCHO_L2_V02_20230901T004644Z_S019G02.nc\n",
            "granule has 123 scanlines by 2048 pixels\n",
            "polygon shape:  (4338, 2)\n",
            "point 39.99 -105.26 is not within the granule polygon\n",
            "\n",
            " TEMPO_HCHO_L2_V02_20230901T005257Z_S019G03.nc\n",
            "granule has 123 scanlines by 2048 pixels\n",
            "polygon shape:  (4338, 2)\n",
            "point 39.99 -105.26 is within the granule polygon\n",
            "scanl pixel latitude    longitude   totHCHO_col totHCHO_col_unc totHCHO_col_QF\n",
            "    3   696 39.998501 -105.239624   -4.8035e+15      2.3895e+16     0\n",
            "    3   697 39.977676 -105.234436    4.5779e+16      2.3956e+16     0\n",
            "    4   696 39.997520 -105.295349   -1.1803e+15      1.6124e+16     0\n",
            "    4   697 39.974567 -105.289032    4.4780e+16      1.8297e+16     0\n",
            "POI BoulderCO at 39.99 -105.26  found\n",
            "\n",
            " TEMPO_HCHO_L2_V02_20230901T011807Z_S020G02.nc\n",
            "granule has 123 scanlines by 2048 pixels\n",
            "polygon shape:  (4338, 2)\n",
            "point 39.99 -105.26 is not within the granule polygon\n",
            "\n",
            " TEMPO_HCHO_L2_V02_20230901T012420Z_S020G03.nc\n",
            "granule has 123 scanlines by 2048 pixels\n",
            "polygon shape:  (4338, 2)\n",
            "point 39.99 -105.26 is within the granule polygon\n",
            "scanl pixel latitude    longitude   totHCHO_col totHCHO_col_unc totHCHO_col_QF\n",
            "    3   696 39.996067 -105.212311   -1.0000e+30     -1.0000e+30 -30000\n",
            "    3   697 39.975136 -105.207077   -1.0000e+30     -1.0000e+30 -30000\n",
            "    4   696 39.996941 -105.269699   -1.0000e+30     -1.0000e+30 -30000\n",
            "    4   697 39.975895 -105.264381   -1.0000e+30     -1.0000e+30 -30000\n",
            "POI BoulderCO at 39.99 -105.26  found\n",
            "\n",
            " TEMPO_HCHO_L2_V02_20230901T144150Z_S007G07.nc\n",
            "granule has 123 scanlines by 2048 pixels\n",
            "polygon shape:  (4338, 2)\n",
            "point 39.99 -105.26 is not within the granule polygon\n",
            "\n",
            " TEMPO_HCHO_L2_V02_20230901T144803Z_S007G08.nc\n",
            "granule has 123 scanlines by 2048 pixels\n",
            "polygon shape:  (4338, 2)\n",
            "point 39.99 -105.26 is within the granule polygon\n",
            "scanl pixel latitude    longitude   totHCHO_col totHCHO_col_unc totHCHO_col_QF\n",
            "    1   694 40.008224 -105.227943    4.6524e+15      5.1401e+15     0\n",
            "    1   695 39.987415 -105.222778    1.4674e+15      5.7310e+15     0\n",
            "    2   694 40.009502 -105.285767    1.6869e+16      7.6893e+15     0\n",
            "    2   695 39.987232 -105.279839    9.0339e+15      5.9798e+15     0\n",
            "POI BoulderCO at 39.99 -105.26  found\n",
            "\n",
            " TEMPO_HCHO_L2_V02_20230901T154421Z_S008G07.nc\n",
            "granule has 123 scanlines by 2048 pixels\n",
            "polygon shape:  (4338, 2)\n",
            "point 39.99 -105.26 is not within the granule polygon\n",
            "\n",
            " TEMPO_HCHO_L2_V02_20230901T155034Z_S008G08.nc\n",
            "granule has 123 scanlines by 2048 pixels\n",
            "polygon shape:  (4338, 2)\n",
            "point 39.99 -105.26 is within the granule polygon\n",
            "scanl pixel latitude    longitude   totHCHO_col totHCHO_col_unc totHCHO_col_QF\n",
            "    1   694 39.994423 -105.216263    1.0324e+16      3.9525e+15     0\n",
            "    1   695 39.973515 -105.211052    3.4646e+15      4.8336e+15     0\n",
            "    2   694 39.995102 -105.273628    2.3968e+15      4.5643e+15     0\n",
            "    2   695 39.974045 -105.268311    6.5459e+15      4.2109e+15     0\n",
            "POI BoulderCO at 39.99 -105.26  found\n",
            "\n",
            " TEMPO_HCHO_L2_V02_20230901T165942Z_S009G09.nc\n",
            "granule has 124 scanlines by 2048 pixels\n",
            "polygon shape:  (4340, 2)\n",
            "point 39.99 -105.26 is within the granule polygon\n",
            "scanl pixel latitude    longitude   totHCHO_col totHCHO_col_unc totHCHO_col_QF\n",
            "   99   694 39.995552 -105.235649    4.5938e+15      4.5443e+15     0\n",
            "   99   695 39.974762 -105.230476    1.4239e+16      4.5741e+15     0\n",
            "  100   694 39.994022 -105.292343    1.0274e+16      4.8584e+15     0\n",
            "  100   695 39.971584 -105.286308    1.3959e+16      5.0911e+15     0\n",
            "POI BoulderCO at 39.99 -105.26  found\n",
            "\n",
            " TEMPO_HCHO_L2_V02_20230901T182132Z_S010G09.nc\n",
            "granule has 124 scanlines by 2048 pixels\n",
            "polygon shape:  (4340, 2)\n",
            "point 39.99 -105.26 is within the granule polygon\n",
            "scanl pixel latitude    longitude   totHCHO_col totHCHO_col_unc totHCHO_col_QF\n",
            "  100   694 40.011623 -105.249916    1.1024e+16      4.5262e+15     0\n",
            "  100   695 39.990826 -105.244720    4.0628e+15      4.4695e+15     0\n",
            "  101   694 40.011051 -105.306404    2.2909e+16      2.6530e+16     0\n",
            "  101   695 39.987701 -105.299881    6.5971e+15      5.4250e+15     0\n",
            "POI BoulderCO at 39.99 -105.26  found\n",
            "\n",
            " TEMPO_HCHO_L2_V02_20230901T195425Z_S011G07.nc\n",
            "granule has 123 scanlines by 2048 pixels\n",
            "polygon shape:  (4338, 2)\n",
            "point 39.99 -105.26 is not within the granule polygon\n",
            "\n",
            " TEMPO_HCHO_L2_V02_20230901T200038Z_S011G08.nc\n",
            "granule has 123 scanlines by 2048 pixels\n",
            "polygon shape:  (4338, 2)\n",
            "point 39.99 -105.26 is within the granule polygon\n",
            "scanl pixel latitude    longitude   totHCHO_col totHCHO_col_unc totHCHO_col_QF\n",
            "    2   696 39.990330 -105.211411    1.2833e+16      3.6954e+15     0\n",
            "    2   697 39.969311 -105.206116    1.2513e+16      5.2355e+15     0\n",
            "    3   696 39.991337 -105.267448    1.0279e+16      4.2164e+15     0\n",
            "    3   697 39.970673 -105.262314    4.7097e+15      7.6433e+15     0\n",
            "POI BoulderCO at 39.99 -105.26  found\n",
            "\n",
            " TEMPO_HCHO_L2_V02_20230901T205656Z_S012G07.nc\n",
            "granule has 123 scanlines by 2048 pixels\n",
            "polygon shape:  (4338, 2)\n",
            "point 39.99 -105.26 is not within the granule polygon\n",
            "\n",
            " TEMPO_HCHO_L2_V02_20230901T210309Z_S012G08.nc\n",
            "granule has 123 scanlines by 2048 pixels\n",
            "polygon shape:  (4338, 2)\n",
            "point 39.99 -105.26 is within the granule polygon\n",
            "scanl pixel latitude    longitude   totHCHO_col totHCHO_col_unc totHCHO_col_QF\n",
            "    3   695 40.004883 -105.254845    1.5864e+16      4.6125e+15     0\n",
            "    3   696 39.984028 -105.249619    1.3529e+16      1.4729e+16     0\n",
            "    4   695 40.003059 -105.311218    1.3493e+16      7.7685e+15     0\n",
            "    4   696 39.979172 -105.304405    5.6281e+15      6.5889e+15     0\n",
            "POI BoulderCO at 39.99 -105.26  found\n",
            "\n",
            " TEMPO_HCHO_L2_V02_20230901T215927Z_S013G07.nc\n",
            "granule has 123 scanlines by 2048 pixels\n",
            "polygon shape:  (4338, 2)\n",
            "point 39.99 -105.26 is not within the granule polygon\n",
            "\n",
            " TEMPO_HCHO_L2_V02_20230901T220540Z_S013G08.nc\n",
            "granule has 123 scanlines by 2048 pixels\n",
            "polygon shape:  (4338, 2)\n",
            "point 39.99 -105.26 is within the granule polygon\n",
            "scanl pixel latitude    longitude   totHCHO_col totHCHO_col_unc totHCHO_col_QF\n",
            "    3   697 40.000748 -105.226692    1.2006e+16      1.5046e+17     0\n",
            "    3   698 39.980000 -105.221527    3.8529e+16      8.3410e+16     0\n",
            "    4   697 40.001869 -105.283546    7.7965e+16      1.4257e+17     0\n",
            "    4   698 39.980038 -105.277809    1.0801e+16      1.3013e+16     0\n",
            "POI BoulderCO at 39.99 -105.26  found\n",
            "\n",
            " TEMPO_HCHO_L2_V02_20230901T223053Z_S015G02.nc\n",
            "granule has 123 scanlines by 2048 pixels\n",
            "polygon shape:  (4338, 2)\n",
            "point 39.99 -105.26 is not within the granule polygon\n",
            "\n",
            " TEMPO_HCHO_L2_V02_20230901T223706Z_S015G03.nc\n",
            "granule has 123 scanlines by 2048 pixels\n",
            "polygon shape:  (4338, 2)\n",
            "point 39.99 -105.26 is within the granule polygon\n",
            "scanl pixel latitude    longitude   totHCHO_col totHCHO_col_unc totHCHO_col_QF\n",
            "    3   697 39.996910 -105.233688    4.1849e+16      5.5224e+16     0\n",
            "    3   698 39.976139 -105.228508    9.5401e+16      9.5627e+16     0\n",
            "    4   697 39.996880 -105.290062    5.4692e+16      3.9706e+16     0\n",
            "    4   698 39.974407 -105.283981    5.0054e+16      5.9148e+16     0\n",
            "POI BoulderCO at 39.99 -105.26  found\n",
            "\n",
            " TEMPO_HCHO_L2_V02_20230901T230216Z_S016G02.nc\n",
            "granule has 123 scanlines by 2048 pixels\n",
            "polygon shape:  (4338, 2)\n",
            "point 39.99 -105.26 is not within the granule polygon\n",
            "\n",
            " TEMPO_HCHO_L2_V02_20230901T230829Z_S016G03.nc\n",
            "granule has 123 scanlines by 2048 pixels\n",
            "polygon shape:  (4338, 2)\n",
            "point 39.99 -105.26 is within the granule polygon\n",
            "scanl pixel latitude    longitude   totHCHO_col totHCHO_col_unc totHCHO_col_QF\n",
            "    3   697 40.002327 -105.222343    7.1344e+15      3.2593e+16     0\n",
            "    3   698 39.981533 -105.217163    4.5412e+16      5.2699e+16     0\n",
            "    4   697 40.003372 -105.279388    6.6129e+15      7.5806e+15     0\n",
            "    4   698 39.981510 -105.273636    8.0248e+15      4.9611e+15     0\n",
            "POI BoulderCO at 39.99 -105.26  found\n",
            "\n",
            " TEMPO_HCHO_L2_V02_20230901T233339Z_S017G02.nc\n",
            "granule has 123 scanlines by 2048 pixels\n",
            "polygon shape:  (4338, 2)\n",
            "point 39.99 -105.26 is not within the granule polygon\n",
            "\n",
            " TEMPO_HCHO_L2_V02_20230901T233952Z_S017G03.nc\n",
            "granule has 123 scanlines by 2048 pixels\n",
            "polygon shape:  (4338, 2)\n",
            "point 39.99 -105.26 is within the granule polygon\n",
            "scanl pixel latitude    longitude   totHCHO_col totHCHO_col_unc totHCHO_col_QF\n",
            "    3   696 39.993488 -105.247078    1.3842e+16      6.5916e+16     0\n",
            "    3   697 39.972595 -105.241844    6.2128e+15      5.3935e+16     0\n",
            "    4   696 39.990482 -105.302704    2.8706e+16      4.8536e+16     0\n",
            "    4   697 39.968243 -105.296745    2.8689e+16      5.4153e+16     0\n",
            "POI BoulderCO at 39.99 -105.26  found\n"
          ]
        }
      ]
    },
    {
      "cell_type": "markdown",
      "source": [
        "#6 Plotting the results"
      ],
      "metadata": {
        "id": "xaRNZa_4bl11"
      }
    },
    {
      "cell_type": "markdown",
      "source": [
        "##6.1 Reading created data files for TEMPO, create timeseries"
      ],
      "metadata": {
        "id": "XglvHW3AbfFl"
      }
    },
    {
      "cell_type": "code",
      "source": [
        "# reading TEMPO file that was created at the previous step\n",
        "# only read POI information from the header and first 8 columns of data:\n",
        "#   yyyy, mm, dd, hh, mn, ss, HCHO column, and its incertainty\n",
        "fout = open(out_Q+'_noneg_'+datestamp_ini+'_'+datestamp_fin+'_'\\\n",
        "+POI_name_+'_'+str('%08.4fN_%08.4fW.txt' %(POI[0], -POI[1])), 'r')\n",
        "\n",
        "header1 = fout.readline()\n",
        "header2 = fout.readline()\n",
        "data_lines_noneg = fout.readlines()\n",
        "\n",
        "fout.close()\n",
        "\n",
        "yyyy = yyyy_ini\n",
        "mm = mm_ini\n",
        "dd = dd_ini\n",
        "hh = 0\n",
        "mn = 0\n",
        "ss = 0\n",
        "dt0 = datetime(yyyy, mm, dd, hh, mn, ss)\n",
        "\n",
        "yyyy = yyyy_fin\n",
        "mm = mm_fin\n",
        "dd = dd_fin\n",
        "hh = 23\n",
        "mn = 59\n",
        "ss = 59\n",
        "dt_fin = datetime(yyyy, mm, dd, hh, mn, ss) # this is time 1 second before the end of the timeframe of interest\n",
        "\n",
        "time_series_TEMPO_noneg = np.empty([0, 3])\n",
        "\n",
        "for line in data_lines_noneg:\n",
        "  split = line.split()\n",
        "  yyyy = int(split[0])\n",
        "  mm = int(split[1])\n",
        "  dd = int(split[2])\n",
        "  hh = int(split[3])\n",
        "  mn = int(split[4])\n",
        "  ss = int(split[5])\n",
        "# dt below is time since the beginning of the period of interest in hours\n",
        "  dt = (datetime(yyyy, mm, dd, hh, mn, ss) - dt0).total_seconds()/86400.\n",
        "  time_series_TEMPO_noneg = np.append(time_series_TEMPO_noneg,\\\n",
        " [[dt, float(split[6]), float(split[7])]], axis = 0)\n",
        "\n",
        "fout = open(out_Q+'_noFV_'+datestamp_ini+'_'+datestamp_fin+'_'\\\n",
        "+POI_name_+'_'+str('%08.4fN_%08.4fW.txt' %(POI[0], -POI[1])), 'r')\n",
        "\n",
        "header1 = fout.readline()\n",
        "header2 = fout.readline()\n",
        "data_lines = fout.readlines()\n",
        "\n",
        "fout.close()\n",
        "\n",
        "time_series_TEMPO = np.empty([0, 3])\n",
        "\n",
        "for line in data_lines:\n",
        "  split = line.split()\n",
        "  yyyy = int(split[0])\n",
        "  mm = int(split[1])\n",
        "  dd = int(split[2])\n",
        "  hh = int(split[3])\n",
        "  mn = int(split[4])\n",
        "  ss = int(split[5])\n",
        "# dt below is time since the beginning of the period of interest in hours\n",
        "  dt = (datetime(yyyy, mm, dd, hh, mn, ss) - dt0).total_seconds()/86400.\n",
        "  time_series_TEMPO = np.append(time_series_TEMPO,\\\n",
        " [[dt, float(split[6]), float(split[7])]], axis = 0)\n",
        "\n",
        "if len(time_series_TEMPO) == len(time_series_TEMPO_noneg):\n",
        "  print('\\nTEMPO standard and \"no negative\" are of equal length')\n",
        "  nt = len(time_series_TEMPO)\n",
        "  equal = True\n",
        "  for i in range(nt):\n",
        "    if time_series_TEMPO[i,1] != time_series_TEMPO_noneg[i,1]:\n",
        "      equal = False\n",
        "      break\n",
        "else: equal = False\n",
        "\n",
        "if equal: print('TEMPO standard and \"no negative\" are the same')\n",
        "else: print('TEMPO standard and \"no negative\" are different')"
      ],
      "metadata": {
        "colab": {
          "base_uri": "https://localhost:8080/"
        },
        "id": "KoLn_l159HSJ",
        "outputId": "9e2af709-c83c-4964-d9d1-d447b0ad33d5"
      },
      "execution_count": null,
      "outputs": [
        {
          "output_type": "stream",
          "name": "stdout",
          "text": [
            "\n",
            "TEMPO standard and \"no negative\" are of equal length\n",
            "TEMPO standard and \"no negative\" are different\n"
          ]
        }
      ]
    },
    {
      "cell_type": "markdown",
      "source": [
        "##6.2 creating Pandora timeseries"
      ],
      "metadata": {
        "id": "O8JvXRRcwT9O"
      }
    },
    {
      "cell_type": "code",
      "source": [
        "time_series_Pandora = np.empty([0, 3])\n",
        "time_series_Pandora_noneg = np.empty([0, 3])\n",
        "\n",
        "for line in Pandora_data:\n",
        "  yyyy = int(line[0])\n",
        "  mm = int(line[1])\n",
        "  dd = int(line[2])\n",
        "  hh = int(line[3])\n",
        "  mn = int(line[4])\n",
        "  ss = int(line[5])\n",
        "# dt below is time since the beginning of the period of interest in hours\n",
        "  dt = (datetime(yyyy, mm, dd, hh, mn, ss) - dt0).total_seconds()/86400.\n",
        "  time_series_Pandora = np.append(time_series_Pandora,\\\n",
        "[[dt, line[6], line[7]]], axis = 0)\n",
        "  if line[6] > 0:\n",
        "    time_series_Pandora_noneg = np.append(time_series_Pandora_noneg,\\\n",
        "[[dt, line[6], line[7]]], axis = 0)"
      ],
      "metadata": {
        "id": "lI10qQGc9U-U"
      },
      "execution_count": null,
      "outputs": []
    },
    {
      "cell_type": "markdown",
      "source": [
        "##6.3 Plotting timeseries"
      ],
      "metadata": {
        "id": "NGXMMgcNcMb4"
      }
    },
    {
      "cell_type": "markdown",
      "source": [
        "###6.3.1 No error bars"
      ],
      "metadata": {
        "id": "WEkwDqvOccOK"
      }
    },
    {
      "cell_type": "code",
      "source": [
        "plot_title = out_Q+'_'+datestamp_ini+'_'+datestamp_fin+'\\n'+POI_name\n",
        "img_name = out_Q+'_'+datestamp_ini+'_'+datestamp_fin+'_'+POI_name+'.jpg'\n",
        "\n",
        "plt.plot(time_series_Pandora[:, 0], time_series_Pandora[:, 1],\\\n",
        "         label = \"Pandora\", c = 'r')\n",
        "plt.plot(time_series_TEMPO[:, 0], time_series_TEMPO[:, 1],\n",
        "         label = \"TEMPO\", c = 'b')\n",
        "\n",
        "# Set the range of x-axis\n",
        "l_lim = 0.\n",
        "u_lim = ((dt_fin - dt0).total_seconds() + 1.)/86400.\n",
        "plt.xlim(l_lim, u_lim)\n",
        "\n",
        "# some research is required to set the vertical range\n",
        "plt.xlabel(r'GMT, day from beginning of '+datestamp_ini, fontsize=12)\n",
        "plt.ylabel(out_Q_unit.replace('_',' '), fontsize=12)\n",
        "\n",
        "plt.legend(loc='lower left')\n",
        "\n",
        "plt.title(plot_title+str(', %08.4fN %08.4fW' %(POI[0], -POI[1])))\n",
        "plt.savefig(img_name, format='jpg', dpi=300)"
      ],
      "metadata": {
        "colab": {
          "base_uri": "https://localhost:8080/",
          "height": 497
        },
        "id": "tJHRgiVP9n_8",
        "outputId": "1fad6513-3549-4c39-8bcb-2dd5528d806d"
      },
      "execution_count": null,
      "outputs": [
        {
          "output_type": "display_data",
          "data": {
            "text/plain": [
              "<Figure size 640x480 with 1 Axes>"
            ],
            "image/png": "[encoded data removed]"
          },
          "metadata": {}
        }
      ]
    },
    {
      "cell_type": "markdown",
      "source": [
        "###6.3.2 Plotting TEMPO and smoothed Pandora retievals with error bars"
      ],
      "metadata": {
        "id": "QyhmWrUMXU5z"
      }
    },
    {
      "cell_type": "code",
      "source": [
        "timeseries_Pandora_TEMPO = gauss_interpolation(time_series_Pandora[:, 0:3]\\\n",
        "                                             , time_series_TEMPO[:, 0])\n",
        "\n",
        "timeseries_Pandora_TEMPO_noneg =\\\n",
        " gauss_interpolation(time_series_Pandora_noneg[:, 0:3]\\\n",
        "                   , time_series_TEMPO_noneg[:, 0])\n",
        "\n",
        "plot_title = out_Q+'_unc_'+datestamp_ini+'_'+datestamp_fin+'\\n'+POI_name\n",
        "img_name = out_Q+'_unc_'+'_'+datestamp_ini+'_'+datestamp_fin+'_'+POI_name+'.jpg'\n",
        "\n",
        "fig = plt.figure()\n",
        "\n",
        "plt.errorbar(time_series_TEMPO[:, 0], time_series_TEMPO[:, 1],\\\n",
        "yerr=time_series_TEMPO[:, 2], label = \"TEMPO\", c = 'b', ls = '', marker = \".\")\n",
        "\n",
        "plt.errorbar(timeseries_Pandora_TEMPO[:, 0],\\\n",
        "             timeseries_Pandora_TEMPO[:, 1],\\\n",
        "             yerr=timeseries_Pandora_TEMPO[:, 2],\\\n",
        "             label = \"Pandora smoothed at TEMPO times\",\\\n",
        "             c = 'r', ls = '', marker = \".\")\n",
        "\n",
        "# Set the range of x-axis\n",
        "l_lim = 0.\n",
        "u_lim = ((dt_fin - dt0).total_seconds() + 1.)/86400.\n",
        "plt.xlim(l_lim, u_lim)\n",
        "\n",
        "# some research is required to set the vertical range\n",
        "plt.xlabel(r'GMT, day from beginning of '+datestamp_ini, fontsize=12)\n",
        "plt.ylabel(out_Q_unit.replace('_',' '), fontsize=12)\n",
        "\n",
        "#plt.legend(loc='lower left')\n",
        "plt.legend(loc='upper left')\n",
        "\n",
        "plt.title(plot_title+str(', %08.4fN %08.4fW' %(POI[0], -POI[1])))\n",
        "plt.savefig(img_name, format='jpg', dpi=300)\n",
        "\n",
        "plot_title = out_Q+'_unc_positive_'+datestamp_ini+'_'+datestamp_fin+'\\n'+POI_name\n",
        "img_name = out_Q+'_unc_positive_'+datestamp_ini+'_'+datestamp_fin+'_'+POI_name+'.jpg'\n",
        "\n",
        "fig = plt.figure()\n",
        "\n",
        "plt.errorbar(time_series_TEMPO_noneg[:, 0], time_series_TEMPO_noneg[:, 1],\\\n",
        "yerr=time_series_TEMPO_noneg[:, 2], label = \"TEMPO\", c = 'b', ls = '', marker = \".\")\n",
        "\n",
        "plt.errorbar(timeseries_Pandora_TEMPO_noneg[:, 0],\\\n",
        "             timeseries_Pandora_TEMPO_noneg[:, 1],\\\n",
        "             yerr=timeseries_Pandora_TEMPO_noneg[:, 2],\\\n",
        "             label = \"Pandora smoothed at TEMPO times\",\\\n",
        "             c = 'r', ls = '', marker = \".\")\n",
        "\n",
        "# Set the range of x-axis\n",
        "l_lim = int(min(time_series_TEMPO_noneg[:, 0]))\n",
        "u_lim = int(max(time_series_TEMPO_noneg[:, 0])) + 1\n",
        "plt.xlim(l_lim, u_lim)\n",
        "\n",
        "plt.xlabel(r'GMT, day from beginning of '+datestamp_ini, fontsize=12)\n",
        "plt.ylabel(out_Q_unit.replace('_',' '), fontsize=12)\n",
        "\n",
        "plt.legend(loc='lower left')\n",
        "#plt.legend(loc='upper left')\n",
        "\n",
        "plt.title(plot_title+str(', %08.4fN %08.4fW' %(POI[0], -POI[1])))\n",
        "plt.savefig(img_name, format='jpg', dpi=300)"
      ],
      "metadata": {
        "colab": {
          "base_uri": "https://localhost:8080/",
          "height": 977
        },
        "id": "PxudrpFs9x_q",
        "outputId": "583e3b7b-4fbf-4f46-8f0e-85a7ff383341"
      },
      "execution_count": null,
      "outputs": [
        {
          "output_type": "display_data",
          "data": {
            "text/plain": [
              "<Figure size 640x480 with 1 Axes>"
            ],
            "image/png": "[encoded data removed]"
          },
          "metadata": {}
        },
        {
          "output_type": "display_data",
          "data": {
            "text/plain": [
              "<Figure size 640x480 with 1 Axes>"
            ],
            "image/png": "[encoded data removed]"
          },
          "metadata": {}
        }
      ]
    },
    {
      "cell_type": "markdown",
      "source": [
        "##6.4 Plotting scatter plots along with regressions"
      ],
      "metadata": {
        "id": "E9-sFIpHzb-3"
      }
    },
    {
      "cell_type": "code",
      "source": [
        "# Plotting scatter plot for all retrievals\n",
        "# (negative values have not been discarded in processing)\n",
        "TEMPO_Pandora_scatter = np.empty([0, 4])\n",
        "for td in time_series_TEMPO:\n",
        "  for pd in timeseries_Pandora_TEMPO:\n",
        "    if td[0] == pd[0]:\n",
        "      TEMPO_Pandora_scatter = np.append(TEMPO_Pandora_scatter,[[td[1], pd[1], td[2], pd[2]]], axis = 0)\n",
        "      break\n",
        "\n",
        "regress = stats.linregress(TEMPO_Pandora_scatter[:, 0], TEMPO_Pandora_scatter[:, 1])\n",
        "slope = regress.slope\n",
        "intercept = regress.intercept\n",
        "r2 = regress.rvalue**2\n",
        "stderr = regress.stderr\n",
        "intercept_stderr = regress.intercept_stderr\n",
        "\n",
        "success, slope_0intercept, r2_0intercept =\\\n",
        " regress_0intercept(TEMPO_Pandora_scatter[:, 0]\\\n",
        "                  , TEMPO_Pandora_scatter[:, 1])\n",
        "\n",
        "plot_title = out_Q+' unc '+datestamp_ini+' '+datestamp_fin+'\\n'+POI_name\n",
        "img_name = 'scatter_'+out_Q+'_unc_'+'_'+datestamp_ini+'_'\\\n",
        "+datestamp_fin+'_'+POI_name+'.jpg'\n",
        "\n",
        "fig = plt.figure()\n",
        "\n",
        "plt.errorbar(TEMPO_Pandora_scatter[:, 0], TEMPO_Pandora_scatter[:, 1],\\\n",
        "xerr=TEMPO_Pandora_scatter[:, 2], yerr=TEMPO_Pandora_scatter[:, 3],\\\n",
        "c = 'b', ls = '', marker = \".\")\n",
        "\n",
        "plt.xlabel(r'TEMPO HCHO column, molecules/cm^2', fontsize=12)\n",
        "plt.ylabel(r'Pandora HCHO column, molecules/cm^2', fontsize=12)\n",
        "\n",
        "fig.text(0.15, 0.75,\\\n",
        "str('# of points: %3i\\nslope:%6.3f ±%6.3f\\nintercept: %8.2e ± %8.2e\\nR2 = %6.3f'\\\n",
        " %(len(TEMPO_Pandora_scatter), slope, stderr, intercept, intercept_stderr, r2)))\n",
        "\n",
        "# Set the range of x-axis\n",
        "l_lim = min(0., min(TEMPO_Pandora_scatter[:, [0,1]].flatten()))*1.05\n",
        "u_lim = max(TEMPO_Pandora_scatter[:, [0,1]].flatten())*1.05\n",
        "plt.xlim(l_lim, u_lim)\n",
        "plt.ylim(l_lim, u_lim)\n",
        "\n",
        "plt.plot([l_lim, u_lim], [l_lim, u_lim],\\\n",
        "c = 'g', ls = '--')\n",
        "\n",
        "plt.plot([l_lim, u_lim], [l_lim*slope+intercept, u_lim*slope+intercept],\\\n",
        "c = 'r', ls = '--')\n",
        "\n",
        "if success:\n",
        "  plt.plot([l_lim, u_lim], [l_lim*slope_0intercept, u_lim*slope_0intercept], c = 'r', ls = '-.')\n",
        "  fig.text(0.6, 0.15, str('\"no-intercept\" regression:\\nslope:%6.3f R2 = %6.3f'\\\n",
        " %(slope_0intercept, r2_0intercept)))\n",
        "\n",
        "plt.title(plot_title+str(', %08.4fN %08.4fW' %(POI[0], -POI[1])))\n",
        "plt.savefig(img_name, format='jpg', dpi=300)\n",
        "\n",
        "# Plotting scatter plot for positive retrievals\n",
        "TEMPO_Pandora_scatter_noneg = np.empty([0, 4])\n",
        "for td in time_series_TEMPO_noneg:\n",
        "  for pd in timeseries_Pandora_TEMPO_noneg:\n",
        "    if td[0] == pd[0]:\n",
        "      TEMPO_Pandora_scatter_noneg = np.append(TEMPO_Pandora_scatter_noneg,[[td[1], pd[1], td[2], pd[2]]], axis = 0)\n",
        "      break\n",
        "\n",
        "regress = stats.linregress(TEMPO_Pandora_scatter_noneg[:, 0], TEMPO_Pandora_scatter_noneg[:, 1])\n",
        "slope = regress.slope\n",
        "intercept = regress.intercept\n",
        "r2 = regress.rvalue**2\n",
        "stderr = regress.stderr\n",
        "intercept_stderr = regress.intercept_stderr\n",
        "\n",
        "success, slope_0intercept, r2_0intercept =\\\n",
        " regress_0intercept(TEMPO_Pandora_scatter_noneg[:, 0]\\\n",
        "                  , TEMPO_Pandora_scatter_noneg[:, 1])\n",
        "\n",
        "plot_title = out_Q+' unc noneg '+datestamp_ini+' '+datestamp_fin+'\\n'+POI_name\n",
        "img_name = 'scatter_'+out_Q+'_unc_noneg_'+'_'+datestamp_ini+'_'\\\n",
        "+datestamp_fin+'_'+POI_name+'.jpg'\n",
        "\n",
        "fig = plt.figure()\n",
        "\n",
        "plt.errorbar(TEMPO_Pandora_scatter_noneg[:, 0], TEMPO_Pandora_scatter_noneg[:, 1],\\\n",
        "xerr=TEMPO_Pandora_scatter[:, 2], yerr=TEMPO_Pandora_scatter[:, 3],\\\n",
        "c = 'b', ls = '', marker = \".\")\n",
        "\n",
        "plt.xlabel(r'TEMPO HCHO column, molecules/cm^2', fontsize=12)\n",
        "plt.ylabel(r'Pandora HCHO column, molecules/cm^2', fontsize=12)\n",
        "\n",
        "fig.text(0.15, 0.75,\\\n",
        "str('# of points: %3i\\nslope:%6.3f ±%6.3f\\nintercept: %8.2e ± %8.2e\\nR2 = %6.3f'\\\n",
        " %(len(TEMPO_Pandora_scatter_noneg), slope, stderr, intercept, intercept_stderr, r2)))\n",
        "\n",
        "# Set the range of x-axis\n",
        "l_lim = 0.\n",
        "u_lim = max(TEMPO_Pandora_scatter_noneg[:, [0,1]].flatten())*1.05\n",
        "plt.xlim(l_lim, u_lim)\n",
        "plt.ylim(l_lim, u_lim)\n",
        "\n",
        "plt.plot([l_lim, u_lim], [l_lim, u_lim],\\\n",
        "c = 'g', ls = '--')\n",
        "\n",
        "plt.plot([l_lim, u_lim], [l_lim*slope+intercept, u_lim*slope+intercept],\\\n",
        "c = 'r', ls = '--')\n",
        "\n",
        "if success:\n",
        "  plt.plot([l_lim, u_lim], [l_lim*slope_0intercept, u_lim*slope_0intercept], c = 'r', ls = '-.')\n",
        "  fig.text(0.6, 0.15, str('\"no-intercept\" regression:\\nslope:%6.3f R2 = %6.3f'\\\n",
        " %(slope_0intercept, r2_0intercept)))\n",
        "\n",
        "plt.title(plot_title+str(', %08.4fN %08.4fW' %(POI[0], -POI[1])))\n",
        "plt.savefig(img_name, format='jpg', dpi=300)"
      ],
      "metadata": {
        "colab": {
          "base_uri": "https://localhost:8080/",
          "height": 977
        },
        "id": "Fx18I6xx-LZa",
        "outputId": "f0a3c95e-566b-415a-cf15-6403bfb3fe5c"
      },
      "execution_count": null,
      "outputs": [
        {
          "output_type": "display_data",
          "data": {
            "text/plain": [
              "<Figure size 640x480 with 1 Axes>"
            ],
            "image/png": "[encoded data removed]"
          },
          "metadata": {}
        },
        {
          "output_type": "display_data",
          "data": {
            "text/plain": [
              "<Figure size 640x480 with 1 Axes>"
            ],
            "image/png": "[encoded data removed]"
          },
          "metadata": {}
        }
      ]
    },
    {
      "cell_type": "markdown",
      "source": [
        "#EXTRA. Archiving output files to make downloading easier"
      ],
      "metadata": {
        "id": "cKn-MLMuen1q"
      }
    },
    {
      "cell_type": "code",
      "source": [
        "import zipfile\n",
        "import zlib\n",
        "import glob"
      ],
      "metadata": {
        "id": "v-VbL8CNXsLL"
      },
      "execution_count": null,
      "outputs": []
    },
    {
      "cell_type": "code",
      "source": [
        "list_jpg = glob.glob('*'+datestamp_ini+'_'+datestamp_fin+'_'+POI_name+'.jpg')\n",
        "\n",
        "with zipfile.ZipFile('fig_'+datestamp_ini+'_'+datestamp_fin+'_'\\\n",
        "+POI_name+'.zip', 'w') as fig_zip:\n",
        "  for name in list_jpg: fig_zip.write(name)"
      ],
      "metadata": {
        "id": "4e1JLotAX9OC"
      },
      "execution_count": null,
      "outputs": []
    },
    {
      "cell_type": "code",
      "source": [
        "list_data = glob.glob('*'+datestamp_ini+'_'+datestamp_fin+'_'+POI_name+'*.txt')\n",
        "\n",
        "with zipfile.ZipFile('data_'+datestamp_ini+'_'+datestamp_fin+'_'\\\n",
        "+POI_name+'.zip', 'w') as data_zip:\n",
        "  for name in list_data: data_zip.write(name)"
      ],
      "metadata": {
        "id": "JVkprHdiYpuS"
      },
      "execution_count": null,
      "outputs": []
    }
  ]
}